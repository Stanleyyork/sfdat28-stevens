{
 "cells": [
  {
   "cell_type": "code",
   "execution_count": 1,
   "metadata": {
    "collapsed": false
   },
   "outputs": [],
   "source": [
    "# read in tweets data into a dataframe\n",
    "import sys\n",
    "from textblob import TextBlob\n",
    "import pandas as pd\n",
    "%matplotlib inline"
   ]
  },
  {
   "cell_type": "code",
   "execution_count": 2,
   "metadata": {
    "collapsed": false
   },
   "outputs": [
    {
     "data": {
      "text/html": [
       "<div>\n",
       "<table border=\"1\" class=\"dataframe\">\n",
       "  <thead>\n",
       "    <tr style=\"text-align: right;\">\n",
       "      <th></th>\n",
       "      <th>Text</th>\n",
       "      <th>Date</th>\n",
       "      <th>Status</th>\n",
       "      <th>Retweet</th>\n",
       "    </tr>\n",
       "  </thead>\n",
       "  <tbody>\n",
       "    <tr>\n",
       "      <th>0</th>\n",
       "      <td>RT @j_o_h_n_danger: $TWTR now top holding for ...</td>\n",
       "      <td>2015-05-24 03:46:08</td>\n",
       "      <td>602319644234395648</td>\n",
       "      <td>6.022899e+17</td>\n",
       "    </tr>\n",
       "    <tr>\n",
       "      <th>1</th>\n",
       "      <td>RT diggingplatinum RT WWalkerWW: iOS 9 vs. And...</td>\n",
       "      <td>2015-05-24 04:17:42</td>\n",
       "      <td>602327586983796737</td>\n",
       "      <td>NaN</td>\n",
       "    </tr>\n",
       "    <tr>\n",
       "      <th>2</th>\n",
       "      <td>RT bosocial RT insidermonkey RT j_o_h_n_danger...</td>\n",
       "      <td>2015-05-24 04:13:22</td>\n",
       "      <td>602326499534966784</td>\n",
       "      <td>NaN</td>\n",
       "    </tr>\n",
       "    <tr>\n",
       "      <th>3</th>\n",
       "      <td>RT @WWalkerWW: iOS 9 vs. Android M â The New...</td>\n",
       "      <td>2015-05-24 04:08:34</td>\n",
       "      <td>602325288740114432</td>\n",
       "      <td>6.023104e+17</td>\n",
       "    </tr>\n",
       "    <tr>\n",
       "      <th>4</th>\n",
       "      <td>RT @seeitmarket: Apple Chart Update: Big Test ...</td>\n",
       "      <td>2015-05-24 04:04:42</td>\n",
       "      <td>602324318903771136</td>\n",
       "      <td>6.023215e+17</td>\n",
       "    </tr>\n",
       "  </tbody>\n",
       "</table>\n",
       "</div>"
      ],
      "text/plain": [
       "                                                Text                 Date  \\\n",
       "0  RT @j_o_h_n_danger: $TWTR now top holding for ...  2015-05-24 03:46:08   \n",
       "1  RT diggingplatinum RT WWalkerWW: iOS 9 vs. And...  2015-05-24 04:17:42   \n",
       "2  RT bosocial RT insidermonkey RT j_o_h_n_danger...  2015-05-24 04:13:22   \n",
       "3  RT @WWalkerWW: iOS 9 vs. Android M â The New...  2015-05-24 04:08:34   \n",
       "4  RT @seeitmarket: Apple Chart Update: Big Test ...  2015-05-24 04:04:42   \n",
       "\n",
       "               Status       Retweet  \n",
       "0  602319644234395648  6.022899e+17  \n",
       "1  602327586983796737           NaN  \n",
       "2  602326499534966784           NaN  \n",
       "3  602325288740114432  6.023104e+17  \n",
       "4  602324318903771136  6.023215e+17  "
      ]
     },
     "execution_count": 2,
     "metadata": {},
     "output_type": "execute_result"
    }
   ],
   "source": [
    "# these tweets are from last May and are about the company Apple\n",
    "tweets = pd.read_csv('../data/so_many_tweets.csv', encoding='unicode-escape')\n",
    "tweets.head()"
   ]
  },
  {
   "cell_type": "code",
   "execution_count": 9,
   "metadata": {
    "collapsed": true
   },
   "outputs": [],
   "source": [
    "###############\n",
    "#### TO DO ####\n",
    "###############\n",
    "\n",
    "# use the textblob module to make a function called stringToSentiment that returns a sentences sentiment\n",
    "def stringToSentiment(text):\n",
    "    return TextBlob(text).sentiment.polarity"
   ]
  },
  {
   "cell_type": "code",
   "execution_count": 10,
   "metadata": {
    "collapsed": false
   },
   "outputs": [
    {
     "data": {
      "text/plain": [
       "-0.8"
      ]
     },
     "execution_count": 10,
     "metadata": {},
     "output_type": "execute_result"
    }
   ],
   "source": [
    "stringToSentiment('i hate you')"
   ]
  },
  {
   "cell_type": "code",
   "execution_count": null,
   "metadata": {
    "collapsed": false
   },
   "outputs": [],
   "source": []
  },
  {
   "cell_type": "code",
   "execution_count": 13,
   "metadata": {
    "collapsed": false
   },
   "outputs": [],
   "source": [
    "###############\n",
    "#### TO DO ####\n",
    "###############\n",
    "\n",
    "# create a new column in tweets called sentiment that maps stringToSentiment to the text column\n",
    "tweets['sentiment'] = tweets['Text'].map(lambda text: stringToSentiment(text))"
   ]
  },
  {
   "cell_type": "code",
   "execution_count": 14,
   "metadata": {
    "collapsed": false
   },
   "outputs": [
    {
     "data": {
      "text/html": [
       "<div>\n",
       "<table border=\"1\" class=\"dataframe\">\n",
       "  <thead>\n",
       "    <tr style=\"text-align: right;\">\n",
       "      <th></th>\n",
       "      <th>Text</th>\n",
       "      <th>Date</th>\n",
       "      <th>Status</th>\n",
       "      <th>Retweet</th>\n",
       "      <th>sentiment</th>\n",
       "    </tr>\n",
       "  </thead>\n",
       "  <tbody>\n",
       "    <tr>\n",
       "      <th>0</th>\n",
       "      <td>RT @j_o_h_n_danger: $TWTR now top holding for ...</td>\n",
       "      <td>2015-05-24 03:46:08</td>\n",
       "      <td>602319644234395648</td>\n",
       "      <td>6.022899e+17</td>\n",
       "      <td>0.500000</td>\n",
       "    </tr>\n",
       "    <tr>\n",
       "      <th>1</th>\n",
       "      <td>RT diggingplatinum RT WWalkerWW: iOS 9 vs. And...</td>\n",
       "      <td>2015-05-24 04:17:42</td>\n",
       "      <td>602327586983796737</td>\n",
       "      <td>NaN</td>\n",
       "      <td>0.136364</td>\n",
       "    </tr>\n",
       "    <tr>\n",
       "      <th>2</th>\n",
       "      <td>RT bosocial RT insidermonkey RT j_o_h_n_danger...</td>\n",
       "      <td>2015-05-24 04:13:22</td>\n",
       "      <td>602326499534966784</td>\n",
       "      <td>NaN</td>\n",
       "      <td>0.500000</td>\n",
       "    </tr>\n",
       "    <tr>\n",
       "      <th>3</th>\n",
       "      <td>RT @WWalkerWW: iOS 9 vs. Android M â The New...</td>\n",
       "      <td>2015-05-24 04:08:34</td>\n",
       "      <td>602325288740114432</td>\n",
       "      <td>6.023104e+17</td>\n",
       "      <td>0.136364</td>\n",
       "    </tr>\n",
       "    <tr>\n",
       "      <th>4</th>\n",
       "      <td>RT @seeitmarket: Apple Chart Update: Big Test ...</td>\n",
       "      <td>2015-05-24 04:04:42</td>\n",
       "      <td>602324318903771136</td>\n",
       "      <td>6.023215e+17</td>\n",
       "      <td>0.000000</td>\n",
       "    </tr>\n",
       "  </tbody>\n",
       "</table>\n",
       "</div>"
      ],
      "text/plain": [
       "                                                Text                 Date  \\\n",
       "0  RT @j_o_h_n_danger: $TWTR now top holding for ...  2015-05-24 03:46:08   \n",
       "1  RT diggingplatinum RT WWalkerWW: iOS 9 vs. And...  2015-05-24 04:17:42   \n",
       "2  RT bosocial RT insidermonkey RT j_o_h_n_danger...  2015-05-24 04:13:22   \n",
       "3  RT @WWalkerWW: iOS 9 vs. Android M â The New...  2015-05-24 04:08:34   \n",
       "4  RT @seeitmarket: Apple Chart Update: Big Test ...  2015-05-24 04:04:42   \n",
       "\n",
       "               Status       Retweet  sentiment  \n",
       "0  602319644234395648  6.022899e+17   0.500000  \n",
       "1  602327586983796737           NaN   0.136364  \n",
       "2  602326499534966784           NaN   0.500000  \n",
       "3  602325288740114432  6.023104e+17   0.136364  \n",
       "4  602324318903771136  6.023215e+17   0.000000  "
      ]
     },
     "execution_count": 14,
     "metadata": {},
     "output_type": "execute_result"
    }
   ],
   "source": [
    "tweets.head()"
   ]
  },
  {
   "cell_type": "code",
   "execution_count": 15,
   "metadata": {
    "collapsed": false
   },
   "outputs": [
    {
     "data": {
      "text/plain": [
       "0   2015-05-24 03:46:08\n",
       "1   2015-05-24 04:17:42\n",
       "2   2015-05-24 04:13:22\n",
       "3   2015-05-24 04:08:34\n",
       "4   2015-05-24 04:04:42\n",
       "Name: Date, dtype: datetime64[ns]"
      ]
     },
     "execution_count": 15,
     "metadata": {},
     "output_type": "execute_result"
    }
   ],
   "source": [
    "# cast the date column as a datetime\n",
    "tweets['Date'] = pd.to_datetime(tweets.Date)\n",
    "tweets['Date'].head()"
   ]
  },
  {
   "cell_type": "code",
   "execution_count": 16,
   "metadata": {
    "collapsed": false
   },
   "outputs": [],
   "source": [
    "tweets.index = tweets.Date"
   ]
  },
  {
   "cell_type": "code",
   "execution_count": 25,
   "metadata": {
    "collapsed": false
   },
   "outputs": [],
   "source": [
    "###############\n",
    "#### TO DO ####\n",
    "###############\n",
    "\n",
    "# create a dataframe called daily_tweets which resamples tweets by Date, averaging the columns\n",
    "# Hint: look up pandas dataframe resample function\n",
    "# index = pd.date_range('1/1/2000', periods=9, freq='T')\n",
    "# series = pd.Series(range(9), index=index)\n",
    "# series.resample('3T').sum()\n",
    "daily_tweets = tweets.resample(\"D\").mean()"
   ]
  },
  {
   "cell_type": "code",
   "execution_count": 26,
   "metadata": {
    "collapsed": false
   },
   "outputs": [
    {
     "data": {
      "text/html": [
       "<div>\n",
       "<table border=\"1\" class=\"dataframe\">\n",
       "  <thead>\n",
       "    <tr style=\"text-align: right;\">\n",
       "      <th></th>\n",
       "      <th>Status</th>\n",
       "      <th>Retweet</th>\n",
       "      <th>sentiment</th>\n",
       "    </tr>\n",
       "    <tr>\n",
       "      <th>Date</th>\n",
       "      <th></th>\n",
       "      <th></th>\n",
       "      <th></th>\n",
       "    </tr>\n",
       "  </thead>\n",
       "  <tbody>\n",
       "    <tr>\n",
       "      <th>2015-05-02</th>\n",
       "      <td>594606835155331840</td>\n",
       "      <td>5.942058e+17</td>\n",
       "      <td>0.083031</td>\n",
       "    </tr>\n",
       "    <tr>\n",
       "      <th>2015-05-03</th>\n",
       "      <td>594846486013440384</td>\n",
       "      <td>5.941587e+17</td>\n",
       "      <td>0.107789</td>\n",
       "    </tr>\n",
       "    <tr>\n",
       "      <th>2015-05-04</th>\n",
       "      <td>595223934262080384</td>\n",
       "      <td>5.938334e+17</td>\n",
       "      <td>0.084062</td>\n",
       "    </tr>\n",
       "    <tr>\n",
       "      <th>2015-05-05</th>\n",
       "      <td>595586079933556096</td>\n",
       "      <td>5.952648e+17</td>\n",
       "      <td>0.063882</td>\n",
       "    </tr>\n",
       "    <tr>\n",
       "      <th>2015-05-06</th>\n",
       "      <td>595963252032125312</td>\n",
       "      <td>5.958072e+17</td>\n",
       "      <td>0.066166</td>\n",
       "    </tr>\n",
       "  </tbody>\n",
       "</table>\n",
       "</div>"
      ],
      "text/plain": [
       "                        Status       Retweet  sentiment\n",
       "Date                                                   \n",
       "2015-05-02  594606835155331840  5.942058e+17   0.083031\n",
       "2015-05-03  594846486013440384  5.941587e+17   0.107789\n",
       "2015-05-04  595223934262080384  5.938334e+17   0.084062\n",
       "2015-05-05  595586079933556096  5.952648e+17   0.063882\n",
       "2015-05-06  595963252032125312  5.958072e+17   0.066166"
      ]
     },
     "execution_count": 26,
     "metadata": {},
     "output_type": "execute_result"
    }
   ],
   "source": [
    "daily_tweets.head()"
   ]
  },
  {
   "cell_type": "code",
   "execution_count": 27,
   "metadata": {
    "collapsed": false
   },
   "outputs": [
    {
     "data": {
      "text/plain": [
       "<matplotlib.axes._subplots.AxesSubplot at 0x11b4c6290>"
      ]
     },
     "execution_count": 27,
     "metadata": {},
     "output_type": "execute_result"
    },
    {
     "data": {
      "image/png": "[encoded data removed]",
      "text/plain": [
       "<matplotlib.figure.Figure at 0x1176fb890>"
      ]
     },
     "metadata": {},
     "output_type": "display_data"
    }
   ],
   "source": [
    "###############\n",
    "#### TO DO ####\n",
    "###############\n",
    "\n",
    "# plot the sentiment as a line graph\n",
    "tweets.sentiment.plot(kind=\"line\")"
   ]
  },
  {
   "cell_type": "code",
   "execution_count": 28,
   "metadata": {
    "collapsed": false
   },
   "outputs": [
    {
     "name": "stderr",
     "output_type": "stream",
     "text": [
      "/Users/stanleystevensWhistle/miniconda2/envs/stanleyyork/lib/python2.7/site-packages/ipykernel/__main__.py:2: FutureWarning: how in .resample() is deprecated\n",
      "the new syntax is .resample(...).count()\n",
      "  from ipykernel import kernelapp as app\n"
     ]
    },
    {
     "data": {
      "text/plain": [
       "<matplotlib.axes._subplots.AxesSubplot at 0x11cb18150>"
      ]
     },
     "execution_count": 28,
     "metadata": {},
     "output_type": "execute_result"
    },
    {
     "data": {
      "image/png": "[encoded data removed]",
      "text/plain": [
       "<matplotlib.figure.Figure at 0x11b179b50>"
      ]
     },
     "metadata": {},
     "output_type": "display_data"
    }
   ],
   "source": [
    "# plot the volume of tweets\n",
    "tweets.resample('D', how='count').Status.plot(kind='bar')"
   ]
  },
  {
   "cell_type": "code",
   "execution_count": 29,
   "metadata": {
    "collapsed": false
   },
   "outputs": [
    {
     "data": {
      "text/html": [
       "<div>\n",
       "<table border=\"1\" class=\"dataframe\">\n",
       "  <thead>\n",
       "    <tr style=\"text-align: right;\">\n",
       "      <th></th>\n",
       "      <th>Text</th>\n",
       "      <th>Date</th>\n",
       "      <th>Status</th>\n",
       "      <th>Retweet</th>\n",
       "      <th>sentiment</th>\n",
       "    </tr>\n",
       "    <tr>\n",
       "      <th>Date</th>\n",
       "      <th></th>\n",
       "      <th></th>\n",
       "      <th></th>\n",
       "      <th></th>\n",
       "      <th></th>\n",
       "    </tr>\n",
       "  </thead>\n",
       "  <tbody>\n",
       "    <tr>\n",
       "      <th>2015-05-24 03:46:08</th>\n",
       "      <td>RT @j_o_h_n_danger: $TWTR now top holding for ...</td>\n",
       "      <td>2015-05-24 03:46:08</td>\n",
       "      <td>602319644234395648</td>\n",
       "      <td>6.022899e+17</td>\n",
       "      <td>0.500000</td>\n",
       "    </tr>\n",
       "    <tr>\n",
       "      <th>2015-05-24 04:17:42</th>\n",
       "      <td>RT diggingplatinum RT WWalkerWW: iOS 9 vs. And...</td>\n",
       "      <td>2015-05-24 04:17:42</td>\n",
       "      <td>602327586983796737</td>\n",
       "      <td>NaN</td>\n",
       "      <td>0.136364</td>\n",
       "    </tr>\n",
       "    <tr>\n",
       "      <th>2015-05-24 04:13:22</th>\n",
       "      <td>RT bosocial RT insidermonkey RT j_o_h_n_danger...</td>\n",
       "      <td>2015-05-24 04:13:22</td>\n",
       "      <td>602326499534966784</td>\n",
       "      <td>NaN</td>\n",
       "      <td>0.500000</td>\n",
       "    </tr>\n",
       "    <tr>\n",
       "      <th>2015-05-24 04:08:34</th>\n",
       "      <td>RT @WWalkerWW: iOS 9 vs. Android M â The New...</td>\n",
       "      <td>2015-05-24 04:08:34</td>\n",
       "      <td>602325288740114432</td>\n",
       "      <td>6.023104e+17</td>\n",
       "      <td>0.136364</td>\n",
       "    </tr>\n",
       "    <tr>\n",
       "      <th>2015-05-24 04:04:42</th>\n",
       "      <td>RT @seeitmarket: Apple Chart Update: Big Test ...</td>\n",
       "      <td>2015-05-24 04:04:42</td>\n",
       "      <td>602324318903771136</td>\n",
       "      <td>6.023215e+17</td>\n",
       "      <td>0.000000</td>\n",
       "    </tr>\n",
       "    <tr>\n",
       "      <th>2015-05-24 04:00:01</th>\n",
       "      <td>Free Video: One Day Range Leaders http://t.co/...</td>\n",
       "      <td>2015-05-24 04:00:01</td>\n",
       "      <td>602323139297705984</td>\n",
       "      <td>NaN</td>\n",
       "      <td>0.400000</td>\n",
       "    </tr>\n",
       "    <tr>\n",
       "      <th>2015-05-24 03:54:07</th>\n",
       "      <td>Option Millionaires: golfnara: $AAPL 135.79 ht...</td>\n",
       "      <td>2015-05-24 03:54:07</td>\n",
       "      <td>602321653645709313</td>\n",
       "      <td>NaN</td>\n",
       "      <td>0.000000</td>\n",
       "    </tr>\n",
       "    <tr>\n",
       "      <th>2015-05-24 04:25:29</th>\n",
       "      <td>RT @AppleReporter: What to Do When Your #iPhon...</td>\n",
       "      <td>2015-05-24 04:25:29</td>\n",
       "      <td>602329548860993537</td>\n",
       "      <td>6.013210e+17</td>\n",
       "      <td>0.000000</td>\n",
       "    </tr>\n",
       "    <tr>\n",
       "      <th>2015-05-24 04:24:47</th>\n",
       "      <td>RT @AppleReporter: Apple Near All-Time High!\\n...</td>\n",
       "      <td>2015-05-24 04:24:47</td>\n",
       "      <td>602329372083650560</td>\n",
       "      <td>6.021077e+17</td>\n",
       "      <td>0.150000</td>\n",
       "    </tr>\n",
       "    <tr>\n",
       "      <th>2015-05-24 04:06:42</th>\n",
       "      <td>RT @AmericanBanking: Morgan Stanley Reiterates...</td>\n",
       "      <td>2015-05-24 04:06:42</td>\n",
       "      <td>602324819342823424</td>\n",
       "      <td>6.023225e+17</td>\n",
       "      <td>0.000000</td>\n",
       "    </tr>\n",
       "    <tr>\n",
       "      <th>2015-05-24 03:58:09</th>\n",
       "      <td>RT insidermonkey RT j_o_h_n_danger: $TWTR now ...</td>\n",
       "      <td>2015-05-24 03:58:09</td>\n",
       "      <td>602322668642238464</td>\n",
       "      <td>NaN</td>\n",
       "      <td>0.500000</td>\n",
       "    </tr>\n",
       "    <tr>\n",
       "      <th>2015-05-24 03:45:12</th>\n",
       "      <td>Logging in now to live stock chat http://t.co/...</td>\n",
       "      <td>2015-05-24 03:45:12</td>\n",
       "      <td>602319408556544000</td>\n",
       "      <td>NaN</td>\n",
       "      <td>0.136364</td>\n",
       "    </tr>\n",
       "    <tr>\n",
       "      <th>2015-05-24 03:38:18</th>\n",
       "      <td>Find active and helpful professional daytrader...</td>\n",
       "      <td>2015-05-24 03:38:18</td>\n",
       "      <td>602317674765484032</td>\n",
       "      <td>NaN</td>\n",
       "      <td>-0.016667</td>\n",
       "    </tr>\n",
       "    <tr>\n",
       "      <th>2015-05-24 03:09:02</th>\n",
       "      <td>These Are The 50 Top Hedge Fund Long And Short...</td>\n",
       "      <td>2015-05-24 03:09:02</td>\n",
       "      <td>602310306489065472</td>\n",
       "      <td>NaN</td>\n",
       "      <td>0.150000</td>\n",
       "    </tr>\n",
       "    <tr>\n",
       "      <th>2015-05-24 04:28:49</th>\n",
       "      <td>RT bosocial RT bosocial RT insidermonkey RT j_...</td>\n",
       "      <td>2015-05-24 04:28:49</td>\n",
       "      <td>602330384756510720</td>\n",
       "      <td>NaN</td>\n",
       "      <td>0.500000</td>\n",
       "    </tr>\n",
       "    <tr>\n",
       "      <th>2015-05-24 04:17:41</th>\n",
       "      <td>RT bosocial RT stocknugget Helpful video for s...</td>\n",
       "      <td>2015-05-24 04:17:41</td>\n",
       "      <td>602327585901645825</td>\n",
       "      <td>NaN</td>\n",
       "      <td>0.000000</td>\n",
       "    </tr>\n",
       "    <tr>\n",
       "      <th>2015-05-24 04:13:24</th>\n",
       "      <td>RT bosocial RT ferrarigtr RT j_o_h_n_danger: $...</td>\n",
       "      <td>2015-05-24 04:13:24</td>\n",
       "      <td>602326506027786241</td>\n",
       "      <td>NaN</td>\n",
       "      <td>0.500000</td>\n",
       "    </tr>\n",
       "    <tr>\n",
       "      <th>2015-05-24 04:13:23</th>\n",
       "      <td>RT bosocial RT Petrecson RT j_o_h_n_danger: $T...</td>\n",
       "      <td>2015-05-24 04:13:23</td>\n",
       "      <td>602326500625506306</td>\n",
       "      <td>NaN</td>\n",
       "      <td>0.500000</td>\n",
       "    </tr>\n",
       "    <tr>\n",
       "      <th>2015-05-24 04:11:06</th>\n",
       "      <td>Apple Chart Update: Big Test Looming http://t....</td>\n",
       "      <td>2015-05-24 04:11:06</td>\n",
       "      <td>602325927889117186</td>\n",
       "      <td>NaN</td>\n",
       "      <td>0.000000</td>\n",
       "    </tr>\n",
       "    <tr>\n",
       "      <th>2015-05-24 04:08:33</th>\n",
       "      <td>RT @WWalkerWW: iOS 9 vs. Android M â The New...</td>\n",
       "      <td>2015-05-24 04:08:33</td>\n",
       "      <td>602325288068980736</td>\n",
       "      <td>6.023104e+17</td>\n",
       "      <td>0.136364</td>\n",
       "    </tr>\n",
       "    <tr>\n",
       "      <th>2015-05-24 04:08:33</th>\n",
       "      <td>RT @MarketsRecap: These Are The 50 Top Hedge F...</td>\n",
       "      <td>2015-05-24 04:08:33</td>\n",
       "      <td>602325287372722176</td>\n",
       "      <td>6.023103e+17</td>\n",
       "      <td>0.150000</td>\n",
       "    </tr>\n",
       "    <tr>\n",
       "      <th>2015-05-24 04:08:33</th>\n",
       "      <td>RT @AppleNewsAAPL: $AAPL Daily Deals: Long Wee...</td>\n",
       "      <td>2015-05-24 04:08:33</td>\n",
       "      <td>602325286714273792</td>\n",
       "      <td>6.023103e+17</td>\n",
       "      <td>-0.025000</td>\n",
       "    </tr>\n",
       "    <tr>\n",
       "      <th>2015-05-24 04:02:55</th>\n",
       "      <td>ChaytonFalke: Free Video: One Day Range Leader...</td>\n",
       "      <td>2015-05-24 04:02:55</td>\n",
       "      <td>602323867915427840</td>\n",
       "      <td>NaN</td>\n",
       "      <td>0.400000</td>\n",
       "    </tr>\n",
       "    <tr>\n",
       "      <th>2015-05-24 03:53:26</th>\n",
       "      <td>Apple Chart Update: Big Test Looming http://t....</td>\n",
       "      <td>2015-05-24 03:53:26</td>\n",
       "      <td>602321480119099392</td>\n",
       "      <td>NaN</td>\n",
       "      <td>0.000000</td>\n",
       "    </tr>\n",
       "    <tr>\n",
       "      <th>2015-05-24 03:31:04</th>\n",
       "      <td>Be water, my friends. Be water. $MSFT $SPY $F ...</td>\n",
       "      <td>2015-05-24 03:31:04</td>\n",
       "      <td>602315854244683777</td>\n",
       "      <td>NaN</td>\n",
       "      <td>0.000000</td>\n",
       "    </tr>\n",
       "    <tr>\n",
       "      <th>2015-05-24 03:09:31</th>\n",
       "      <td>iOS 9 vs. Android M â The New Features By Ap...</td>\n",
       "      <td>2015-05-24 03:09:31</td>\n",
       "      <td>602310430023929856</td>\n",
       "      <td>NaN</td>\n",
       "      <td>0.136364</td>\n",
       "    </tr>\n",
       "    <tr>\n",
       "      <th>2015-05-24 04:24:53</th>\n",
       "      <td>RT @MatrixMarkets: Weekly Market Review\\n$SPX ...</td>\n",
       "      <td>2015-05-24 04:24:53</td>\n",
       "      <td>602329396658049024</td>\n",
       "      <td>6.021040e+17</td>\n",
       "      <td>0.000000</td>\n",
       "    </tr>\n",
       "    <tr>\n",
       "      <th>2015-05-24 03:41:04</th>\n",
       "      <td>Good morning, trading friends. Make it a great...</td>\n",
       "      <td>2015-05-24 03:41:04</td>\n",
       "      <td>602318368281075712</td>\n",
       "      <td>NaN</td>\n",
       "      <td>0.850000</td>\n",
       "    </tr>\n",
       "    <tr>\n",
       "      <th>2015-05-24 03:09:31</th>\n",
       "      <td>iOS 9 vs. Android M â The New Features By Ap...</td>\n",
       "      <td>2015-05-24 03:09:31</td>\n",
       "      <td>602310427783991296</td>\n",
       "      <td>NaN</td>\n",
       "      <td>0.136364</td>\n",
       "    </tr>\n",
       "  </tbody>\n",
       "</table>\n",
       "</div>"
      ],
      "text/plain": [
       "                                                                  Text  \\\n",
       "Date                                                                     \n",
       "2015-05-24 03:46:08  RT @j_o_h_n_danger: $TWTR now top holding for ...   \n",
       "2015-05-24 04:17:42  RT diggingplatinum RT WWalkerWW: iOS 9 vs. And...   \n",
       "2015-05-24 04:13:22  RT bosocial RT insidermonkey RT j_o_h_n_danger...   \n",
       "2015-05-24 04:08:34  RT @WWalkerWW: iOS 9 vs. Android M â The New...   \n",
       "2015-05-24 04:04:42  RT @seeitmarket: Apple Chart Update: Big Test ...   \n",
       "2015-05-24 04:00:01  Free Video: One Day Range Leaders http://t.co/...   \n",
       "2015-05-24 03:54:07  Option Millionaires: golfnara: $AAPL 135.79 ht...   \n",
       "2015-05-24 04:25:29  RT @AppleReporter: What to Do When Your #iPhon...   \n",
       "2015-05-24 04:24:47  RT @AppleReporter: Apple Near All-Time High!\\n...   \n",
       "2015-05-24 04:06:42  RT @AmericanBanking: Morgan Stanley Reiterates...   \n",
       "2015-05-24 03:58:09  RT insidermonkey RT j_o_h_n_danger: $TWTR now ...   \n",
       "2015-05-24 03:45:12  Logging in now to live stock chat http://t.co/...   \n",
       "2015-05-24 03:38:18  Find active and helpful professional daytrader...   \n",
       "2015-05-24 03:09:02  These Are The 50 Top Hedge Fund Long And Short...   \n",
       "2015-05-24 04:28:49  RT bosocial RT bosocial RT insidermonkey RT j_...   \n",
       "2015-05-24 04:17:41  RT bosocial RT stocknugget Helpful video for s...   \n",
       "2015-05-24 04:13:24  RT bosocial RT ferrarigtr RT j_o_h_n_danger: $...   \n",
       "2015-05-24 04:13:23  RT bosocial RT Petrecson RT j_o_h_n_danger: $T...   \n",
       "2015-05-24 04:11:06  Apple Chart Update: Big Test Looming http://t....   \n",
       "2015-05-24 04:08:33  RT @WWalkerWW: iOS 9 vs. Android M â The New...   \n",
       "2015-05-24 04:08:33  RT @MarketsRecap: These Are The 50 Top Hedge F...   \n",
       "2015-05-24 04:08:33  RT @AppleNewsAAPL: $AAPL Daily Deals: Long Wee...   \n",
       "2015-05-24 04:02:55  ChaytonFalke: Free Video: One Day Range Leader...   \n",
       "2015-05-24 03:53:26  Apple Chart Update: Big Test Looming http://t....   \n",
       "2015-05-24 03:31:04  Be water, my friends. Be water. $MSFT $SPY $F ...   \n",
       "2015-05-24 03:09:31  iOS 9 vs. Android M â The New Features By Ap...   \n",
       "2015-05-24 04:24:53  RT @MatrixMarkets: Weekly Market Review\\n$SPX ...   \n",
       "2015-05-24 03:41:04  Good morning, trading friends. Make it a great...   \n",
       "2015-05-24 03:09:31  iOS 9 vs. Android M â The New Features By Ap...   \n",
       "\n",
       "                                   Date              Status       Retweet  \\\n",
       "Date                                                                        \n",
       "2015-05-24 03:46:08 2015-05-24 03:46:08  602319644234395648  6.022899e+17   \n",
       "2015-05-24 04:17:42 2015-05-24 04:17:42  602327586983796737           NaN   \n",
       "2015-05-24 04:13:22 2015-05-24 04:13:22  602326499534966784           NaN   \n",
       "2015-05-24 04:08:34 2015-05-24 04:08:34  602325288740114432  6.023104e+17   \n",
       "2015-05-24 04:04:42 2015-05-24 04:04:42  602324318903771136  6.023215e+17   \n",
       "2015-05-24 04:00:01 2015-05-24 04:00:01  602323139297705984           NaN   \n",
       "2015-05-24 03:54:07 2015-05-24 03:54:07  602321653645709313           NaN   \n",
       "2015-05-24 04:25:29 2015-05-24 04:25:29  602329548860993537  6.013210e+17   \n",
       "2015-05-24 04:24:47 2015-05-24 04:24:47  602329372083650560  6.021077e+17   \n",
       "2015-05-24 04:06:42 2015-05-24 04:06:42  602324819342823424  6.023225e+17   \n",
       "2015-05-24 03:58:09 2015-05-24 03:58:09  602322668642238464           NaN   \n",
       "2015-05-24 03:45:12 2015-05-24 03:45:12  602319408556544000           NaN   \n",
       "2015-05-24 03:38:18 2015-05-24 03:38:18  602317674765484032           NaN   \n",
       "2015-05-24 03:09:02 2015-05-24 03:09:02  602310306489065472           NaN   \n",
       "2015-05-24 04:28:49 2015-05-24 04:28:49  602330384756510720           NaN   \n",
       "2015-05-24 04:17:41 2015-05-24 04:17:41  602327585901645825           NaN   \n",
       "2015-05-24 04:13:24 2015-05-24 04:13:24  602326506027786241           NaN   \n",
       "2015-05-24 04:13:23 2015-05-24 04:13:23  602326500625506306           NaN   \n",
       "2015-05-24 04:11:06 2015-05-24 04:11:06  602325927889117186           NaN   \n",
       "2015-05-24 04:08:33 2015-05-24 04:08:33  602325288068980736  6.023104e+17   \n",
       "2015-05-24 04:08:33 2015-05-24 04:08:33  602325287372722176  6.023103e+17   \n",
       "2015-05-24 04:08:33 2015-05-24 04:08:33  602325286714273792  6.023103e+17   \n",
       "2015-05-24 04:02:55 2015-05-24 04:02:55  602323867915427840           NaN   \n",
       "2015-05-24 03:53:26 2015-05-24 03:53:26  602321480119099392           NaN   \n",
       "2015-05-24 03:31:04 2015-05-24 03:31:04  602315854244683777           NaN   \n",
       "2015-05-24 03:09:31 2015-05-24 03:09:31  602310430023929856           NaN   \n",
       "2015-05-24 04:24:53 2015-05-24 04:24:53  602329396658049024  6.021040e+17   \n",
       "2015-05-24 03:41:04 2015-05-24 03:41:04  602318368281075712           NaN   \n",
       "2015-05-24 03:09:31 2015-05-24 03:09:31  602310427783991296           NaN   \n",
       "\n",
       "                     sentiment  \n",
       "Date                            \n",
       "2015-05-24 03:46:08   0.500000  \n",
       "2015-05-24 04:17:42   0.136364  \n",
       "2015-05-24 04:13:22   0.500000  \n",
       "2015-05-24 04:08:34   0.136364  \n",
       "2015-05-24 04:04:42   0.000000  \n",
       "2015-05-24 04:00:01   0.400000  \n",
       "2015-05-24 03:54:07   0.000000  \n",
       "2015-05-24 04:25:29   0.000000  \n",
       "2015-05-24 04:24:47   0.150000  \n",
       "2015-05-24 04:06:42   0.000000  \n",
       "2015-05-24 03:58:09   0.500000  \n",
       "2015-05-24 03:45:12   0.136364  \n",
       "2015-05-24 03:38:18  -0.016667  \n",
       "2015-05-24 03:09:02   0.150000  \n",
       "2015-05-24 04:28:49   0.500000  \n",
       "2015-05-24 04:17:41   0.000000  \n",
       "2015-05-24 04:13:24   0.500000  \n",
       "2015-05-24 04:13:23   0.500000  \n",
       "2015-05-24 04:11:06   0.000000  \n",
       "2015-05-24 04:08:33   0.136364  \n",
       "2015-05-24 04:08:33   0.150000  \n",
       "2015-05-24 04:08:33  -0.025000  \n",
       "2015-05-24 04:02:55   0.400000  \n",
       "2015-05-24 03:53:26   0.000000  \n",
       "2015-05-24 03:31:04   0.000000  \n",
       "2015-05-24 03:09:31   0.136364  \n",
       "2015-05-24 04:24:53   0.000000  \n",
       "2015-05-24 03:41:04   0.850000  \n",
       "2015-05-24 03:09:31   0.136364  "
      ]
     },
     "execution_count": 29,
     "metadata": {},
     "output_type": "execute_result"
    }
   ],
   "source": [
    "# look at tweets on the 24th of May\n",
    "tweets['2015-5-24']"
   ]
  },
  {
   "cell_type": "code",
   "execution_count": 30,
   "metadata": {
    "collapsed": false
   },
   "outputs": [],
   "source": [
    "# get historical prices\n",
    "# pip install yahoo_finance\n",
    "from yahoo_finance import Share\n",
    "yahoo = Share('AAPL')\n",
    "historical_prices = yahoo.get_historical('2015-05-2', '2015-05-25')\n",
    "prices = pd.DataFrame(historical_prices)"
   ]
  },
  {
   "cell_type": "code",
   "execution_count": 31,
   "metadata": {
    "collapsed": false
   },
   "outputs": [
    {
     "data": {
      "text/html": [
       "<div>\n",
       "<table border=\"1\" class=\"dataframe\">\n",
       "  <thead>\n",
       "    <tr style=\"text-align: right;\">\n",
       "      <th></th>\n",
       "      <th>Adj_Close</th>\n",
       "      <th>Close</th>\n",
       "      <th>Date</th>\n",
       "      <th>High</th>\n",
       "      <th>Low</th>\n",
       "      <th>Open</th>\n",
       "      <th>Symbol</th>\n",
       "      <th>Volume</th>\n",
       "    </tr>\n",
       "  </thead>\n",
       "  <tbody>\n",
       "    <tr>\n",
       "      <th>0</th>\n",
       "      <td>129.180748</td>\n",
       "      <td>132.539993</td>\n",
       "      <td>2015-05-22</td>\n",
       "      <td>132.970001</td>\n",
       "      <td>131.399994</td>\n",
       "      <td>131.600006</td>\n",
       "      <td>AAPL</td>\n",
       "      <td>45596000</td>\n",
       "    </tr>\n",
       "    <tr>\n",
       "      <th>1</th>\n",
       "      <td>128.059901</td>\n",
       "      <td>131.389999</td>\n",
       "      <td>2015-05-21</td>\n",
       "      <td>131.630005</td>\n",
       "      <td>129.830002</td>\n",
       "      <td>130.070007</td>\n",
       "      <td>AAPL</td>\n",
       "      <td>39730400</td>\n",
       "    </tr>\n",
       "    <tr>\n",
       "      <th>2</th>\n",
       "      <td>126.763608</td>\n",
       "      <td>130.059998</td>\n",
       "      <td>2015-05-20</td>\n",
       "      <td>130.979996</td>\n",
       "      <td>129.339996</td>\n",
       "      <td>130.00</td>\n",
       "      <td>AAPL</td>\n",
       "      <td>36454900</td>\n",
       "    </tr>\n",
       "    <tr>\n",
       "      <th>3</th>\n",
       "      <td>126.773364</td>\n",
       "      <td>130.070007</td>\n",
       "      <td>2015-05-19</td>\n",
       "      <td>130.880005</td>\n",
       "      <td>129.639999</td>\n",
       "      <td>130.690002</td>\n",
       "      <td>AAPL</td>\n",
       "      <td>44633200</td>\n",
       "    </tr>\n",
       "    <tr>\n",
       "      <th>4</th>\n",
       "      <td>126.890318</td>\n",
       "      <td>130.190002</td>\n",
       "      <td>2015-05-18</td>\n",
       "      <td>130.720001</td>\n",
       "      <td>128.360001</td>\n",
       "      <td>128.380005</td>\n",
       "      <td>AAPL</td>\n",
       "      <td>50882900</td>\n",
       "    </tr>\n",
       "  </tbody>\n",
       "</table>\n",
       "</div>"
      ],
      "text/plain": [
       "    Adj_Close       Close        Date        High         Low        Open  \\\n",
       "0  129.180748  132.539993  2015-05-22  132.970001  131.399994  131.600006   \n",
       "1  128.059901  131.389999  2015-05-21  131.630005  129.830002  130.070007   \n",
       "2  126.763608  130.059998  2015-05-20  130.979996  129.339996      130.00   \n",
       "3  126.773364  130.070007  2015-05-19  130.880005  129.639999  130.690002   \n",
       "4  126.890318  130.190002  2015-05-18  130.720001  128.360001  128.380005   \n",
       "\n",
       "  Symbol    Volume  \n",
       "0   AAPL  45596000  \n",
       "1   AAPL  39730400  \n",
       "2   AAPL  36454900  \n",
       "3   AAPL  44633200  \n",
       "4   AAPL  50882900  "
      ]
     },
     "execution_count": 31,
     "metadata": {},
     "output_type": "execute_result"
    }
   ],
   "source": [
    "prices.head()"
   ]
  },
  {
   "cell_type": "code",
   "execution_count": 32,
   "metadata": {
    "collapsed": true
   },
   "outputs": [],
   "source": [
    "prices.index = pd.to_datetime(prices['Date'])"
   ]
  },
  {
   "cell_type": "code",
   "execution_count": 33,
   "metadata": {
    "collapsed": false
   },
   "outputs": [],
   "source": [
    "not_null_close = prices[prices.Close.notnull()]"
   ]
  },
  {
   "cell_type": "code",
   "execution_count": 34,
   "metadata": {
    "collapsed": false
   },
   "outputs": [
    {
     "data": {
      "text/html": [
       "<div>\n",
       "<table border=\"1\" class=\"dataframe\">\n",
       "  <thead>\n",
       "    <tr style=\"text-align: right;\">\n",
       "      <th></th>\n",
       "      <th>Adj_Close</th>\n",
       "      <th>Close</th>\n",
       "      <th>Date</th>\n",
       "      <th>High</th>\n",
       "      <th>Low</th>\n",
       "      <th>Open</th>\n",
       "      <th>Symbol</th>\n",
       "      <th>Volume</th>\n",
       "    </tr>\n",
       "    <tr>\n",
       "      <th>Date</th>\n",
       "      <th></th>\n",
       "      <th></th>\n",
       "      <th></th>\n",
       "      <th></th>\n",
       "      <th></th>\n",
       "      <th></th>\n",
       "      <th></th>\n",
       "      <th></th>\n",
       "    </tr>\n",
       "  </thead>\n",
       "  <tbody>\n",
       "    <tr>\n",
       "      <th>2015-05-22</th>\n",
       "      <td>129.180748</td>\n",
       "      <td>132.539993</td>\n",
       "      <td>2015-05-22</td>\n",
       "      <td>132.970001</td>\n",
       "      <td>131.399994</td>\n",
       "      <td>131.600006</td>\n",
       "      <td>AAPL</td>\n",
       "      <td>45596000</td>\n",
       "    </tr>\n",
       "    <tr>\n",
       "      <th>2015-05-21</th>\n",
       "      <td>128.059901</td>\n",
       "      <td>131.389999</td>\n",
       "      <td>2015-05-21</td>\n",
       "      <td>131.630005</td>\n",
       "      <td>129.830002</td>\n",
       "      <td>130.070007</td>\n",
       "      <td>AAPL</td>\n",
       "      <td>39730400</td>\n",
       "    </tr>\n",
       "    <tr>\n",
       "      <th>2015-05-20</th>\n",
       "      <td>126.763608</td>\n",
       "      <td>130.059998</td>\n",
       "      <td>2015-05-20</td>\n",
       "      <td>130.979996</td>\n",
       "      <td>129.339996</td>\n",
       "      <td>130.00</td>\n",
       "      <td>AAPL</td>\n",
       "      <td>36454900</td>\n",
       "    </tr>\n",
       "    <tr>\n",
       "      <th>2015-05-19</th>\n",
       "      <td>126.773364</td>\n",
       "      <td>130.070007</td>\n",
       "      <td>2015-05-19</td>\n",
       "      <td>130.880005</td>\n",
       "      <td>129.639999</td>\n",
       "      <td>130.690002</td>\n",
       "      <td>AAPL</td>\n",
       "      <td>44633200</td>\n",
       "    </tr>\n",
       "    <tr>\n",
       "      <th>2015-05-18</th>\n",
       "      <td>126.890318</td>\n",
       "      <td>130.190002</td>\n",
       "      <td>2015-05-18</td>\n",
       "      <td>130.720001</td>\n",
       "      <td>128.360001</td>\n",
       "      <td>128.380005</td>\n",
       "      <td>AAPL</td>\n",
       "      <td>50882900</td>\n",
       "    </tr>\n",
       "  </tbody>\n",
       "</table>\n",
       "</div>"
      ],
      "text/plain": [
       "             Adj_Close       Close        Date        High         Low  \\\n",
       "Date                                                                     \n",
       "2015-05-22  129.180748  132.539993  2015-05-22  132.970001  131.399994   \n",
       "2015-05-21  128.059901  131.389999  2015-05-21  131.630005  129.830002   \n",
       "2015-05-20  126.763608  130.059998  2015-05-20  130.979996  129.339996   \n",
       "2015-05-19  126.773364  130.070007  2015-05-19  130.880005  129.639999   \n",
       "2015-05-18  126.890318  130.190002  2015-05-18  130.720001  128.360001   \n",
       "\n",
       "                  Open Symbol    Volume  \n",
       "Date                                     \n",
       "2015-05-22  131.600006   AAPL  45596000  \n",
       "2015-05-21  130.070007   AAPL  39730400  \n",
       "2015-05-20      130.00   AAPL  36454900  \n",
       "2015-05-19  130.690002   AAPL  44633200  \n",
       "2015-05-18  128.380005   AAPL  50882900  "
      ]
     },
     "execution_count": 34,
     "metadata": {},
     "output_type": "execute_result"
    }
   ],
   "source": [
    "not_null_close.head()"
   ]
  },
  {
   "cell_type": "code",
   "execution_count": 35,
   "metadata": {
    "collapsed": false
   },
   "outputs": [
    {
     "name": "stdout",
     "output_type": "stream",
     "text": [
      "<class 'pandas.core.frame.DataFrame'>\n",
      "DatetimeIndex: 15 entries, 2015-05-22 to 2015-05-04\n",
      "Data columns (total 8 columns):\n",
      "Adj_Close    15 non-null object\n",
      "Close        15 non-null object\n",
      "Date         15 non-null object\n",
      "High         15 non-null object\n",
      "Low          15 non-null object\n",
      "Open         15 non-null object\n",
      "Symbol       15 non-null object\n",
      "Volume       15 non-null object\n",
      "dtypes: object(8)\n",
      "memory usage: 1.1+ KB\n"
     ]
    }
   ],
   "source": [
    "not_null_close.info() #the columns aren't numbers!"
   ]
  },
  {
   "cell_type": "code",
   "execution_count": 36,
   "metadata": {
    "collapsed": false
   },
   "outputs": [],
   "source": [
    "# cast as numbers\n",
    "not_null_close.Volume = not_null_close.Volume.astype('int')\n",
    "not_null_close.Close = not_null_close.Close.astype('float')"
   ]
  },
  {
   "cell_type": "code",
   "execution_count": null,
   "metadata": {
    "collapsed": false
   },
   "outputs": [],
   "source": []
  },
  {
   "cell_type": "code",
   "execution_count": 50,
   "metadata": {
    "collapsed": false
   },
   "outputs": [
    {
     "data": {
      "text/plain": [
       "<matplotlib.axes._subplots.AxesSubplot at 0x121dc95d0>"
      ]
     },
     "execution_count": 50,
     "metadata": {},
     "output_type": "execute_result"
    },
    {
     "data": {
      "image/png": "[encoded data removed]",
      "text/plain": [
       "<matplotlib.figure.Figure at 0x121de8950>"
      ]
     },
     "metadata": {},
     "output_type": "display_data"
    }
   ],
   "source": [
    "###############\n",
    "#### TO DO ####\n",
    "############### \n",
    "\n",
    "# plot both volume and close as line graphs in the same graph, what do you notice is the problem?\n",
    "not_null_close[['Volume','Close']].plot()"
   ]
  },
  {
   "cell_type": "code",
   "execution_count": 66,
   "metadata": {
    "collapsed": false
   },
   "outputs": [],
   "source": [
    "###############\n",
    "#### TO DO ####\n",
    "############### \n",
    "\n",
    "# concatinate not_null_close.Close, and daily_tweets.sentiment\n",
    "merged = pd.DataFrame({'Close': not_null_close.Close, 'Sentiment': daily_tweets.sentiment})"
   ]
  },
  {
   "cell_type": "code",
   "execution_count": 67,
   "metadata": {
    "collapsed": false
   },
   "outputs": [
    {
     "data": {
      "text/html": [
       "<div>\n",
       "<table border=\"1\" class=\"dataframe\">\n",
       "  <thead>\n",
       "    <tr style=\"text-align: right;\">\n",
       "      <th></th>\n",
       "      <th>Close</th>\n",
       "      <th>Sentiment</th>\n",
       "    </tr>\n",
       "    <tr>\n",
       "      <th>Date</th>\n",
       "      <th></th>\n",
       "      <th></th>\n",
       "    </tr>\n",
       "  </thead>\n",
       "  <tbody>\n",
       "    <tr>\n",
       "      <th>2015-05-02</th>\n",
       "      <td>NaN</td>\n",
       "      <td>0.083031</td>\n",
       "    </tr>\n",
       "    <tr>\n",
       "      <th>2015-05-03</th>\n",
       "      <td>NaN</td>\n",
       "      <td>0.107789</td>\n",
       "    </tr>\n",
       "    <tr>\n",
       "      <th>2015-05-04</th>\n",
       "      <td>128.699997</td>\n",
       "      <td>0.084062</td>\n",
       "    </tr>\n",
       "    <tr>\n",
       "      <th>2015-05-05</th>\n",
       "      <td>125.800003</td>\n",
       "      <td>0.063882</td>\n",
       "    </tr>\n",
       "    <tr>\n",
       "      <th>2015-05-06</th>\n",
       "      <td>125.010002</td>\n",
       "      <td>0.066166</td>\n",
       "    </tr>\n",
       "    <tr>\n",
       "      <th>2015-05-07</th>\n",
       "      <td>125.260002</td>\n",
       "      <td>0.078892</td>\n",
       "    </tr>\n",
       "    <tr>\n",
       "      <th>2015-05-08</th>\n",
       "      <td>127.620003</td>\n",
       "      <td>0.102898</td>\n",
       "    </tr>\n",
       "    <tr>\n",
       "      <th>2015-05-09</th>\n",
       "      <td>NaN</td>\n",
       "      <td>0.118071</td>\n",
       "    </tr>\n",
       "    <tr>\n",
       "      <th>2015-05-10</th>\n",
       "      <td>NaN</td>\n",
       "      <td>0.094882</td>\n",
       "    </tr>\n",
       "    <tr>\n",
       "      <th>2015-05-11</th>\n",
       "      <td>126.320000</td>\n",
       "      <td>0.067565</td>\n",
       "    </tr>\n",
       "    <tr>\n",
       "      <th>2015-05-12</th>\n",
       "      <td>125.870003</td>\n",
       "      <td>0.052891</td>\n",
       "    </tr>\n",
       "    <tr>\n",
       "      <th>2015-05-13</th>\n",
       "      <td>126.010002</td>\n",
       "      <td>0.063917</td>\n",
       "    </tr>\n",
       "    <tr>\n",
       "      <th>2015-05-14</th>\n",
       "      <td>128.949997</td>\n",
       "      <td>0.080208</td>\n",
       "    </tr>\n",
       "    <tr>\n",
       "      <th>2015-05-15</th>\n",
       "      <td>128.770004</td>\n",
       "      <td>0.058852</td>\n",
       "    </tr>\n",
       "    <tr>\n",
       "      <th>2015-05-16</th>\n",
       "      <td>NaN</td>\n",
       "      <td>0.061432</td>\n",
       "    </tr>\n",
       "    <tr>\n",
       "      <th>2015-05-17</th>\n",
       "      <td>NaN</td>\n",
       "      <td>0.103616</td>\n",
       "    </tr>\n",
       "    <tr>\n",
       "      <th>2015-05-18</th>\n",
       "      <td>130.190002</td>\n",
       "      <td>0.102349</td>\n",
       "    </tr>\n",
       "    <tr>\n",
       "      <th>2015-05-19</th>\n",
       "      <td>130.070007</td>\n",
       "      <td>0.070519</td>\n",
       "    </tr>\n",
       "    <tr>\n",
       "      <th>2015-05-20</th>\n",
       "      <td>130.059998</td>\n",
       "      <td>0.088305</td>\n",
       "    </tr>\n",
       "    <tr>\n",
       "      <th>2015-05-21</th>\n",
       "      <td>131.389999</td>\n",
       "      <td>0.077947</td>\n",
       "    </tr>\n",
       "    <tr>\n",
       "      <th>2015-05-22</th>\n",
       "      <td>132.539993</td>\n",
       "      <td>0.091990</td>\n",
       "    </tr>\n",
       "    <tr>\n",
       "      <th>2015-05-23</th>\n",
       "      <td>NaN</td>\n",
       "      <td>0.077321</td>\n",
       "    </tr>\n",
       "    <tr>\n",
       "      <th>2015-05-24</th>\n",
       "      <td>NaN</td>\n",
       "      <td>0.202638</td>\n",
       "    </tr>\n",
       "  </tbody>\n",
       "</table>\n",
       "</div>"
      ],
      "text/plain": [
       "                 Close  Sentiment\n",
       "Date                             \n",
       "2015-05-02         NaN   0.083031\n",
       "2015-05-03         NaN   0.107789\n",
       "2015-05-04  128.699997   0.084062\n",
       "2015-05-05  125.800003   0.063882\n",
       "2015-05-06  125.010002   0.066166\n",
       "2015-05-07  125.260002   0.078892\n",
       "2015-05-08  127.620003   0.102898\n",
       "2015-05-09         NaN   0.118071\n",
       "2015-05-10         NaN   0.094882\n",
       "2015-05-11  126.320000   0.067565\n",
       "2015-05-12  125.870003   0.052891\n",
       "2015-05-13  126.010002   0.063917\n",
       "2015-05-14  128.949997   0.080208\n",
       "2015-05-15  128.770004   0.058852\n",
       "2015-05-16         NaN   0.061432\n",
       "2015-05-17         NaN   0.103616\n",
       "2015-05-18  130.190002   0.102349\n",
       "2015-05-19  130.070007   0.070519\n",
       "2015-05-20  130.059998   0.088305\n",
       "2015-05-21  131.389999   0.077947\n",
       "2015-05-22  132.539993   0.091990\n",
       "2015-05-23         NaN   0.077321\n",
       "2015-05-24         NaN   0.202638"
      ]
     },
     "execution_count": 67,
     "metadata": {},
     "output_type": "execute_result"
    }
   ],
   "source": [
    "merged"
   ]
  },
  {
   "cell_type": "code",
   "execution_count": 68,
   "metadata": {
    "collapsed": false
   },
   "outputs": [
    {
     "data": {
      "text/plain": [
       "<matplotlib.axes._subplots.AxesSubplot at 0x125d53f10>"
      ]
     },
     "execution_count": 68,
     "metadata": {},
     "output_type": "execute_result"
    },
    {
     "data": {
      "image/png": "[encoded data removed]",
      "text/plain": [
       "<matplotlib.figure.Figure at 0x125d67190>"
      ]
     },
     "metadata": {},
     "output_type": "display_data"
    }
   ],
   "source": [
    "merged.plot()\n",
    "# wow that looks awful"
   ]
  },
  {
   "cell_type": "code",
   "execution_count": 71,
   "metadata": {
    "collapsed": false
   },
   "outputs": [
    {
     "data": {
      "text/html": [
       "<div>\n",
       "<table border=\"1\" class=\"dataframe\">\n",
       "  <thead>\n",
       "    <tr style=\"text-align: right;\">\n",
       "      <th></th>\n",
       "      <th>Close</th>\n",
       "      <th>Sentiment</th>\n",
       "    </tr>\n",
       "    <tr>\n",
       "      <th>Date</th>\n",
       "      <th></th>\n",
       "      <th></th>\n",
       "    </tr>\n",
       "  </thead>\n",
       "  <tbody>\n",
       "    <tr>\n",
       "      <th>2015-05-04</th>\n",
       "      <td>128.699997</td>\n",
       "      <td>0.084062</td>\n",
       "    </tr>\n",
       "    <tr>\n",
       "      <th>2015-05-05</th>\n",
       "      <td>125.800003</td>\n",
       "      <td>0.063882</td>\n",
       "    </tr>\n",
       "    <tr>\n",
       "      <th>2015-05-06</th>\n",
       "      <td>125.010002</td>\n",
       "      <td>0.066166</td>\n",
       "    </tr>\n",
       "    <tr>\n",
       "      <th>2015-05-07</th>\n",
       "      <td>125.260002</td>\n",
       "      <td>0.078892</td>\n",
       "    </tr>\n",
       "    <tr>\n",
       "      <th>2015-05-08</th>\n",
       "      <td>127.620003</td>\n",
       "      <td>0.102898</td>\n",
       "    </tr>\n",
       "  </tbody>\n",
       "</table>\n",
       "</div>"
      ],
      "text/plain": [
       "                 Close  Sentiment\n",
       "Date                             \n",
       "2015-05-04  128.699997   0.084062\n",
       "2015-05-05  125.800003   0.063882\n",
       "2015-05-06  125.010002   0.066166\n",
       "2015-05-07  125.260002   0.078892\n",
       "2015-05-08  127.620003   0.102898"
      ]
     },
     "execution_count": 71,
     "metadata": {},
     "output_type": "execute_result"
    }
   ],
   "source": [
    "###############\n",
    "#### TO DO ####\n",
    "############### \n",
    "\n",
    "# First delete any rows with missing values in any column\n",
    "merged = merged.dropna()\n",
    "merged.head()"
   ]
  },
  {
   "cell_type": "code",
   "execution_count": 72,
   "metadata": {
    "collapsed": false
   },
   "outputs": [
    {
     "data": {
      "text/plain": [
       "array([[ 0.22959679,  0.50186962],\n",
       "       [-1.02827619, -0.87305024],\n",
       "       [-1.37093928, -0.71745232],\n",
       "       [-1.26250173,  0.14958194],\n",
       "       [-0.23885082,  1.78520764]])"
      ]
     },
     "execution_count": 72,
     "metadata": {},
     "output_type": "execute_result"
    }
   ],
   "source": [
    "# scale the columns by z scores using StandardScaler\n",
    "from sklearn.preprocessing import StandardScaler\n",
    "s = StandardScaler()\n",
    "merged_scaled = s.fit_transform(merged)\n",
    "merged_scaled[:5,]"
   ]
  },
  {
   "cell_type": "code",
   "execution_count": 73,
   "metadata": {
    "collapsed": false
   },
   "outputs": [
    {
     "data": {
      "text/plain": [
       "<matplotlib.axes._subplots.AxesSubplot at 0x126066bd0>"
      ]
     },
     "execution_count": 73,
     "metadata": {},
     "output_type": "execute_result"
    },
    {
     "data": {
      "image/png": "[encoded data removed]",
      "text/plain": [
       "<matplotlib.figure.Figure at 0x1260179d0>"
      ]
     },
     "metadata": {},
     "output_type": "display_data"
    }
   ],
   "source": [
    "pd.DataFrame(merged_scaled, columns=merged.columns).plot()\n",
    "# notice how sentiment seems to follow the closing price"
   ]
  },
  {
   "cell_type": "code",
   "execution_count": null,
   "metadata": {
    "collapsed": false
   },
   "outputs": [],
   "source": []
  },
  {
   "cell_type": "code",
   "execution_count": null,
   "metadata": {
    "collapsed": true
   },
   "outputs": [],
   "source": []
  },
  {
   "cell_type": "code",
   "execution_count": null,
   "metadata": {
    "collapsed": true
   },
   "outputs": [],
   "source": []
  }
 ],
 "metadata": {
  "anaconda-cloud": {},
  "kernelspec": {
   "display_name": "Python [conda env:stanleyyork]",
   "language": "python",
   "name": "conda-env-stanleyyork-py"
  },
  "language_info": {
   "codemirror_mode": {
    "name": "ipython",
    "version": 2
   },
   "file_extension": ".py",
   "mimetype": "text/x-python",
   "name": "python",
   "nbconvert_exporter": "python",
   "pygments_lexer": "ipython2",
   "version": "2.7.12"
  }
 },
 "nbformat": 4,
 "nbformat_minor": 0
}
