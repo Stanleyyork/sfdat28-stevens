{
 "cells": [
  {
   "cell_type": "code",
   "execution_count": 1,
   "metadata": {
    "collapsed": false
   },
   "outputs": [],
   "source": [
    "import tweepy       # python wrapper for twitter api\n",
    "import json\n",
    "import time\n",
    "import requests\n",
    "# step 0, get your own twitter credentials!"
   ]
  },
  {
   "cell_type": "code",
   "execution_count": 2,
   "metadata": {
    "collapsed": false
   },
   "outputs": [],
   "source": [
    "# this is my own personal twitter api information\n",
    "# if you could be so kind as to sign up yourself on both twitter and mashape that'd be great :)\n",
    "# It's FREEEEEEE\n",
    "api_key = 'g5uPIpw80nULQI1gfklv2zrh4'\n",
    "api_secret = 'cOWvNWxYvPmEZ0ArZVeeVVvJu41QYHdUS2GpqIKtSQ1isd5PJy'\n",
    "access_token = '49722956-TWl8J0aAS6KTdcbz3ppZ7NfqZEmrwmbsb9cYPNELG'\n",
    "access_secret = '3eqrVssF3ppv23qyflyAto8wLEiYRA8sXEPSghuOJWTub'"
   ]
  },
  {
   "cell_type": "code",
   "execution_count": 3,
   "metadata": {
    "collapsed": false
   },
   "outputs": [],
   "source": [
    "# Documentation is your friend! http://docs.tweepy.org/en/v3.1.0/\n",
    "auth = tweepy.OAuthHandler(api_key, api_secret)\n",
    "auth.set_access_token(access_token, access_secret)\n",
    "api = tweepy.API(auth) # returns a tweepy authorization handler object"
   ]
  },
  {
   "cell_type": "code",
   "execution_count": 80,
   "metadata": {
    "collapsed": false
   },
   "outputs": [],
   "source": [
    "# 1. Use Twitter API to stream and store tweets (300 per candidate)\n",
    "# 37.781157,-122.39872 is the lat,lng for SF\n",
    "music_tweets = api.search(q='#music', count=100, geocode=\"37.781157,-122.398720,10mi\")+\\\n",
    "api.search(q='#concert', count=100, geocode=\"37.781157,-122.398720,10mi\")+\\\n",
    "api.search(q='#band', count=100, geocode=\"37.781157,-122.398720,10mi\")"
   ]
  },
  {
   "cell_type": "code",
   "execution_count": 81,
   "metadata": {
    "collapsed": false
   },
   "outputs": [
    {
     "data": {
      "text/plain": [
       "172"
      ]
     },
     "execution_count": 81,
     "metadata": {},
     "output_type": "execute_result"
    }
   ],
   "source": [
    "len(music_tweets)"
   ]
  },
  {
   "cell_type": "code",
   "execution_count": null,
   "metadata": {
    "collapsed": false
   },
   "outputs": [],
   "source": []
  },
  {
   "cell_type": "code",
   "execution_count": 82,
   "metadata": {
    "collapsed": false
   },
   "outputs": [
    {
     "data": {
      "text/plain": [
       "u'Posted a new song: \"under the sea (little mermaid)\" https://t.co/Uww7uRB6zs #music https://t.co/0yEqtoGEn6'"
      ]
     },
     "execution_count": 82,
     "metadata": {},
     "output_type": "execute_result"
    }
   ],
   "source": [
    "music_tweets[0].text"
   ]
  },
  {
   "cell_type": "code",
   "execution_count": null,
   "metadata": {
    "collapsed": false
   },
   "outputs": [],
   "source": []
  },
  {
   "cell_type": "code",
   "execution_count": 83,
   "metadata": {
    "collapsed": false
   },
   "outputs": [
    {
     "name": "stdout",
     "output_type": "stream",
     "text": [
      "['__class__', '__delattr__', '__dict__', '__doc__', '__eq__', '__format__', '__getattribute__', '__getstate__', '__hash__', '__init__', '__module__', '__ne__', '__new__', '__reduce__', '__reduce_ex__', '__repr__', '__setattr__', '__sizeof__', '__str__', '__subclasshook__', '__weakref__', '_api', '_json', 'author', 'contributors', 'coordinates', 'created_at', 'destroy', 'entities', 'favorite', 'favorite_count', 'favorited', 'geo', 'id', 'id_str', 'in_reply_to_screen_name', 'in_reply_to_status_id', 'in_reply_to_status_id_str', 'in_reply_to_user_id', 'in_reply_to_user_id_str', 'is_quote_status', 'lang', 'metadata', 'parse', 'parse_list', 'place', 'possibly_sensitive', 'retweet', 'retweet_count', 'retweeted', 'retweets', 'source', 'source_url', 'text', 'truncated', 'user']\n"
     ]
    }
   ],
   "source": [
    "# wrappers come with built in python attributes and methods!\n",
    "print dir(music_tweets[0])"
   ]
  },
  {
   "cell_type": "code",
   "execution_count": 84,
   "metadata": {
    "collapsed": false
   },
   "outputs": [
    {
     "name": "stdout",
     "output_type": "stream",
     "text": [
      "2016-12-01 02:04:14\n",
      "Posted a new song: \"under the sea (little mermaid)\" https://t.co/Uww7uRB6zs #music https://t.co/0yEqtoGEn6\n",
      "0\n",
      "False\n",
      "en\n",
      "None\n",
      "0\n",
      "False\n",
      "None\n"
     ]
    }
   ],
   "source": [
    "print music_tweets[0].created_at\n",
    "print music_tweets[0].text\n",
    "print music_tweets[0].favorite_count\n",
    "print music_tweets[0].favorited\n",
    "print music_tweets[0].lang\n",
    "print music_tweets[0].geo\n",
    "print music_tweets[0].retweet_count\n",
    "print music_tweets[0].retweeted\n",
    "print music_tweets[0].coordinates"
   ]
  },
  {
   "cell_type": "code",
   "execution_count": 85,
   "metadata": {
    "collapsed": false
   },
   "outputs": [],
   "source": [
    "# modify the tweets to make a nice dictionary\n",
    "def parse_status_objects(tweet_list):\n",
    "    modified_tweets = list()\n",
    "    for x in tweet_list:\n",
    "        modified_tweets.append( [\n",
    "                    x.created_at,\n",
    "                    x.text,\n",
    "                    x.favorite_count,\n",
    "                    x.favorited,\n",
    "                    x.lang,\n",
    "                    x.geo,\n",
    "                    x.retweet_count,\n",
    "                    x.retweeted,\n",
    "                    x.coordinates\n",
    "                ])\n",
    "    return modified_tweets\n",
    "        \n",
    "music_tweets = parse_status_objects(music_tweets)"
   ]
  },
  {
   "cell_type": "code",
   "execution_count": 86,
   "metadata": {
    "collapsed": false
   },
   "outputs": [
    {
     "name": "stdout",
     "output_type": "stream",
     "text": [
      "[datetime.datetime(2016, 12, 1, 2, 4, 14), u'Posted a new song: \"under the sea (little mermaid)\" https://t.co/Uww7uRB6zs #music https://t.co/0yEqtoGEn6', 0, False, u'en', None, 0, False, None]\n"
     ]
    }
   ],
   "source": [
    "print music_tweets[0]"
   ]
  },
  {
   "cell_type": "code",
   "execution_count": 87,
   "metadata": {
    "collapsed": false
   },
   "outputs": [
    {
     "data": {
      "text/plain": [
       "list"
      ]
     },
     "execution_count": 87,
     "metadata": {},
     "output_type": "execute_result"
    }
   ],
   "source": [
    "type(music_tweets)"
   ]
  },
  {
   "cell_type": "code",
   "execution_count": 88,
   "metadata": {
    "collapsed": false
   },
   "outputs": [
    {
     "data": {
      "text/html": [
       "<div>\n",
       "<table border=\"1\" class=\"dataframe\">\n",
       "  <thead>\n",
       "    <tr style=\"text-align: right;\">\n",
       "      <th></th>\n",
       "      <th>date</th>\n",
       "      <th>text</th>\n",
       "      <th>favorite_count</th>\n",
       "      <th>favorited</th>\n",
       "      <th>language</th>\n",
       "      <th>geocode</th>\n",
       "      <th>retweet count</th>\n",
       "      <th>retweeted</th>\n",
       "      <th>coordinates</th>\n",
       "    </tr>\n",
       "  </thead>\n",
       "  <tbody>\n",
       "    <tr>\n",
       "      <th>0</th>\n",
       "      <td>2016-12-01 02:04:14</td>\n",
       "      <td>Posted a new song: \"under the sea (little merm...</td>\n",
       "      <td>0</td>\n",
       "      <td>False</td>\n",
       "      <td>en</td>\n",
       "      <td>None</td>\n",
       "      <td>0</td>\n",
       "      <td>False</td>\n",
       "      <td>None</td>\n",
       "    </tr>\n",
       "    <tr>\n",
       "      <th>1</th>\n",
       "      <td>2016-12-01 02:01:11</td>\n",
       "      <td>Stronger Than Dirt by Big Mama Thornton https:...</td>\n",
       "      <td>0</td>\n",
       "      <td>False</td>\n",
       "      <td>en</td>\n",
       "      <td>None</td>\n",
       "      <td>0</td>\n",
       "      <td>False</td>\n",
       "      <td>None</td>\n",
       "    </tr>\n",
       "    <tr>\n",
       "      <th>2</th>\n",
       "      <td>2016-12-01 02:01:10</td>\n",
       "      <td>Purple Rain by Prince https://t.co/yhw61ETe7R ...</td>\n",
       "      <td>0</td>\n",
       "      <td>False</td>\n",
       "      <td>en</td>\n",
       "      <td>None</td>\n",
       "      <td>0</td>\n",
       "      <td>False</td>\n",
       "      <td>None</td>\n",
       "    </tr>\n",
       "    <tr>\n",
       "      <th>3</th>\n",
       "      <td>2016-12-01 02:01:10</td>\n",
       "      <td>Nina Simone &amp;amp; Piano by Nina Simone https:/...</td>\n",
       "      <td>1</td>\n",
       "      <td>False</td>\n",
       "      <td>it</td>\n",
       "      <td>None</td>\n",
       "      <td>0</td>\n",
       "      <td>False</td>\n",
       "      <td>None</td>\n",
       "    </tr>\n",
       "    <tr>\n",
       "      <th>4</th>\n",
       "      <td>2016-12-01 02:00:23</td>\n",
       "      <td>#KanyeWest Out of Hospital: Report #musicnews ...</td>\n",
       "      <td>0</td>\n",
       "      <td>False</td>\n",
       "      <td>en</td>\n",
       "      <td>None</td>\n",
       "      <td>0</td>\n",
       "      <td>False</td>\n",
       "      <td>None</td>\n",
       "    </tr>\n",
       "  </tbody>\n",
       "</table>\n",
       "</div>"
      ],
      "text/plain": [
       "                 date                                               text  \\\n",
       "0 2016-12-01 02:04:14  Posted a new song: \"under the sea (little merm...   \n",
       "1 2016-12-01 02:01:11  Stronger Than Dirt by Big Mama Thornton https:...   \n",
       "2 2016-12-01 02:01:10  Purple Rain by Prince https://t.co/yhw61ETe7R ...   \n",
       "3 2016-12-01 02:01:10  Nina Simone &amp; Piano by Nina Simone https:/...   \n",
       "4 2016-12-01 02:00:23  #KanyeWest Out of Hospital: Report #musicnews ...   \n",
       "\n",
       "   favorite_count favorited language geocode  retweet count retweeted  \\\n",
       "0               0     False       en    None              0     False   \n",
       "1               0     False       en    None              0     False   \n",
       "2               0     False       en    None              0     False   \n",
       "3               1     False       it    None              0     False   \n",
       "4               0     False       en    None              0     False   \n",
       "\n",
       "  coordinates  \n",
       "0        None  \n",
       "1        None  \n",
       "2        None  \n",
       "3        None  \n",
       "4        None  "
      ]
     },
     "execution_count": 88,
     "metadata": {},
     "output_type": "execute_result"
    }
   ],
   "source": [
    "import pandas as pd\n",
    "import numpy as np\n",
    "# 2 Create a dataframe that combines all of the tweets from each candidate\n",
    "# To do so, you will need to concat the data frames\n",
    "# so each row is a tweet and your columns should be \n",
    "# date, text, favorite_count,favorited, language, geocode, retweet count, retweeted, coordinates\n",
    "cols = ['date', 'text', 'favorite_count', 'favorited', 'language', 'geocode', 'retweet count', 'retweeted', 'coordinates']\n",
    "music_df = pd.DataFrame(music_tweets, columns=cols)\n",
    "music_df.head()"
   ]
  },
  {
   "cell_type": "code",
   "execution_count": 89,
   "metadata": {
    "collapsed": false
   },
   "outputs": [],
   "source": [
    "from textblob import TextBlob, Word\n",
    "\n",
    "# 3 Create a function to take in a string and output the textblob sentiment of that string\n",
    "def create_sentiment(str):\n",
    "    tb = TextBlob(str)\n",
    "    return tb.sentiment.polarity"
   ]
  },
  {
   "cell_type": "code",
   "execution_count": 90,
   "metadata": {
    "collapsed": false
   },
   "outputs": [
    {
     "data": {
      "text/html": [
       "<div>\n",
       "<table border=\"1\" class=\"dataframe\">\n",
       "  <thead>\n",
       "    <tr style=\"text-align: right;\">\n",
       "      <th></th>\n",
       "      <th>date</th>\n",
       "      <th>text</th>\n",
       "      <th>favorite_count</th>\n",
       "      <th>favorited</th>\n",
       "      <th>language</th>\n",
       "      <th>geocode</th>\n",
       "      <th>retweet count</th>\n",
       "      <th>retweeted</th>\n",
       "      <th>coordinates</th>\n",
       "      <th>sentiment</th>\n",
       "    </tr>\n",
       "  </thead>\n",
       "  <tbody>\n",
       "    <tr>\n",
       "      <th>0</th>\n",
       "      <td>2016-12-01 02:04:14</td>\n",
       "      <td>Posted a new song: \"under the sea (little merm...</td>\n",
       "      <td>0</td>\n",
       "      <td>False</td>\n",
       "      <td>en</td>\n",
       "      <td>None</td>\n",
       "      <td>0</td>\n",
       "      <td>False</td>\n",
       "      <td>None</td>\n",
       "      <td>-0.025568</td>\n",
       "    </tr>\n",
       "    <tr>\n",
       "      <th>1</th>\n",
       "      <td>2016-12-01 02:01:11</td>\n",
       "      <td>Stronger Than Dirt by Big Mama Thornton https:...</td>\n",
       "      <td>0</td>\n",
       "      <td>False</td>\n",
       "      <td>en</td>\n",
       "      <td>None</td>\n",
       "      <td>0</td>\n",
       "      <td>False</td>\n",
       "      <td>None</td>\n",
       "      <td>0.000000</td>\n",
       "    </tr>\n",
       "    <tr>\n",
       "      <th>2</th>\n",
       "      <td>2016-12-01 02:01:10</td>\n",
       "      <td>Purple Rain by Prince https://t.co/yhw61ETe7R ...</td>\n",
       "      <td>0</td>\n",
       "      <td>False</td>\n",
       "      <td>en</td>\n",
       "      <td>None</td>\n",
       "      <td>0</td>\n",
       "      <td>False</td>\n",
       "      <td>None</td>\n",
       "      <td>0.000000</td>\n",
       "    </tr>\n",
       "    <tr>\n",
       "      <th>3</th>\n",
       "      <td>2016-12-01 02:01:10</td>\n",
       "      <td>Nina Simone &amp;amp; Piano by Nina Simone https:/...</td>\n",
       "      <td>1</td>\n",
       "      <td>False</td>\n",
       "      <td>it</td>\n",
       "      <td>None</td>\n",
       "      <td>0</td>\n",
       "      <td>False</td>\n",
       "      <td>None</td>\n",
       "      <td>0.000000</td>\n",
       "    </tr>\n",
       "    <tr>\n",
       "      <th>4</th>\n",
       "      <td>2016-12-01 02:00:23</td>\n",
       "      <td>#KanyeWest Out of Hospital: Report #musicnews ...</td>\n",
       "      <td>0</td>\n",
       "      <td>False</td>\n",
       "      <td>en</td>\n",
       "      <td>None</td>\n",
       "      <td>0</td>\n",
       "      <td>False</td>\n",
       "      <td>None</td>\n",
       "      <td>0.000000</td>\n",
       "    </tr>\n",
       "  </tbody>\n",
       "</table>\n",
       "</div>"
      ],
      "text/plain": [
       "                 date                                               text  \\\n",
       "0 2016-12-01 02:04:14  Posted a new song: \"under the sea (little merm...   \n",
       "1 2016-12-01 02:01:11  Stronger Than Dirt by Big Mama Thornton https:...   \n",
       "2 2016-12-01 02:01:10  Purple Rain by Prince https://t.co/yhw61ETe7R ...   \n",
       "3 2016-12-01 02:01:10  Nina Simone &amp; Piano by Nina Simone https:/...   \n",
       "4 2016-12-01 02:00:23  #KanyeWest Out of Hospital: Report #musicnews ...   \n",
       "\n",
       "   favorite_count favorited language geocode  retweet count retweeted  \\\n",
       "0               0     False       en    None              0     False   \n",
       "1               0     False       en    None              0     False   \n",
       "2               0     False       en    None              0     False   \n",
       "3               1     False       it    None              0     False   \n",
       "4               0     False       en    None              0     False   \n",
       "\n",
       "  coordinates  sentiment  \n",
       "0        None  -0.025568  \n",
       "1        None   0.000000  \n",
       "2        None   0.000000  \n",
       "3        None   0.000000  \n",
       "4        None   0.000000  "
      ]
     },
     "execution_count": 90,
     "metadata": {},
     "output_type": "execute_result"
    }
   ],
   "source": [
    "# 4 Add a column to your data frame called 'sentiment'\n",
    "# which holds the sentiment of that tweet (hint: use the function from #3)\n",
    "music_df['sentiment'] = music_df['text'].apply(lambda x: create_sentiment(x))\n",
    "music_df.head()"
   ]
  },
  {
   "cell_type": "code",
   "execution_count": 91,
   "metadata": {
    "collapsed": false
   },
   "outputs": [
    {
     "data": {
      "text/html": [
       "<div>\n",
       "<table border=\"1\" class=\"dataframe\">\n",
       "  <thead>\n",
       "    <tr style=\"text-align: right;\">\n",
       "      <th></th>\n",
       "      <th>date</th>\n",
       "      <th>text</th>\n",
       "      <th>favorite_count</th>\n",
       "      <th>favorited</th>\n",
       "      <th>language</th>\n",
       "      <th>geocode</th>\n",
       "      <th>retweet count</th>\n",
       "      <th>retweeted</th>\n",
       "      <th>coordinates</th>\n",
       "      <th>sentiment</th>\n",
       "      <th>word_count</th>\n",
       "    </tr>\n",
       "  </thead>\n",
       "  <tbody>\n",
       "    <tr>\n",
       "      <th>0</th>\n",
       "      <td>2016-12-01 02:04:14</td>\n",
       "      <td>Posted a new song: \"under the sea (little merm...</td>\n",
       "      <td>0</td>\n",
       "      <td>False</td>\n",
       "      <td>en</td>\n",
       "      <td>None</td>\n",
       "      <td>0</td>\n",
       "      <td>False</td>\n",
       "      <td>None</td>\n",
       "      <td>-0.025568</td>\n",
       "      <td>106</td>\n",
       "    </tr>\n",
       "    <tr>\n",
       "      <th>1</th>\n",
       "      <td>2016-12-01 02:01:11</td>\n",
       "      <td>Stronger Than Dirt by Big Mama Thornton https:...</td>\n",
       "      <td>0</td>\n",
       "      <td>False</td>\n",
       "      <td>en</td>\n",
       "      <td>None</td>\n",
       "      <td>0</td>\n",
       "      <td>False</td>\n",
       "      <td>None</td>\n",
       "      <td>0.000000</td>\n",
       "      <td>112</td>\n",
       "    </tr>\n",
       "    <tr>\n",
       "      <th>2</th>\n",
       "      <td>2016-12-01 02:01:10</td>\n",
       "      <td>Purple Rain by Prince https://t.co/yhw61ETe7R ...</td>\n",
       "      <td>0</td>\n",
       "      <td>False</td>\n",
       "      <td>en</td>\n",
       "      <td>None</td>\n",
       "      <td>0</td>\n",
       "      <td>False</td>\n",
       "      <td>None</td>\n",
       "      <td>0.000000</td>\n",
       "      <td>104</td>\n",
       "    </tr>\n",
       "    <tr>\n",
       "      <th>3</th>\n",
       "      <td>2016-12-01 02:01:10</td>\n",
       "      <td>Nina Simone &amp;amp; Piano by Nina Simone https:/...</td>\n",
       "      <td>1</td>\n",
       "      <td>False</td>\n",
       "      <td>it</td>\n",
       "      <td>None</td>\n",
       "      <td>0</td>\n",
       "      <td>False</td>\n",
       "      <td>None</td>\n",
       "      <td>0.000000</td>\n",
       "      <td>111</td>\n",
       "    </tr>\n",
       "    <tr>\n",
       "      <th>4</th>\n",
       "      <td>2016-12-01 02:00:23</td>\n",
       "      <td>#KanyeWest Out of Hospital: Report #musicnews ...</td>\n",
       "      <td>0</td>\n",
       "      <td>False</td>\n",
       "      <td>en</td>\n",
       "      <td>None</td>\n",
       "      <td>0</td>\n",
       "      <td>False</td>\n",
       "      <td>None</td>\n",
       "      <td>0.000000</td>\n",
       "      <td>115</td>\n",
       "    </tr>\n",
       "  </tbody>\n",
       "</table>\n",
       "</div>"
      ],
      "text/plain": [
       "                 date                                               text  \\\n",
       "0 2016-12-01 02:04:14  Posted a new song: \"under the sea (little merm...   \n",
       "1 2016-12-01 02:01:11  Stronger Than Dirt by Big Mama Thornton https:...   \n",
       "2 2016-12-01 02:01:10  Purple Rain by Prince https://t.co/yhw61ETe7R ...   \n",
       "3 2016-12-01 02:01:10  Nina Simone &amp; Piano by Nina Simone https:/...   \n",
       "4 2016-12-01 02:00:23  #KanyeWest Out of Hospital: Report #musicnews ...   \n",
       "\n",
       "   favorite_count favorited language geocode  retweet count retweeted  \\\n",
       "0               0     False       en    None              0     False   \n",
       "1               0     False       en    None              0     False   \n",
       "2               0     False       en    None              0     False   \n",
       "3               1     False       it    None              0     False   \n",
       "4               0     False       en    None              0     False   \n",
       "\n",
       "  coordinates  sentiment  word_count  \n",
       "0        None  -0.025568         106  \n",
       "1        None   0.000000         112  \n",
       "2        None   0.000000         104  \n",
       "3        None   0.000000         111  \n",
       "4        None   0.000000         115  "
      ]
     },
     "execution_count": 91,
     "metadata": {},
     "output_type": "execute_result"
    }
   ],
   "source": [
    "# 5 create a word count column, which holds the number of words in the text column\n",
    "music_df['word_count'] = music_df['text'].apply(lambda x: len(x))\n",
    "music_df.head()"
   ]
  },
  {
   "cell_type": "code",
   "execution_count": 92,
   "metadata": {
    "collapsed": false
   },
   "outputs": [
    {
     "data": {
      "text/html": [
       "<div>\n",
       "<table border=\"1\" class=\"dataframe\">\n",
       "  <thead>\n",
       "    <tr style=\"text-align: right;\">\n",
       "      <th></th>\n",
       "      <th>00</th>\n",
       "      <th>01</th>\n",
       "      <th>02</th>\n",
       "      <th>03</th>\n",
       "      <th>05</th>\n",
       "      <th>05ira8jwmk</th>\n",
       "      <th>06</th>\n",
       "      <th>07</th>\n",
       "      <th>08</th>\n",
       "      <th>09</th>\n",
       "      <th>...</th>\n",
       "      <th>z0kxwxk7l4</th>\n",
       "      <th>zappa</th>\n",
       "      <th>zd4ymmecem</th>\n",
       "      <th>zemfira</th>\n",
       "      <th>ziggy</th>\n",
       "      <th>zj1pjepajh</th>\n",
       "      <th>zjvu2rpvch</th>\n",
       "      <th>znslqigq4m</th>\n",
       "      <th>zoldep52nr</th>\n",
       "      <th>zrbozhmgry</th>\n",
       "    </tr>\n",
       "  </thead>\n",
       "  <tbody>\n",
       "    <tr>\n",
       "      <th>0</th>\n",
       "      <td>0.0</td>\n",
       "      <td>0.0</td>\n",
       "      <td>0.0</td>\n",
       "      <td>0.0</td>\n",
       "      <td>0.0</td>\n",
       "      <td>0.0</td>\n",
       "      <td>0.0</td>\n",
       "      <td>0.0</td>\n",
       "      <td>0.0</td>\n",
       "      <td>0.0</td>\n",
       "      <td>...</td>\n",
       "      <td>0.0</td>\n",
       "      <td>0.0</td>\n",
       "      <td>0.0</td>\n",
       "      <td>0.0</td>\n",
       "      <td>0.0</td>\n",
       "      <td>0.0</td>\n",
       "      <td>0.0</td>\n",
       "      <td>0.0</td>\n",
       "      <td>0.0</td>\n",
       "      <td>0.0</td>\n",
       "    </tr>\n",
       "    <tr>\n",
       "      <th>1</th>\n",
       "      <td>0.0</td>\n",
       "      <td>0.0</td>\n",
       "      <td>0.0</td>\n",
       "      <td>0.0</td>\n",
       "      <td>0.0</td>\n",
       "      <td>0.0</td>\n",
       "      <td>0.0</td>\n",
       "      <td>0.0</td>\n",
       "      <td>0.0</td>\n",
       "      <td>0.0</td>\n",
       "      <td>...</td>\n",
       "      <td>0.0</td>\n",
       "      <td>0.0</td>\n",
       "      <td>0.0</td>\n",
       "      <td>0.0</td>\n",
       "      <td>0.0</td>\n",
       "      <td>0.0</td>\n",
       "      <td>0.0</td>\n",
       "      <td>0.0</td>\n",
       "      <td>0.0</td>\n",
       "      <td>0.0</td>\n",
       "    </tr>\n",
       "    <tr>\n",
       "      <th>2</th>\n",
       "      <td>0.0</td>\n",
       "      <td>0.0</td>\n",
       "      <td>0.0</td>\n",
       "      <td>0.0</td>\n",
       "      <td>0.0</td>\n",
       "      <td>0.0</td>\n",
       "      <td>0.0</td>\n",
       "      <td>0.0</td>\n",
       "      <td>0.0</td>\n",
       "      <td>0.0</td>\n",
       "      <td>...</td>\n",
       "      <td>0.0</td>\n",
       "      <td>0.0</td>\n",
       "      <td>0.0</td>\n",
       "      <td>0.0</td>\n",
       "      <td>0.0</td>\n",
       "      <td>0.0</td>\n",
       "      <td>0.0</td>\n",
       "      <td>0.0</td>\n",
       "      <td>0.0</td>\n",
       "      <td>0.0</td>\n",
       "    </tr>\n",
       "    <tr>\n",
       "      <th>3</th>\n",
       "      <td>0.0</td>\n",
       "      <td>0.0</td>\n",
       "      <td>0.0</td>\n",
       "      <td>0.0</td>\n",
       "      <td>0.0</td>\n",
       "      <td>0.0</td>\n",
       "      <td>0.0</td>\n",
       "      <td>0.0</td>\n",
       "      <td>0.0</td>\n",
       "      <td>0.0</td>\n",
       "      <td>...</td>\n",
       "      <td>0.0</td>\n",
       "      <td>0.0</td>\n",
       "      <td>0.0</td>\n",
       "      <td>0.0</td>\n",
       "      <td>0.0</td>\n",
       "      <td>0.0</td>\n",
       "      <td>0.0</td>\n",
       "      <td>0.0</td>\n",
       "      <td>0.0</td>\n",
       "      <td>0.0</td>\n",
       "    </tr>\n",
       "    <tr>\n",
       "      <th>4</th>\n",
       "      <td>0.0</td>\n",
       "      <td>0.0</td>\n",
       "      <td>0.0</td>\n",
       "      <td>0.0</td>\n",
       "      <td>0.0</td>\n",
       "      <td>0.0</td>\n",
       "      <td>0.0</td>\n",
       "      <td>0.0</td>\n",
       "      <td>0.0</td>\n",
       "      <td>0.0</td>\n",
       "      <td>...</td>\n",
       "      <td>0.0</td>\n",
       "      <td>0.0</td>\n",
       "      <td>0.0</td>\n",
       "      <td>0.0</td>\n",
       "      <td>0.0</td>\n",
       "      <td>0.0</td>\n",
       "      <td>0.0</td>\n",
       "      <td>0.0</td>\n",
       "      <td>0.0</td>\n",
       "      <td>0.0</td>\n",
       "    </tr>\n",
       "  </tbody>\n",
       "</table>\n",
       "<p>5 rows × 995 columns</p>\n",
       "</div>"
      ],
      "text/plain": [
       "    00   01   02   03   05  05ira8jwmk   06   07   08   09     ...      \\\n",
       "0  0.0  0.0  0.0  0.0  0.0         0.0  0.0  0.0  0.0  0.0     ...       \n",
       "1  0.0  0.0  0.0  0.0  0.0         0.0  0.0  0.0  0.0  0.0     ...       \n",
       "2  0.0  0.0  0.0  0.0  0.0         0.0  0.0  0.0  0.0  0.0     ...       \n",
       "3  0.0  0.0  0.0  0.0  0.0         0.0  0.0  0.0  0.0  0.0     ...       \n",
       "4  0.0  0.0  0.0  0.0  0.0         0.0  0.0  0.0  0.0  0.0     ...       \n",
       "\n",
       "   z0kxwxk7l4  zappa  zd4ymmecem  zemfira  ziggy  zj1pjepajh  zjvu2rpvch  \\\n",
       "0         0.0    0.0         0.0      0.0    0.0         0.0         0.0   \n",
       "1         0.0    0.0         0.0      0.0    0.0         0.0         0.0   \n",
       "2         0.0    0.0         0.0      0.0    0.0         0.0         0.0   \n",
       "3         0.0    0.0         0.0      0.0    0.0         0.0         0.0   \n",
       "4         0.0    0.0         0.0      0.0    0.0         0.0         0.0   \n",
       "\n",
       "   znslqigq4m  zoldep52nr  zrbozhmgry  \n",
       "0         0.0         0.0         0.0  \n",
       "1         0.0         0.0         0.0  \n",
       "2         0.0         0.0         0.0  \n",
       "3         0.0         0.0         0.0  \n",
       "4         0.0         0.0         0.0  \n",
       "\n",
       "[5 rows x 995 columns]"
      ]
     },
     "execution_count": 92,
     "metadata": {},
     "output_type": "execute_result"
    }
   ],
   "source": [
    "from sklearn.feature_extraction.text import CountVectorizer, TfidfVectorizer\n",
    "# use countvectorizer to create a document-term matrix and concatinate it to your main dataframe\n",
    "#(hint you should now have thousands of columns)\n",
    "# Don't add count vectorizer result to the original dataframe\n",
    "vect = TfidfVectorizer()\n",
    "tfidf_df = pd.DataFrame(vect.fit_transform(music_df['text']).toarray(), columns=vect.get_feature_names())\n",
    "tfidf_df.head()"
   ]
  },
  {
   "cell_type": "code",
   "execution_count": 93,
   "metadata": {
    "collapsed": false
   },
   "outputs": [
    {
     "data": {
      "text/html": [
       "<div>\n",
       "<table border=\"1\" class=\"dataframe\">\n",
       "  <thead>\n",
       "    <tr style=\"text-align: right;\">\n",
       "      <th></th>\n",
       "      <th>00</th>\n",
       "      <th>01</th>\n",
       "      <th>02</th>\n",
       "      <th>03</th>\n",
       "      <th>05</th>\n",
       "      <th>05ira8jwmk</th>\n",
       "      <th>06</th>\n",
       "      <th>07</th>\n",
       "      <th>08</th>\n",
       "      <th>09</th>\n",
       "      <th>...</th>\n",
       "      <th>z0kxwxk7l4</th>\n",
       "      <th>zappa</th>\n",
       "      <th>zd4ymmecem</th>\n",
       "      <th>zemfira</th>\n",
       "      <th>ziggy</th>\n",
       "      <th>zj1pjepajh</th>\n",
       "      <th>zjvu2rpvch</th>\n",
       "      <th>znslqigq4m</th>\n",
       "      <th>zoldep52nr</th>\n",
       "      <th>zrbozhmgry</th>\n",
       "    </tr>\n",
       "  </thead>\n",
       "  <tbody>\n",
       "    <tr>\n",
       "      <th>0</th>\n",
       "      <td>NaN</td>\n",
       "      <td>NaN</td>\n",
       "      <td>NaN</td>\n",
       "      <td>NaN</td>\n",
       "      <td>NaN</td>\n",
       "      <td>NaN</td>\n",
       "      <td>NaN</td>\n",
       "      <td>NaN</td>\n",
       "      <td>NaN</td>\n",
       "      <td>NaN</td>\n",
       "      <td>...</td>\n",
       "      <td>NaN</td>\n",
       "      <td>NaN</td>\n",
       "      <td>NaN</td>\n",
       "      <td>NaN</td>\n",
       "      <td>NaN</td>\n",
       "      <td>NaN</td>\n",
       "      <td>NaN</td>\n",
       "      <td>NaN</td>\n",
       "      <td>NaN</td>\n",
       "      <td>NaN</td>\n",
       "    </tr>\n",
       "    <tr>\n",
       "      <th>1</th>\n",
       "      <td>NaN</td>\n",
       "      <td>NaN</td>\n",
       "      <td>NaN</td>\n",
       "      <td>NaN</td>\n",
       "      <td>NaN</td>\n",
       "      <td>NaN</td>\n",
       "      <td>NaN</td>\n",
       "      <td>NaN</td>\n",
       "      <td>NaN</td>\n",
       "      <td>NaN</td>\n",
       "      <td>...</td>\n",
       "      <td>NaN</td>\n",
       "      <td>NaN</td>\n",
       "      <td>NaN</td>\n",
       "      <td>NaN</td>\n",
       "      <td>NaN</td>\n",
       "      <td>NaN</td>\n",
       "      <td>NaN</td>\n",
       "      <td>NaN</td>\n",
       "      <td>NaN</td>\n",
       "      <td>NaN</td>\n",
       "    </tr>\n",
       "    <tr>\n",
       "      <th>2</th>\n",
       "      <td>NaN</td>\n",
       "      <td>NaN</td>\n",
       "      <td>NaN</td>\n",
       "      <td>NaN</td>\n",
       "      <td>NaN</td>\n",
       "      <td>NaN</td>\n",
       "      <td>NaN</td>\n",
       "      <td>NaN</td>\n",
       "      <td>NaN</td>\n",
       "      <td>NaN</td>\n",
       "      <td>...</td>\n",
       "      <td>NaN</td>\n",
       "      <td>NaN</td>\n",
       "      <td>NaN</td>\n",
       "      <td>NaN</td>\n",
       "      <td>NaN</td>\n",
       "      <td>NaN</td>\n",
       "      <td>NaN</td>\n",
       "      <td>NaN</td>\n",
       "      <td>NaN</td>\n",
       "      <td>NaN</td>\n",
       "    </tr>\n",
       "    <tr>\n",
       "      <th>3</th>\n",
       "      <td>NaN</td>\n",
       "      <td>NaN</td>\n",
       "      <td>NaN</td>\n",
       "      <td>NaN</td>\n",
       "      <td>NaN</td>\n",
       "      <td>NaN</td>\n",
       "      <td>NaN</td>\n",
       "      <td>NaN</td>\n",
       "      <td>NaN</td>\n",
       "      <td>NaN</td>\n",
       "      <td>...</td>\n",
       "      <td>NaN</td>\n",
       "      <td>NaN</td>\n",
       "      <td>NaN</td>\n",
       "      <td>NaN</td>\n",
       "      <td>NaN</td>\n",
       "      <td>NaN</td>\n",
       "      <td>NaN</td>\n",
       "      <td>NaN</td>\n",
       "      <td>NaN</td>\n",
       "      <td>NaN</td>\n",
       "    </tr>\n",
       "    <tr>\n",
       "      <th>4</th>\n",
       "      <td>NaN</td>\n",
       "      <td>NaN</td>\n",
       "      <td>NaN</td>\n",
       "      <td>NaN</td>\n",
       "      <td>NaN</td>\n",
       "      <td>NaN</td>\n",
       "      <td>NaN</td>\n",
       "      <td>NaN</td>\n",
       "      <td>NaN</td>\n",
       "      <td>NaN</td>\n",
       "      <td>...</td>\n",
       "      <td>NaN</td>\n",
       "      <td>NaN</td>\n",
       "      <td>NaN</td>\n",
       "      <td>NaN</td>\n",
       "      <td>NaN</td>\n",
       "      <td>NaN</td>\n",
       "      <td>NaN</td>\n",
       "      <td>NaN</td>\n",
       "      <td>NaN</td>\n",
       "      <td>NaN</td>\n",
       "    </tr>\n",
       "  </tbody>\n",
       "</table>\n",
       "<p>5 rows × 1006 columns</p>\n",
       "</div>"
      ],
      "text/plain": [
       "   00  01  02  03  05  05ira8jwmk  06  07  08  09     ...      z0kxwxk7l4  \\\n",
       "0 NaN NaN NaN NaN NaN         NaN NaN NaN NaN NaN     ...             NaN   \n",
       "1 NaN NaN NaN NaN NaN         NaN NaN NaN NaN NaN     ...             NaN   \n",
       "2 NaN NaN NaN NaN NaN         NaN NaN NaN NaN NaN     ...             NaN   \n",
       "3 NaN NaN NaN NaN NaN         NaN NaN NaN NaN NaN     ...             NaN   \n",
       "4 NaN NaN NaN NaN NaN         NaN NaN NaN NaN NaN     ...             NaN   \n",
       "\n",
       "   zappa  zd4ymmecem  zemfira  ziggy  zj1pjepajh  zjvu2rpvch  znslqigq4m  \\\n",
       "0    NaN         NaN      NaN    NaN         NaN         NaN         NaN   \n",
       "1    NaN         NaN      NaN    NaN         NaN         NaN         NaN   \n",
       "2    NaN         NaN      NaN    NaN         NaN         NaN         NaN   \n",
       "3    NaN         NaN      NaN    NaN         NaN         NaN         NaN   \n",
       "4    NaN         NaN      NaN    NaN         NaN         NaN         NaN   \n",
       "\n",
       "   zoldep52nr  zrbozhmgry  \n",
       "0         NaN         NaN  \n",
       "1         NaN         NaN  \n",
       "2         NaN         NaN  \n",
       "3         NaN         NaN  \n",
       "4         NaN         NaN  \n",
       "\n",
       "[5 rows x 1006 columns]"
      ]
     },
     "execution_count": 93,
     "metadata": {},
     "output_type": "execute_result"
    }
   ],
   "source": [
    "combined_df = pd.concat([music_df,tfidf_df])\n",
    "combined_df.head()"
   ]
  },
  {
   "cell_type": "code",
   "execution_count": 94,
   "metadata": {
    "collapsed": false
   },
   "outputs": [
    {
     "data": {
      "text/html": [
       "<div>\n",
       "<table border=\"1\" class=\"dataframe\">\n",
       "  <thead>\n",
       "    <tr style=\"text-align: right;\">\n",
       "      <th></th>\n",
       "      <th>00</th>\n",
       "      <th>01</th>\n",
       "      <th>02</th>\n",
       "      <th>03</th>\n",
       "      <th>05</th>\n",
       "      <th>05ira8jwmk</th>\n",
       "      <th>06</th>\n",
       "      <th>07</th>\n",
       "      <th>08</th>\n",
       "      <th>09</th>\n",
       "      <th>...</th>\n",
       "      <th>z0kxwxk7l4</th>\n",
       "      <th>zappa</th>\n",
       "      <th>zd4ymmecem</th>\n",
       "      <th>zemfira</th>\n",
       "      <th>ziggy</th>\n",
       "      <th>zj1pjepajh</th>\n",
       "      <th>zjvu2rpvch</th>\n",
       "      <th>znslqigq4m</th>\n",
       "      <th>zoldep52nr</th>\n",
       "      <th>zrbozhmgry</th>\n",
       "    </tr>\n",
       "  </thead>\n",
       "  <tbody>\n",
       "    <tr>\n",
       "      <th>0</th>\n",
       "      <td>0</td>\n",
       "      <td>0</td>\n",
       "      <td>0</td>\n",
       "      <td>0</td>\n",
       "      <td>0</td>\n",
       "      <td>0</td>\n",
       "      <td>0</td>\n",
       "      <td>0</td>\n",
       "      <td>0</td>\n",
       "      <td>0</td>\n",
       "      <td>...</td>\n",
       "      <td>0</td>\n",
       "      <td>0</td>\n",
       "      <td>0</td>\n",
       "      <td>0</td>\n",
       "      <td>0</td>\n",
       "      <td>0</td>\n",
       "      <td>0</td>\n",
       "      <td>0</td>\n",
       "      <td>0</td>\n",
       "      <td>0</td>\n",
       "    </tr>\n",
       "    <tr>\n",
       "      <th>1</th>\n",
       "      <td>0</td>\n",
       "      <td>0</td>\n",
       "      <td>0</td>\n",
       "      <td>0</td>\n",
       "      <td>0</td>\n",
       "      <td>0</td>\n",
       "      <td>0</td>\n",
       "      <td>0</td>\n",
       "      <td>0</td>\n",
       "      <td>0</td>\n",
       "      <td>...</td>\n",
       "      <td>0</td>\n",
       "      <td>0</td>\n",
       "      <td>0</td>\n",
       "      <td>0</td>\n",
       "      <td>0</td>\n",
       "      <td>0</td>\n",
       "      <td>0</td>\n",
       "      <td>0</td>\n",
       "      <td>0</td>\n",
       "      <td>0</td>\n",
       "    </tr>\n",
       "    <tr>\n",
       "      <th>2</th>\n",
       "      <td>0</td>\n",
       "      <td>0</td>\n",
       "      <td>0</td>\n",
       "      <td>0</td>\n",
       "      <td>0</td>\n",
       "      <td>0</td>\n",
       "      <td>0</td>\n",
       "      <td>0</td>\n",
       "      <td>0</td>\n",
       "      <td>0</td>\n",
       "      <td>...</td>\n",
       "      <td>0</td>\n",
       "      <td>0</td>\n",
       "      <td>0</td>\n",
       "      <td>0</td>\n",
       "      <td>0</td>\n",
       "      <td>0</td>\n",
       "      <td>0</td>\n",
       "      <td>0</td>\n",
       "      <td>0</td>\n",
       "      <td>0</td>\n",
       "    </tr>\n",
       "    <tr>\n",
       "      <th>3</th>\n",
       "      <td>0</td>\n",
       "      <td>0</td>\n",
       "      <td>0</td>\n",
       "      <td>0</td>\n",
       "      <td>0</td>\n",
       "      <td>0</td>\n",
       "      <td>0</td>\n",
       "      <td>0</td>\n",
       "      <td>0</td>\n",
       "      <td>0</td>\n",
       "      <td>...</td>\n",
       "      <td>0</td>\n",
       "      <td>0</td>\n",
       "      <td>0</td>\n",
       "      <td>0</td>\n",
       "      <td>0</td>\n",
       "      <td>0</td>\n",
       "      <td>0</td>\n",
       "      <td>0</td>\n",
       "      <td>0</td>\n",
       "      <td>0</td>\n",
       "    </tr>\n",
       "    <tr>\n",
       "      <th>4</th>\n",
       "      <td>0</td>\n",
       "      <td>0</td>\n",
       "      <td>0</td>\n",
       "      <td>0</td>\n",
       "      <td>0</td>\n",
       "      <td>0</td>\n",
       "      <td>0</td>\n",
       "      <td>0</td>\n",
       "      <td>0</td>\n",
       "      <td>0</td>\n",
       "      <td>...</td>\n",
       "      <td>0</td>\n",
       "      <td>0</td>\n",
       "      <td>0</td>\n",
       "      <td>0</td>\n",
       "      <td>0</td>\n",
       "      <td>0</td>\n",
       "      <td>0</td>\n",
       "      <td>0</td>\n",
       "      <td>0</td>\n",
       "      <td>0</td>\n",
       "    </tr>\n",
       "  </tbody>\n",
       "</table>\n",
       "<p>5 rows × 995 columns</p>\n",
       "</div>"
      ],
      "text/plain": [
       "   00  01  02  03  05  05ira8jwmk  06  07  08  09     ...      z0kxwxk7l4  \\\n",
       "0   0   0   0   0   0           0   0   0   0   0     ...               0   \n",
       "1   0   0   0   0   0           0   0   0   0   0     ...               0   \n",
       "2   0   0   0   0   0           0   0   0   0   0     ...               0   \n",
       "3   0   0   0   0   0           0   0   0   0   0     ...               0   \n",
       "4   0   0   0   0   0           0   0   0   0   0     ...               0   \n",
       "\n",
       "   zappa  zd4ymmecem  zemfira  ziggy  zj1pjepajh  zjvu2rpvch  znslqigq4m  \\\n",
       "0      0           0        0      0           0           0           0   \n",
       "1      0           0        0      0           0           0           0   \n",
       "2      0           0        0      0           0           0           0   \n",
       "3      0           0        0      0           0           0           0   \n",
       "4      0           0        0      0           0           0           0   \n",
       "\n",
       "   zoldep52nr  zrbozhmgry  \n",
       "0           0           0  \n",
       "1           0           0  \n",
       "2           0           0  \n",
       "3           0           0  \n",
       "4           0           0  \n",
       "\n",
       "[5 rows x 995 columns]"
      ]
     },
     "execution_count": 94,
     "metadata": {},
     "output_type": "execute_result"
    }
   ],
   "source": [
    "vect = CountVectorizer()\n",
    "count_df = pd.DataFrame(vect.fit_transform(music_df['text']).toarray(), columns=vect.get_feature_names())\n",
    "count_df.head()"
   ]
  },
  {
   "cell_type": "code",
   "execution_count": 95,
   "metadata": {
    "collapsed": false
   },
   "outputs": [
    {
     "data": {
      "text/plain": [
       "0.045956118706212579"
      ]
     },
     "execution_count": 95,
     "metadata": {},
     "output_type": "execute_result"
    }
   ],
   "source": [
    "from sklearn.cluster import KMeans\n",
    "\n",
    "# 6 Use kmean to create clusters for the dataframe of words only (choose an optimal k)\n",
    "# Don't add clusters to the original dataframe yet\n",
    "km = KMeans(n_clusters=3, random_state=1)\n",
    "km.fit(tfidf_df)\n",
    "\n",
    "from sklearn import metrics\n",
    "metrics.silhouette_score(tfidf_df, km.labels_)"
   ]
  },
  {
   "cell_type": "code",
   "execution_count": null,
   "metadata": {
    "collapsed": false
   },
   "outputs": [],
   "source": [
    "k_range = range(2, 165)\n",
    "scores = []\n",
    "for k in k_range:\n",
    "    km = KMeans(n_clusters=k, random_state=1)\n",
    "    km.fit(tfidf_df)\n",
    "    scores.append(metrics.silhouette_score(tfidf_df, km.labels_))"
   ]
  },
  {
   "cell_type": "code",
   "execution_count": null,
   "metadata": {
    "collapsed": false
   },
   "outputs": [],
   "source": [
    "%matplotlib inline\n",
    "import matplotlib.pyplot as plt\n",
    "plt.plot(k_range, scores)\n",
    "plt.xlabel('Number of clusters')\n",
    "plt.ylabel('Silhouette Coefficient')\n",
    "plt.grid(True)"
   ]
  },
  {
   "cell_type": "code",
   "execution_count": null,
   "metadata": {
    "collapsed": true
   },
   "outputs": [],
   "source": [
    "k_range = range(2, 20)\n",
    "scores = []\n",
    "for k in k_range:\n",
    "    km = KMeans(n_clusters=k, random_state=1)\n",
    "    km.fit(tfidf_df)\n",
    "    scores.append(metrics.silhouette_score(tfidf_df, km.labels_))"
   ]
  },
  {
   "cell_type": "code",
   "execution_count": null,
   "metadata": {
    "collapsed": false
   },
   "outputs": [],
   "source": [
    "plt.plot(k_range, scores)\n",
    "plt.xlabel('Number of clusters')\n",
    "plt.ylabel('Silhouette Coefficient')\n",
    "plt.grid(True)"
   ]
  },
  {
   "cell_type": "code",
   "execution_count": null,
   "metadata": {
    "collapsed": false
   },
   "outputs": [],
   "source": [
    "km = KMeans(n_clusters=4, random_state=1)\n",
    "km.fit(tfidf_df)\n",
    "print metrics.silhouette_score(tfidf_df, km.labels_)\n",
    "km.labels_"
   ]
  },
  {
   "cell_type": "code",
   "execution_count": null,
   "metadata": {
    "collapsed": false
   },
   "outputs": [],
   "source": [
    "k_range = range(2, 100)\n",
    "scores = []\n",
    "for k in k_range:\n",
    "    km = KMeans(n_clusters=k, random_state=1)\n",
    "    km.fit(count_df)\n",
    "    scores.append(metrics.silhouette_score(count_df, km.labels_))"
   ]
  },
  {
   "cell_type": "code",
   "execution_count": null,
   "metadata": {
    "collapsed": false
   },
   "outputs": [],
   "source": [
    "plt.plot(k_range, scores)\n",
    "plt.xlabel('Number of clusters')\n",
    "plt.ylabel('Silhouette Coefficient')\n",
    "plt.grid(True)"
   ]
  },
  {
   "cell_type": "code",
   "execution_count": null,
   "metadata": {
    "collapsed": false
   },
   "outputs": [],
   "source": [
    "k_range = range(2, 10)\n",
    "scores = []\n",
    "for k in k_range:\n",
    "    km = KMeans(n_clusters=k, random_state=1)\n",
    "    km.fit(count_df)\n",
    "    scores.append(metrics.silhouette_score(count_df, km.labels_))\n",
    "    \n",
    "plt.plot(k_range, scores)\n",
    "plt.xlabel('Number of clusters')\n",
    "plt.ylabel('Silhouette Coefficient')\n",
    "plt.grid(True)"
   ]
  },
  {
   "cell_type": "code",
   "execution_count": null,
   "metadata": {
    "collapsed": false
   },
   "outputs": [],
   "source": [
    "km = KMeans(n_clusters=6, random_state=1)\n",
    "km.fit(tfidf_df)\n",
    "print metrics.silhouette_score(tfidf_df, km.labels_)\n",
    "km.labels_"
   ]
  },
  {
   "cell_type": "code",
   "execution_count": 79,
   "metadata": {
    "collapsed": false
   },
   "outputs": [
    {
     "data": {
      "text/html": [
       "<div>\n",
       "<table border=\"1\" class=\"dataframe\">\n",
       "  <thead>\n",
       "    <tr style=\"text-align: right;\">\n",
       "      <th></th>\n",
       "      <th>date</th>\n",
       "      <th>text</th>\n",
       "      <th>favorite_count</th>\n",
       "      <th>favorited</th>\n",
       "      <th>language</th>\n",
       "      <th>geocode</th>\n",
       "      <th>retweet count</th>\n",
       "      <th>retweeted</th>\n",
       "      <th>coordinates</th>\n",
       "      <th>sentiment</th>\n",
       "      <th>word_count</th>\n",
       "      <th>cluster</th>\n",
       "    </tr>\n",
       "  </thead>\n",
       "  <tbody>\n",
       "    <tr>\n",
       "      <th>0</th>\n",
       "      <td>2016-12-01 01:01:24</td>\n",
       "      <td>Legacy Volume 3: Early Recordings by Leadbelly...</td>\n",
       "      <td>0</td>\n",
       "      <td>False</td>\n",
       "      <td>en</td>\n",
       "      <td>None</td>\n",
       "      <td>0</td>\n",
       "      <td>False</td>\n",
       "      <td>None</td>\n",
       "      <td>0.1</td>\n",
       "      <td>114</td>\n",
       "      <td>1</td>\n",
       "    </tr>\n",
       "    <tr>\n",
       "      <th>1</th>\n",
       "      <td>2016-12-01 01:01:24</td>\n",
       "      <td>The #Soul Album by Otis Redding https://t.co/b...</td>\n",
       "      <td>0</td>\n",
       "      <td>False</td>\n",
       "      <td>en</td>\n",
       "      <td>None</td>\n",
       "      <td>0</td>\n",
       "      <td>False</td>\n",
       "      <td>None</td>\n",
       "      <td>0.0</td>\n",
       "      <td>104</td>\n",
       "      <td>1</td>\n",
       "    </tr>\n",
       "    <tr>\n",
       "      <th>2</th>\n",
       "      <td>2016-12-01 01:01:21</td>\n",
       "      <td>All the Best by Paul McCartney https://t.co/YF...</td>\n",
       "      <td>0</td>\n",
       "      <td>False</td>\n",
       "      <td>en</td>\n",
       "      <td>None</td>\n",
       "      <td>0</td>\n",
       "      <td>False</td>\n",
       "      <td>None</td>\n",
       "      <td>1.0</td>\n",
       "      <td>99</td>\n",
       "      <td>1</td>\n",
       "    </tr>\n",
       "    <tr>\n",
       "      <th>3</th>\n",
       "      <td>2016-12-01 01:00:26</td>\n",
       "      <td>Friday @oasisartdesign presents #COLLAB inside...</td>\n",
       "      <td>0</td>\n",
       "      <td>False</td>\n",
       "      <td>en</td>\n",
       "      <td>None</td>\n",
       "      <td>0</td>\n",
       "      <td>False</td>\n",
       "      <td>None</td>\n",
       "      <td>0.0</td>\n",
       "      <td>116</td>\n",
       "      <td>5</td>\n",
       "    </tr>\n",
       "    <tr>\n",
       "      <th>4</th>\n",
       "      <td>2016-12-01 00:52:53</td>\n",
       "      <td>RT @SugoMusicGroup: Trump Isn't Going to Make ...</td>\n",
       "      <td>0</td>\n",
       "      <td>False</td>\n",
       "      <td>en</td>\n",
       "      <td>None</td>\n",
       "      <td>1</td>\n",
       "      <td>False</td>\n",
       "      <td>None</td>\n",
       "      <td>0.8</td>\n",
       "      <td>100</td>\n",
       "      <td>5</td>\n",
       "    </tr>\n",
       "  </tbody>\n",
       "</table>\n",
       "</div>"
      ],
      "text/plain": [
       "                 date                                               text  \\\n",
       "0 2016-12-01 01:01:24  Legacy Volume 3: Early Recordings by Leadbelly...   \n",
       "1 2016-12-01 01:01:24  The #Soul Album by Otis Redding https://t.co/b...   \n",
       "2 2016-12-01 01:01:21  All the Best by Paul McCartney https://t.co/YF...   \n",
       "3 2016-12-01 01:00:26  Friday @oasisartdesign presents #COLLAB inside...   \n",
       "4 2016-12-01 00:52:53  RT @SugoMusicGroup: Trump Isn't Going to Make ...   \n",
       "\n",
       "   favorite_count favorited language geocode  retweet count retweeted  \\\n",
       "0               0     False       en    None              0     False   \n",
       "1               0     False       en    None              0     False   \n",
       "2               0     False       en    None              0     False   \n",
       "3               0     False       en    None              0     False   \n",
       "4               0     False       en    None              1     False   \n",
       "\n",
       "  coordinates  sentiment  word_count  cluster  \n",
       "0        None        0.1         114        1  \n",
       "1        None        0.0         104        1  \n",
       "2        None        1.0          99        1  \n",
       "3        None        0.0         116        5  \n",
       "4        None        0.8         100        5  "
      ]
     },
     "execution_count": 79,
     "metadata": {},
     "output_type": "execute_result"
    }
   ],
   "source": [
    "music_df['cluster'] = km.labels_\n",
    "music_df.head()"
   ]
  },
  {
   "cell_type": "code",
   "execution_count": null,
   "metadata": {
    "collapsed": true
   },
   "outputs": [],
   "source": [
    "# 7 Explore the clusters\n",
    "# What is interesting? Surprising? Can you draw any inferences about each cluster?\n",
    "# Was this enough to find any relevant topics about music tweets?\n",
    "# Can you give any of the clusters name?"
   ]
  },
  {
   "cell_type": "code",
   "execution_count": null,
   "metadata": {
    "collapsed": true
   },
   "outputs": [],
   "source": [
    "# 8. use LSA to obtain better topic clusters. Can you give any of the clusters name?\n",
    "# Make a boxplot of sentiment for each candidate by the \"democrat\" column"
   ]
  },
  {
   "cell_type": "code",
   "execution_count": null,
   "metadata": {
    "collapsed": true
   },
   "outputs": [],
   "source": [
    "# 9. Think of 3 more hashtags you wish to explore (all of them should be about the same thing)\n",
    "# and make a dataframe the same way we did in the previous steps\n",
    "other_tweets = api.search(q='#music', count=100, geocode=\"37.781157,-122.398720,10mi\")+\\\n",
    "api.search(q='#concert', count=100, geocode=\"37.781157,-122.398720,10mi\")+\\\n",
    "api.search(q='#band', count=100, geocode=\"37.781157,-122.398720,10mi\")\n",
    "\n",
    "other_tweets = parse_status_objects(other_tweets)"
   ]
  },
  {
   "cell_type": "code",
   "execution_count": null,
   "metadata": {
    "collapsed": true
   },
   "outputs": [],
   "source": [
    "# 10. Use whatever clustering method (DBSCAN, LSA, KMEANS) you deem best (silhouette coeff?) and make a supervised model out of it\n",
    "# IE try to predict the clusters you obtained by using the features\n",
    "# Note clustering does not HAVE to include text if you do not want it to in that case LSA won't help"
   ]
  },
  {
   "cell_type": "code",
   "execution_count": null,
   "metadata": {
    "collapsed": true
   },
   "outputs": [],
   "source": [
    "# 11. cross validate and create the best possible supervised model for your new clusters on your new daa\n",
    "# You may use the music data if you wish"
   ]
  },
  {
   "cell_type": "code",
   "execution_count": null,
   "metadata": {
    "collapsed": true
   },
   "outputs": [],
   "source": []
  },
  {
   "cell_type": "code",
   "execution_count": null,
   "metadata": {
    "collapsed": true
   },
   "outputs": [],
   "source": []
  },
  {
   "cell_type": "code",
   "execution_count": null,
   "metadata": {
    "collapsed": true
   },
   "outputs": [],
   "source": []
  },
  {
   "cell_type": "code",
   "execution_count": null,
   "metadata": {
    "collapsed": true
   },
   "outputs": [],
   "source": []
  },
  {
   "cell_type": "code",
   "execution_count": null,
   "metadata": {
    "collapsed": true
   },
   "outputs": [],
   "source": []
  },
  {
   "cell_type": "code",
   "execution_count": null,
   "metadata": {
    "collapsed": true
   },
   "outputs": [],
   "source": []
  },
  {
   "cell_type": "code",
   "execution_count": null,
   "metadata": {
    "collapsed": true
   },
   "outputs": [],
   "source": []
  },
  {
   "cell_type": "code",
   "execution_count": null,
   "metadata": {
    "collapsed": true
   },
   "outputs": [],
   "source": []
  }
 ],
 "metadata": {
  "anaconda-cloud": {},
  "kernelspec": {
   "display_name": "Python [conda env:stanleyyork]",
   "language": "python",
   "name": "conda-env-stanleyyork-py"
  },
  "language_info": {
   "codemirror_mode": {
    "name": "ipython",
    "version": 2
   },
   "file_extension": ".py",
   "mimetype": "text/x-python",
   "name": "python",
   "nbconvert_exporter": "python",
   "pygments_lexer": "ipython2",
   "version": "2.7.12"
  }
 },
 "nbformat": 4,
 "nbformat_minor": 0
}
