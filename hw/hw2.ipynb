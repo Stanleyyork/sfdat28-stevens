{
 "cells": [
  {
   "cell_type": "code",
   "execution_count": 1,
   "metadata": {
    "collapsed": false
   },
   "outputs": [],
   "source": [
    "import tweepy       # python wrapper for twitter api\n",
    "import json\n",
    "import time\n",
    "import requests\n",
    "# step 0, get your own twitter credentials!"
   ]
  },
  {
   "cell_type": "code",
   "execution_count": 2,
   "metadata": {
    "collapsed": false
   },
   "outputs": [],
   "source": [
    "# this is my own personal twitter api information\n",
    "# if you could be so kind as to sign up yourself on both twitter and mashape that'd be great :)\n",
    "# It's FREEEEEEE\n",
    "api_key = 'g5uPIpw80nULQI1gfklv2zrh4'\n",
    "api_secret = 'cOWvNWxYvPmEZ0ArZVeeVVvJu41QYHdUS2GpqIKtSQ1isd5PJy'\n",
    "access_token = '49722956-TWl8J0aAS6KTdcbz3ppZ7NfqZEmrwmbsb9cYPNELG'\n",
    "access_secret = '3eqrVssF3ppv23qyflyAto8wLEiYRA8sXEPSghuOJWTub'"
   ]
  },
  {
   "cell_type": "code",
   "execution_count": 3,
   "metadata": {
    "collapsed": false
   },
   "outputs": [],
   "source": [
    "# Documentation is your friend! http://docs.tweepy.org/en/v3.1.0/\n",
    "auth = tweepy.OAuthHandler(api_key, api_secret)\n",
    "auth.set_access_token(access_token, access_secret)\n",
    "api = tweepy.API(auth) # returns a tweepy authorization handler object"
   ]
  },
  {
   "cell_type": "code",
   "execution_count": 85,
   "metadata": {
    "collapsed": false
   },
   "outputs": [],
   "source": [
    "music_tweets = []"
   ]
  },
  {
   "cell_type": "code",
   "execution_count": 90,
   "metadata": {
    "collapsed": false
   },
   "outputs": [
    {
     "name": "stdout",
     "output_type": "stream",
     "text": [
      "176\n"
     ]
    }
   ],
   "source": [
    "# 1. Use Twitter API to stream and store tweets (300 per candidate)\n",
    "# 37.781157,-122.39872 is the lat,lng for SF\n",
    "search = api.search(q='#music', count=800, geocode=\"37.781157,-122.398720,10mi\")+api.search(q='#concert', count=800, geocode=\"37.781157,-122.398720,10mi\")+api.search(q='#band', count=800, geocode=\"37.781157,-122.398720,10mi\")\n",
    "print len(search)\n",
    "music_tweets.append(search)"
   ]
  },
  {
   "cell_type": "code",
   "execution_count": 91,
   "metadata": {
    "collapsed": false
   },
   "outputs": [
    {
     "data": {
      "text/plain": [
       "5"
      ]
     },
     "execution_count": 91,
     "metadata": {},
     "output_type": "execute_result"
    }
   ],
   "source": [
    "len(music_tweets)"
   ]
  },
  {
   "cell_type": "code",
   "execution_count": 92,
   "metadata": {
    "collapsed": false
   },
   "outputs": [],
   "source": [
    "music_tweet = [item for sublist in music_tweets for item in sublist]"
   ]
  },
  {
   "cell_type": "code",
   "execution_count": 93,
   "metadata": {
    "collapsed": false
   },
   "outputs": [
    {
     "data": {
      "text/plain": [
       "880"
      ]
     },
     "execution_count": 93,
     "metadata": {},
     "output_type": "execute_result"
    }
   ],
   "source": [
    "music_tweets = music_tweet\n",
    "len(music_tweets)"
   ]
  },
  {
   "cell_type": "code",
   "execution_count": 94,
   "metadata": {
    "collapsed": false
   },
   "outputs": [
    {
     "data": {
      "text/plain": [
       "u'Featured Artist #torilynn #top40 #music #twt247 https://t.co/JrUUeFgJ7Y #top40 #celebrity https://t.co/sATuOIDU7L'"
      ]
     },
     "execution_count": 94,
     "metadata": {},
     "output_type": "execute_result"
    }
   ],
   "source": [
    "music_tweets[0].text"
   ]
  },
  {
   "cell_type": "code",
   "execution_count": null,
   "metadata": {
    "collapsed": false
   },
   "outputs": [],
   "source": []
  },
  {
   "cell_type": "code",
   "execution_count": 95,
   "metadata": {
    "collapsed": false
   },
   "outputs": [
    {
     "name": "stdout",
     "output_type": "stream",
     "text": [
      "['__class__', '__delattr__', '__dict__', '__doc__', '__eq__', '__format__', '__getattribute__', '__getstate__', '__hash__', '__init__', '__module__', '__ne__', '__new__', '__reduce__', '__reduce_ex__', '__repr__', '__setattr__', '__sizeof__', '__str__', '__subclasshook__', '__weakref__', '_api', '_json', 'author', 'contributors', 'coordinates', 'created_at', 'destroy', 'entities', 'extended_entities', 'favorite', 'favorite_count', 'favorited', 'geo', 'id', 'id_str', 'in_reply_to_screen_name', 'in_reply_to_status_id', 'in_reply_to_status_id_str', 'in_reply_to_user_id', 'in_reply_to_user_id_str', 'is_quote_status', 'lang', 'metadata', 'parse', 'parse_list', 'place', 'possibly_sensitive', 'retweet', 'retweet_count', 'retweeted', 'retweets', 'source', 'source_url', 'text', 'truncated', 'user']\n"
     ]
    }
   ],
   "source": [
    "# wrappers come with built in python attributes and methods!\n",
    "print dir(music_tweets[0])"
   ]
  },
  {
   "cell_type": "code",
   "execution_count": 96,
   "metadata": {
    "collapsed": false
   },
   "outputs": [
    {
     "name": "stdout",
     "output_type": "stream",
     "text": [
      "2016-12-02 02:03:12\n",
      "Featured Artist #torilynn #top40 #music #twt247 https://t.co/JrUUeFgJ7Y #top40 #celebrity https://t.co/sATuOIDU7L\n",
      "0\n",
      "False\n",
      "en\n",
      "None\n",
      "0\n",
      "False\n",
      "None\n"
     ]
    }
   ],
   "source": [
    "print music_tweets[0].created_at\n",
    "print music_tweets[0].text\n",
    "print music_tweets[0].favorite_count\n",
    "print music_tweets[0].favorited\n",
    "print music_tweets[0].lang\n",
    "print music_tweets[0].geo\n",
    "print music_tweets[0].retweet_count\n",
    "print music_tweets[0].retweeted\n",
    "print music_tweets[0].coordinates"
   ]
  },
  {
   "cell_type": "code",
   "execution_count": 97,
   "metadata": {
    "collapsed": false
   },
   "outputs": [],
   "source": [
    "# modify the tweets to make a nice dictionary\n",
    "def parse_status_objects(tweet_list):\n",
    "    modified_tweets = list()\n",
    "    for x in tweet_list:\n",
    "        modified_tweets.append( [\n",
    "                    x.created_at,\n",
    "                    x.text,\n",
    "                    x.favorite_count,\n",
    "                    x.favorited,\n",
    "                    x.lang,\n",
    "                    x.geo,\n",
    "                    x.retweet_count,\n",
    "                    x.retweeted,\n",
    "                    x.coordinates\n",
    "                ])\n",
    "    return modified_tweets\n",
    "        \n",
    "music_tweets = parse_status_objects(music_tweets)"
   ]
  },
  {
   "cell_type": "code",
   "execution_count": 98,
   "metadata": {
    "collapsed": false
   },
   "outputs": [
    {
     "name": "stdout",
     "output_type": "stream",
     "text": [
      "[datetime.datetime(2016, 12, 2, 2, 3, 12), u'Featured Artist #torilynn #top40 #music #twt247 https://t.co/JrUUeFgJ7Y #top40 #celebrity https://t.co/sATuOIDU7L', 0, False, u'en', None, 0, False, None]\n"
     ]
    }
   ],
   "source": [
    "print music_tweets[0]"
   ]
  },
  {
   "cell_type": "code",
   "execution_count": 99,
   "metadata": {
    "collapsed": false
   },
   "outputs": [
    {
     "data": {
      "text/plain": [
       "list"
      ]
     },
     "execution_count": 99,
     "metadata": {},
     "output_type": "execute_result"
    }
   ],
   "source": [
    "type(music_tweets)"
   ]
  },
  {
   "cell_type": "code",
   "execution_count": 100,
   "metadata": {
    "collapsed": false
   },
   "outputs": [
    {
     "data": {
      "text/html": [
       "<div>\n",
       "<table border=\"1\" class=\"dataframe\">\n",
       "  <thead>\n",
       "    <tr style=\"text-align: right;\">\n",
       "      <th></th>\n",
       "      <th>date</th>\n",
       "      <th>text</th>\n",
       "      <th>favorite_count</th>\n",
       "      <th>favorited</th>\n",
       "      <th>language</th>\n",
       "      <th>geocode</th>\n",
       "      <th>retweet count</th>\n",
       "      <th>retweeted</th>\n",
       "      <th>coordinates</th>\n",
       "    </tr>\n",
       "  </thead>\n",
       "  <tbody>\n",
       "    <tr>\n",
       "      <th>0</th>\n",
       "      <td>2016-12-02 02:03:12</td>\n",
       "      <td>Featured Artist #torilynn #top40 #music #twt24...</td>\n",
       "      <td>0</td>\n",
       "      <td>False</td>\n",
       "      <td>en</td>\n",
       "      <td>None</td>\n",
       "      <td>0</td>\n",
       "      <td>False</td>\n",
       "      <td>None</td>\n",
       "    </tr>\n",
       "    <tr>\n",
       "      <th>1</th>\n",
       "      <td>2016-12-02 02:01:26</td>\n",
       "      <td>S/T by The Smiths https://t.co/eAQ8dYK6sj #Mus...</td>\n",
       "      <td>0</td>\n",
       "      <td>False</td>\n",
       "      <td>en</td>\n",
       "      <td>None</td>\n",
       "      <td>0</td>\n",
       "      <td>False</td>\n",
       "      <td>None</td>\n",
       "    </tr>\n",
       "    <tr>\n",
       "      <th>2</th>\n",
       "      <td>2016-12-02 02:01:26</td>\n",
       "      <td>Once Upon a Time in the West by Ennio #Morrico...</td>\n",
       "      <td>0</td>\n",
       "      <td>False</td>\n",
       "      <td>en</td>\n",
       "      <td>None</td>\n",
       "      <td>0</td>\n",
       "      <td>False</td>\n",
       "      <td>None</td>\n",
       "    </tr>\n",
       "    <tr>\n",
       "      <th>3</th>\n",
       "      <td>2016-12-02 02:01:26</td>\n",
       "      <td>Miles Davis At Carnegie Hall by Miles Davis ht...</td>\n",
       "      <td>0</td>\n",
       "      <td>False</td>\n",
       "      <td>en</td>\n",
       "      <td>None</td>\n",
       "      <td>0</td>\n",
       "      <td>False</td>\n",
       "      <td>None</td>\n",
       "    </tr>\n",
       "    <tr>\n",
       "      <th>4</th>\n",
       "      <td>2016-12-02 01:44:36</td>\n",
       "      <td>Check out 🎤 https://t.co/Mctky0EXrl ☜ New rel...</td>\n",
       "      <td>0</td>\n",
       "      <td>False</td>\n",
       "      <td>en</td>\n",
       "      <td>None</td>\n",
       "      <td>0</td>\n",
       "      <td>False</td>\n",
       "      <td>None</td>\n",
       "    </tr>\n",
       "  </tbody>\n",
       "</table>\n",
       "</div>"
      ],
      "text/plain": [
       "                 date                                               text  \\\n",
       "0 2016-12-02 02:03:12  Featured Artist #torilynn #top40 #music #twt24...   \n",
       "1 2016-12-02 02:01:26  S/T by The Smiths https://t.co/eAQ8dYK6sj #Mus...   \n",
       "2 2016-12-02 02:01:26  Once Upon a Time in the West by Ennio #Morrico...   \n",
       "3 2016-12-02 02:01:26  Miles Davis At Carnegie Hall by Miles Davis ht...   \n",
       "4 2016-12-02 01:44:36  Check out 🎤 https://t.co/Mctky0EXrl ☜ New rel...   \n",
       "\n",
       "   favorite_count favorited language geocode  retweet count retweeted  \\\n",
       "0               0     False       en    None              0     False   \n",
       "1               0     False       en    None              0     False   \n",
       "2               0     False       en    None              0     False   \n",
       "3               0     False       en    None              0     False   \n",
       "4               0     False       en    None              0     False   \n",
       "\n",
       "  coordinates  \n",
       "0        None  \n",
       "1        None  \n",
       "2        None  \n",
       "3        None  \n",
       "4        None  "
      ]
     },
     "execution_count": 100,
     "metadata": {},
     "output_type": "execute_result"
    }
   ],
   "source": [
    "import pandas as pd\n",
    "import numpy as np\n",
    "# 2 Create a dataframe that combines all of the tweets from each candidate\n",
    "# To do so, you will need to concat the data frames\n",
    "# so each row is a tweet and your columns should be \n",
    "# date, text, favorite_count,favorited, language, geocode, retweet count, retweeted, coordinates\n",
    "cols = ['date', 'text', 'favorite_count', 'favorited', 'language', 'geocode', 'retweet count', 'retweeted', 'coordinates']\n",
    "music_df = pd.DataFrame(music_tweets, columns=cols)\n",
    "music_df.head()"
   ]
  },
  {
   "cell_type": "code",
   "execution_count": 101,
   "metadata": {
    "collapsed": false
   },
   "outputs": [],
   "source": [
    "from textblob import TextBlob, Word\n",
    "\n",
    "# 3 Create a function to take in a string and output the textblob sentiment of that string\n",
    "def create_sentiment(str):\n",
    "    tb = TextBlob(str)\n",
    "    return tb.sentiment.polarity"
   ]
  },
  {
   "cell_type": "code",
   "execution_count": 102,
   "metadata": {
    "collapsed": false
   },
   "outputs": [
    {
     "data": {
      "text/html": [
       "<div>\n",
       "<table border=\"1\" class=\"dataframe\">\n",
       "  <thead>\n",
       "    <tr style=\"text-align: right;\">\n",
       "      <th></th>\n",
       "      <th>date</th>\n",
       "      <th>text</th>\n",
       "      <th>favorite_count</th>\n",
       "      <th>favorited</th>\n",
       "      <th>language</th>\n",
       "      <th>geocode</th>\n",
       "      <th>retweet count</th>\n",
       "      <th>retweeted</th>\n",
       "      <th>coordinates</th>\n",
       "      <th>sentiment</th>\n",
       "    </tr>\n",
       "  </thead>\n",
       "  <tbody>\n",
       "    <tr>\n",
       "      <th>0</th>\n",
       "      <td>2016-12-02 02:03:12</td>\n",
       "      <td>Featured Artist #torilynn #top40 #music #twt24...</td>\n",
       "      <td>0</td>\n",
       "      <td>False</td>\n",
       "      <td>en</td>\n",
       "      <td>None</td>\n",
       "      <td>0</td>\n",
       "      <td>False</td>\n",
       "      <td>None</td>\n",
       "      <td>0.000000</td>\n",
       "    </tr>\n",
       "    <tr>\n",
       "      <th>1</th>\n",
       "      <td>2016-12-02 02:01:26</td>\n",
       "      <td>S/T by The Smiths https://t.co/eAQ8dYK6sj #Mus...</td>\n",
       "      <td>0</td>\n",
       "      <td>False</td>\n",
       "      <td>en</td>\n",
       "      <td>None</td>\n",
       "      <td>0</td>\n",
       "      <td>False</td>\n",
       "      <td>None</td>\n",
       "      <td>-0.100000</td>\n",
       "    </tr>\n",
       "    <tr>\n",
       "      <th>2</th>\n",
       "      <td>2016-12-02 02:01:26</td>\n",
       "      <td>Once Upon a Time in the West by Ennio #Morrico...</td>\n",
       "      <td>0</td>\n",
       "      <td>False</td>\n",
       "      <td>en</td>\n",
       "      <td>None</td>\n",
       "      <td>0</td>\n",
       "      <td>False</td>\n",
       "      <td>None</td>\n",
       "      <td>0.000000</td>\n",
       "    </tr>\n",
       "    <tr>\n",
       "      <th>3</th>\n",
       "      <td>2016-12-02 02:01:26</td>\n",
       "      <td>Miles Davis At Carnegie Hall by Miles Davis ht...</td>\n",
       "      <td>0</td>\n",
       "      <td>False</td>\n",
       "      <td>en</td>\n",
       "      <td>None</td>\n",
       "      <td>0</td>\n",
       "      <td>False</td>\n",
       "      <td>None</td>\n",
       "      <td>0.000000</td>\n",
       "    </tr>\n",
       "    <tr>\n",
       "      <th>4</th>\n",
       "      <td>2016-12-02 01:44:36</td>\n",
       "      <td>Check out 🎤 https://t.co/Mctky0EXrl ☜ New rel...</td>\n",
       "      <td>0</td>\n",
       "      <td>False</td>\n",
       "      <td>en</td>\n",
       "      <td>None</td>\n",
       "      <td>0</td>\n",
       "      <td>False</td>\n",
       "      <td>None</td>\n",
       "      <td>0.136364</td>\n",
       "    </tr>\n",
       "  </tbody>\n",
       "</table>\n",
       "</div>"
      ],
      "text/plain": [
       "                 date                                               text  \\\n",
       "0 2016-12-02 02:03:12  Featured Artist #torilynn #top40 #music #twt24...   \n",
       "1 2016-12-02 02:01:26  S/T by The Smiths https://t.co/eAQ8dYK6sj #Mus...   \n",
       "2 2016-12-02 02:01:26  Once Upon a Time in the West by Ennio #Morrico...   \n",
       "3 2016-12-02 02:01:26  Miles Davis At Carnegie Hall by Miles Davis ht...   \n",
       "4 2016-12-02 01:44:36  Check out 🎤 https://t.co/Mctky0EXrl ☜ New rel...   \n",
       "\n",
       "   favorite_count favorited language geocode  retweet count retweeted  \\\n",
       "0               0     False       en    None              0     False   \n",
       "1               0     False       en    None              0     False   \n",
       "2               0     False       en    None              0     False   \n",
       "3               0     False       en    None              0     False   \n",
       "4               0     False       en    None              0     False   \n",
       "\n",
       "  coordinates  sentiment  \n",
       "0        None   0.000000  \n",
       "1        None  -0.100000  \n",
       "2        None   0.000000  \n",
       "3        None   0.000000  \n",
       "4        None   0.136364  "
      ]
     },
     "execution_count": 102,
     "metadata": {},
     "output_type": "execute_result"
    }
   ],
   "source": [
    "# 4 Add a column to your data frame called 'sentiment'\n",
    "# which holds the sentiment of that tweet (hint: use the function from #3)\n",
    "music_df['sentiment'] = music_df['text'].apply(lambda x: create_sentiment(x))\n",
    "music_df.head()"
   ]
  },
  {
   "cell_type": "code",
   "execution_count": 103,
   "metadata": {
    "collapsed": false
   },
   "outputs": [
    {
     "data": {
      "text/html": [
       "<div>\n",
       "<table border=\"1\" class=\"dataframe\">\n",
       "  <thead>\n",
       "    <tr style=\"text-align: right;\">\n",
       "      <th></th>\n",
       "      <th>date</th>\n",
       "      <th>text</th>\n",
       "      <th>favorite_count</th>\n",
       "      <th>favorited</th>\n",
       "      <th>language</th>\n",
       "      <th>geocode</th>\n",
       "      <th>retweet count</th>\n",
       "      <th>retweeted</th>\n",
       "      <th>coordinates</th>\n",
       "      <th>sentiment</th>\n",
       "      <th>word_count</th>\n",
       "    </tr>\n",
       "  </thead>\n",
       "  <tbody>\n",
       "    <tr>\n",
       "      <th>0</th>\n",
       "      <td>2016-12-02 02:03:12</td>\n",
       "      <td>Featured Artist #torilynn #top40 #music #twt24...</td>\n",
       "      <td>0</td>\n",
       "      <td>False</td>\n",
       "      <td>en</td>\n",
       "      <td>None</td>\n",
       "      <td>0</td>\n",
       "      <td>False</td>\n",
       "      <td>None</td>\n",
       "      <td>0.000000</td>\n",
       "      <td>113</td>\n",
       "    </tr>\n",
       "    <tr>\n",
       "      <th>1</th>\n",
       "      <td>2016-12-02 02:01:26</td>\n",
       "      <td>S/T by The Smiths https://t.co/eAQ8dYK6sj #Mus...</td>\n",
       "      <td>0</td>\n",
       "      <td>False</td>\n",
       "      <td>en</td>\n",
       "      <td>None</td>\n",
       "      <td>0</td>\n",
       "      <td>False</td>\n",
       "      <td>None</td>\n",
       "      <td>-0.100000</td>\n",
       "      <td>105</td>\n",
       "    </tr>\n",
       "    <tr>\n",
       "      <th>2</th>\n",
       "      <td>2016-12-02 02:01:26</td>\n",
       "      <td>Once Upon a Time in the West by Ennio #Morrico...</td>\n",
       "      <td>0</td>\n",
       "      <td>False</td>\n",
       "      <td>en</td>\n",
       "      <td>None</td>\n",
       "      <td>0</td>\n",
       "      <td>False</td>\n",
       "      <td>None</td>\n",
       "      <td>0.000000</td>\n",
       "      <td>111</td>\n",
       "    </tr>\n",
       "    <tr>\n",
       "      <th>3</th>\n",
       "      <td>2016-12-02 02:01:26</td>\n",
       "      <td>Miles Davis At Carnegie Hall by Miles Davis ht...</td>\n",
       "      <td>0</td>\n",
       "      <td>False</td>\n",
       "      <td>en</td>\n",
       "      <td>None</td>\n",
       "      <td>0</td>\n",
       "      <td>False</td>\n",
       "      <td>None</td>\n",
       "      <td>0.000000</td>\n",
       "      <td>110</td>\n",
       "    </tr>\n",
       "    <tr>\n",
       "      <th>4</th>\n",
       "      <td>2016-12-02 01:44:36</td>\n",
       "      <td>Check out 🎤 https://t.co/Mctky0EXrl ☜ New rel...</td>\n",
       "      <td>0</td>\n",
       "      <td>False</td>\n",
       "      <td>en</td>\n",
       "      <td>None</td>\n",
       "      <td>0</td>\n",
       "      <td>False</td>\n",
       "      <td>None</td>\n",
       "      <td>0.136364</td>\n",
       "      <td>138</td>\n",
       "    </tr>\n",
       "  </tbody>\n",
       "</table>\n",
       "</div>"
      ],
      "text/plain": [
       "                 date                                               text  \\\n",
       "0 2016-12-02 02:03:12  Featured Artist #torilynn #top40 #music #twt24...   \n",
       "1 2016-12-02 02:01:26  S/T by The Smiths https://t.co/eAQ8dYK6sj #Mus...   \n",
       "2 2016-12-02 02:01:26  Once Upon a Time in the West by Ennio #Morrico...   \n",
       "3 2016-12-02 02:01:26  Miles Davis At Carnegie Hall by Miles Davis ht...   \n",
       "4 2016-12-02 01:44:36  Check out 🎤 https://t.co/Mctky0EXrl ☜ New rel...   \n",
       "\n",
       "   favorite_count favorited language geocode  retweet count retweeted  \\\n",
       "0               0     False       en    None              0     False   \n",
       "1               0     False       en    None              0     False   \n",
       "2               0     False       en    None              0     False   \n",
       "3               0     False       en    None              0     False   \n",
       "4               0     False       en    None              0     False   \n",
       "\n",
       "  coordinates  sentiment  word_count  \n",
       "0        None   0.000000         113  \n",
       "1        None  -0.100000         105  \n",
       "2        None   0.000000         111  \n",
       "3        None   0.000000         110  \n",
       "4        None   0.136364         138  "
      ]
     },
     "execution_count": 103,
     "metadata": {},
     "output_type": "execute_result"
    }
   ],
   "source": [
    "# 5 create a word count column, which holds the number of words in the text column\n",
    "music_df['word_count'] = music_df['text'].apply(lambda x: len(x))\n",
    "music_df.head()"
   ]
  },
  {
   "cell_type": "code",
   "execution_count": 104,
   "metadata": {
    "collapsed": false
   },
   "outputs": [
    {
     "data": {
      "text/html": [
       "<div>\n",
       "<table border=\"1\" class=\"dataframe\">\n",
       "  <thead>\n",
       "    <tr style=\"text-align: right;\">\n",
       "      <th></th>\n",
       "      <th>00</th>\n",
       "      <th>01</th>\n",
       "      <th>02</th>\n",
       "      <th>03</th>\n",
       "      <th>04</th>\n",
       "      <th>05</th>\n",
       "      <th>05ira8jwmk</th>\n",
       "      <th>06</th>\n",
       "      <th>07</th>\n",
       "      <th>08</th>\n",
       "      <th>...</th>\n",
       "      <th>z0ti2dyzfy</th>\n",
       "      <th>zbjokaviv9</th>\n",
       "      <th>zimuqjg3xt</th>\n",
       "      <th>znslqigq4m</th>\n",
       "      <th>zp5pq66lsy</th>\n",
       "      <th>zpylvbxt3p</th>\n",
       "      <th>zpzpncekqb</th>\n",
       "      <th>zsvbhqsspu</th>\n",
       "      <th>zu3qnhplss</th>\n",
       "      <th>zztbehmotq</th>\n",
       "    </tr>\n",
       "  </thead>\n",
       "  <tbody>\n",
       "    <tr>\n",
       "      <th>0</th>\n",
       "      <td>0.0</td>\n",
       "      <td>0.0</td>\n",
       "      <td>0.0</td>\n",
       "      <td>0.0</td>\n",
       "      <td>0.0</td>\n",
       "      <td>0.0</td>\n",
       "      <td>0.0</td>\n",
       "      <td>0.0</td>\n",
       "      <td>0.0</td>\n",
       "      <td>0.0</td>\n",
       "      <td>...</td>\n",
       "      <td>0.0</td>\n",
       "      <td>0.0</td>\n",
       "      <td>0.0</td>\n",
       "      <td>0.0</td>\n",
       "      <td>0.0</td>\n",
       "      <td>0.0</td>\n",
       "      <td>0.0</td>\n",
       "      <td>0.0</td>\n",
       "      <td>0.0</td>\n",
       "      <td>0.0</td>\n",
       "    </tr>\n",
       "    <tr>\n",
       "      <th>1</th>\n",
       "      <td>0.0</td>\n",
       "      <td>0.0</td>\n",
       "      <td>0.0</td>\n",
       "      <td>0.0</td>\n",
       "      <td>0.0</td>\n",
       "      <td>0.0</td>\n",
       "      <td>0.0</td>\n",
       "      <td>0.0</td>\n",
       "      <td>0.0</td>\n",
       "      <td>0.0</td>\n",
       "      <td>...</td>\n",
       "      <td>0.0</td>\n",
       "      <td>0.0</td>\n",
       "      <td>0.0</td>\n",
       "      <td>0.0</td>\n",
       "      <td>0.0</td>\n",
       "      <td>0.0</td>\n",
       "      <td>0.0</td>\n",
       "      <td>0.0</td>\n",
       "      <td>0.0</td>\n",
       "      <td>0.0</td>\n",
       "    </tr>\n",
       "    <tr>\n",
       "      <th>2</th>\n",
       "      <td>0.0</td>\n",
       "      <td>0.0</td>\n",
       "      <td>0.0</td>\n",
       "      <td>0.0</td>\n",
       "      <td>0.0</td>\n",
       "      <td>0.0</td>\n",
       "      <td>0.0</td>\n",
       "      <td>0.0</td>\n",
       "      <td>0.0</td>\n",
       "      <td>0.0</td>\n",
       "      <td>...</td>\n",
       "      <td>0.0</td>\n",
       "      <td>0.0</td>\n",
       "      <td>0.0</td>\n",
       "      <td>0.0</td>\n",
       "      <td>0.0</td>\n",
       "      <td>0.0</td>\n",
       "      <td>0.0</td>\n",
       "      <td>0.0</td>\n",
       "      <td>0.0</td>\n",
       "      <td>0.0</td>\n",
       "    </tr>\n",
       "    <tr>\n",
       "      <th>3</th>\n",
       "      <td>0.0</td>\n",
       "      <td>0.0</td>\n",
       "      <td>0.0</td>\n",
       "      <td>0.0</td>\n",
       "      <td>0.0</td>\n",
       "      <td>0.0</td>\n",
       "      <td>0.0</td>\n",
       "      <td>0.0</td>\n",
       "      <td>0.0</td>\n",
       "      <td>0.0</td>\n",
       "      <td>...</td>\n",
       "      <td>0.0</td>\n",
       "      <td>0.0</td>\n",
       "      <td>0.0</td>\n",
       "      <td>0.0</td>\n",
       "      <td>0.0</td>\n",
       "      <td>0.0</td>\n",
       "      <td>0.0</td>\n",
       "      <td>0.0</td>\n",
       "      <td>0.0</td>\n",
       "      <td>0.0</td>\n",
       "    </tr>\n",
       "    <tr>\n",
       "      <th>4</th>\n",
       "      <td>0.0</td>\n",
       "      <td>0.0</td>\n",
       "      <td>0.0</td>\n",
       "      <td>0.0</td>\n",
       "      <td>0.0</td>\n",
       "      <td>0.0</td>\n",
       "      <td>0.0</td>\n",
       "      <td>0.0</td>\n",
       "      <td>0.0</td>\n",
       "      <td>0.0</td>\n",
       "      <td>...</td>\n",
       "      <td>0.0</td>\n",
       "      <td>0.0</td>\n",
       "      <td>0.0</td>\n",
       "      <td>0.0</td>\n",
       "      <td>0.0</td>\n",
       "      <td>0.0</td>\n",
       "      <td>0.0</td>\n",
       "      <td>0.0</td>\n",
       "      <td>0.0</td>\n",
       "      <td>0.0</td>\n",
       "    </tr>\n",
       "  </tbody>\n",
       "</table>\n",
       "<p>5 rows × 1042 columns</p>\n",
       "</div>"
      ],
      "text/plain": [
       "    00   01   02   03   04   05  05ira8jwmk   06   07   08     ...      \\\n",
       "0  0.0  0.0  0.0  0.0  0.0  0.0         0.0  0.0  0.0  0.0     ...       \n",
       "1  0.0  0.0  0.0  0.0  0.0  0.0         0.0  0.0  0.0  0.0     ...       \n",
       "2  0.0  0.0  0.0  0.0  0.0  0.0         0.0  0.0  0.0  0.0     ...       \n",
       "3  0.0  0.0  0.0  0.0  0.0  0.0         0.0  0.0  0.0  0.0     ...       \n",
       "4  0.0  0.0  0.0  0.0  0.0  0.0         0.0  0.0  0.0  0.0     ...       \n",
       "\n",
       "   z0ti2dyzfy  zbjokaviv9  zimuqjg3xt  znslqigq4m  zp5pq66lsy  zpylvbxt3p  \\\n",
       "0         0.0         0.0         0.0         0.0         0.0         0.0   \n",
       "1         0.0         0.0         0.0         0.0         0.0         0.0   \n",
       "2         0.0         0.0         0.0         0.0         0.0         0.0   \n",
       "3         0.0         0.0         0.0         0.0         0.0         0.0   \n",
       "4         0.0         0.0         0.0         0.0         0.0         0.0   \n",
       "\n",
       "   zpzpncekqb  zsvbhqsspu  zu3qnhplss  zztbehmotq  \n",
       "0         0.0         0.0         0.0         0.0  \n",
       "1         0.0         0.0         0.0         0.0  \n",
       "2         0.0         0.0         0.0         0.0  \n",
       "3         0.0         0.0         0.0         0.0  \n",
       "4         0.0         0.0         0.0         0.0  \n",
       "\n",
       "[5 rows x 1042 columns]"
      ]
     },
     "execution_count": 104,
     "metadata": {},
     "output_type": "execute_result"
    }
   ],
   "source": [
    "from sklearn.feature_extraction.text import CountVectorizer, TfidfVectorizer\n",
    "# use countvectorizer to create a document-term matrix and concatinate it to your main dataframe\n",
    "#(hint you should now have thousands of columns)\n",
    "# Don't add count vectorizer result to the original dataframe\n",
    "vect = TfidfVectorizer()\n",
    "tfidf_df = pd.DataFrame(vect.fit_transform(music_df['text']).toarray(), columns=vect.get_feature_names())\n",
    "tfidf_df.head()"
   ]
  },
  {
   "cell_type": "code",
   "execution_count": 105,
   "metadata": {
    "collapsed": false
   },
   "outputs": [
    {
     "data": {
      "text/html": [
       "<div>\n",
       "<table border=\"1\" class=\"dataframe\">\n",
       "  <thead>\n",
       "    <tr style=\"text-align: right;\">\n",
       "      <th></th>\n",
       "      <th>00</th>\n",
       "      <th>01</th>\n",
       "      <th>02</th>\n",
       "      <th>03</th>\n",
       "      <th>04</th>\n",
       "      <th>05</th>\n",
       "      <th>05ira8jwmk</th>\n",
       "      <th>06</th>\n",
       "      <th>07</th>\n",
       "      <th>08</th>\n",
       "      <th>...</th>\n",
       "      <th>z0ti2dyzfy</th>\n",
       "      <th>zbjokaviv9</th>\n",
       "      <th>zimuqjg3xt</th>\n",
       "      <th>znslqigq4m</th>\n",
       "      <th>zp5pq66lsy</th>\n",
       "      <th>zpylvbxt3p</th>\n",
       "      <th>zpzpncekqb</th>\n",
       "      <th>zsvbhqsspu</th>\n",
       "      <th>zu3qnhplss</th>\n",
       "      <th>zztbehmotq</th>\n",
       "    </tr>\n",
       "  </thead>\n",
       "  <tbody>\n",
       "    <tr>\n",
       "      <th>0</th>\n",
       "      <td>NaN</td>\n",
       "      <td>NaN</td>\n",
       "      <td>NaN</td>\n",
       "      <td>NaN</td>\n",
       "      <td>NaN</td>\n",
       "      <td>NaN</td>\n",
       "      <td>NaN</td>\n",
       "      <td>NaN</td>\n",
       "      <td>NaN</td>\n",
       "      <td>NaN</td>\n",
       "      <td>...</td>\n",
       "      <td>NaN</td>\n",
       "      <td>NaN</td>\n",
       "      <td>NaN</td>\n",
       "      <td>NaN</td>\n",
       "      <td>NaN</td>\n",
       "      <td>NaN</td>\n",
       "      <td>NaN</td>\n",
       "      <td>NaN</td>\n",
       "      <td>NaN</td>\n",
       "      <td>NaN</td>\n",
       "    </tr>\n",
       "    <tr>\n",
       "      <th>1</th>\n",
       "      <td>NaN</td>\n",
       "      <td>NaN</td>\n",
       "      <td>NaN</td>\n",
       "      <td>NaN</td>\n",
       "      <td>NaN</td>\n",
       "      <td>NaN</td>\n",
       "      <td>NaN</td>\n",
       "      <td>NaN</td>\n",
       "      <td>NaN</td>\n",
       "      <td>NaN</td>\n",
       "      <td>...</td>\n",
       "      <td>NaN</td>\n",
       "      <td>NaN</td>\n",
       "      <td>NaN</td>\n",
       "      <td>NaN</td>\n",
       "      <td>NaN</td>\n",
       "      <td>NaN</td>\n",
       "      <td>NaN</td>\n",
       "      <td>NaN</td>\n",
       "      <td>NaN</td>\n",
       "      <td>NaN</td>\n",
       "    </tr>\n",
       "    <tr>\n",
       "      <th>2</th>\n",
       "      <td>NaN</td>\n",
       "      <td>NaN</td>\n",
       "      <td>NaN</td>\n",
       "      <td>NaN</td>\n",
       "      <td>NaN</td>\n",
       "      <td>NaN</td>\n",
       "      <td>NaN</td>\n",
       "      <td>NaN</td>\n",
       "      <td>NaN</td>\n",
       "      <td>NaN</td>\n",
       "      <td>...</td>\n",
       "      <td>NaN</td>\n",
       "      <td>NaN</td>\n",
       "      <td>NaN</td>\n",
       "      <td>NaN</td>\n",
       "      <td>NaN</td>\n",
       "      <td>NaN</td>\n",
       "      <td>NaN</td>\n",
       "      <td>NaN</td>\n",
       "      <td>NaN</td>\n",
       "      <td>NaN</td>\n",
       "    </tr>\n",
       "    <tr>\n",
       "      <th>3</th>\n",
       "      <td>NaN</td>\n",
       "      <td>NaN</td>\n",
       "      <td>NaN</td>\n",
       "      <td>NaN</td>\n",
       "      <td>NaN</td>\n",
       "      <td>NaN</td>\n",
       "      <td>NaN</td>\n",
       "      <td>NaN</td>\n",
       "      <td>NaN</td>\n",
       "      <td>NaN</td>\n",
       "      <td>...</td>\n",
       "      <td>NaN</td>\n",
       "      <td>NaN</td>\n",
       "      <td>NaN</td>\n",
       "      <td>NaN</td>\n",
       "      <td>NaN</td>\n",
       "      <td>NaN</td>\n",
       "      <td>NaN</td>\n",
       "      <td>NaN</td>\n",
       "      <td>NaN</td>\n",
       "      <td>NaN</td>\n",
       "    </tr>\n",
       "    <tr>\n",
       "      <th>4</th>\n",
       "      <td>NaN</td>\n",
       "      <td>NaN</td>\n",
       "      <td>NaN</td>\n",
       "      <td>NaN</td>\n",
       "      <td>NaN</td>\n",
       "      <td>NaN</td>\n",
       "      <td>NaN</td>\n",
       "      <td>NaN</td>\n",
       "      <td>NaN</td>\n",
       "      <td>NaN</td>\n",
       "      <td>...</td>\n",
       "      <td>NaN</td>\n",
       "      <td>NaN</td>\n",
       "      <td>NaN</td>\n",
       "      <td>NaN</td>\n",
       "      <td>NaN</td>\n",
       "      <td>NaN</td>\n",
       "      <td>NaN</td>\n",
       "      <td>NaN</td>\n",
       "      <td>NaN</td>\n",
       "      <td>NaN</td>\n",
       "    </tr>\n",
       "  </tbody>\n",
       "</table>\n",
       "<p>5 rows × 1053 columns</p>\n",
       "</div>"
      ],
      "text/plain": [
       "   00  01  02  03  04  05  05ira8jwmk  06  07  08     ...      z0ti2dyzfy  \\\n",
       "0 NaN NaN NaN NaN NaN NaN         NaN NaN NaN NaN     ...             NaN   \n",
       "1 NaN NaN NaN NaN NaN NaN         NaN NaN NaN NaN     ...             NaN   \n",
       "2 NaN NaN NaN NaN NaN NaN         NaN NaN NaN NaN     ...             NaN   \n",
       "3 NaN NaN NaN NaN NaN NaN         NaN NaN NaN NaN     ...             NaN   \n",
       "4 NaN NaN NaN NaN NaN NaN         NaN NaN NaN NaN     ...             NaN   \n",
       "\n",
       "   zbjokaviv9  zimuqjg3xt  znslqigq4m  zp5pq66lsy  zpylvbxt3p  zpzpncekqb  \\\n",
       "0         NaN         NaN         NaN         NaN         NaN         NaN   \n",
       "1         NaN         NaN         NaN         NaN         NaN         NaN   \n",
       "2         NaN         NaN         NaN         NaN         NaN         NaN   \n",
       "3         NaN         NaN         NaN         NaN         NaN         NaN   \n",
       "4         NaN         NaN         NaN         NaN         NaN         NaN   \n",
       "\n",
       "   zsvbhqsspu  zu3qnhplss  zztbehmotq  \n",
       "0         NaN         NaN         NaN  \n",
       "1         NaN         NaN         NaN  \n",
       "2         NaN         NaN         NaN  \n",
       "3         NaN         NaN         NaN  \n",
       "4         NaN         NaN         NaN  \n",
       "\n",
       "[5 rows x 1053 columns]"
      ]
     },
     "execution_count": 105,
     "metadata": {},
     "output_type": "execute_result"
    }
   ],
   "source": [
    "combined_df = pd.concat([music_df,tfidf_df])\n",
    "combined_df.head()"
   ]
  },
  {
   "cell_type": "code",
   "execution_count": 106,
   "metadata": {
    "collapsed": false
   },
   "outputs": [
    {
     "data": {
      "text/html": [
       "<div>\n",
       "<table border=\"1\" class=\"dataframe\">\n",
       "  <thead>\n",
       "    <tr style=\"text-align: right;\">\n",
       "      <th></th>\n",
       "      <th>00</th>\n",
       "      <th>01</th>\n",
       "      <th>02</th>\n",
       "      <th>03</th>\n",
       "      <th>04</th>\n",
       "      <th>05</th>\n",
       "      <th>05ira8jwmk</th>\n",
       "      <th>06</th>\n",
       "      <th>07</th>\n",
       "      <th>08</th>\n",
       "      <th>...</th>\n",
       "      <th>z0ti2dyzfy</th>\n",
       "      <th>zbjokaviv9</th>\n",
       "      <th>zimuqjg3xt</th>\n",
       "      <th>znslqigq4m</th>\n",
       "      <th>zp5pq66lsy</th>\n",
       "      <th>zpylvbxt3p</th>\n",
       "      <th>zpzpncekqb</th>\n",
       "      <th>zsvbhqsspu</th>\n",
       "      <th>zu3qnhplss</th>\n",
       "      <th>zztbehmotq</th>\n",
       "    </tr>\n",
       "  </thead>\n",
       "  <tbody>\n",
       "    <tr>\n",
       "      <th>0</th>\n",
       "      <td>0</td>\n",
       "      <td>0</td>\n",
       "      <td>0</td>\n",
       "      <td>0</td>\n",
       "      <td>0</td>\n",
       "      <td>0</td>\n",
       "      <td>0</td>\n",
       "      <td>0</td>\n",
       "      <td>0</td>\n",
       "      <td>0</td>\n",
       "      <td>...</td>\n",
       "      <td>0</td>\n",
       "      <td>0</td>\n",
       "      <td>0</td>\n",
       "      <td>0</td>\n",
       "      <td>0</td>\n",
       "      <td>0</td>\n",
       "      <td>0</td>\n",
       "      <td>0</td>\n",
       "      <td>0</td>\n",
       "      <td>0</td>\n",
       "    </tr>\n",
       "    <tr>\n",
       "      <th>1</th>\n",
       "      <td>0</td>\n",
       "      <td>0</td>\n",
       "      <td>0</td>\n",
       "      <td>0</td>\n",
       "      <td>0</td>\n",
       "      <td>0</td>\n",
       "      <td>0</td>\n",
       "      <td>0</td>\n",
       "      <td>0</td>\n",
       "      <td>0</td>\n",
       "      <td>...</td>\n",
       "      <td>0</td>\n",
       "      <td>0</td>\n",
       "      <td>0</td>\n",
       "      <td>0</td>\n",
       "      <td>0</td>\n",
       "      <td>0</td>\n",
       "      <td>0</td>\n",
       "      <td>0</td>\n",
       "      <td>0</td>\n",
       "      <td>0</td>\n",
       "    </tr>\n",
       "    <tr>\n",
       "      <th>2</th>\n",
       "      <td>0</td>\n",
       "      <td>0</td>\n",
       "      <td>0</td>\n",
       "      <td>0</td>\n",
       "      <td>0</td>\n",
       "      <td>0</td>\n",
       "      <td>0</td>\n",
       "      <td>0</td>\n",
       "      <td>0</td>\n",
       "      <td>0</td>\n",
       "      <td>...</td>\n",
       "      <td>0</td>\n",
       "      <td>0</td>\n",
       "      <td>0</td>\n",
       "      <td>0</td>\n",
       "      <td>0</td>\n",
       "      <td>0</td>\n",
       "      <td>0</td>\n",
       "      <td>0</td>\n",
       "      <td>0</td>\n",
       "      <td>0</td>\n",
       "    </tr>\n",
       "    <tr>\n",
       "      <th>3</th>\n",
       "      <td>0</td>\n",
       "      <td>0</td>\n",
       "      <td>0</td>\n",
       "      <td>0</td>\n",
       "      <td>0</td>\n",
       "      <td>0</td>\n",
       "      <td>0</td>\n",
       "      <td>0</td>\n",
       "      <td>0</td>\n",
       "      <td>0</td>\n",
       "      <td>...</td>\n",
       "      <td>0</td>\n",
       "      <td>0</td>\n",
       "      <td>0</td>\n",
       "      <td>0</td>\n",
       "      <td>0</td>\n",
       "      <td>0</td>\n",
       "      <td>0</td>\n",
       "      <td>0</td>\n",
       "      <td>0</td>\n",
       "      <td>0</td>\n",
       "    </tr>\n",
       "    <tr>\n",
       "      <th>4</th>\n",
       "      <td>0</td>\n",
       "      <td>0</td>\n",
       "      <td>0</td>\n",
       "      <td>0</td>\n",
       "      <td>0</td>\n",
       "      <td>0</td>\n",
       "      <td>0</td>\n",
       "      <td>0</td>\n",
       "      <td>0</td>\n",
       "      <td>0</td>\n",
       "      <td>...</td>\n",
       "      <td>0</td>\n",
       "      <td>0</td>\n",
       "      <td>0</td>\n",
       "      <td>0</td>\n",
       "      <td>0</td>\n",
       "      <td>0</td>\n",
       "      <td>0</td>\n",
       "      <td>0</td>\n",
       "      <td>0</td>\n",
       "      <td>0</td>\n",
       "    </tr>\n",
       "  </tbody>\n",
       "</table>\n",
       "<p>5 rows × 1042 columns</p>\n",
       "</div>"
      ],
      "text/plain": [
       "   00  01  02  03  04  05  05ira8jwmk  06  07  08     ...      z0ti2dyzfy  \\\n",
       "0   0   0   0   0   0   0           0   0   0   0     ...               0   \n",
       "1   0   0   0   0   0   0           0   0   0   0     ...               0   \n",
       "2   0   0   0   0   0   0           0   0   0   0     ...               0   \n",
       "3   0   0   0   0   0   0           0   0   0   0     ...               0   \n",
       "4   0   0   0   0   0   0           0   0   0   0     ...               0   \n",
       "\n",
       "   zbjokaviv9  zimuqjg3xt  znslqigq4m  zp5pq66lsy  zpylvbxt3p  zpzpncekqb  \\\n",
       "0           0           0           0           0           0           0   \n",
       "1           0           0           0           0           0           0   \n",
       "2           0           0           0           0           0           0   \n",
       "3           0           0           0           0           0           0   \n",
       "4           0           0           0           0           0           0   \n",
       "\n",
       "   zsvbhqsspu  zu3qnhplss  zztbehmotq  \n",
       "0           0           0           0  \n",
       "1           0           0           0  \n",
       "2           0           0           0  \n",
       "3           0           0           0  \n",
       "4           0           0           0  \n",
       "\n",
       "[5 rows x 1042 columns]"
      ]
     },
     "execution_count": 106,
     "metadata": {},
     "output_type": "execute_result"
    }
   ],
   "source": [
    "vect = CountVectorizer()\n",
    "count_df = pd.DataFrame(vect.fit_transform(music_df['text']).toarray(), columns=vect.get_feature_names())\n",
    "count_df.head()"
   ]
  },
  {
   "cell_type": "code",
   "execution_count": 107,
   "metadata": {
    "collapsed": false
   },
   "outputs": [
    {
     "data": {
      "text/plain": [
       "0.055589896464884103"
      ]
     },
     "execution_count": 107,
     "metadata": {},
     "output_type": "execute_result"
    }
   ],
   "source": [
    "from sklearn.cluster import KMeans\n",
    "\n",
    "# 6 Use kmean to create clusters for the dataframe of words only (choose an optimal k)\n",
    "# Don't add clusters to the original dataframe yet\n",
    "km = KMeans(n_clusters=3, random_state=1)\n",
    "km.fit(tfidf_df)\n",
    "\n",
    "from sklearn import metrics\n",
    "metrics.silhouette_score(tfidf_df, km.labels_)"
   ]
  },
  {
   "cell_type": "code",
   "execution_count": 108,
   "metadata": {
    "collapsed": false
   },
   "outputs": [],
   "source": [
    "k_range = range(2, 165)\n",
    "scores = []\n",
    "for k in k_range:\n",
    "    km = KMeans(n_clusters=k, random_state=1)\n",
    "    km.fit(tfidf_df)\n",
    "    scores.append(metrics.silhouette_score(tfidf_df, km.labels_))"
   ]
  },
  {
   "cell_type": "code",
   "execution_count": 109,
   "metadata": {
    "collapsed": false
   },
   "outputs": [
    {
     "data": {
      "image/png": "[encoded data removed]",
      "text/plain": [
       "<matplotlib.figure.Figure at 0x10ce4c290>"
      ]
     },
     "metadata": {},
     "output_type": "display_data"
    }
   ],
   "source": [
    "%matplotlib inline\n",
    "import matplotlib.pyplot as plt\n",
    "plt.plot(k_range, scores)\n",
    "plt.xlabel('Number of clusters')\n",
    "plt.ylabel('Silhouette Coefficient')\n",
    "plt.grid(True)"
   ]
  },
  {
   "cell_type": "code",
   "execution_count": 110,
   "metadata": {
    "collapsed": true
   },
   "outputs": [],
   "source": [
    "k_range = range(2, 20)\n",
    "scores = []\n",
    "for k in k_range:\n",
    "    km = KMeans(n_clusters=k, random_state=1)\n",
    "    km.fit(tfidf_df)\n",
    "    scores.append(metrics.silhouette_score(tfidf_df, km.labels_))"
   ]
  },
  {
   "cell_type": "code",
   "execution_count": 111,
   "metadata": {
    "collapsed": false
   },
   "outputs": [
    {
     "data": {
      "image/png": "[encoded data removed]",
      "text/plain": [
       "<matplotlib.figure.Figure at 0x1158d76d0>"
      ]
     },
     "metadata": {},
     "output_type": "display_data"
    }
   ],
   "source": [
    "plt.plot(k_range, scores)\n",
    "plt.xlabel('Number of clusters')\n",
    "plt.ylabel('Silhouette Coefficient')\n",
    "plt.grid(True)"
   ]
  },
  {
   "cell_type": "code",
   "execution_count": 112,
   "metadata": {
    "collapsed": false
   },
   "outputs": [
    {
     "name": "stdout",
     "output_type": "stream",
     "text": [
      "0.0585594950236\n"
     ]
    },
    {
     "data": {
      "text/plain": [
       "array([0, 1, 1, 1, 0, 2, 2, 2, 1, 1, 1, 2, 2, 2, 2, 2, 2, 2, 0, 3, 2, 0, 0,\n",
       "       2, 0, 1, 1, 1, 2, 0, 0, 0, 0, 2, 2, 2, 2, 2, 2, 2, 2, 1, 1, 1, 2, 2,\n",
       "       2, 2, 2, 2, 0, 0, 2, 1, 1, 1, 2, 2, 2, 2, 2, 2, 2, 2, 2, 3, 2, 2, 2,\n",
       "       0, 2, 2, 2, 2, 0, 2, 2, 2, 2, 2, 2, 2, 2, 2, 2, 2, 2, 2, 3, 3, 3, 2,\n",
       "       2, 0, 0, 2, 1, 1, 1, 2, 3, 2, 3, 3, 3, 3, 3, 2, 2, 2, 2, 2, 2, 2, 3,\n",
       "       3, 3, 1, 3, 2, 3, 2, 2, 2, 3, 3, 3, 1, 3, 1, 1, 2, 3, 3, 2, 2, 3, 2,\n",
       "       3, 3, 3, 3, 3, 3, 3, 3, 3, 3, 3, 3, 3, 3, 3, 3, 2, 3, 3, 2, 3, 3, 3,\n",
       "       3, 3, 2, 2, 3, 3, 3, 2, 2, 2, 2, 2, 2, 2, 2, 0, 1, 1, 1, 0, 2, 2, 2,\n",
       "       1, 1, 1, 2, 2, 2, 2, 2, 2, 2, 0, 3, 2, 0, 0, 2, 0, 1, 1, 1, 2, 0, 0,\n",
       "       0, 0, 2, 2, 2, 2, 2, 2, 2, 2, 1, 1, 1, 2, 2, 2, 2, 2, 2, 0, 0, 2, 1,\n",
       "       1, 1, 2, 2, 2, 2, 2, 2, 2, 2, 2, 3, 2, 2, 2, 0, 2, 2, 2, 2, 0, 2, 2,\n",
       "       2, 2, 2, 2, 2, 2, 2, 2, 2, 2, 2, 3, 3, 3, 2, 2, 0, 0, 2, 1, 1, 1, 2,\n",
       "       3, 2, 3, 3, 3, 3, 3, 2, 2, 2, 2, 2, 2, 2, 3, 3, 3, 1, 3, 2, 3, 2, 2,\n",
       "       2, 3, 3, 3, 1, 3, 1, 1, 2, 3, 3, 2, 2, 3, 2, 3, 3, 3, 3, 3, 3, 3, 3,\n",
       "       3, 3, 3, 3, 3, 3, 3, 3, 2, 3, 3, 2, 3, 3, 3, 3, 3, 2, 2, 3, 3, 3, 2,\n",
       "       2, 2, 2, 2, 2, 2, 2, 0, 1, 1, 1, 0, 2, 2, 2, 1, 1, 1, 2, 2, 2, 2, 2,\n",
       "       2, 2, 0, 3, 2, 0, 0, 2, 0, 1, 1, 1, 2, 0, 0, 0, 0, 2, 2, 2, 2, 2, 2,\n",
       "       2, 2, 1, 1, 1, 2, 2, 2, 2, 2, 2, 0, 0, 2, 1, 1, 1, 2, 2, 2, 2, 2, 2,\n",
       "       2, 2, 2, 3, 2, 2, 2, 0, 2, 2, 2, 2, 0, 2, 2, 2, 2, 2, 2, 2, 2, 2, 2,\n",
       "       2, 2, 2, 3, 3, 3, 2, 2, 0, 0, 2, 1, 1, 1, 2, 3, 2, 3, 3, 3, 3, 3, 2,\n",
       "       2, 2, 2, 2, 2, 2, 3, 3, 3, 1, 3, 2, 3, 2, 2, 2, 3, 3, 3, 1, 3, 1, 1,\n",
       "       2, 3, 3, 2, 2, 3, 2, 3, 3, 3, 3, 3, 3, 3, 3, 3, 3, 3, 3, 3, 3, 3, 3,\n",
       "       2, 3, 3, 2, 3, 3, 3, 3, 3, 2, 2, 3, 3, 3, 2, 2, 2, 2, 2, 2, 2, 2, 0,\n",
       "       1, 1, 1, 0, 2, 2, 2, 1, 1, 1, 2, 2, 2, 2, 2, 2, 2, 0, 3, 2, 0, 0, 2,\n",
       "       0, 1, 1, 1, 2, 0, 0, 0, 0, 2, 2, 2, 2, 2, 2, 2, 2, 1, 1, 1, 2, 2, 2,\n",
       "       2, 2, 2, 0, 0, 2, 1, 1, 1, 2, 2, 2, 2, 2, 2, 2, 2, 2, 3, 2, 2, 2, 0,\n",
       "       2, 2, 2, 2, 0, 2, 2, 2, 2, 2, 2, 2, 2, 2, 2, 2, 2, 2, 3, 3, 3, 2, 2,\n",
       "       0, 0, 2, 1, 1, 1, 2, 3, 2, 3, 3, 3, 3, 3, 2, 2, 2, 2, 2, 2, 2, 3, 3,\n",
       "       3, 1, 3, 2, 3, 2, 2, 2, 3, 3, 3, 1, 3, 1, 1, 2, 3, 3, 2, 2, 3, 2, 3,\n",
       "       3, 3, 3, 3, 3, 3, 3, 3, 3, 3, 3, 3, 3, 3, 3, 2, 3, 3, 2, 3, 3, 3, 3,\n",
       "       3, 2, 2, 3, 3, 3, 2, 2, 2, 2, 2, 2, 2, 2, 0, 1, 1, 1, 0, 2, 2, 2, 1,\n",
       "       1, 1, 2, 2, 2, 2, 2, 2, 2, 0, 3, 2, 0, 0, 2, 0, 1, 1, 1, 2, 0, 0, 0,\n",
       "       0, 2, 2, 2, 2, 2, 2, 2, 2, 1, 1, 1, 2, 2, 2, 2, 2, 2, 0, 0, 2, 1, 1,\n",
       "       1, 2, 2, 2, 2, 2, 2, 2, 2, 2, 3, 2, 2, 2, 0, 2, 2, 2, 2, 0, 2, 2, 2,\n",
       "       2, 2, 2, 2, 2, 2, 2, 2, 2, 2, 3, 3, 3, 2, 2, 0, 0, 2, 1, 1, 1, 2, 3,\n",
       "       2, 3, 3, 3, 3, 3, 2, 2, 2, 2, 2, 2, 2, 3, 3, 3, 1, 3, 2, 3, 2, 2, 2,\n",
       "       3, 3, 3, 1, 3, 1, 1, 2, 3, 3, 2, 2, 3, 2, 3, 3, 3, 3, 3, 3, 3, 3, 3,\n",
       "       3, 3, 3, 3, 3, 3, 3, 2, 3, 3, 2, 3, 3, 3, 3, 3, 2, 2, 3, 3, 3, 2, 2,\n",
       "       2, 2, 2, 2, 2, 2], dtype=int32)"
      ]
     },
     "execution_count": 112,
     "metadata": {},
     "output_type": "execute_result"
    }
   ],
   "source": [
    "km = KMeans(n_clusters=4, random_state=1)\n",
    "km.fit(tfidf_df)\n",
    "print metrics.silhouette_score(tfidf_df, km.labels_)\n",
    "km.labels_"
   ]
  },
  {
   "cell_type": "code",
   "execution_count": 113,
   "metadata": {
    "collapsed": false
   },
   "outputs": [],
   "source": [
    "k_range = range(2, 100)\n",
    "scores = []\n",
    "for k in k_range:\n",
    "    km = KMeans(n_clusters=k, random_state=1)\n",
    "    km.fit(count_df)\n",
    "    scores.append(metrics.silhouette_score(count_df, km.labels_))"
   ]
  },
  {
   "cell_type": "code",
   "execution_count": 114,
   "metadata": {
    "collapsed": false
   },
   "outputs": [
    {
     "data": {
      "image/png": "[encoded data removed]",
      "text/plain": [
       "<matplotlib.figure.Figure at 0x11535cf10>"
      ]
     },
     "metadata": {},
     "output_type": "display_data"
    }
   ],
   "source": [
    "plt.plot(k_range, scores)\n",
    "plt.xlabel('Number of clusters')\n",
    "plt.ylabel('Silhouette Coefficient')\n",
    "plt.grid(True)"
   ]
  },
  {
   "cell_type": "code",
   "execution_count": 115,
   "metadata": {
    "collapsed": false
   },
   "outputs": [
    {
     "data": {
      "image/png": "[encoded data removed]",
      "text/plain": [
       "<matplotlib.figure.Figure at 0x115344450>"
      ]
     },
     "metadata": {},
     "output_type": "display_data"
    }
   ],
   "source": [
    "k_range = range(2, 10)\n",
    "scores = []\n",
    "for k in k_range:\n",
    "    km = KMeans(n_clusters=k, random_state=1)\n",
    "    km.fit(count_df)\n",
    "    scores.append(metrics.silhouette_score(count_df, km.labels_))\n",
    "    \n",
    "plt.plot(k_range, scores)\n",
    "plt.xlabel('Number of clusters')\n",
    "plt.ylabel('Silhouette Coefficient')\n",
    "plt.grid(True)"
   ]
  },
  {
   "cell_type": "code",
   "execution_count": 117,
   "metadata": {
    "collapsed": false
   },
   "outputs": [
    {
     "name": "stdout",
     "output_type": "stream",
     "text": [
      "0.104859607912\n"
     ]
    },
    {
     "data": {
      "text/plain": [
       "array([6, 8, 8, 8, 6, 5, 5, 5, 8, 4, 8, 0, 5, 5, 5, 5, 5, 5, 6, 3, 7, 6, 6,\n",
       "       5, 6, 8, 8, 8, 5, 6, 6, 6, 6, 0, 5, 5, 5, 5, 5, 5, 4, 8, 8, 8, 5, 5,\n",
       "       5, 5, 5, 0, 6, 6, 5, 4, 4, 8, 5, 5, 5, 5, 5, 5, 5, 5, 5, 3, 5, 5, 5,\n",
       "       6, 5, 4, 4, 4, 6, 0, 0, 5, 5, 5, 5, 5, 4, 4, 4, 5, 0, 0, 3, 3, 3, 5,\n",
       "       0, 6, 6, 5, 8, 8, 8, 5, 1, 7, 1, 1, 1, 2, 2, 5, 5, 5, 5, 5, 5, 5, 1,\n",
       "       1, 1, 1, 1, 5, 2, 7, 5, 5, 2, 1, 1, 1, 1, 1, 1, 5, 2, 2, 7, 7, 2, 5,\n",
       "       2, 2, 2, 2, 2, 2, 2, 2, 2, 2, 2, 2, 2, 2, 2, 2, 5, 2, 2, 5, 2, 2, 2,\n",
       "       2, 2, 5, 5, 2, 2, 2, 7, 7, 0, 5, 5, 5, 5, 5, 6, 8, 8, 8, 6, 5, 5, 5,\n",
       "       8, 4, 8, 0, 5, 5, 5, 5, 5, 5, 6, 3, 7, 6, 6, 5, 6, 8, 8, 8, 5, 6, 6,\n",
       "       6, 6, 0, 5, 5, 5, 5, 5, 5, 4, 8, 8, 8, 5, 5, 5, 5, 5, 0, 6, 6, 5, 4,\n",
       "       4, 8, 5, 5, 5, 5, 5, 5, 5, 5, 5, 3, 5, 5, 5, 6, 5, 4, 4, 4, 6, 0, 0,\n",
       "       5, 5, 5, 5, 5, 4, 4, 4, 5, 0, 0, 3, 3, 3, 5, 0, 6, 6, 5, 8, 8, 8, 5,\n",
       "       1, 7, 1, 1, 1, 2, 2, 5, 5, 5, 5, 5, 5, 5, 1, 1, 1, 1, 1, 5, 2, 7, 5,\n",
       "       5, 2, 1, 1, 1, 1, 1, 1, 5, 2, 2, 7, 7, 2, 5, 2, 2, 2, 2, 2, 2, 2, 2,\n",
       "       2, 2, 2, 2, 2, 2, 2, 2, 5, 2, 2, 5, 2, 2, 2, 2, 2, 5, 5, 2, 2, 2, 7,\n",
       "       7, 0, 5, 5, 5, 5, 5, 6, 8, 8, 8, 6, 5, 5, 5, 8, 4, 8, 0, 5, 5, 5, 5,\n",
       "       5, 5, 6, 3, 7, 6, 6, 5, 6, 8, 8, 8, 5, 6, 6, 6, 6, 0, 5, 5, 5, 5, 5,\n",
       "       5, 4, 8, 8, 8, 5, 5, 5, 5, 5, 0, 6, 6, 5, 4, 4, 8, 5, 5, 5, 5, 5, 5,\n",
       "       5, 5, 5, 3, 5, 5, 5, 6, 5, 4, 4, 4, 6, 0, 0, 5, 5, 5, 5, 5, 4, 4, 4,\n",
       "       5, 0, 0, 3, 3, 3, 5, 0, 6, 6, 5, 8, 8, 8, 5, 1, 7, 1, 1, 1, 2, 2, 5,\n",
       "       5, 5, 5, 5, 5, 5, 1, 1, 1, 1, 1, 5, 2, 7, 5, 5, 2, 1, 1, 1, 1, 1, 1,\n",
       "       5, 2, 2, 7, 7, 2, 5, 2, 2, 2, 2, 2, 2, 2, 2, 2, 2, 2, 2, 2, 2, 2, 2,\n",
       "       5, 2, 2, 5, 2, 2, 2, 2, 2, 5, 5, 2, 2, 2, 7, 7, 0, 5, 5, 5, 5, 5, 6,\n",
       "       8, 8, 8, 6, 5, 5, 5, 8, 4, 8, 0, 5, 5, 5, 5, 5, 5, 6, 3, 7, 6, 6, 5,\n",
       "       6, 8, 8, 8, 5, 6, 6, 6, 6, 0, 5, 5, 5, 5, 5, 5, 4, 8, 8, 8, 5, 5, 5,\n",
       "       5, 5, 0, 6, 6, 5, 4, 4, 8, 5, 5, 5, 5, 5, 5, 5, 5, 5, 3, 5, 5, 5, 6,\n",
       "       5, 4, 4, 4, 6, 0, 0, 5, 5, 5, 5, 5, 4, 4, 4, 5, 0, 0, 3, 3, 3, 5, 0,\n",
       "       6, 6, 5, 8, 8, 8, 5, 1, 7, 1, 1, 1, 2, 2, 5, 5, 5, 5, 5, 5, 5, 1, 1,\n",
       "       1, 1, 1, 5, 2, 7, 5, 5, 2, 1, 1, 1, 1, 1, 1, 5, 2, 2, 7, 7, 2, 5, 2,\n",
       "       2, 2, 2, 2, 2, 2, 2, 2, 2, 2, 2, 2, 2, 2, 2, 5, 2, 2, 5, 2, 2, 2, 2,\n",
       "       2, 5, 5, 2, 2, 2, 7, 7, 0, 5, 5, 5, 5, 5, 6, 8, 8, 8, 6, 5, 5, 5, 8,\n",
       "       4, 8, 0, 5, 5, 5, 5, 5, 5, 6, 3, 7, 6, 6, 5, 6, 8, 8, 8, 5, 6, 6, 6,\n",
       "       6, 0, 5, 5, 5, 5, 5, 5, 4, 8, 8, 8, 5, 5, 5, 5, 5, 0, 6, 6, 5, 4, 4,\n",
       "       8, 5, 5, 5, 5, 5, 5, 5, 5, 5, 3, 5, 5, 5, 6, 5, 4, 4, 4, 6, 0, 0, 5,\n",
       "       5, 5, 5, 5, 4, 4, 4, 5, 0, 0, 3, 3, 3, 5, 0, 6, 6, 5, 8, 8, 8, 5, 1,\n",
       "       7, 1, 1, 1, 2, 2, 5, 5, 5, 5, 5, 5, 5, 1, 1, 1, 1, 1, 5, 2, 7, 5, 5,\n",
       "       2, 1, 1, 1, 1, 1, 1, 5, 2, 2, 7, 7, 2, 5, 2, 2, 2, 2, 2, 2, 2, 2, 2,\n",
       "       2, 2, 2, 2, 2, 2, 2, 5, 2, 2, 5, 2, 2, 2, 2, 2, 5, 5, 2, 2, 2, 7, 7,\n",
       "       0, 5, 5, 5, 5, 5], dtype=int32)"
      ]
     },
     "execution_count": 117,
     "metadata": {},
     "output_type": "execute_result"
    }
   ],
   "source": [
    "km = KMeans(n_clusters=9, random_state=1)\n",
    "km.fit(tfidf_df)\n",
    "print metrics.silhouette_score(tfidf_df, km.labels_)\n",
    "km.labels_"
   ]
  },
  {
   "cell_type": "code",
   "execution_count": 118,
   "metadata": {
    "collapsed": false
   },
   "outputs": [
    {
     "data": {
      "text/html": [
       "<div>\n",
       "<table border=\"1\" class=\"dataframe\">\n",
       "  <thead>\n",
       "    <tr style=\"text-align: right;\">\n",
       "      <th></th>\n",
       "      <th>date</th>\n",
       "      <th>text</th>\n",
       "      <th>favorite_count</th>\n",
       "      <th>favorited</th>\n",
       "      <th>language</th>\n",
       "      <th>geocode</th>\n",
       "      <th>retweet count</th>\n",
       "      <th>retweeted</th>\n",
       "      <th>coordinates</th>\n",
       "      <th>sentiment</th>\n",
       "      <th>word_count</th>\n",
       "      <th>cluster</th>\n",
       "    </tr>\n",
       "  </thead>\n",
       "  <tbody>\n",
       "    <tr>\n",
       "      <th>0</th>\n",
       "      <td>2016-12-02 02:03:12</td>\n",
       "      <td>Featured Artist #torilynn #top40 #music #twt24...</td>\n",
       "      <td>0</td>\n",
       "      <td>False</td>\n",
       "      <td>en</td>\n",
       "      <td>None</td>\n",
       "      <td>0</td>\n",
       "      <td>False</td>\n",
       "      <td>None</td>\n",
       "      <td>0.000000</td>\n",
       "      <td>113</td>\n",
       "      <td>6</td>\n",
       "    </tr>\n",
       "    <tr>\n",
       "      <th>1</th>\n",
       "      <td>2016-12-02 02:01:26</td>\n",
       "      <td>S/T by The Smiths https://t.co/eAQ8dYK6sj #Mus...</td>\n",
       "      <td>0</td>\n",
       "      <td>False</td>\n",
       "      <td>en</td>\n",
       "      <td>None</td>\n",
       "      <td>0</td>\n",
       "      <td>False</td>\n",
       "      <td>None</td>\n",
       "      <td>-0.100000</td>\n",
       "      <td>105</td>\n",
       "      <td>8</td>\n",
       "    </tr>\n",
       "    <tr>\n",
       "      <th>2</th>\n",
       "      <td>2016-12-02 02:01:26</td>\n",
       "      <td>Once Upon a Time in the West by Ennio #Morrico...</td>\n",
       "      <td>0</td>\n",
       "      <td>False</td>\n",
       "      <td>en</td>\n",
       "      <td>None</td>\n",
       "      <td>0</td>\n",
       "      <td>False</td>\n",
       "      <td>None</td>\n",
       "      <td>0.000000</td>\n",
       "      <td>111</td>\n",
       "      <td>8</td>\n",
       "    </tr>\n",
       "    <tr>\n",
       "      <th>3</th>\n",
       "      <td>2016-12-02 02:01:26</td>\n",
       "      <td>Miles Davis At Carnegie Hall by Miles Davis ht...</td>\n",
       "      <td>0</td>\n",
       "      <td>False</td>\n",
       "      <td>en</td>\n",
       "      <td>None</td>\n",
       "      <td>0</td>\n",
       "      <td>False</td>\n",
       "      <td>None</td>\n",
       "      <td>0.000000</td>\n",
       "      <td>110</td>\n",
       "      <td>8</td>\n",
       "    </tr>\n",
       "    <tr>\n",
       "      <th>4</th>\n",
       "      <td>2016-12-02 01:44:36</td>\n",
       "      <td>Check out 🎤 https://t.co/Mctky0EXrl ☜ New rel...</td>\n",
       "      <td>0</td>\n",
       "      <td>False</td>\n",
       "      <td>en</td>\n",
       "      <td>None</td>\n",
       "      <td>0</td>\n",
       "      <td>False</td>\n",
       "      <td>None</td>\n",
       "      <td>0.136364</td>\n",
       "      <td>138</td>\n",
       "      <td>6</td>\n",
       "    </tr>\n",
       "  </tbody>\n",
       "</table>\n",
       "</div>"
      ],
      "text/plain": [
       "                 date                                               text  \\\n",
       "0 2016-12-02 02:03:12  Featured Artist #torilynn #top40 #music #twt24...   \n",
       "1 2016-12-02 02:01:26  S/T by The Smiths https://t.co/eAQ8dYK6sj #Mus...   \n",
       "2 2016-12-02 02:01:26  Once Upon a Time in the West by Ennio #Morrico...   \n",
       "3 2016-12-02 02:01:26  Miles Davis At Carnegie Hall by Miles Davis ht...   \n",
       "4 2016-12-02 01:44:36  Check out 🎤 https://t.co/Mctky0EXrl ☜ New rel...   \n",
       "\n",
       "   favorite_count favorited language geocode  retweet count retweeted  \\\n",
       "0               0     False       en    None              0     False   \n",
       "1               0     False       en    None              0     False   \n",
       "2               0     False       en    None              0     False   \n",
       "3               0     False       en    None              0     False   \n",
       "4               0     False       en    None              0     False   \n",
       "\n",
       "  coordinates  sentiment  word_count  cluster  \n",
       "0        None   0.000000         113        6  \n",
       "1        None  -0.100000         105        8  \n",
       "2        None   0.000000         111        8  \n",
       "3        None   0.000000         110        8  \n",
       "4        None   0.136364         138        6  "
      ]
     },
     "execution_count": 118,
     "metadata": {},
     "output_type": "execute_result"
    }
   ],
   "source": [
    "music_df['cluster'] = km.labels_\n",
    "music_df.head()"
   ]
  },
  {
   "cell_type": "code",
   "execution_count": 177,
   "metadata": {
    "collapsed": true
   },
   "outputs": [],
   "source": [
    "# 7 Explore the clusters\n",
    "# What is interesting? Surprising? Can you draw any inferences about each cluster?\n",
    "# Was this enough to find any relevant topics about music tweets?\n",
    "# Can you give any of the clusters name?\n",
    "\n",
    "# There doesn't seem to be any coherent categorization/grouping of the data, at least\n",
    "# without the ability to better find an optimal k"
   ]
  },
  {
   "cell_type": "code",
   "execution_count": null,
   "metadata": {
    "collapsed": true
   },
   "outputs": [],
   "source": [
    "# 8. use LSA to obtain better topic clusters. Can you give any of the clusters name?\n",
    "# Make a boxplot of sentiment for each candidate by the \"democrat\" column"
   ]
  },
  {
   "cell_type": "code",
   "execution_count": 120,
   "metadata": {
    "collapsed": true
   },
   "outputs": [],
   "source": [
    "other_tweets = []"
   ]
  },
  {
   "cell_type": "code",
   "execution_count": 127,
   "metadata": {
    "collapsed": false
   },
   "outputs": [],
   "source": [
    "# 9. Think of 3 more hashtags you wish to explore (all of them should be about the same thing)\n",
    "# and make a dataframe the same way we did in the previous steps\n",
    "other_tweets.append(api.search(q='#republican', count=100, geocode=\"37.781157,-122.398720,10mi\")+\\\n",
    "api.search(q='#democrat', count=100, geocode=\"37.781157,-122.398720,10mi\")+\\\n",
    "api.search(q='#president', count=100, geocode=\"37.781157,-122.398720,10mi\"))"
   ]
  },
  {
   "cell_type": "code",
   "execution_count": 128,
   "metadata": {
    "collapsed": true
   },
   "outputs": [],
   "source": [
    "other = [item for sublist in other_tweets for item in sublist]"
   ]
  },
  {
   "cell_type": "code",
   "execution_count": 129,
   "metadata": {
    "collapsed": true
   },
   "outputs": [],
   "source": [
    "other_tweets = other"
   ]
  },
  {
   "cell_type": "code",
   "execution_count": 130,
   "metadata": {
    "collapsed": false
   },
   "outputs": [
    {
     "data": {
      "text/plain": [
       "938"
      ]
     },
     "execution_count": 130,
     "metadata": {},
     "output_type": "execute_result"
    }
   ],
   "source": [
    "len(other_tweets)"
   ]
  },
  {
   "cell_type": "code",
   "execution_count": 131,
   "metadata": {
    "collapsed": true
   },
   "outputs": [],
   "source": [
    "other_tweets = parse_status_objects(other_tweets)\n",
    "cols = ['date', 'text', 'favorite_count', 'favorited', 'language', 'geocode', 'retweet count', 'retweeted', 'coordinates']\n",
    "politics_df = pd.DataFrame(other_tweets, columns=cols)"
   ]
  },
  {
   "cell_type": "code",
   "execution_count": 132,
   "metadata": {
    "collapsed": false
   },
   "outputs": [
    {
     "data": {
      "text/html": [
       "<div>\n",
       "<table border=\"1\" class=\"dataframe\">\n",
       "  <thead>\n",
       "    <tr style=\"text-align: right;\">\n",
       "      <th></th>\n",
       "      <th>000</th>\n",
       "      <th>001</th>\n",
       "      <th>002</th>\n",
       "      <th>003</th>\n",
       "      <th>004</th>\n",
       "      <th>005</th>\n",
       "      <th>006</th>\n",
       "      <th>007</th>\n",
       "      <th>008</th>\n",
       "      <th>009</th>\n",
       "      <th>...</th>\n",
       "      <th>xe1nfrzovi</th>\n",
       "      <th>xmmlh8ifx5</th>\n",
       "      <th>y3tmy9ns3y</th>\n",
       "      <th>yajfv1dmwx</th>\n",
       "      <th>years</th>\n",
       "      <th>yosysljfbc</th>\n",
       "      <th>younger</th>\n",
       "      <th>your</th>\n",
       "      <th>youtube</th>\n",
       "      <th>zxehoatpk3</th>\n",
       "    </tr>\n",
       "  </thead>\n",
       "  <tbody>\n",
       "    <tr>\n",
       "      <th>0</th>\n",
       "      <td>0</td>\n",
       "      <td>0</td>\n",
       "      <td>0</td>\n",
       "      <td>0</td>\n",
       "      <td>0</td>\n",
       "      <td>0</td>\n",
       "      <td>0</td>\n",
       "      <td>0</td>\n",
       "      <td>0</td>\n",
       "      <td>0</td>\n",
       "      <td>...</td>\n",
       "      <td>0</td>\n",
       "      <td>0</td>\n",
       "      <td>0</td>\n",
       "      <td>0</td>\n",
       "      <td>0</td>\n",
       "      <td>0</td>\n",
       "      <td>0</td>\n",
       "      <td>0</td>\n",
       "      <td>0</td>\n",
       "      <td>0</td>\n",
       "    </tr>\n",
       "    <tr>\n",
       "      <th>1</th>\n",
       "      <td>0</td>\n",
       "      <td>0</td>\n",
       "      <td>0</td>\n",
       "      <td>0</td>\n",
       "      <td>0</td>\n",
       "      <td>0</td>\n",
       "      <td>0</td>\n",
       "      <td>0</td>\n",
       "      <td>0</td>\n",
       "      <td>0</td>\n",
       "      <td>...</td>\n",
       "      <td>0</td>\n",
       "      <td>0</td>\n",
       "      <td>0</td>\n",
       "      <td>0</td>\n",
       "      <td>0</td>\n",
       "      <td>0</td>\n",
       "      <td>0</td>\n",
       "      <td>0</td>\n",
       "      <td>0</td>\n",
       "      <td>0</td>\n",
       "    </tr>\n",
       "    <tr>\n",
       "      <th>2</th>\n",
       "      <td>0</td>\n",
       "      <td>0</td>\n",
       "      <td>0</td>\n",
       "      <td>0</td>\n",
       "      <td>0</td>\n",
       "      <td>0</td>\n",
       "      <td>0</td>\n",
       "      <td>0</td>\n",
       "      <td>0</td>\n",
       "      <td>0</td>\n",
       "      <td>...</td>\n",
       "      <td>0</td>\n",
       "      <td>0</td>\n",
       "      <td>0</td>\n",
       "      <td>0</td>\n",
       "      <td>0</td>\n",
       "      <td>0</td>\n",
       "      <td>0</td>\n",
       "      <td>0</td>\n",
       "      <td>0</td>\n",
       "      <td>0</td>\n",
       "    </tr>\n",
       "    <tr>\n",
       "      <th>3</th>\n",
       "      <td>0</td>\n",
       "      <td>0</td>\n",
       "      <td>0</td>\n",
       "      <td>0</td>\n",
       "      <td>0</td>\n",
       "      <td>0</td>\n",
       "      <td>0</td>\n",
       "      <td>0</td>\n",
       "      <td>0</td>\n",
       "      <td>0</td>\n",
       "      <td>...</td>\n",
       "      <td>0</td>\n",
       "      <td>0</td>\n",
       "      <td>0</td>\n",
       "      <td>0</td>\n",
       "      <td>0</td>\n",
       "      <td>0</td>\n",
       "      <td>0</td>\n",
       "      <td>0</td>\n",
       "      <td>0</td>\n",
       "      <td>0</td>\n",
       "    </tr>\n",
       "    <tr>\n",
       "      <th>4</th>\n",
       "      <td>0</td>\n",
       "      <td>0</td>\n",
       "      <td>0</td>\n",
       "      <td>0</td>\n",
       "      <td>0</td>\n",
       "      <td>0</td>\n",
       "      <td>0</td>\n",
       "      <td>0</td>\n",
       "      <td>0</td>\n",
       "      <td>0</td>\n",
       "      <td>...</td>\n",
       "      <td>0</td>\n",
       "      <td>0</td>\n",
       "      <td>0</td>\n",
       "      <td>0</td>\n",
       "      <td>0</td>\n",
       "      <td>0</td>\n",
       "      <td>0</td>\n",
       "      <td>0</td>\n",
       "      <td>0</td>\n",
       "      <td>0</td>\n",
       "    </tr>\n",
       "  </tbody>\n",
       "</table>\n",
       "<p>5 rows × 767 columns</p>\n",
       "</div>"
      ],
      "text/plain": [
       "   000  001  002  003  004  005  006  007  008  009     ...      xe1nfrzovi  \\\n",
       "0    0    0    0    0    0    0    0    0    0    0     ...               0   \n",
       "1    0    0    0    0    0    0    0    0    0    0     ...               0   \n",
       "2    0    0    0    0    0    0    0    0    0    0     ...               0   \n",
       "3    0    0    0    0    0    0    0    0    0    0     ...               0   \n",
       "4    0    0    0    0    0    0    0    0    0    0     ...               0   \n",
       "\n",
       "   xmmlh8ifx5  y3tmy9ns3y  yajfv1dmwx  years  yosysljfbc  younger  your  \\\n",
       "0           0           0           0      0           0        0     0   \n",
       "1           0           0           0      0           0        0     0   \n",
       "2           0           0           0      0           0        0     0   \n",
       "3           0           0           0      0           0        0     0   \n",
       "4           0           0           0      0           0        0     0   \n",
       "\n",
       "   youtube  zxehoatpk3  \n",
       "0        0           0  \n",
       "1        0           0  \n",
       "2        0           0  \n",
       "3        0           0  \n",
       "4        0           0  \n",
       "\n",
       "[5 rows x 767 columns]"
      ]
     },
     "execution_count": 132,
     "metadata": {},
     "output_type": "execute_result"
    }
   ],
   "source": [
    "# 10. Use whatever clustering method (DBSCAN, LSA, KMEANS) you deem best (silhouette coeff?) and make a supervised model out of it\n",
    "# IE try to predict the clusters you obtained by using the features\n",
    "# Note clustering does not HAVE to include text if you do not want it to in that case LSA won't help\n",
    "vect = CountVectorizer()\n",
    "count_df = pd.DataFrame(vect.fit_transform(politics_df['text']).toarray(), columns=vect.get_feature_names())\n",
    "count_df.head()"
   ]
  },
  {
   "cell_type": "code",
   "execution_count": null,
   "metadata": {
    "collapsed": true
   },
   "outputs": [],
   "source": []
  },
  {
   "cell_type": "code",
   "execution_count": 133,
   "metadata": {
    "collapsed": false
   },
   "outputs": [
    {
     "data": {
      "image/png": "[encoded data removed]",
      "text/plain": [
       "<matplotlib.figure.Figure at 0x118c1e390>"
      ]
     },
     "metadata": {},
     "output_type": "display_data"
    }
   ],
   "source": [
    "k_range = range(2, 122)\n",
    "scores = []\n",
    "for k in k_range:\n",
    "    km = KMeans(n_clusters=k, random_state=1)\n",
    "    km.fit(count_df)\n",
    "    scores.append(metrics.silhouette_score(count_df, km.labels_))\n",
    "    \n",
    "plt.plot(k_range, scores)\n",
    "plt.xlabel('Number of clusters')\n",
    "plt.ylabel('Silhouette Coefficient')\n",
    "plt.grid(True)"
   ]
  },
  {
   "cell_type": "code",
   "execution_count": 134,
   "metadata": {
    "collapsed": false
   },
   "outputs": [
    {
     "data": {
      "image/png": "[encoded data removed]",
      "text/plain": [
       "<matplotlib.figure.Figure at 0x1156cdc10>"
      ]
     },
     "metadata": {},
     "output_type": "display_data"
    }
   ],
   "source": [
    "k_range = range(2, 20)\n",
    "scores = []\n",
    "for k in k_range:\n",
    "    km = KMeans(n_clusters=k, random_state=1)\n",
    "    km.fit(count_df)\n",
    "    scores.append(metrics.silhouette_score(count_df, km.labels_))\n",
    "    \n",
    "plt.plot(k_range, scores)\n",
    "plt.xlabel('Number of clusters')\n",
    "plt.ylabel('Silhouette Coefficient')\n",
    "plt.grid(True)"
   ]
  },
  {
   "cell_type": "code",
   "execution_count": 136,
   "metadata": {
    "collapsed": false
   },
   "outputs": [
    {
     "name": "stdout",
     "output_type": "stream",
     "text": [
      "0.386177182646\n"
     ]
    },
    {
     "data": {
      "text/html": [
       "<div>\n",
       "<table border=\"1\" class=\"dataframe\">\n",
       "  <thead>\n",
       "    <tr style=\"text-align: right;\">\n",
       "      <th></th>\n",
       "      <th>date</th>\n",
       "      <th>text</th>\n",
       "      <th>favorite_count</th>\n",
       "      <th>favorited</th>\n",
       "      <th>language</th>\n",
       "      <th>geocode</th>\n",
       "      <th>retweet count</th>\n",
       "      <th>retweeted</th>\n",
       "      <th>coordinates</th>\n",
       "      <th>clusterA</th>\n",
       "    </tr>\n",
       "  </thead>\n",
       "  <tbody>\n",
       "    <tr>\n",
       "      <th>0</th>\n",
       "      <td>2016-12-02 01:51:04</td>\n",
       "      <td>RT @JacloPac: The lack of growth over the last...</td>\n",
       "      <td>0</td>\n",
       "      <td>False</td>\n",
       "      <td>en</td>\n",
       "      <td>None</td>\n",
       "      <td>11</td>\n",
       "      <td>False</td>\n",
       "      <td>None</td>\n",
       "      <td>1</td>\n",
       "    </tr>\n",
       "    <tr>\n",
       "      <th>1</th>\n",
       "      <td>2016-12-01 23:26:25</td>\n",
       "      <td>RT @JacloPac: The lack of growth over the last...</td>\n",
       "      <td>0</td>\n",
       "      <td>False</td>\n",
       "      <td>en</td>\n",
       "      <td>None</td>\n",
       "      <td>11</td>\n",
       "      <td>False</td>\n",
       "      <td>None</td>\n",
       "      <td>1</td>\n",
       "    </tr>\n",
       "    <tr>\n",
       "      <th>2</th>\n",
       "      <td>2016-12-01 22:44:01</td>\n",
       "      <td>RT @JacloPac: The lack of growth over the last...</td>\n",
       "      <td>0</td>\n",
       "      <td>False</td>\n",
       "      <td>en</td>\n",
       "      <td>None</td>\n",
       "      <td>11</td>\n",
       "      <td>False</td>\n",
       "      <td>None</td>\n",
       "      <td>1</td>\n",
       "    </tr>\n",
       "    <tr>\n",
       "      <th>3</th>\n",
       "      <td>2016-12-01 22:02:30</td>\n",
       "      <td>RT @JacloPac: The lack of growth over the last...</td>\n",
       "      <td>0</td>\n",
       "      <td>False</td>\n",
       "      <td>en</td>\n",
       "      <td>None</td>\n",
       "      <td>11</td>\n",
       "      <td>False</td>\n",
       "      <td>None</td>\n",
       "      <td>1</td>\n",
       "    </tr>\n",
       "    <tr>\n",
       "      <th>4</th>\n",
       "      <td>2016-12-01 20:28:59</td>\n",
       "      <td>@business #cronycapitalism and #republican #hy...</td>\n",
       "      <td>0</td>\n",
       "      <td>False</td>\n",
       "      <td>en</td>\n",
       "      <td>None</td>\n",
       "      <td>0</td>\n",
       "      <td>False</td>\n",
       "      <td>None</td>\n",
       "      <td>0</td>\n",
       "    </tr>\n",
       "  </tbody>\n",
       "</table>\n",
       "</div>"
      ],
      "text/plain": [
       "                 date                                               text  \\\n",
       "0 2016-12-02 01:51:04  RT @JacloPac: The lack of growth over the last...   \n",
       "1 2016-12-01 23:26:25  RT @JacloPac: The lack of growth over the last...   \n",
       "2 2016-12-01 22:44:01  RT @JacloPac: The lack of growth over the last...   \n",
       "3 2016-12-01 22:02:30  RT @JacloPac: The lack of growth over the last...   \n",
       "4 2016-12-01 20:28:59  @business #cronycapitalism and #republican #hy...   \n",
       "\n",
       "   favorite_count favorited language geocode  retweet count retweeted  \\\n",
       "0               0     False       en    None             11     False   \n",
       "1               0     False       en    None             11     False   \n",
       "2               0     False       en    None             11     False   \n",
       "3               0     False       en    None             11     False   \n",
       "4               0     False       en    None              0     False   \n",
       "\n",
       "  coordinates  clusterA  \n",
       "0        None         1  \n",
       "1        None         1  \n",
       "2        None         1  \n",
       "3        None         1  \n",
       "4        None         0  "
      ]
     },
     "execution_count": 136,
     "metadata": {},
     "output_type": "execute_result"
    }
   ],
   "source": [
    "km = KMeans(n_clusters=2, random_state=1)\n",
    "km.fit(count_df)\n",
    "print metrics.silhouette_score(count_df, km.labels_)\n",
    "politics_df['clusterA'] = km.labels_\n",
    "politics_df.head()"
   ]
  },
  {
   "cell_type": "code",
   "execution_count": 137,
   "metadata": {
    "collapsed": false
   },
   "outputs": [
    {
     "data": {
      "text/html": [
       "<div>\n",
       "<table border=\"1\" class=\"dataframe\">\n",
       "  <thead>\n",
       "    <tr style=\"text-align: right;\">\n",
       "      <th></th>\n",
       "      <th>date</th>\n",
       "      <th>text</th>\n",
       "      <th>favorite_count</th>\n",
       "      <th>favorited</th>\n",
       "      <th>language</th>\n",
       "      <th>geocode</th>\n",
       "      <th>retweet count</th>\n",
       "      <th>retweeted</th>\n",
       "      <th>coordinates</th>\n",
       "    </tr>\n",
       "    <tr>\n",
       "      <th>clusterA</th>\n",
       "      <th></th>\n",
       "      <th></th>\n",
       "      <th></th>\n",
       "      <th></th>\n",
       "      <th></th>\n",
       "      <th></th>\n",
       "      <th></th>\n",
       "      <th></th>\n",
       "      <th></th>\n",
       "    </tr>\n",
       "  </thead>\n",
       "  <tbody>\n",
       "    <tr>\n",
       "      <th>0</th>\n",
       "      <td>854</td>\n",
       "      <td>854</td>\n",
       "      <td>854</td>\n",
       "      <td>854</td>\n",
       "      <td>854</td>\n",
       "      <td>7</td>\n",
       "      <td>854</td>\n",
       "      <td>854</td>\n",
       "      <td>7</td>\n",
       "    </tr>\n",
       "    <tr>\n",
       "      <th>1</th>\n",
       "      <td>84</td>\n",
       "      <td>84</td>\n",
       "      <td>84</td>\n",
       "      <td>84</td>\n",
       "      <td>84</td>\n",
       "      <td>0</td>\n",
       "      <td>84</td>\n",
       "      <td>84</td>\n",
       "      <td>0</td>\n",
       "    </tr>\n",
       "  </tbody>\n",
       "</table>\n",
       "</div>"
      ],
      "text/plain": [
       "          date  text  favorite_count  favorited  language  geocode  \\\n",
       "clusterA                                                             \n",
       "0          854   854             854        854       854        7   \n",
       "1           84    84              84         84        84        0   \n",
       "\n",
       "          retweet count  retweeted  coordinates  \n",
       "clusterA                                         \n",
       "0                   854        854            7  \n",
       "1                    84         84            0  "
      ]
     },
     "execution_count": 137,
     "metadata": {},
     "output_type": "execute_result"
    }
   ],
   "source": [
    "politics_df.groupby('clusterA').count()"
   ]
  },
  {
   "cell_type": "code",
   "execution_count": 138,
   "metadata": {
    "collapsed": false
   },
   "outputs": [
    {
     "name": "stdout",
     "output_type": "stream",
     "text": [
      "0.23331959556\n"
     ]
    },
    {
     "data": {
      "text/html": [
       "<div>\n",
       "<table border=\"1\" class=\"dataframe\">\n",
       "  <thead>\n",
       "    <tr style=\"text-align: right;\">\n",
       "      <th></th>\n",
       "      <th>date</th>\n",
       "      <th>text</th>\n",
       "      <th>favorite_count</th>\n",
       "      <th>favorited</th>\n",
       "      <th>language</th>\n",
       "      <th>geocode</th>\n",
       "      <th>retweet count</th>\n",
       "      <th>retweeted</th>\n",
       "      <th>coordinates</th>\n",
       "      <th>clusterA</th>\n",
       "      <th>clusterB</th>\n",
       "    </tr>\n",
       "  </thead>\n",
       "  <tbody>\n",
       "    <tr>\n",
       "      <th>0</th>\n",
       "      <td>2016-12-02 01:51:04</td>\n",
       "      <td>RT @JacloPac: The lack of growth over the last...</td>\n",
       "      <td>0</td>\n",
       "      <td>False</td>\n",
       "      <td>en</td>\n",
       "      <td>None</td>\n",
       "      <td>11</td>\n",
       "      <td>False</td>\n",
       "      <td>None</td>\n",
       "      <td>1</td>\n",
       "      <td>1</td>\n",
       "    </tr>\n",
       "    <tr>\n",
       "      <th>1</th>\n",
       "      <td>2016-12-01 23:26:25</td>\n",
       "      <td>RT @JacloPac: The lack of growth over the last...</td>\n",
       "      <td>0</td>\n",
       "      <td>False</td>\n",
       "      <td>en</td>\n",
       "      <td>None</td>\n",
       "      <td>11</td>\n",
       "      <td>False</td>\n",
       "      <td>None</td>\n",
       "      <td>1</td>\n",
       "      <td>1</td>\n",
       "    </tr>\n",
       "    <tr>\n",
       "      <th>2</th>\n",
       "      <td>2016-12-01 22:44:01</td>\n",
       "      <td>RT @JacloPac: The lack of growth over the last...</td>\n",
       "      <td>0</td>\n",
       "      <td>False</td>\n",
       "      <td>en</td>\n",
       "      <td>None</td>\n",
       "      <td>11</td>\n",
       "      <td>False</td>\n",
       "      <td>None</td>\n",
       "      <td>1</td>\n",
       "      <td>1</td>\n",
       "    </tr>\n",
       "    <tr>\n",
       "      <th>3</th>\n",
       "      <td>2016-12-01 22:02:30</td>\n",
       "      <td>RT @JacloPac: The lack of growth over the last...</td>\n",
       "      <td>0</td>\n",
       "      <td>False</td>\n",
       "      <td>en</td>\n",
       "      <td>None</td>\n",
       "      <td>11</td>\n",
       "      <td>False</td>\n",
       "      <td>None</td>\n",
       "      <td>1</td>\n",
       "      <td>1</td>\n",
       "    </tr>\n",
       "    <tr>\n",
       "      <th>4</th>\n",
       "      <td>2016-12-01 20:28:59</td>\n",
       "      <td>@business #cronycapitalism and #republican #hy...</td>\n",
       "      <td>0</td>\n",
       "      <td>False</td>\n",
       "      <td>en</td>\n",
       "      <td>None</td>\n",
       "      <td>0</td>\n",
       "      <td>False</td>\n",
       "      <td>None</td>\n",
       "      <td>0</td>\n",
       "      <td>2</td>\n",
       "    </tr>\n",
       "  </tbody>\n",
       "</table>\n",
       "</div>"
      ],
      "text/plain": [
       "                 date                                               text  \\\n",
       "0 2016-12-02 01:51:04  RT @JacloPac: The lack of growth over the last...   \n",
       "1 2016-12-01 23:26:25  RT @JacloPac: The lack of growth over the last...   \n",
       "2 2016-12-01 22:44:01  RT @JacloPac: The lack of growth over the last...   \n",
       "3 2016-12-01 22:02:30  RT @JacloPac: The lack of growth over the last...   \n",
       "4 2016-12-01 20:28:59  @business #cronycapitalism and #republican #hy...   \n",
       "\n",
       "   favorite_count favorited language geocode  retweet count retweeted  \\\n",
       "0               0     False       en    None             11     False   \n",
       "1               0     False       en    None             11     False   \n",
       "2               0     False       en    None             11     False   \n",
       "3               0     False       en    None             11     False   \n",
       "4               0     False       en    None              0     False   \n",
       "\n",
       "  coordinates  clusterA  clusterB  \n",
       "0        None         1         1  \n",
       "1        None         1         1  \n",
       "2        None         1         1  \n",
       "3        None         1         1  \n",
       "4        None         0         2  "
      ]
     },
     "execution_count": 138,
     "metadata": {},
     "output_type": "execute_result"
    }
   ],
   "source": [
    "km = KMeans(n_clusters=5, random_state=1)\n",
    "km.fit(count_df)\n",
    "print metrics.silhouette_score(count_df, km.labels_)\n",
    "politics_df['clusterB'] = km.labels_\n",
    "politics_df.head()"
   ]
  },
  {
   "cell_type": "code",
   "execution_count": 139,
   "metadata": {
    "collapsed": false
   },
   "outputs": [
    {
     "data": {
      "text/html": [
       "<div>\n",
       "<table border=\"1\" class=\"dataframe\">\n",
       "  <thead>\n",
       "    <tr style=\"text-align: right;\">\n",
       "      <th></th>\n",
       "      <th>date</th>\n",
       "      <th>text</th>\n",
       "      <th>favorite_count</th>\n",
       "      <th>favorited</th>\n",
       "      <th>language</th>\n",
       "      <th>geocode</th>\n",
       "      <th>retweet count</th>\n",
       "      <th>retweeted</th>\n",
       "      <th>coordinates</th>\n",
       "      <th>clusterA</th>\n",
       "    </tr>\n",
       "    <tr>\n",
       "      <th>clusterB</th>\n",
       "      <th></th>\n",
       "      <th></th>\n",
       "      <th></th>\n",
       "      <th></th>\n",
       "      <th></th>\n",
       "      <th></th>\n",
       "      <th></th>\n",
       "      <th></th>\n",
       "      <th></th>\n",
       "      <th></th>\n",
       "    </tr>\n",
       "  </thead>\n",
       "  <tbody>\n",
       "    <tr>\n",
       "      <th>0</th>\n",
       "      <td>14</td>\n",
       "      <td>14</td>\n",
       "      <td>14</td>\n",
       "      <td>14</td>\n",
       "      <td>14</td>\n",
       "      <td>0</td>\n",
       "      <td>14</td>\n",
       "      <td>14</td>\n",
       "      <td>0</td>\n",
       "      <td>14</td>\n",
       "    </tr>\n",
       "    <tr>\n",
       "      <th>1</th>\n",
       "      <td>84</td>\n",
       "      <td>84</td>\n",
       "      <td>84</td>\n",
       "      <td>84</td>\n",
       "      <td>84</td>\n",
       "      <td>0</td>\n",
       "      <td>84</td>\n",
       "      <td>84</td>\n",
       "      <td>0</td>\n",
       "      <td>84</td>\n",
       "    </tr>\n",
       "    <tr>\n",
       "      <th>2</th>\n",
       "      <td>280</td>\n",
       "      <td>280</td>\n",
       "      <td>280</td>\n",
       "      <td>280</td>\n",
       "      <td>280</td>\n",
       "      <td>7</td>\n",
       "      <td>280</td>\n",
       "      <td>280</td>\n",
       "      <td>7</td>\n",
       "      <td>280</td>\n",
       "    </tr>\n",
       "    <tr>\n",
       "      <th>3</th>\n",
       "      <td>539</td>\n",
       "      <td>539</td>\n",
       "      <td>539</td>\n",
       "      <td>539</td>\n",
       "      <td>539</td>\n",
       "      <td>0</td>\n",
       "      <td>539</td>\n",
       "      <td>539</td>\n",
       "      <td>0</td>\n",
       "      <td>539</td>\n",
       "    </tr>\n",
       "    <tr>\n",
       "      <th>4</th>\n",
       "      <td>21</td>\n",
       "      <td>21</td>\n",
       "      <td>21</td>\n",
       "      <td>21</td>\n",
       "      <td>21</td>\n",
       "      <td>0</td>\n",
       "      <td>21</td>\n",
       "      <td>21</td>\n",
       "      <td>0</td>\n",
       "      <td>21</td>\n",
       "    </tr>\n",
       "  </tbody>\n",
       "</table>\n",
       "</div>"
      ],
      "text/plain": [
       "          date  text  favorite_count  favorited  language  geocode  \\\n",
       "clusterB                                                             \n",
       "0           14    14              14         14        14        0   \n",
       "1           84    84              84         84        84        0   \n",
       "2          280   280             280        280       280        7   \n",
       "3          539   539             539        539       539        0   \n",
       "4           21    21              21         21        21        0   \n",
       "\n",
       "          retweet count  retweeted  coordinates  clusterA  \n",
       "clusterB                                                   \n",
       "0                    14         14            0        14  \n",
       "1                    84         84            0        84  \n",
       "2                   280        280            7       280  \n",
       "3                   539        539            0       539  \n",
       "4                    21         21            0        21  "
      ]
     },
     "execution_count": 139,
     "metadata": {},
     "output_type": "execute_result"
    }
   ],
   "source": [
    "politics_df.groupby('clusterB').count()"
   ]
  },
  {
   "cell_type": "code",
   "execution_count": 140,
   "metadata": {
    "collapsed": false
   },
   "outputs": [
    {
     "data": {
      "text/plain": [
       "clusterB\n",
       "0     14\n",
       "1     84\n",
       "2    280\n",
       "3    539\n",
       "4     21\n",
       "Name: retweeted, dtype: int64"
      ]
     },
     "execution_count": 140,
     "metadata": {},
     "output_type": "execute_result"
    }
   ],
   "source": [
    "politics_df.groupby('clusterB')['retweeted'].count()"
   ]
  },
  {
   "cell_type": "code",
   "execution_count": null,
   "metadata": {
    "collapsed": true
   },
   "outputs": [],
   "source": [
    "# 11. cross validate and create the best possible supervised model for your new clusters on your new daa\n",
    "# You may use the music data if you wish"
   ]
  },
  {
   "cell_type": "code",
   "execution_count": null,
   "metadata": {
    "collapsed": true
   },
   "outputs": [],
   "source": []
  },
  {
   "cell_type": "code",
   "execution_count": null,
   "metadata": {
    "collapsed": true
   },
   "outputs": [],
   "source": []
  },
  {
   "cell_type": "code",
   "execution_count": null,
   "metadata": {
    "collapsed": true
   },
   "outputs": [],
   "source": []
  },
  {
   "cell_type": "code",
   "execution_count": null,
   "metadata": {
    "collapsed": true
   },
   "outputs": [],
   "source": []
  },
  {
   "cell_type": "code",
   "execution_count": null,
   "metadata": {
    "collapsed": true
   },
   "outputs": [],
   "source": []
  },
  {
   "cell_type": "code",
   "execution_count": null,
   "metadata": {
    "collapsed": true
   },
   "outputs": [],
   "source": []
  },
  {
   "cell_type": "code",
   "execution_count": null,
   "metadata": {
    "collapsed": true
   },
   "outputs": [],
   "source": []
  },
  {
   "cell_type": "code",
   "execution_count": null,
   "metadata": {
    "collapsed": true
   },
   "outputs": [],
   "source": []
  }
 ],
 "metadata": {
  "anaconda-cloud": {},
  "kernelspec": {
   "display_name": "Python [conda env:stanleyyork]",
   "language": "python",
   "name": "conda-env-stanleyyork-py"
  },
  "language_info": {
   "codemirror_mode": {
    "name": "ipython",
    "version": 2
   },
   "file_extension": ".py",
   "mimetype": "text/x-python",
   "name": "python",
   "nbconvert_exporter": "python",
   "pygments_lexer": "ipython2",
   "version": "2.7.12"
  }
 },
 "nbformat": 4,
 "nbformat_minor": 0
}
