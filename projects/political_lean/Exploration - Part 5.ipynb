{
 "cells": [
  {
   "cell_type": "code",
   "execution_count": 1,
   "metadata": {
    "collapsed": true
   },
   "outputs": [],
   "source": [
    "from goose import Goose\n",
    "import pandas as pd\n",
    "import numpy as np\n",
    "from sklearn.feature_extraction.text import CountVectorizer, TfidfVectorizer\n",
    "from sklearn.cross_validation import train_test_split, cross_val_score, cross_val_predict\n",
    "from sklearn.linear_model import LogisticRegression\n",
    "from sklearn.pipeline import Pipeline, FeatureUnion, make_pipeline, make_union\n",
    "from sklearn.naive_bayes import MultinomialNB\n",
    "from sklearn.grid_search import GridSearchCV\n",
    "from bs4 import BeautifulSoup\n",
    "from sklearn.neighbors import KNeighborsClassifier\n",
    "from textblob import TextBlob, Word\n",
    "from sklearn.base import TransformerMixin\n",
    "from sklearn import metrics\n",
    "from sklearn.naive_bayes import GaussianNB\n",
    "import matplotlib.pyplot as plt\n",
    "from sklearn.grid_search import GridSearchCV\n",
    "import datetime\n",
    "import heapq\n",
    "%matplotlib inline"
   ]
  },
  {
   "cell_type": "code",
   "execution_count": 2,
   "metadata": {
    "collapsed": true
   },
   "outputs": [],
   "source": [
    "use_columns = ['url_raw', 'url_clean', 'url_domain', 'ugly_text', 'issue', 'political lean', 'title', 'meta_description', 'cleaned_text']\n",
    "pld = pd.read_csv('0_27439_5_06_pm_12_9_16.csv', usecols=use_columns)"
   ]
  },
  {
   "cell_type": "code",
   "execution_count": 3,
   "metadata": {
    "collapsed": false
   },
   "outputs": [
    {
     "name": "stdout",
     "output_type": "stream",
     "text": [
      "Present: 21224\n",
      "Not Present: 6216\n"
     ]
    }
   ],
   "source": [
    "present = pld[pld.cleaned_text.notnull()].cleaned_text.count()\n",
    "print \"Present: \" + str(present)\n",
    "print \"Not Present: \" + str(pld['url_raw'].count() - present)\n",
    "pld_text = pld[pld.cleaned_text.notnull()]"
   ]
  },
  {
   "cell_type": "code",
   "execution_count": 336,
   "metadata": {
    "collapsed": false
   },
   "outputs": [
    {
     "data": {
      "text/html": [
       "<div>\n",
       "<table border=\"1\" class=\"dataframe\">\n",
       "  <thead>\n",
       "    <tr style=\"text-align: right;\">\n",
       "      <th></th>\n",
       "      <th>url_raw</th>\n",
       "      <th>url_clean</th>\n",
       "      <th>url_domain</th>\n",
       "      <th>ugly_text</th>\n",
       "      <th>issue</th>\n",
       "      <th>political lean</th>\n",
       "      <th>title</th>\n",
       "      <th>meta_description</th>\n",
       "      <th>cleaned_text</th>\n",
       "      <th>length</th>\n",
       "      <th>political lean integer</th>\n",
       "    </tr>\n",
       "  </thead>\n",
       "  <tbody>\n",
       "    <tr>\n",
       "      <th>0</th>\n",
       "      <td>https://www.washingtonpost.com/news/post-natio...</td>\n",
       "      <td>washingtonpost.com/news/post-nation/wp/2016/05...</td>\n",
       "      <td>washingtonpost.com</td>\n",
       "      <td>2         Desktop notifications are ...</td>\n",
       "      <td>abortion</td>\n",
       "      <td>Lean Left</td>\n",
       "      <td>‘A target on Roe v. Wade ’: Oklahoma bill maki...</td>\n",
       "      <td>Gov. Mary Fallin (R) has not said if she plans...</td>\n",
       "      <td>UPDATE: Gov. Fallin vetoed the bill on Friday....</td>\n",
       "      <td>6839</td>\n",
       "      <td>2</td>\n",
       "    </tr>\n",
       "    <tr>\n",
       "      <th>1</th>\n",
       "      <td>http://www.salon.com/2016/04/07/camille_paglia...</td>\n",
       "      <td>salon.com/2016/04/07/camille_paglia_feminists_...</td>\n",
       "      <td>salon.com</td>\n",
       "      <td>\\n\\n\\t\\n\\t\\t\\n\\t\\t\\t\\n\\t\\t\\t\\t\\n\\t\\t\\t\\t\\t\\n\\t...</td>\n",
       "      <td>abortion</td>\n",
       "      <td>Left</td>\n",
       "      <td>Camille Paglia: Feminists have abortion wrong,...</td>\n",
       "      <td>Reproductive rights have become ideological to...</td>\n",
       "      <td>While the Hillary flap was merely a blip, give...</td>\n",
       "      <td>12083</td>\n",
       "      <td>1</td>\n",
       "    </tr>\n",
       "    <tr>\n",
       "      <th>2</th>\n",
       "      <td>http://www.vox.com/2016/3/20/11269226/texas-ab...</td>\n",
       "      <td>vox.com/2016/3/20/11269226/texas-abortion-wome...</td>\n",
       "      <td>vox.com</td>\n",
       "      <td>\\n    \\n    \\n\\n(function(w,d,s,l,i){w[l]=w[l]...</td>\n",
       "      <td>abortion</td>\n",
       "      <td>Lean Left</td>\n",
       "      <td>Study: women had to drive 4 times farther afte...</td>\n",
       "      <td>Here's exactly how Texas anti-abortion laws bu...</td>\n",
       "      <td>Ever since Texas laws closed about half of the...</td>\n",
       "      <td>4052</td>\n",
       "      <td>2</td>\n",
       "    </tr>\n",
       "    <tr>\n",
       "      <th>3</th>\n",
       "      <td>http://www.huffingtonpost.com/entry/john-kasic...</td>\n",
       "      <td>huffingtonpost.com/entry/john-kasich-planned-p...</td>\n",
       "      <td>huffingtonpost.com</td>\n",
       "      <td>\\n\\n\\n\\r\\nh2.mp_title { line-height: 1.0; marg...</td>\n",
       "      <td>abortion</td>\n",
       "      <td>Left</td>\n",
       "      <td>Moderate John Kasich Just Defunded Planned Par...</td>\n",
       "      <td>The bill will strip $1.3 million that was dest...</td>\n",
       "      <td>While the bill grants an exemption to abortion...</td>\n",
       "      <td>2779</td>\n",
       "      <td>1</td>\n",
       "    </tr>\n",
       "    <tr>\n",
       "      <th>4</th>\n",
       "      <td>http://www.wsj.com/articles/hillary-clinton-an...</td>\n",
       "      <td>wsj.com/articles/hillary-clinton-and-donald-tr...</td>\n",
       "      <td>wsj.com</td>\n",
       "      <td>\\n\\n    \\n\\n    \\n\\n    \\n\\n    \\n      \\n    ...</td>\n",
       "      <td>abortion</td>\n",
       "      <td>Center</td>\n",
       "      <td>Hillary Clinton and Donald Trump Duel Over Hig...</td>\n",
       "      <td>Donald Trump and Hillary Clinton plunged into ...</td>\n",
       "      <td>The long-expected endorsement by President Bar...</td>\n",
       "      <td>675</td>\n",
       "      <td>3</td>\n",
       "    </tr>\n",
       "  </tbody>\n",
       "</table>\n",
       "</div>"
      ],
      "text/plain": [
       "                                             url_raw  \\\n",
       "0  https://www.washingtonpost.com/news/post-natio...   \n",
       "1  http://www.salon.com/2016/04/07/camille_paglia...   \n",
       "2  http://www.vox.com/2016/3/20/11269226/texas-ab...   \n",
       "3  http://www.huffingtonpost.com/entry/john-kasic...   \n",
       "4  http://www.wsj.com/articles/hillary-clinton-an...   \n",
       "\n",
       "                                           url_clean          url_domain  \\\n",
       "0  washingtonpost.com/news/post-nation/wp/2016/05...  washingtonpost.com   \n",
       "1  salon.com/2016/04/07/camille_paglia_feminists_...           salon.com   \n",
       "2  vox.com/2016/3/20/11269226/texas-abortion-wome...             vox.com   \n",
       "3  huffingtonpost.com/entry/john-kasich-planned-p...  huffingtonpost.com   \n",
       "4  wsj.com/articles/hillary-clinton-and-donald-tr...             wsj.com   \n",
       "\n",
       "                                           ugly_text     issue political lean  \\\n",
       "0            2         Desktop notifications are ...  abortion      Lean Left   \n",
       "1  \\n\\n\\t\\n\\t\\t\\n\\t\\t\\t\\n\\t\\t\\t\\t\\n\\t\\t\\t\\t\\t\\n\\t...  abortion           Left   \n",
       "2  \\n    \\n    \\n\\n(function(w,d,s,l,i){w[l]=w[l]...  abortion      Lean Left   \n",
       "3  \\n\\n\\n\\r\\nh2.mp_title { line-height: 1.0; marg...  abortion           Left   \n",
       "4  \\n\\n    \\n\\n    \\n\\n    \\n\\n    \\n      \\n    ...  abortion         Center   \n",
       "\n",
       "                                               title  \\\n",
       "0  ‘A target on Roe v. Wade ’: Oklahoma bill maki...   \n",
       "1  Camille Paglia: Feminists have abortion wrong,...   \n",
       "2  Study: women had to drive 4 times farther afte...   \n",
       "3  Moderate John Kasich Just Defunded Planned Par...   \n",
       "4  Hillary Clinton and Donald Trump Duel Over Hig...   \n",
       "\n",
       "                                    meta_description  \\\n",
       "0  Gov. Mary Fallin (R) has not said if she plans...   \n",
       "1  Reproductive rights have become ideological to...   \n",
       "2  Here's exactly how Texas anti-abortion laws bu...   \n",
       "3  The bill will strip $1.3 million that was dest...   \n",
       "4  Donald Trump and Hillary Clinton plunged into ...   \n",
       "\n",
       "                                        cleaned_text  length  \\\n",
       "0  UPDATE: Gov. Fallin vetoed the bill on Friday....    6839   \n",
       "1  While the Hillary flap was merely a blip, give...   12083   \n",
       "2  Ever since Texas laws closed about half of the...    4052   \n",
       "3  While the bill grants an exemption to abortion...    2779   \n",
       "4  The long-expected endorsement by President Bar...     675   \n",
       "\n",
       "   political lean integer  \n",
       "0                       2  \n",
       "1                       1  \n",
       "2                       2  \n",
       "3                       1  \n",
       "4                       3  "
      ]
     },
     "execution_count": 336,
     "metadata": {},
     "output_type": "execute_result"
    }
   ],
   "source": [
    "pld_text.head()"
   ]
  },
  {
   "cell_type": "markdown",
   "metadata": {},
   "source": [
    "<b>Custom Transformers</b>"
   ]
  },
  {
   "cell_type": "code",
   "execution_count": 4,
   "metadata": {
    "collapsed": true
   },
   "outputs": [],
   "source": [
    "class Url(TransformerMixin):\n",
    "\n",
    "    def transform(self, X, **transform_params):\n",
    "        urls = self.vect.transform(X.url_raw)\n",
    "        return urls\n",
    "\n",
    "    def fit(self, X, y=None, **fit_params):\n",
    "        self.vect = CountVectorizer(**fit_params)\n",
    "        self.vect.fit(X.url_raw)\n",
    "        return self\n",
    "    \n",
    "class Domain(TransformerMixin):\n",
    "\n",
    "    def transform(self, X, **transform_params):\n",
    "        domains = self.vect.transform(X.url_domain)\n",
    "        return domains\n",
    "\n",
    "    def fit(self, X, y=None, **fit_params):\n",
    "        self.vect = CountVectorizer(**fit_params)\n",
    "        self.vect.fit(X.url_domain)\n",
    "        return self\n",
    "    \n",
    "class GetText(TransformerMixin):\n",
    "\n",
    "    def transform(self, X, **transform_params):\n",
    "        text = X.cleaned_text\n",
    "        return text\n",
    "\n",
    "    def fit(self, X, y=None, **fit_params):\n",
    "        return self"
   ]
  },
  {
   "cell_type": "markdown",
   "metadata": {},
   "source": [
    "<b>Model Testing: text, url & domain</b>"
   ]
  },
  {
   "cell_type": "code",
   "execution_count": 30,
   "metadata": {
    "collapsed": false
   },
   "outputs": [
    {
     "name": "stdout",
     "output_type": "stream",
     "text": [
      "0.911465142077\n",
      "0:43:13.239979\n"
     ]
    }
   ],
   "source": [
    "time = datetime.datetime.now()\n",
    "\n",
    "pipe = Pipeline([\n",
    "  ('features', FeatureUnion([\n",
    "    ('word', Pipeline([\n",
    "      ('gettext', GetText()),\n",
    "      ('counts', CountVectorizer(ngram_range=(1,2), min_df=4))\n",
    "    ])),\n",
    "    ('domain', Domain()),\n",
    "    ('url', Url())\n",
    "  ])),\n",
    "  ('logreg', LogisticRegression())\n",
    "])\n",
    "\n",
    "print cross_val_score(pipe, pld_text, pld_text['political lean'], cv=5, scoring='accuracy', n_jobs=-1).mean()\n",
    "print datetime.datetime.now() - time"
   ]
  },
  {
   "cell_type": "markdown",
   "metadata": {},
   "source": [
    "<b>Model Testing: url</b>"
   ]
  },
  {
   "cell_type": "code",
   "execution_count": 31,
   "metadata": {
    "collapsed": false
   },
   "outputs": [
    {
     "name": "stdout",
     "output_type": "stream",
     "text": [
      "0.974270223954\n",
      "0:00:43.978753\n"
     ]
    }
   ],
   "source": [
    "time = datetime.datetime.now()\n",
    "\n",
    "pipe = Pipeline([\n",
    "  ('features', FeatureUnion([('url', Url())])),\n",
    "  ('logreg', LogisticRegression())\n",
    "])\n",
    "\n",
    "print cross_val_score(pipe, pld, pld['political lean'], cv=5, scoring='accuracy', n_jobs=-1).mean()\n",
    "print datetime.datetime.now() - time"
   ]
  },
  {
   "cell_type": "markdown",
   "metadata": {},
   "source": [
    "<b>Model Testing: domain</b>"
   ]
  },
  {
   "cell_type": "code",
   "execution_count": 32,
   "metadata": {
    "collapsed": false
   },
   "outputs": [
    {
     "name": "stdout",
     "output_type": "stream",
     "text": [
      "0.977842377062\n",
      "0:00:29.895654\n"
     ]
    }
   ],
   "source": [
    "time = datetime.datetime.now()\n",
    "\n",
    "pipe = Pipeline([\n",
    "  ('features', FeatureUnion([('domain', Domain())])),\n",
    "  ('logreg', LogisticRegression())\n",
    "])\n",
    "\n",
    "print cross_val_score(pipe, pld, pld['political lean'], cv=5, scoring='accuracy', n_jobs=-1).mean()\n",
    "print datetime.datetime.now() - time"
   ]
  },
  {
   "cell_type": "markdown",
   "metadata": {},
   "source": [
    "<b>Model A: text, url & domain</b>"
   ]
  },
  {
   "cell_type": "code",
   "execution_count": 112,
   "metadata": {
    "collapsed": false
   },
   "outputs": [
    {
     "name": "stderr",
     "output_type": "stream",
     "text": [
      "/Users/stanleystevensWhistle/miniconda2/envs/stanleyyork/lib/python2.7/site-packages/sklearn/utils/__init__.py:93: DeprecationWarning: Function transform is deprecated; Support to use estimators as feature selectors will be removed in version 0.19. Use SelectFromModel instead.\n",
      "  warnings.warn(msg, category=DeprecationWarning)\n"
     ]
    },
    {
     "name": "stdout",
     "output_type": "stream",
     "text": [
      "0:08:29.131664\n"
     ]
    }
   ],
   "source": [
    "time = datetime.datetime.now()\n",
    "modelA = Pipeline([\n",
    "  ('features', FeatureUnion([\n",
    "    ('word', Pipeline([\n",
    "      ('gettext', GetText()),\n",
    "      ('counts', CountVectorizer(ngram_range=(1,2), min_df=4))\n",
    "    ])),\n",
    "    ('domain', Domain()),\n",
    "    ('url', Url())\n",
    "  ])),\n",
    "  ('logreg', LogisticRegression())\n",
    "])\n",
    "\n",
    "modelA.fit_transform(pld_text, pld_text['political lean'])\n",
    "print datetime.datetime.now() - time"
   ]
  },
  {
   "cell_type": "markdown",
   "metadata": {},
   "source": [
    "<b>Model B: domain</b>"
   ]
  },
  {
   "cell_type": "code",
   "execution_count": 113,
   "metadata": {
    "collapsed": false
   },
   "outputs": [
    {
     "name": "stdout",
     "output_type": "stream",
     "text": [
      "0:00:00.574464\n"
     ]
    },
    {
     "name": "stderr",
     "output_type": "stream",
     "text": [
      "/Users/stanleystevensWhistle/miniconda2/envs/stanleyyork/lib/python2.7/site-packages/sklearn/utils/__init__.py:93: DeprecationWarning: Function transform is deprecated; Support to use estimators as feature selectors will be removed in version 0.19. Use SelectFromModel instead.\n",
      "  warnings.warn(msg, category=DeprecationWarning)\n"
     ]
    }
   ],
   "source": [
    "time = datetime.datetime.now()\n",
    "modelB = Pipeline([\n",
    "  ('features', FeatureUnion([('domain', Domain())])),\n",
    "  ('logreg', LogisticRegression())\n",
    "])\n",
    "\n",
    "modelB.fit_transform(pld, pld['political lean'])\n",
    "print datetime.datetime.now() - time"
   ]
  },
  {
   "cell_type": "markdown",
   "metadata": {},
   "source": [
    "<b>Clare Legere: political folder</b>"
   ]
  },
  {
   "cell_type": "code",
   "execution_count": 114,
   "metadata": {
    "collapsed": true
   },
   "outputs": [],
   "source": [
    "political_folder = pd.read_csv('https://dataclips.heroku.com/heuwkhqdpstqyonvfywticdmeuir-political_bookmarks.csv')\n",
    "political_folder=political_folder.rename(columns = {'bookmark_text':'cleaned_text'})\n",
    "political_folder=political_folder.rename(columns = {'clean_url':'url_domain'})\n",
    "political_folder=political_folder.rename(columns = {'url':'url_raw'})"
   ]
  },
  {
   "cell_type": "code",
   "execution_count": 115,
   "metadata": {
    "collapsed": false
   },
   "outputs": [],
   "source": [
    "modelA_result = modelA.predict(political_folder)\n",
    "modelB_result = modelB.predict(political_folder)\n",
    "\n",
    "modelA_proba_result = modelA.predict_proba(political_folder)\n",
    "modelB_proba_result = modelB.predict_proba(political_folder)\n",
    "\n",
    "highestA = []\n",
    "second_highest_a = []\n",
    "for p in modelA_proba_result:\n",
    "    highestA.append(max(p))\n",
    "    second_highest_a.append(heapq.nlargest(2, p)[1])\n",
    "    \n",
    "highestB = []\n",
    "second_highest_b = []\n",
    "for p in modelB_proba_result:\n",
    "    highestB.append(max(p))\n",
    "    second_highest_b.append(heapq.nlargest(2, p)[1])\n",
    "\n",
    "modelA_proba_df = pd.DataFrame(data=modelA_proba_result, columns=['Center','Lean Left','Lean Right','Left','Mixed','Not Rated','Right'])\n",
    "modelB_proba_df = pd.DataFrame(data=modelB_proba_result, columns=['Center','Lean Left','Lean Right','Left','Mixed','Not Rated','Right'])\n",
    "modelA_cat_df = pd.DataFrame(data={'political_lean': modelA_result, 'pl_score': highestA, 'pl_2': second_highest_a}, columns=['political_lean','pl_score', 'pl_2'])\n",
    "modelB_cat_df = pd.DataFrame(data={'political_lean': modelB_result, 'pl_score': highestB, 'pl_2': second_highest_b}, columns=['political_lean', 'pl_score', 'pl_2'])"
   ]
  },
  {
   "cell_type": "code",
   "execution_count": 116,
   "metadata": {
    "collapsed": false
   },
   "outputs": [],
   "source": [
    "modelA_df = pd.concat([modelA_cat_df, modelA_proba_df], axis=1, join='inner')\n",
    "modelB_df = pd.concat([modelB_cat_df, modelB_proba_df], axis=1, join='inner')"
   ]
  },
  {
   "cell_type": "code",
   "execution_count": 117,
   "metadata": {
    "collapsed": false
   },
   "outputs": [
    {
     "data": {
      "text/html": [
       "<div>\n",
       "<table border=\"1\" class=\"dataframe\">\n",
       "  <thead>\n",
       "    <tr style=\"text-align: right;\">\n",
       "      <th></th>\n",
       "      <th>political_lean</th>\n",
       "      <th>pl_score</th>\n",
       "      <th>pl_2</th>\n",
       "      <th>Center</th>\n",
       "      <th>Lean Left</th>\n",
       "      <th>Lean Right</th>\n",
       "      <th>Left</th>\n",
       "      <th>Mixed</th>\n",
       "      <th>Not Rated</th>\n",
       "      <th>Right</th>\n",
       "    </tr>\n",
       "  </thead>\n",
       "  <tbody>\n",
       "    <tr>\n",
       "      <th>0</th>\n",
       "      <td>Lean Left</td>\n",
       "      <td>0.343981</td>\n",
       "      <td>0.312428</td>\n",
       "      <td>0.312428</td>\n",
       "      <td>0.343981</td>\n",
       "      <td>9.731372e-03</td>\n",
       "      <td>0.092585</td>\n",
       "      <td>6.960549e-07</td>\n",
       "      <td>1.442764e-02</td>\n",
       "      <td>2.268459e-01</td>\n",
       "    </tr>\n",
       "    <tr>\n",
       "      <th>1</th>\n",
       "      <td>Right</td>\n",
       "      <td>0.403578</td>\n",
       "      <td>0.299196</td>\n",
       "      <td>0.299196</td>\n",
       "      <td>0.295270</td>\n",
       "      <td>4.230989e-04</td>\n",
       "      <td>0.000508</td>\n",
       "      <td>3.645267e-16</td>\n",
       "      <td>1.024668e-03</td>\n",
       "      <td>4.035784e-01</td>\n",
       "    </tr>\n",
       "    <tr>\n",
       "      <th>2</th>\n",
       "      <td>Center</td>\n",
       "      <td>0.676759</td>\n",
       "      <td>0.272350</td>\n",
       "      <td>0.676759</td>\n",
       "      <td>0.015633</td>\n",
       "      <td>6.002714e-03</td>\n",
       "      <td>0.016857</td>\n",
       "      <td>6.151554e-03</td>\n",
       "      <td>6.246875e-03</td>\n",
       "      <td>2.723499e-01</td>\n",
       "    </tr>\n",
       "    <tr>\n",
       "      <th>3</th>\n",
       "      <td>Right</td>\n",
       "      <td>0.827688</td>\n",
       "      <td>0.145149</td>\n",
       "      <td>0.003597</td>\n",
       "      <td>0.002865</td>\n",
       "      <td>2.557198e-04</td>\n",
       "      <td>0.020446</td>\n",
       "      <td>8.847689e-12</td>\n",
       "      <td>1.451485e-01</td>\n",
       "      <td>8.276877e-01</td>\n",
       "    </tr>\n",
       "    <tr>\n",
       "      <th>4</th>\n",
       "      <td>Center</td>\n",
       "      <td>0.999824</td>\n",
       "      <td>0.000174</td>\n",
       "      <td>0.999824</td>\n",
       "      <td>0.000002</td>\n",
       "      <td>3.040299e-14</td>\n",
       "      <td>0.000174</td>\n",
       "      <td>1.043660e-52</td>\n",
       "      <td>1.073472e-11</td>\n",
       "      <td>5.225289e-13</td>\n",
       "    </tr>\n",
       "  </tbody>\n",
       "</table>\n",
       "</div>"
      ],
      "text/plain": [
       "  political_lean  pl_score      pl_2    Center  Lean Left    Lean Right  \\\n",
       "0      Lean Left  0.343981  0.312428  0.312428   0.343981  9.731372e-03   \n",
       "1          Right  0.403578  0.299196  0.299196   0.295270  4.230989e-04   \n",
       "2         Center  0.676759  0.272350  0.676759   0.015633  6.002714e-03   \n",
       "3          Right  0.827688  0.145149  0.003597   0.002865  2.557198e-04   \n",
       "4         Center  0.999824  0.000174  0.999824   0.000002  3.040299e-14   \n",
       "\n",
       "       Left         Mixed     Not Rated         Right  \n",
       "0  0.092585  6.960549e-07  1.442764e-02  2.268459e-01  \n",
       "1  0.000508  3.645267e-16  1.024668e-03  4.035784e-01  \n",
       "2  0.016857  6.151554e-03  6.246875e-03  2.723499e-01  \n",
       "3  0.020446  8.847689e-12  1.451485e-01  8.276877e-01  \n",
       "4  0.000174  1.043660e-52  1.073472e-11  5.225289e-13  "
      ]
     },
     "execution_count": 117,
     "metadata": {},
     "output_type": "execute_result"
    }
   ],
   "source": [
    "modelA_df.head()"
   ]
  },
  {
   "cell_type": "code",
   "execution_count": 272,
   "metadata": {
    "collapsed": false
   },
   "outputs": [
    {
     "name": "stdout",
     "output_type": "stream",
     "text": [
      "Possibly too many 'Rights' in Modle A...\n",
      "Lean Left     100\n",
      "Right          85\n",
      "Center         75\n",
      "Left           31\n",
      "Lean Right     12\n",
      "Not rated       9\n",
      "Name: political_lean, dtype: int64\n"
     ]
    }
   ],
   "source": [
    "print \"Possibly too many 'Rights' in Modle A...\"\n",
    "print modelA_df.political_lean.value_counts()"
   ]
  },
  {
   "cell_type": "code",
   "execution_count": 273,
   "metadata": {
    "collapsed": false
   },
   "outputs": [
    {
     "name": "stdout",
     "output_type": "stream",
     "text": [
      "Center        171\n",
      "Lean Left     102\n",
      "Left           16\n",
      "Not rated      15\n",
      "Right           6\n",
      "Lean Right      2\n",
      "Name: political_lean, dtype: int64\n"
     ]
    }
   ],
   "source": [
    "print modelB_df.political_lean.value_counts()"
   ]
  },
  {
   "cell_type": "code",
   "execution_count": 284,
   "metadata": {
    "collapsed": false
   },
   "outputs": [
    {
     "name": "stdout",
     "output_type": "stream",
     "text": [
      "   Left  Lean Left  Center  Lean Right  Right\n",
      "0    31        100      75          12     85\n",
      "0    16        102     171           2      6\n"
     ]
    },
    {
     "data": {
      "text/plain": [
       "<matplotlib.text.Text at 0x15c2f2390>"
      ]
     },
     "execution_count": 284,
     "metadata": {},
     "output_type": "execute_result"
    },
    {
     "data": {
      "image/png": "[encoded data removed]",
      "text/plain": [
       "<matplotlib.figure.Figure at 0x15c0ee210>"
      ]
     },
     "metadata": {},
     "output_type": "display_data"
    }
   ],
   "source": [
    "A = pd.DataFrame(data=[[31,100,75,12,85]], columns=['Left','Lean Left','Center','Lean Right','Right'])\n",
    "B = pd.DataFrame(data=[[16,102,171,2,6]], columns=['Left','Lean Left','Center','Lean Right','Right'])\n",
    "x = pd.concat([A,B])\n",
    "print x\n",
    "x.plot(kind='bar').set_xlabel(\"(A)                   Models                  (B)\")"
   ]
  },
  {
   "cell_type": "code",
   "execution_count": 119,
   "metadata": {
    "collapsed": false
   },
   "outputs": [],
   "source": [
    "bothModels_df = pd.concat([modelA_cat_df, modelB_cat_df], axis=1, join='inner')\n",
    "bothModels_df.columns = ['A_lean', 'A_score', 'A_second_score', 'B_lean', 'B_score', 'B_second_score']"
   ]
  },
  {
   "cell_type": "code",
   "execution_count": 120,
   "metadata": {
    "collapsed": false
   },
   "outputs": [],
   "source": [
    "bothModels_df['consistent'] = ''\n",
    "for i, row in bothModels_df.iterrows():\n",
    "    value = row.A_lean == row.B_lean\n",
    "    bothModels_df.set_value(i,'consistent', value)"
   ]
  },
  {
   "cell_type": "code",
   "execution_count": 121,
   "metadata": {
    "collapsed": false
   },
   "outputs": [
    {
     "data": {
      "text/html": [
       "<div>\n",
       "<table border=\"1\" class=\"dataframe\">\n",
       "  <thead>\n",
       "    <tr style=\"text-align: right;\">\n",
       "      <th></th>\n",
       "      <th>A_lean</th>\n",
       "      <th>A_score</th>\n",
       "      <th>A_second_score</th>\n",
       "      <th>B_lean</th>\n",
       "      <th>B_score</th>\n",
       "      <th>B_second_score</th>\n",
       "      <th>consistent</th>\n",
       "    </tr>\n",
       "  </thead>\n",
       "  <tbody>\n",
       "    <tr>\n",
       "      <th>0</th>\n",
       "      <td>Lean Left</td>\n",
       "      <td>0.343981</td>\n",
       "      <td>0.312428</td>\n",
       "      <td>Center</td>\n",
       "      <td>0.799259</td>\n",
       "      <td>0.061787</td>\n",
       "      <td>False</td>\n",
       "    </tr>\n",
       "    <tr>\n",
       "      <th>1</th>\n",
       "      <td>Right</td>\n",
       "      <td>0.403578</td>\n",
       "      <td>0.299196</td>\n",
       "      <td>Center</td>\n",
       "      <td>0.309602</td>\n",
       "      <td>0.204984</td>\n",
       "      <td>False</td>\n",
       "    </tr>\n",
       "    <tr>\n",
       "      <th>2</th>\n",
       "      <td>Center</td>\n",
       "      <td>0.676759</td>\n",
       "      <td>0.272350</td>\n",
       "      <td>Center</td>\n",
       "      <td>0.309602</td>\n",
       "      <td>0.204984</td>\n",
       "      <td>True</td>\n",
       "    </tr>\n",
       "    <tr>\n",
       "      <th>3</th>\n",
       "      <td>Right</td>\n",
       "      <td>0.827688</td>\n",
       "      <td>0.145149</td>\n",
       "      <td>Center</td>\n",
       "      <td>0.353530</td>\n",
       "      <td>0.225864</td>\n",
       "      <td>False</td>\n",
       "    </tr>\n",
       "    <tr>\n",
       "      <th>4</th>\n",
       "      <td>Center</td>\n",
       "      <td>0.999824</td>\n",
       "      <td>0.000174</td>\n",
       "      <td>Lean Left</td>\n",
       "      <td>0.792790</td>\n",
       "      <td>0.075776</td>\n",
       "      <td>False</td>\n",
       "    </tr>\n",
       "  </tbody>\n",
       "</table>\n",
       "</div>"
      ],
      "text/plain": [
       "      A_lean   A_score  A_second_score     B_lean   B_score  B_second_score  \\\n",
       "0  Lean Left  0.343981        0.312428     Center  0.799259        0.061787   \n",
       "1      Right  0.403578        0.299196     Center  0.309602        0.204984   \n",
       "2     Center  0.676759        0.272350     Center  0.309602        0.204984   \n",
       "3      Right  0.827688        0.145149     Center  0.353530        0.225864   \n",
       "4     Center  0.999824        0.000174  Lean Left  0.792790        0.075776   \n",
       "\n",
       "  consistent  \n",
       "0      False  \n",
       "1      False  \n",
       "2       True  \n",
       "3      False  \n",
       "4      False  "
      ]
     },
     "execution_count": 121,
     "metadata": {},
     "output_type": "execute_result"
    }
   ],
   "source": [
    "bothModels_df.head()"
   ]
  },
  {
   "cell_type": "code",
   "execution_count": 122,
   "metadata": {
    "collapsed": false
   },
   "outputs": [
    {
     "name": "stdout",
     "output_type": "stream",
     "text": [
      "[[<matplotlib.axes._subplots.AxesSubplot object at 0x14f72ed10>\n",
      "  <matplotlib.axes._subplots.AxesSubplot object at 0x14e7b0310>]\n",
      " [<matplotlib.axes._subplots.AxesSubplot object at 0x14e7bb190>\n",
      "  <matplotlib.axes._subplots.AxesSubplot object at 0x14e6fa050>]]\n"
     ]
    },
    {
     "data": {
      "text/html": [
       "<div>\n",
       "<table border=\"1\" class=\"dataframe\">\n",
       "  <thead>\n",
       "    <tr style=\"text-align: right;\">\n",
       "      <th></th>\n",
       "      <th>A_lean</th>\n",
       "      <th>A_score</th>\n",
       "      <th>A_second_score</th>\n",
       "      <th>B_lean</th>\n",
       "      <th>B_score</th>\n",
       "      <th>B_second_score</th>\n",
       "      <th>consistent</th>\n",
       "    </tr>\n",
       "  </thead>\n",
       "  <tbody>\n",
       "    <tr>\n",
       "      <th>0</th>\n",
       "      <td>Lean Left</td>\n",
       "      <td>0.343981</td>\n",
       "      <td>0.312428</td>\n",
       "      <td>Center</td>\n",
       "      <td>0.799259</td>\n",
       "      <td>0.061787</td>\n",
       "      <td>False</td>\n",
       "    </tr>\n",
       "    <tr>\n",
       "      <th>1</th>\n",
       "      <td>Right</td>\n",
       "      <td>0.403578</td>\n",
       "      <td>0.299196</td>\n",
       "      <td>Center</td>\n",
       "      <td>0.309602</td>\n",
       "      <td>0.204984</td>\n",
       "      <td>False</td>\n",
       "    </tr>\n",
       "    <tr>\n",
       "      <th>3</th>\n",
       "      <td>Right</td>\n",
       "      <td>0.827688</td>\n",
       "      <td>0.145149</td>\n",
       "      <td>Center</td>\n",
       "      <td>0.353530</td>\n",
       "      <td>0.225864</td>\n",
       "      <td>False</td>\n",
       "    </tr>\n",
       "    <tr>\n",
       "      <th>4</th>\n",
       "      <td>Center</td>\n",
       "      <td>0.999824</td>\n",
       "      <td>0.000174</td>\n",
       "      <td>Lean Left</td>\n",
       "      <td>0.792790</td>\n",
       "      <td>0.075776</td>\n",
       "      <td>False</td>\n",
       "    </tr>\n",
       "    <tr>\n",
       "      <th>5</th>\n",
       "      <td>Left</td>\n",
       "      <td>0.965168</td>\n",
       "      <td>0.015740</td>\n",
       "      <td>Not rated</td>\n",
       "      <td>0.446893</td>\n",
       "      <td>0.210941</td>\n",
       "      <td>False</td>\n",
       "    </tr>\n",
       "  </tbody>\n",
       "</table>\n",
       "</div>"
      ],
      "text/plain": [
       "      A_lean   A_score  A_second_score     B_lean   B_score  B_second_score  \\\n",
       "0  Lean Left  0.343981        0.312428     Center  0.799259        0.061787   \n",
       "1      Right  0.403578        0.299196     Center  0.309602        0.204984   \n",
       "3      Right  0.827688        0.145149     Center  0.353530        0.225864   \n",
       "4     Center  0.999824        0.000174  Lean Left  0.792790        0.075776   \n",
       "5       Left  0.965168        0.015740  Not rated  0.446893        0.210941   \n",
       "\n",
       "  consistent  \n",
       "0      False  \n",
       "1      False  \n",
       "3      False  \n",
       "4      False  \n",
       "5      False  "
      ]
     },
     "execution_count": 122,
     "metadata": {},
     "output_type": "execute_result"
    },
    {
     "data": {
      "image/png": "[encoded data removed]",
      "text/plain": [
       "<matplotlib.figure.Figure at 0x14f72e910>"
      ]
     },
     "metadata": {},
     "output_type": "display_data"
    }
   ],
   "source": [
    "print bothModels_df[bothModels_df.consistent == False].hist()\n",
    "bothModels_df[bothModels_df.consistent == False].head()"
   ]
  },
  {
   "cell_type": "code",
   "execution_count": 124,
   "metadata": {
    "collapsed": false
   },
   "outputs": [
    {
     "data": {
      "text/plain": [
       "False    170\n",
       "True     142\n",
       "Name: consistent, dtype: int64"
      ]
     },
     "execution_count": 124,
     "metadata": {},
     "output_type": "execute_result"
    }
   ],
   "source": [
    "bothModels_df.consistent.value_counts()"
   ]
  },
  {
   "cell_type": "code",
   "execution_count": 125,
   "metadata": {
    "collapsed": false
   },
   "outputs": [
    {
     "name": "stdout",
     "output_type": "stream",
     "text": [
      "Threshold: 0.3\n",
      "0.460784313725\n",
      "T: 141 / F: 165\n",
      " \n",
      "Threshold: 0.4\n",
      "0.55\n",
      "T: 110 / F: 90\n",
      " \n",
      "Threshold: 0.5\n",
      "0.594285714286\n",
      "T: 104 / F: 71\n",
      " \n",
      "Threshold: 0.6\n",
      "0.62893081761\n",
      "T: 100 / F: 59\n",
      " \n",
      "Threshold: 0.7\n",
      "0.671428571429\n",
      "T: 94 / F: 46\n",
      " \n",
      "Threshold: 0.8\n",
      "0.847826086957\n",
      "T: 78 / F: 14\n",
      " \n",
      "Threshold: 0.9\n",
      "0.941176470588\n",
      "T: 64 / F: 4\n",
      " \n"
     ]
    }
   ],
   "source": [
    "for i in np.arange(0.3,1,0.1):\n",
    "    print 'Threshold: ' + str(i)\n",
    "    values = bothModels_df[(bothModels_df.A_score > i) & (bothModels_df.B_score > i)].consistent.value_counts()\n",
    "    print float(values[True]) / (values[False] + values[True])\n",
    "    print \"T: \" + str(values[True]) + \" / F: \" + str(values[False])\n",
    "    print \" \""
   ]
  },
  {
   "cell_type": "code",
   "execution_count": 140,
   "metadata": {
    "collapsed": false
   },
   "outputs": [
    {
     "data": {
      "text/plain": [
       "<matplotlib.axes._subplots.AxesSubplot at 0x14e7e3e10>"
      ]
     },
     "execution_count": 140,
     "metadata": {},
     "output_type": "execute_result"
    },
    {
     "data": {
      "image/png": "[encoded data removed]",
      "text/plain": [
       "<matplotlib.figure.Figure at 0x14e852b50>"
      ]
     },
     "metadata": {},
     "output_type": "display_data"
    }
   ],
   "source": [
    "political_folder.cleaned_text.str.len().hist(bins=40)"
   ]
  },
  {
   "cell_type": "code",
   "execution_count": 139,
   "metadata": {
    "collapsed": false
   },
   "outputs": [
    {
     "data": {
      "text/plain": [
       "<matplotlib.axes._subplots.AxesSubplot at 0x14e7c7f90>"
      ]
     },
     "execution_count": 139,
     "metadata": {},
     "output_type": "execute_result"
    },
    {
     "data": {
      "image/png": "[encoded data removed]",
      "text/plain": [
       "<matplotlib.figure.Figure at 0x154f74c10>"
      ]
     },
     "metadata": {},
     "output_type": "display_data"
    }
   ],
   "source": [
    "political_folder.cleaned_text.str.len().hist(bins=40, range=[0, 20000])"
   ]
  },
  {
   "cell_type": "code",
   "execution_count": 177,
   "metadata": {
    "collapsed": false
   },
   "outputs": [
    {
     "name": "stderr",
     "output_type": "stream",
     "text": [
      "/Users/stanleystevensWhistle/miniconda2/envs/stanleyyork/lib/python2.7/site-packages/ipykernel/__main__.py:1: SettingWithCopyWarning: \n",
      "A value is trying to be set on a copy of a slice from a DataFrame.\n",
      "Try using .loc[row_indexer,col_indexer] = value instead\n",
      "\n",
      "See the caveats in the documentation: http://pandas.pydata.org/pandas-docs/stable/indexing.html#indexing-view-versus-copy\n",
      "  if __name__ == '__main__':\n",
      "/Users/stanleystevensWhistle/miniconda2/envs/stanleyyork/lib/python2.7/site-packages/ipykernel/__main__.py:4: SettingWithCopyWarning: \n",
      "A value is trying to be set on a copy of a slice from a DataFrame.\n",
      "Try using .loc[row_indexer,col_indexer] = value instead\n",
      "\n",
      "See the caveats in the documentation: http://pandas.pydata.org/pandas-docs/stable/indexing.html#indexing-view-versus-copy\n"
     ]
    }
   ],
   "source": [
    "pld_text['length'] = pld_text['cleaned_text'].str.len()\n",
    "hash = {'Left': 1, 'Lean Left': 2, 'Center': 3, 'Lean Right': 4, 'Right': 5, 'Mixed': 0, 'Not rated': -1}\n",
    "# pld_text['political lean integer'] = pld_text['political lean'].apply(lambda x: 1 if x == 'Left' else 2 if x == 'Lean Left' else 3 if x == 'Center' else 4 if x == 'Lean Right' else 5 if x == 'Right' else 0)\n",
    "pld_text['political lean integer'] = pld_text['political lean'].apply(lambda x: hash[x])"
   ]
  },
  {
   "cell_type": "code",
   "execution_count": 202,
   "metadata": {
    "collapsed": false
   },
   "outputs": [
    {
     "data": {
      "text/plain": [
       "<matplotlib.axes._subplots.AxesSubplot at 0x154808110>"
      ]
     },
     "execution_count": 202,
     "metadata": {},
     "output_type": "execute_result"
    },
    {
     "data": {
      "image/png": "[encoded data removed]",
      "text/plain": [
       "<matplotlib.figure.Figure at 0x154782290>"
      ]
     },
     "metadata": {},
     "output_type": "display_data"
    }
   ],
   "source": [
    "pld_text['length'].hist(bins=40, range=[0, 20000])"
   ]
  },
  {
   "cell_type": "code",
   "execution_count": 209,
   "metadata": {
    "collapsed": false
   },
   "outputs": [
    {
     "name": "stdout",
     "output_type": "stream",
     "text": [
      "1066.0\n",
      "1381.2\n",
      "1819.0\n",
      "435.0\n",
      "3568.0\n",
      "1883.4\n"
     ]
    }
   ],
   "source": [
    "print np.percentile(pld_text['length'],20)\n",
    "print np.percentile(pld_text[pld_text['political lean'] == 'Right']['length'],20)\n",
    "print np.percentile(pld_text[pld_text['political lean'] == 'Lean Right']['length'],20)\n",
    "print np.percentile(pld_text[pld_text['political lean'] == 'Center']['length'],20)\n",
    "print np.percentile(pld_text[pld_text['political lean'] == 'Lean Left']['length'],20)\n",
    "print np.percentile(pld_text[pld_text['political lean'] == 'Left']['length'],20)"
   ]
  },
  {
   "cell_type": "code",
   "execution_count": 324,
   "metadata": {
    "collapsed": false
   },
   "outputs": [
    {
     "name": "stdout",
     "output_type": "stream",
     "text": [
      "Axes(0.125,0.125;0.775x0.775)\n",
      "Axes(0.125,0.125;0.775x0.775)\n"
     ]
    },
    {
     "data": {
      "image/png": "[encoded data removed]",
      "text/plain": [
       "<matplotlib.figure.Figure at 0x15dad1f90>"
      ]
     },
     "metadata": {},
     "output_type": "display_data"
    }
   ],
   "source": [
    "print pld_text[pld_text['political lean'] == 'Right'].length.hist(bins=40, range=[0, 20000])\n",
    "print pld_text[pld_text['political lean'] == 'Left'].length.hist(bins=40, range=[0, 20000])"
   ]
  },
  {
   "cell_type": "code",
   "execution_count": 326,
   "metadata": {
    "collapsed": false
   },
   "outputs": [
    {
     "name": "stdout",
     "output_type": "stream",
     "text": [
      "Axes(0.125,0.125;0.775x0.775)\n",
      "Axes(0.125,0.125;0.775x0.775)\n"
     ]
    },
    {
     "data": {
      "image/png": "[encoded data removed]",
      "text/plain": [
       "<matplotlib.figure.Figure at 0x15e10c410>"
      ]
     },
     "metadata": {},
     "output_type": "display_data"
    }
   ],
   "source": [
    "print pld_text[pld_text['political lean'] == 'Lean Left'].length.hist(bins=40, range=[0, 20000])\n",
    "print pld_text[pld_text['political lean'] == 'Lean Right'].length.hist(bins=40, range=[0, 20000])"
   ]
  },
  {
   "cell_type": "code",
   "execution_count": 198,
   "metadata": {
    "collapsed": false
   },
   "outputs": [
    {
     "name": "stdout",
     "output_type": "stream",
     "text": [
      "Axes(0.125,0.125;0.775x0.775)\n"
     ]
    },
    {
     "data": {
      "image/png": "[encoded data removed]",
      "text/plain": [
       "<matplotlib.figure.Figure at 0x1598ee810>"
      ]
     },
     "metadata": {},
     "output_type": "display_data"
    }
   ],
   "source": [
    "print pld_text[pld_text['political lean'] == 'Center'].length.hist(bins=40, range=[0, 20000])"
   ]
  },
  {
   "cell_type": "code",
   "execution_count": 215,
   "metadata": {
    "collapsed": false
   },
   "outputs": [
    {
     "name": "stderr",
     "output_type": "stream",
     "text": [
      "/Users/stanleystevensWhistle/miniconda2/envs/stanleyyork/lib/python2.7/site-packages/sklearn/utils/__init__.py:93: DeprecationWarning: Function transform is deprecated; Support to use estimators as feature selectors will be removed in version 0.19. Use SelectFromModel instead.\n",
      "  warnings.warn(msg, category=DeprecationWarning)\n"
     ]
    },
    {
     "name": "stdout",
     "output_type": "stream",
     "text": [
      "0:04:41.666818\n"
     ]
    }
   ],
   "source": [
    "time = datetime.datetime.now()\n",
    "modelA = Pipeline([\n",
    "  ('features', FeatureUnion([\n",
    "    ('word', Pipeline([\n",
    "      ('gettext', GetText()),\n",
    "      ('counts', CountVectorizer(ngram_range=(1,2), min_df=4))\n",
    "    ])),\n",
    "    ('domain', Domain()),\n",
    "    ('url', Url())\n",
    "  ])),\n",
    "  ('logreg', LogisticRegression())\n",
    "])\n",
    "\n",
    "modelA.fit_transform(pld_text[pld_text['length'] > 1500], pld_text[pld_text['length'] > 1500]['political lean'])\n",
    "print datetime.datetime.now() - time"
   ]
  },
  {
   "cell_type": "code",
   "execution_count": 216,
   "metadata": {
    "collapsed": false
   },
   "outputs": [
    {
     "data": {
      "text/html": [
       "<div>\n",
       "<table border=\"1\" class=\"dataframe\">\n",
       "  <thead>\n",
       "    <tr style=\"text-align: right;\">\n",
       "      <th></th>\n",
       "      <th>political_lean</th>\n",
       "      <th>pl_score</th>\n",
       "      <th>pl_2</th>\n",
       "      <th>Center</th>\n",
       "      <th>Lean Left</th>\n",
       "      <th>Lean Right</th>\n",
       "      <th>Left</th>\n",
       "      <th>Mixed</th>\n",
       "      <th>Not Rated</th>\n",
       "      <th>Right</th>\n",
       "    </tr>\n",
       "  </thead>\n",
       "  <tbody>\n",
       "    <tr>\n",
       "      <th>0</th>\n",
       "      <td>Lean Left</td>\n",
       "      <td>0.753130</td>\n",
       "      <td>0.108662</td>\n",
       "      <td>0.034689</td>\n",
       "      <td>0.753130</td>\n",
       "      <td>5.415043e-03</td>\n",
       "      <td>0.095614</td>\n",
       "      <td>3.261943e-05</td>\n",
       "      <td>2.457392e-03</td>\n",
       "      <td>0.108662</td>\n",
       "    </tr>\n",
       "    <tr>\n",
       "      <th>1</th>\n",
       "      <td>Lean Left</td>\n",
       "      <td>0.804890</td>\n",
       "      <td>0.141231</td>\n",
       "      <td>0.141231</td>\n",
       "      <td>0.804890</td>\n",
       "      <td>1.662815e-05</td>\n",
       "      <td>0.000107</td>\n",
       "      <td>1.477528e-12</td>\n",
       "      <td>1.704622e-04</td>\n",
       "      <td>0.053585</td>\n",
       "    </tr>\n",
       "    <tr>\n",
       "      <th>2</th>\n",
       "      <td>Right</td>\n",
       "      <td>0.970709</td>\n",
       "      <td>0.013236</td>\n",
       "      <td>0.005250</td>\n",
       "      <td>0.010504</td>\n",
       "      <td>2.138106e-04</td>\n",
       "      <td>0.013236</td>\n",
       "      <td>1.250035e-09</td>\n",
       "      <td>8.700429e-05</td>\n",
       "      <td>0.970709</td>\n",
       "    </tr>\n",
       "    <tr>\n",
       "      <th>3</th>\n",
       "      <td>Lean Left</td>\n",
       "      <td>0.650122</td>\n",
       "      <td>0.224990</td>\n",
       "      <td>0.124788</td>\n",
       "      <td>0.650122</td>\n",
       "      <td>4.193505e-16</td>\n",
       "      <td>0.224990</td>\n",
       "      <td>2.413786e-42</td>\n",
       "      <td>4.240705e-16</td>\n",
       "      <td>0.000101</td>\n",
       "    </tr>\n",
       "    <tr>\n",
       "      <th>4</th>\n",
       "      <td>Left</td>\n",
       "      <td>0.918455</td>\n",
       "      <td>0.056369</td>\n",
       "      <td>0.056369</td>\n",
       "      <td>0.023586</td>\n",
       "      <td>2.585722e-04</td>\n",
       "      <td>0.918455</td>\n",
       "      <td>2.383562e-09</td>\n",
       "      <td>1.177747e-05</td>\n",
       "      <td>0.001321</td>\n",
       "    </tr>\n",
       "  </tbody>\n",
       "</table>\n",
       "</div>"
      ],
      "text/plain": [
       "  political_lean  pl_score      pl_2    Center  Lean Left    Lean Right  \\\n",
       "0      Lean Left  0.753130  0.108662  0.034689   0.753130  5.415043e-03   \n",
       "1      Lean Left  0.804890  0.141231  0.141231   0.804890  1.662815e-05   \n",
       "2          Right  0.970709  0.013236  0.005250   0.010504  2.138106e-04   \n",
       "3      Lean Left  0.650122  0.224990  0.124788   0.650122  4.193505e-16   \n",
       "4           Left  0.918455  0.056369  0.056369   0.023586  2.585722e-04   \n",
       "\n",
       "       Left         Mixed     Not Rated     Right  \n",
       "0  0.095614  3.261943e-05  2.457392e-03  0.108662  \n",
       "1  0.000107  1.477528e-12  1.704622e-04  0.053585  \n",
       "2  0.013236  1.250035e-09  8.700429e-05  0.970709  \n",
       "3  0.224990  2.413786e-42  4.240705e-16  0.000101  \n",
       "4  0.918455  2.383562e-09  1.177747e-05  0.001321  "
      ]
     },
     "execution_count": 216,
     "metadata": {},
     "output_type": "execute_result"
    }
   ],
   "source": [
    "pf_text = political_folder[political_folder.cleaned_text.str.len() > 1500]\n",
    "\n",
    "modelA_result2 = modelA.predict(pf_text)\n",
    "modelB_result2 = modelB.predict(pf_text)\n",
    "\n",
    "modelA_proba_result2 = modelA.predict_proba(pf_text)\n",
    "modelB_proba_result2 = modelB.predict_proba(pf_text)\n",
    "\n",
    "highestA2 = []\n",
    "second_highest_a2 = []\n",
    "for p in modelA_proba_result2:\n",
    "    highestA2.append(max(p))\n",
    "    second_highest_a2.append(heapq.nlargest(2, p)[1])\n",
    "    \n",
    "highestB2 = []\n",
    "second_highest_b2 = []\n",
    "for p in modelB_proba_result2:\n",
    "    highestB2.append(max(p))\n",
    "    second_highest_b2.append(heapq.nlargest(2, p)[1])\n",
    "\n",
    "modelA_proba_df2 = pd.DataFrame(data=modelA_proba_result2, columns=['Center','Lean Left','Lean Right','Left','Mixed','Not Rated','Right'])\n",
    "modelB_proba_df2 = pd.DataFrame(data=modelB_proba_result2, columns=['Center','Lean Left','Lean Right','Left','Mixed','Not Rated','Right'])\n",
    "modelA_cat_df2 = pd.DataFrame(data={'political_lean': modelA_result2, 'pl_score': highestA2, 'pl_2': second_highest_a2}, columns=['political_lean','pl_score', 'pl_2'])\n",
    "modelB_cat_df2 = pd.DataFrame(data={'political_lean': modelB_result2, 'pl_score': highestB2, 'pl_2': second_highest_b2}, columns=['political_lean', 'pl_score', 'pl_2'])\n",
    "modelA_df2 = pd.concat([modelA_cat_df2, modelA_proba_df2], axis=1, join='inner')\n",
    "modelB_df2 = pd.concat([modelB_cat_df2, modelB_proba_df2], axis=1, join='inner')\n",
    "modelA_df2.head()"
   ]
  },
  {
   "cell_type": "code",
   "execution_count": 217,
   "metadata": {
    "collapsed": false
   },
   "outputs": [
    {
     "data": {
      "text/plain": [
       "Lean Left     102\n",
       "Right          88\n",
       "Center         59\n",
       "Left           36\n",
       "Lean Right      5\n",
       "Name: political_lean, dtype: int64"
      ]
     },
     "execution_count": 217,
     "metadata": {},
     "output_type": "execute_result"
    }
   ],
   "source": [
    "modelA_df2.political_lean.value_counts()"
   ]
  },
  {
   "cell_type": "code",
   "execution_count": 322,
   "metadata": {
    "collapsed": false
   },
   "outputs": [
    {
     "data": {
      "text/plain": [
       "foxnews.com           2521\n",
       "cnn.com               2356\n",
       "washingtonpost.com    2247\n",
       "wsj.com               1806\n",
       "huffingtonpost.com    1658\n",
       "townhall.com          1510\n",
       "politico.com          1237\n",
       "theblaze.com           986\n",
       "npr.org                858\n",
       "nytimes.com            805\n",
       "csmonitor.com          666\n",
       "usatoday.com           533\n",
       "salon.com              521\n",
       "vox.com                411\n",
       "breitbart.com          311\n",
       "newsmax.com            296\n",
       "cbn.com                157\n",
       "thedailybeast.com      116\n",
       "latimes.com            106\n",
       "factcheck.org          104\n",
       "Name: url_domain, dtype: int64"
      ]
     },
     "execution_count": 322,
     "metadata": {},
     "output_type": "execute_result"
    }
   ],
   "source": [
    "pld_text.url_domain.value_counts().head(20)"
   ]
  }
 ],
 "metadata": {
  "anaconda-cloud": {},
  "kernelspec": {
   "display_name": "Python [conda env:stanleyyork]",
   "language": "python",
   "name": "conda-env-stanleyyork-py"
  },
  "language_info": {
   "codemirror_mode": {
    "name": "ipython",
    "version": 2
   },
   "file_extension": ".py",
   "mimetype": "text/x-python",
   "name": "python",
   "nbconvert_exporter": "python",
   "pygments_lexer": "ipython2",
   "version": "2.7.12"
  }
 },
 "nbformat": 4,
 "nbformat_minor": 1
}
