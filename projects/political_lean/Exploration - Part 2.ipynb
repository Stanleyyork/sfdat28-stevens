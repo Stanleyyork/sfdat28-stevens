{
 "cells": [
  {
   "cell_type": "code",
   "execution_count": 1,
   "metadata": {
    "collapsed": true
   },
   "outputs": [],
   "source": [
    "from goose import Goose\n",
    "import pandas as pd\n",
    "import numpy as np\n",
    "from sklearn.feature_extraction.text import CountVectorizer, TfidfVectorizer\n",
    "from sklearn.cross_validation import train_test_split, cross_val_score\n",
    "from sklearn.linear_model import LogisticRegression\n",
    "from sklearn.pipeline import Pipeline, FeatureUnion, make_pipeline, make_union\n",
    "from sklearn.naive_bayes import MultinomialNB\n",
    "from sklearn.grid_search import GridSearchCV\n",
    "from bs4 import BeautifulSoup\n",
    "from sklearn.neighbors import KNeighborsClassifier\n",
    "from textblob import TextBlob, Word\n",
    "from sklearn.base import TransformerMixin\n",
    "from sklearn import metrics\n",
    "import matplotlib.pyplot as plt\n",
    "from sklearn.grid_search import GridSearchCV\n",
    "import datetime\n",
    "%matplotlib inline"
   ]
  },
  {
   "cell_type": "code",
   "execution_count": 2,
   "metadata": {
    "collapsed": false
   },
   "outputs": [],
   "source": [
    "columns = ['Unnamed','url_raw', 'url_clean', 'url_domain', 'ugly_text', 'issue', 'political_lean', 'title', 'meta_description', 'cleaned_text']\n",
    "use_columns = ['url_raw', 'url_clean', 'url_domain', 'ugly_text', 'issue', 'political_lean', 'title', 'meta_description', 'cleaned_text']\n",
    "pld = pd.read_csv('0_16450.csv', index_col=columns, usecols=use_columns)"
   ]
  },
  {
   "cell_type": "code",
   "execution_count": 3,
   "metadata": {
    "collapsed": true
   },
   "outputs": [],
   "source": [
    "del pld['Unnamed: 0']"
   ]
  },
  {
   "cell_type": "code",
   "execution_count": 4,
   "metadata": {
    "collapsed": false
   },
   "outputs": [
    {
     "data": {
      "text/html": [
       "<div>\n",
       "<table border=\"1\" class=\"dataframe\">\n",
       "  <thead>\n",
       "    <tr style=\"text-align: right;\">\n",
       "      <th></th>\n",
       "      <th>url_raw</th>\n",
       "      <th>url_clean</th>\n",
       "      <th>url_domain</th>\n",
       "      <th>ugly_text</th>\n",
       "      <th>issue</th>\n",
       "      <th>political_lean</th>\n",
       "      <th>title</th>\n",
       "      <th>meta_description</th>\n",
       "      <th>cleaned_text</th>\n",
       "    </tr>\n",
       "  </thead>\n",
       "  <tbody>\n",
       "    <tr>\n",
       "      <th>0</th>\n",
       "      <td>https://www.washingtonpost.com/news/post-natio...</td>\n",
       "      <td>washingtonpost.com/news/post-nation/wp/2016/05...</td>\n",
       "      <td>washingtonpost.com</td>\n",
       "      <td>2         Desktop notifications are ...</td>\n",
       "      <td>abortion</td>\n",
       "      <td>Lean Left</td>\n",
       "      <td>‘A target on Roe v. Wade ’: Oklahoma bill maki...</td>\n",
       "      <td>Gov. Mary Fallin (R) has not said if she plans...</td>\n",
       "      <td>UPDATE: Gov. Fallin vetoed the bill on Friday....</td>\n",
       "    </tr>\n",
       "    <tr>\n",
       "      <th>1</th>\n",
       "      <td>http://www.salon.com/2016/04/07/camille_paglia...</td>\n",
       "      <td>salon.com/2016/04/07/camille_paglia_feminists_...</td>\n",
       "      <td>salon.com</td>\n",
       "      <td>\\n\\n\\t\\n\\t\\t\\n\\t\\t\\t\\n\\t\\t\\t\\t\\n\\t\\t\\t\\t\\t\\n\\t...</td>\n",
       "      <td>abortion</td>\n",
       "      <td>Left</td>\n",
       "      <td>Camille Paglia: Feminists have abortion wrong,...</td>\n",
       "      <td>Reproductive rights have become ideological to...</td>\n",
       "      <td>While the Hillary flap was merely a blip, give...</td>\n",
       "    </tr>\n",
       "    <tr>\n",
       "      <th>2</th>\n",
       "      <td>http://www.vox.com/2016/3/20/11269226/texas-ab...</td>\n",
       "      <td>vox.com/2016/3/20/11269226/texas-abortion-wome...</td>\n",
       "      <td>vox.com</td>\n",
       "      <td>\\n    \\n    \\n\\n(function(w,d,s,l,i){w[l]=w[l]...</td>\n",
       "      <td>abortion</td>\n",
       "      <td>Lean Left</td>\n",
       "      <td>Study: women had to drive 4 times farther afte...</td>\n",
       "      <td>Here's exactly how Texas anti-abortion laws bu...</td>\n",
       "      <td>Ever since Texas laws closed about half of the...</td>\n",
       "    </tr>\n",
       "  </tbody>\n",
       "</table>\n",
       "</div>"
      ],
      "text/plain": [
       "                                             url_raw  \\\n",
       "0  https://www.washingtonpost.com/news/post-natio...   \n",
       "1  http://www.salon.com/2016/04/07/camille_paglia...   \n",
       "2  http://www.vox.com/2016/3/20/11269226/texas-ab...   \n",
       "\n",
       "                                           url_clean          url_domain  \\\n",
       "0  washingtonpost.com/news/post-nation/wp/2016/05...  washingtonpost.com   \n",
       "1  salon.com/2016/04/07/camille_paglia_feminists_...           salon.com   \n",
       "2  vox.com/2016/3/20/11269226/texas-abortion-wome...             vox.com   \n",
       "\n",
       "                                           ugly_text     issue political_lean  \\\n",
       "0            2         Desktop notifications are ...  abortion      Lean Left   \n",
       "1  \\n\\n\\t\\n\\t\\t\\n\\t\\t\\t\\n\\t\\t\\t\\t\\n\\t\\t\\t\\t\\t\\n\\t...  abortion           Left   \n",
       "2  \\n    \\n    \\n\\n(function(w,d,s,l,i){w[l]=w[l]...  abortion      Lean Left   \n",
       "\n",
       "                                               title  \\\n",
       "0  ‘A target on Roe v. Wade ’: Oklahoma bill maki...   \n",
       "1  Camille Paglia: Feminists have abortion wrong,...   \n",
       "2  Study: women had to drive 4 times farther afte...   \n",
       "\n",
       "                                    meta_description  \\\n",
       "0  Gov. Mary Fallin (R) has not said if she plans...   \n",
       "1  Reproductive rights have become ideological to...   \n",
       "2  Here's exactly how Texas anti-abortion laws bu...   \n",
       "\n",
       "                                        cleaned_text  \n",
       "0  UPDATE: Gov. Fallin vetoed the bill on Friday....  \n",
       "1  While the Hillary flap was merely a blip, give...  \n",
       "2  Ever since Texas laws closed about half of the...  "
      ]
     },
     "execution_count": 4,
     "metadata": {},
     "output_type": "execute_result"
    }
   ],
   "source": [
    "pld.columns = ['url_raw', 'url_clean', 'url_domain', 'ugly_text', 'issue', 'political_lean', 'title', 'meta_description', 'cleaned_text']\n",
    "pld.head(3)"
   ]
  },
  {
   "cell_type": "code",
   "execution_count": 5,
   "metadata": {
    "collapsed": false
   },
   "outputs": [
    {
     "data": {
      "text/plain": [
       "cleaned_text      12817\n",
       "url_domain        12817\n",
       "political_lean    12817\n",
       "issue             12817\n",
       "title             12778\n",
       "dtype: int64"
      ]
     },
     "execution_count": 5,
     "metadata": {},
     "output_type": "execute_result"
    }
   ],
   "source": [
    "pld_text = pld[pld['cleaned_text'].notnull()]\n",
    "pld_text[['cleaned_text', 'url_domain', 'political_lean', 'issue', 'title']].count()"
   ]
  },
  {
   "cell_type": "code",
   "execution_count": null,
   "metadata": {
    "collapsed": true
   },
   "outputs": [],
   "source": [
    "# PIPELINE CAN ALSO BE USED WITH GRIDSEARCHCV, BUT VERY SLOW\n",
    "# pipe = Pipeline([\n",
    "#   ('features', FeatureUnion([\n",
    "#         ('counts', CountVectorizer()),\n",
    "#         ('tf_idf', TfidfVectorizer())\n",
    "#   ])),\n",
    "#   ('classifier', MultinomialNB())\n",
    "# ])\n",
    "\n",
    "# SEARCH FOR AN OPTIMAL N_GRAM VALUE USING GRADSEARCHCV\n",
    "# gram_range = [(1, n) for n in range(1, 3)]\n",
    "# param_grid = {\n",
    "#     'features__counts__ngram_range': gram_range,\n",
    "#     'features__tf_idf__ngram_range': gram_range,\n",
    "# }\n",
    "\n",
    "# grid = GridSearchCV(pipe, param_grid, cv=5, scoring='accuracy')\n",
    "# grid.fit(df.msg, df.label)\n",
    "# print grid.best_score_, grid.best_params_"
   ]
  },
  {
   "cell_type": "code",
   "execution_count": 9,
   "metadata": {
    "collapsed": false
   },
   "outputs": [
    {
     "name": "stdout",
     "output_type": "stream",
     "text": [
      "0.581698121969\n",
      "0:05:05.378078\n"
     ]
    }
   ],
   "source": [
    "time = datetime.datetime.now()\n",
    "\n",
    "pipe = Pipeline([\n",
    "  ('features', FeatureUnion([\n",
    "        ('counts', CountVectorizer())\n",
    "  ])),\n",
    "  ('logreg', LogisticRegression())\n",
    "])\n",
    "\n",
    "print cross_val_score(pipe, pld_text.cleaned_text, pld_text.political_lean, cv=5, scoring='accuracy').mean()\n",
    "\n",
    "print datetime.datetime.now() - time"
   ]
  },
  {
   "cell_type": "code",
   "execution_count": 10,
   "metadata": {
    "collapsed": false
   },
   "outputs": [
    {
     "name": "stdout",
     "output_type": "stream",
     "text": [
      "0.463778334447\n",
      "0:00:42.478829\n"
     ]
    }
   ],
   "source": [
    "time = datetime.datetime.now()\n",
    "\n",
    "pipe = Pipeline([\n",
    "  ('features', FeatureUnion([\n",
    "        ('counts', CountVectorizer())\n",
    "  ])),\n",
    "  ('classifier', MultinomialNB())\n",
    "])\n",
    "\n",
    "print cross_val_score(pipe, pld_text.cleaned_text, pld_text.political_lean, cv=5, scoring='accuracy').mean()\n",
    "\n",
    "print datetime.datetime.now() - time"
   ]
  },
  {
   "cell_type": "code",
   "execution_count": 204,
   "metadata": {
    "collapsed": false
   },
   "outputs": [
    {
     "name": "stdout",
     "output_type": "stream",
     "text": [
      "0.587583794081\n",
      "0:08:32.436998\n"
     ]
    }
   ],
   "source": [
    "time = datetime.datetime.now()\n",
    "\n",
    "pipe = Pipeline([\n",
    "  ('features', FeatureUnion([\n",
    "        ('counts', CountVectorizer()),\n",
    "        ('tf_idf', TfidfVectorizer())\n",
    "  ])),\n",
    "  ('logreg', LogisticRegression())\n",
    "])\n",
    "\n",
    "print cross_val_score(pipe, pld_text.cleaned_text, pld_text.political_lean, cv=5, scoring='accuracy').mean()\n",
    "\n",
    "print datetime.datetime.now() - time"
   ]
  },
  {
   "cell_type": "code",
   "execution_count": 206,
   "metadata": {
    "collapsed": false
   },
   "outputs": [
    {
     "name": "stdout",
     "output_type": "stream",
     "text": [
      "0.496657158128\n",
      "0:01:25.248623\n"
     ]
    }
   ],
   "source": [
    "time = datetime.datetime.now()\n",
    "\n",
    "pipe = Pipeline([\n",
    "  ('features', FeatureUnion([\n",
    "        ('counts', CountVectorizer()),\n",
    "        ('tf_idf', TfidfVectorizer())\n",
    "  ])),\n",
    "  ('classifier', MultinomialNB())\n",
    "])\n",
    "\n",
    "print cross_val_score(pipe, pld_text.cleaned_text, pld_text.political_lean, cv=5, scoring='accuracy').mean()\n",
    "\n",
    "print datetime.datetime.now() - time"
   ]
  },
  {
   "cell_type": "code",
   "execution_count": null,
   "metadata": {
    "collapsed": false
   },
   "outputs": [],
   "source": []
  },
  {
   "cell_type": "code",
   "execution_count": null,
   "metadata": {
    "collapsed": false
   },
   "outputs": [],
   "source": []
  },
  {
   "cell_type": "code",
   "execution_count": 6,
   "metadata": {
    "collapsed": false
   },
   "outputs": [],
   "source": [
    "class Domain(TransformerMixin):\n",
    "\n",
    "    def transform(self, X, **transform_params):\n",
    "        domains = self.vect.transform(X.url_domain)\n",
    "        return domains\n",
    "\n",
    "    def fit(self, X, y=None, **fit_params):\n",
    "        self.vect = CountVectorizer(**fit_params)\n",
    "        self.vect.fit(X['url_domain'])\n",
    "        return self"
   ]
  },
  {
   "cell_type": "code",
   "execution_count": 7,
   "metadata": {
    "collapsed": true
   },
   "outputs": [],
   "source": [
    "class WordVect(TransformerMixin):\n",
    "\n",
    "    def transform(self, X, **transform_params):\n",
    "        words = self.vect.transform(X.cleaned_text)\n",
    "        return words\n",
    "\n",
    "    def fit(self, X, y=None, **fit_params):\n",
    "        self.vect = CountVectorizer(**fit_params)\n",
    "        self.vect.fit(X['cleaned_text'])\n",
    "        return self"
   ]
  },
  {
   "cell_type": "code",
   "execution_count": 13,
   "metadata": {
    "collapsed": false
   },
   "outputs": [
    {
     "name": "stdout",
     "output_type": "stream",
     "text": [
      "WordVectorizer:\n",
      "(9999, 57965)\n",
      "DomainVectorizer:\n",
      "(9999, 165)\n",
      "WordVectorizer:\n",
      "(10000, 58137)\n",
      "DomainVectorizer:\n",
      "(10000, 153)\n",
      "WordVectorizer:\n",
      "(10000, 58492)\n",
      "DomainVectorizer:\n",
      "(10000, 170)\n",
      "WordVectorizer:\n",
      "(10002, 57278)\n",
      "DomainVectorizer:\n",
      "(10002, 157)\n",
      "WordVectorizer:\n",
      "(2502, 57965)\n",
      "DomainVectorizer:\n",
      "(2502, 165)\n",
      "WordVectorizer:\n",
      "(2499, 57278)\n",
      "DomainVectorizer:\n",
      "(2499, 157)\n",
      "WordVectorizer:\n",
      "(2501, 58137)\n",
      "DomainVectorizer:\n",
      "(2501, 153)\n",
      "WordVectorizer:\n",
      "(2501, 58492)\n",
      "DomainVectorizer:\n",
      "(2501, 170)\n",
      "WordVectorizer:\n",
      "(10003, 57929)\n",
      "DomainVectorizer:\n",
      "(10003, 167)\n",
      "WordVectorizer:\n",
      "(2498, 57929)\n",
      "DomainVectorizer:\n",
      "(2498, 167)\n",
      "0.853034443257\n",
      "0:03:12.789926\n"
     ]
    }
   ],
   "source": [
    "time = datetime.datetime.now()\n",
    "\n",
    "pipe = Pipeline([\n",
    "  ('features', FeatureUnion([\n",
    "        ('words', WordVect()),\n",
    "        ('domain', Domain())\n",
    "  ])),\n",
    "  ('classifier', LogisticRegression())\n",
    "])\n",
    "\n",
    "print cross_val_score(pipe, pld_text, pld_text['political_lean'], cv=5, scoring='accuracy', n_jobs=-1).mean()\n",
    "\n",
    "print datetime.datetime.now() - time"
   ]
  },
  {
   "cell_type": "code",
   "execution_count": null,
   "metadata": {
    "collapsed": false
   },
   "outputs": [],
   "source": []
  },
  {
   "cell_type": "code",
   "execution_count": 16,
   "metadata": {
    "collapsed": false
   },
   "outputs": [
    {
     "name": "stdout",
     "output_type": "stream",
     "text": [
      "0.569940582322\n",
      "0:03:00.713157\n"
     ]
    }
   ],
   "source": [
    "time = datetime.datetime.now()\n",
    "\n",
    "pipe = Pipeline([\n",
    "  ('features', FeatureUnion([\n",
    "        ('counts', CountVectorizer(stop_words='english'))\n",
    "  ])),\n",
    "  ('logreg', LogisticRegression())\n",
    "])\n",
    "\n",
    "print cross_val_score(pipe, pld_text['cleaned_text'], pld_text.political_lean, cv=5, scoring='accuracy').mean()\n",
    "\n",
    "print datetime.datetime.now() - time"
   ]
  },
  {
   "cell_type": "code",
   "execution_count": 18,
   "metadata": {
    "collapsed": false
   },
   "outputs": [
    {
     "name": "stdout",
     "output_type": "stream",
     "text": [
      "0.461698717961\n",
      "0:00:44.510973\n"
     ]
    }
   ],
   "source": [
    "time = datetime.datetime.now()\n",
    "\n",
    "pipe = Pipeline([\n",
    "  ('features', FeatureUnion([\n",
    "        ('counts', CountVectorizer(stop_words='english'))\n",
    "  ])),\n",
    "  ('classifier', MultinomialNB())\n",
    "])\n",
    "\n",
    "print cross_val_score(pipe, pld_text['cleaned_text'], pld_text.political_lean, cv=5, scoring='accuracy').mean()\n",
    "\n",
    "print datetime.datetime.now() - time"
   ]
  },
  {
   "cell_type": "code",
   "execution_count": 54,
   "metadata": {
    "collapsed": false
   },
   "outputs": [
    {
     "name": "stdout",
     "output_type": "stream",
     "text": [
      "0.622210627145\n",
      "0:16:07.465197\n"
     ]
    }
   ],
   "source": [
    "time = datetime.datetime.now()\n",
    "\n",
    "pipe = Pipeline([\n",
    "  ('features', FeatureUnion([\n",
    "        ('counts', CountVectorizer(ngram_range=(1, 2), min_df=3))\n",
    "  ])),\n",
    "  ('logreg', LogisticRegression())\n",
    "])\n",
    "\n",
    "print cross_val_score(pipe, pld_text['cleaned_text'], pld_text.political_lean, cv=5, scoring='accuracy').mean()\n",
    "\n",
    "print datetime.datetime.now() - time"
   ]
  },
  {
   "cell_type": "code",
   "execution_count": null,
   "metadata": {
    "collapsed": true
   },
   "outputs": [],
   "source": [
    "aboveabove"
   ]
  },
  {
   "cell_type": "code",
   "execution_count": 7,
   "metadata": {
    "collapsed": true
   },
   "outputs": [],
   "source": [
    "def pipe(col):\n",
    "    time = datetime.datetime.now()\n",
    "    pld_issue = pld_text[pld_text.issue == col]\n",
    "    if pld_issue['cleaned_text'].count() > 5:\n",
    "        pipe = Pipeline([\n",
    "          ('features', FeatureUnion([\n",
    "                ('counts', CountVectorizer())\n",
    "          ])),\n",
    "          ('logreg', LogisticRegression())\n",
    "        ])\n",
    "        print \" \"\n",
    "        print \"issue: \" + str(col)\n",
    "        print cross_val_score(pipe, pld_issue['cleaned_text'], pld_issue.political_lean, cv=5, scoring='accuracy').mean()\n",
    "        print datetime.datetime.now() - time"
   ]
  },
  {
   "cell_type": "code",
   "execution_count": 31,
   "metadata": {
    "collapsed": false
   },
   "outputs": [
    {
     "name": "stdout",
     "output_type": "stream",
     "text": [
      " \n",
      "issue: abortion\n",
      "0.460374396135\n",
      "0:00:01.158694\n",
      " \n",
      "issue: asia\n",
      "0.269761904762\n",
      "0:00:00.278807\n",
      " \n",
      "issue: campaign-finance\n",
      "0.548534798535\n",
      "0:00:00.394141\n",
      " \n",
      "issue: civil-rights\n",
      "0.436969657875\n",
      "0:00:02.179912\n",
      " \n",
      "issue: cia\n",
      "0.534017094017\n",
      "0:00:00.557582\n",
      " \n",
      "issue: foreign-policy\n"
     ]
    },
    {
     "name": "stderr",
     "output_type": "stream",
     "text": [
      "/Users/stanleystevensWhistle/miniconda2/envs/stanleyyork/lib/python2.7/site-packages/sklearn/cross_validation.py:516: Warning: The least populated class in y has only 3 members, which is too few. The minimum number of labels for any class cannot be less than n_folds=5.\n",
      "  % (min_labels, self.n_folds)), Warning)\n"
     ]
    },
    {
     "name": "stdout",
     "output_type": "stream",
     "text": [
      "0.45219279201\n",
      "0:00:03.083598\n",
      " \n",
      "issue: gay-rights\n",
      "0.393599336178\n",
      "0:00:01.971592\n",
      " \n",
      "issue: us-congress\n",
      "0.494039294039\n",
      "0:00:01.897374\n",
      " \n",
      "issue: us-house-representatives\n",
      "0.410714285714\n",
      "0:00:01.366856\n",
      " \n",
      "issue: criminal-justice\n",
      "0.488528138528\n",
      "0:00:00.401921\n",
      " \n",
      "issue: defense\n",
      "0.413758912656\n",
      "0:00:00.986979\n",
      " \n",
      "issue: democrat-party\n",
      "0.490361812101\n",
      "0:00:00.780160\n",
      " \n",
      "issue: education\n",
      "0.410294473377\n",
      "0:00:02.571426\n",
      " \n",
      "issue: domestic-policy\n",
      "0.273333333333\n",
      "0:00:00.108451\n",
      " \n",
      "issue: economic-policy\n",
      "0.406415954416\n",
      "0:00:00.957803\n",
      " \n",
      "issue: elections\n",
      "0.574809067416\n",
      "0:00:03.228309\n",
      " \n",
      "issue: election-2012\n",
      "0.591405090095\n",
      "0:00:47.487605\n",
      " \n",
      "issue: economy-jobs\n",
      "0.560315790971\n",
      "0:00:03.873658\n",
      " \n",
      "issue: economic-policy-debt-deficit\n",
      "0.572712600216\n",
      "0:00:05.733343\n",
      " \n",
      "issue: environment\n",
      "0.445716345659\n",
      "0:00:02.601595\n",
      " \n",
      "issue: free-speech\n",
      "0.406666666667\n",
      "0:00:00.391962\n",
      " \n",
      "issue: gun-legislation\n",
      "0.469886876366\n",
      "0:00:04.977387\n",
      " \n",
      "issue: immigration\n",
      "0.550232077636\n",
      "0:00:05.082927\n",
      " \n",
      "issue: energy\n",
      "0.386260683761\n",
      "0:00:00.553614\n",
      " \n",
      "issue: justice\n",
      "0.52871040724\n",
      "0:00:01.224292\n",
      " \n",
      "issue: marijuana-legalization\n",
      "0.444921126345\n",
      "0:00:00.530547\n",
      " \n",
      "issue: healthcare-0\n"
     ]
    },
    {
     "name": "stderr",
     "output_type": "stream",
     "text": [
      "/Users/stanleystevensWhistle/miniconda2/envs/stanleyyork/lib/python2.7/site-packages/sklearn/cross_validation.py:516: Warning: The least populated class in y has only 4 members, which is too few. The minimum number of labels for any class cannot be less than n_folds=5.\n",
      "  % (min_labels, self.n_folds)), Warning)\n"
     ]
    },
    {
     "name": "stdout",
     "output_type": "stream",
     "text": [
      "0.602989695589\n",
      "0:00:07.744309\n",
      " \n",
      "issue: israel\n",
      "0.531944444444\n",
      "0:00:00.497304\n",
      " \n",
      "issue: labor\n",
      "0.483888888889\n",
      "0:00:00.221904\n",
      " \n",
      "issue: media-watchmedia-bias\n",
      "0.55697252733\n",
      "0:00:03.642402\n",
      " \n",
      "issue: medicare\n",
      "0.508441558442\n",
      "0:00:00.373096\n",
      " \n",
      "issue: middle-east\n",
      "0.452151990145\n",
      "0:00:01.685291\n"
     ]
    }
   ],
   "source": [
    "top_six_cols = pld_text.issue.unique()  #['election-2012', 'healthcare-0', 'immigration', 'economic-policy-debt-deficit', 'economy-jobs', 'gun-legislation']\n",
    "for col in top_six_cols:\n",
    "    pipe(col)"
   ]
  },
  {
   "cell_type": "code",
   "execution_count": 8,
   "metadata": {
    "collapsed": false
   },
   "outputs": [],
   "source": [
    "class GetText(TransformerMixin):\n",
    "\n",
    "    def transform(self, X, **transform_params):\n",
    "        domains = X.cleaned_text\n",
    "        return domains\n",
    "\n",
    "    def fit(self, X, y=None, **fit_params):\n",
    "        return self"
   ]
  },
  {
   "cell_type": "code",
   "execution_count": 62,
   "metadata": {
    "collapsed": false
   },
   "outputs": [
    {
     "name": "stdout",
     "output_type": "stream",
     "text": [
      "0.604970517794\n",
      "0:00:38.221002\n"
     ]
    }
   ],
   "source": [
    "time = datetime.datetime.now()\n",
    "\n",
    "pipe = Pipeline([\n",
    "  ('features', FeatureUnion([\n",
    "    ('word', Pipeline([\n",
    "      ('gettext', GetText()),\n",
    "      ('counts', CountVectorizer())\n",
    "    ])),\n",
    "    ('domain', Domain())\n",
    "  ])),\n",
    "  ('classifier', MultinomialNB())\n",
    "])\n",
    "\n",
    "print cross_val_score(pipe, pld_text, pld_text['political_lean'], cv=5, scoring='accuracy', n_jobs=-1).mean()\n",
    "\n",
    "print datetime.datetime.now() - time"
   ]
  },
  {
   "cell_type": "code",
   "execution_count": 61,
   "metadata": {
    "collapsed": false
   },
   "outputs": [
    {
     "name": "stdout",
     "output_type": "stream",
     "text": [
      "0.853034443257\n",
      "0:03:16.615209\n"
     ]
    }
   ],
   "source": [
    "time = datetime.datetime.now()\n",
    "\n",
    "pipe = Pipeline([\n",
    "  ('features', FeatureUnion([\n",
    "    ('word', Pipeline([\n",
    "      ('gettext', GetText()),\n",
    "      ('counts', CountVectorizer())\n",
    "    ])),\n",
    "    ('domain', Domain())\n",
    "  ])),\n",
    "  ('logreg', LogisticRegression())\n",
    "])\n",
    "\n",
    "print cross_val_score(pipe, pld_text, pld_text['political_lean'], cv=5, scoring='accuracy', n_jobs=-1).mean()\n",
    "\n",
    "print datetime.datetime.now() - time"
   ]
  },
  {
   "cell_type": "code",
   "execution_count": 64,
   "metadata": {
    "collapsed": false
   },
   "outputs": [
    {
     "name": "stdout",
     "output_type": "stream",
     "text": [
      "0.853834539577\n",
      "0:03:34.059663\n"
     ]
    }
   ],
   "source": [
    "time = datetime.datetime.now()\n",
    "\n",
    "pipe = Pipeline([\n",
    "  ('features', FeatureUnion([\n",
    "    ('word', Pipeline([\n",
    "      ('gettext', GetText()),\n",
    "      ('counts', CountVectorizer(min_df=4))\n",
    "    ])),\n",
    "    ('domain', Domain())\n",
    "  ])),\n",
    "  ('logreg', LogisticRegression())\n",
    "])\n",
    "\n",
    "print cross_val_score(pipe, pld_text, pld_text['political_lean'], cv=5, scoring='accuracy', n_jobs=-1).mean()\n",
    "\n",
    "print datetime.datetime.now() - time"
   ]
  },
  {
   "cell_type": "code",
   "execution_count": 57,
   "metadata": {
    "collapsed": false
   },
   "outputs": [
    {
     "name": "stdout",
     "output_type": "stream",
     "text": [
      "0.825038082707\n",
      "0:15:43.350393\n"
     ]
    }
   ],
   "source": [
    "time = datetime.datetime.now()\n",
    "\n",
    "pipe = Pipeline([\n",
    "  ('features', FeatureUnion([\n",
    "    ('word', Pipeline([\n",
    "      ('gettext', GetText()),\n",
    "      ('counts', CountVectorizer(ngram_range=(1, 2), min_df=2))\n",
    "    ])),\n",
    "    ('domain', Domain())\n",
    "  ])),\n",
    "  ('logreg', LogisticRegression())\n",
    "])\n",
    "\n",
    "print cross_val_score(pipe, pld_text, pld_text['political_lean'], cv=5, scoring='accuracy', n_jobs=-1).mean()\n",
    "\n",
    "print datetime.datetime.now() - time"
   ]
  },
  {
   "cell_type": "code",
   "execution_count": 58,
   "metadata": {
    "collapsed": false
   },
   "outputs": [
    {
     "name": "stdout",
     "output_type": "stream",
     "text": [
      "0.829117092128\n",
      "0:11:23.004279\n"
     ]
    }
   ],
   "source": [
    "time = datetime.datetime.now()\n",
    "\n",
    "pipe = Pipeline([\n",
    "  ('features', FeatureUnion([\n",
    "    ('word', Pipeline([\n",
    "      ('gettext', GetText()),\n",
    "      ('counts', CountVectorizer(ngram_range=(1, 2), min_df=4))\n",
    "    ])),\n",
    "    ('domain', Domain())\n",
    "  ])),\n",
    "  ('logreg', LogisticRegression())\n",
    "])\n",
    "\n",
    "print cross_val_score(pipe, pld_text, pld_text['political_lean'], cv=5, scoring='accuracy', n_jobs=-1).mean()\n",
    "\n",
    "print datetime.datetime.now() - time"
   ]
  },
  {
   "cell_type": "code",
   "execution_count": 59,
   "metadata": {
    "collapsed": false
   },
   "outputs": [
    {
     "name": "stdout",
     "output_type": "stream",
     "text": [
      "0.827037699142\n",
      "0:14:29.761025\n"
     ]
    }
   ],
   "source": [
    "time = datetime.datetime.now()\n",
    "\n",
    "pipe = Pipeline([\n",
    "  ('features', FeatureUnion([\n",
    "    ('word', Pipeline([\n",
    "      ('gettext', GetText()),\n",
    "      ('counts', CountVectorizer(ngram_range=(1, 2), min_df=3))\n",
    "    ])),\n",
    "    ('domain', Domain())\n",
    "  ])),\n",
    "  ('logreg', LogisticRegression())\n",
    "])\n",
    "\n",
    "print cross_val_score(pipe, pld_text, pld_text['political_lean'], cv=5, scoring='accuracy', n_jobs=-1).mean()\n",
    "\n",
    "print datetime.datetime.now() - time"
   ]
  },
  {
   "cell_type": "code",
   "execution_count": 65,
   "metadata": {
    "collapsed": false
   },
   "outputs": [
    {
     "name": "stdout",
     "output_type": "stream",
     "text": [
      "0.819597408492\n",
      "0:24:33.104491\n"
     ]
    }
   ],
   "source": [
    "time = datetime.datetime.now()\n",
    "\n",
    "pipe = Pipeline([\n",
    "  ('features', FeatureUnion([\n",
    "    ('word', Pipeline([\n",
    "      ('gettext', GetText()),\n",
    "      ('counts', CountVectorizer(ngram_range=(1, 3), min_df=4))\n",
    "    ])),\n",
    "    ('domain', Domain())\n",
    "  ])),\n",
    "  ('logreg', LogisticRegression())\n",
    "])\n",
    "\n",
    "print cross_val_score(pipe, pld_text, pld_text['political_lean'], cv=5, scoring='accuracy', n_jobs=-1).mean()\n",
    "\n",
    "print datetime.datetime.now() - time"
   ]
  },
  {
   "cell_type": "code",
   "execution_count": null,
   "metadata": {
    "collapsed": false
   },
   "outputs": [],
   "source": []
  },
  {
   "cell_type": "code",
   "execution_count": 9,
   "metadata": {
    "collapsed": true
   },
   "outputs": [],
   "source": [
    "class Issue(TransformerMixin):\n",
    "\n",
    "    def transform(self, X, **transform_params):\n",
    "        domains = self.vect.transform(X.issue)\n",
    "        return domains\n",
    "\n",
    "    def fit(self, X, y=None, **fit_params):\n",
    "        self.vect = CountVectorizer(**fit_params)\n",
    "        self.vect.fit(X['issue'])\n",
    "        return self"
   ]
  },
  {
   "cell_type": "code",
   "execution_count": 72,
   "metadata": {
    "collapsed": false
   },
   "outputs": [
    {
     "name": "stdout",
     "output_type": "stream",
     "text": [
      "0.853674571513\n",
      "0:03:12.073189\n"
     ]
    }
   ],
   "source": [
    "time = datetime.datetime.now()\n",
    "\n",
    "pipe = Pipeline([\n",
    "  ('features', FeatureUnion([\n",
    "    ('word', Pipeline([\n",
    "      ('gettext', GetText()),\n",
    "      ('counts', CountVectorizer(min_df=4, max_features=25000))\n",
    "    ])),\n",
    "    ('domain', Domain())\n",
    "  ])),\n",
    "  ('logreg', LogisticRegression())\n",
    "])\n",
    "\n",
    "print cross_val_score(pipe, pld_text, pld_text['political_lean'], cv=5, scoring='accuracy', n_jobs=-1).mean()\n",
    "\n",
    "print datetime.datetime.now() - time"
   ]
  },
  {
   "cell_type": "code",
   "execution_count": 73,
   "metadata": {
    "collapsed": false
   },
   "outputs": [
    {
     "name": "stdout",
     "output_type": "stream",
     "text": [
      "0.852394251154\n",
      "0:02:20.039432\n"
     ]
    }
   ],
   "source": [
    "time = datetime.datetime.now()\n",
    "\n",
    "pipe = Pipeline([\n",
    "  ('features', FeatureUnion([\n",
    "    ('word', Pipeline([\n",
    "      ('gettext', GetText()),\n",
    "      ('counts', CountVectorizer(min_df=4))\n",
    "    ])),\n",
    "    ('domain', Domain()),\n",
    "    ('issue', Issue())\n",
    "  ])),\n",
    "  ('logreg', LogisticRegression())\n",
    "])\n",
    "\n",
    "print cross_val_score(pipe, pld_text, pld_text['political_lean'], cv=5, scoring='accuracy', n_jobs=-1).mean()\n",
    "\n",
    "print datetime.datetime.now() - time"
   ]
  },
  {
   "cell_type": "code",
   "execution_count": 10,
   "metadata": {
    "collapsed": true
   },
   "outputs": [],
   "source": [
    "class Url(TransformerMixin):\n",
    "\n",
    "    def transform(self, X, **transform_params):\n",
    "        domains = self.vect.transform(X.url_raw)\n",
    "        return domains\n",
    "\n",
    "    def fit(self, X, y=None, **fit_params):\n",
    "        self.vect = CountVectorizer(**fit_params)\n",
    "        self.vect.fit(X['url_raw'])\n",
    "        return self"
   ]
  },
  {
   "cell_type": "code",
   "execution_count": 81,
   "metadata": {
    "collapsed": false
   },
   "outputs": [
    {
     "name": "stdout",
     "output_type": "stream",
     "text": [
      "0.900953915603\n",
      "0:03:05.730800\n"
     ]
    }
   ],
   "source": [
    "time = datetime.datetime.now()\n",
    "\n",
    "pipe = Pipeline([\n",
    "  ('features', FeatureUnion([\n",
    "    ('word', Pipeline([\n",
    "      ('gettext', GetText()),\n",
    "      ('counts', CountVectorizer(min_df=4))\n",
    "    ])),\n",
    "    ('domain', Domain()),\n",
    "    ('url', Url())\n",
    "  ])),\n",
    "  ('logreg', LogisticRegression())\n",
    "])\n",
    "\n",
    "print cross_val_score(pipe, pld_text, pld_text['political_lean'], cv=5, scoring='accuracy', n_jobs=-1).mean()\n",
    "\n",
    "print datetime.datetime.now() - time"
   ]
  },
  {
   "cell_type": "code",
   "execution_count": 22,
   "metadata": {
    "collapsed": false
   },
   "outputs": [
    {
     "name": "stderr",
     "output_type": "stream",
     "text": [
      "/Users/stanleystevensWhistle/miniconda2/envs/stanleyyork/lib/python2.7/site-packages/ipykernel/__main__.py:1: SettingWithCopyWarning: \n",
      "A value is trying to be set on a copy of a slice from a DataFrame.\n",
      "Try using .loc[row_indexer,col_indexer] = value instead\n",
      "\n",
      "See the caveats in the documentation: http://pandas.pydata.org/pandas-docs/stable/indexing.html#indexing-view-versus-copy\n",
      "  if __name__ == '__main__':\n"
     ]
    }
   ],
   "source": [
    "pld_text['cleaned_text_length'] = pld_text['cleaned_text'].apply(lambda x: len(x))"
   ]
  },
  {
   "cell_type": "code",
   "execution_count": 17,
   "metadata": {
    "collapsed": false
   },
   "outputs": [
    {
     "data": {
      "text/plain": [
       "85488"
      ]
     },
     "execution_count": 17,
     "metadata": {},
     "output_type": "execute_result"
    }
   ],
   "source": [
    "pld_text.cleaned_text_length.max()"
   ]
  },
  {
   "cell_type": "code",
   "execution_count": 11,
   "metadata": {
    "collapsed": true
   },
   "outputs": [],
   "source": [
    "class WordCount(TransformerMixin):\n",
    "\n",
    "    def transform(self, X, **transform_params):\n",
    "        count = X.cleaned_text_length\n",
    "        return count\n",
    "\n",
    "    def fit(self, X, y=None, **fit_params):\n",
    "        return self"
   ]
  },
  {
   "cell_type": "code",
   "execution_count": 12,
   "metadata": {
    "collapsed": true
   },
   "outputs": [],
   "source": [
    "class Sentiment(TransformerMixin):\n",
    "\n",
    "    def transform(self, X, **transform_params):\n",
    "        sentiment = X.sentiment#self.vect.transform(X.sentiment)\n",
    "        return sentiment\n",
    "\n",
    "    def fit(self, X, y=None, **fit_params):\n",
    "#         self.vect = CountVectorizer(**fit_params)\n",
    "#         self.vect.fit(X['sentiment'])\n",
    "        return self\n",
    "    \n",
    "class Subjectivity(TransformerMixin):\n",
    "\n",
    "    def transform(self, X, **transform_params):\n",
    "        sentiment = self.vect.transform(X.subjectivity)\n",
    "        return sentiment\n",
    "\n",
    "    def fit(self, X, y=None, **fit_params):\n",
    "        self.vect = CountVectorizer(**fit_params)\n",
    "        self.vect.fit(X['subjectivity'])\n",
    "        return self"
   ]
  },
  {
   "cell_type": "code",
   "execution_count": 13,
   "metadata": {
    "collapsed": false
   },
   "outputs": [
    {
     "name": "stderr",
     "output_type": "stream",
     "text": [
      "/Users/stanleystevensWhistle/miniconda2/envs/stanleyyork/lib/python2.7/site-packages/ipykernel/__main__.py:14: SettingWithCopyWarning: \n",
      "A value is trying to be set on a copy of a slice from a DataFrame.\n",
      "Try using .loc[row_indexer,col_indexer] = value instead\n",
      "\n",
      "See the caveats in the documentation: http://pandas.pydata.org/pandas-docs/stable/indexing.html#indexing-view-versus-copy\n"
     ]
    }
   ],
   "source": [
    "from textblob import TextBlob, Word\n",
    "\n",
    "def create_sentiment(str):\n",
    "    try:\n",
    "        tb = TextBlob(str)\n",
    "        return tb.sentiment.subjectivity\n",
    "    except Exception as e:\n",
    "        tb = TextBlob(str.decode('utf-8'))\n",
    "        return tb.sentiment.subjectivity\n",
    "    except Exception as e:\n",
    "        pass\n",
    "    \n",
    "\n",
    "pld_text['subjectivity'] = pld_text['cleaned_text'].apply(lambda x: create_sentiment(x))"
   ]
  },
  {
   "cell_type": "code",
   "execution_count": 14,
   "metadata": {
    "collapsed": false
   },
   "outputs": [
    {
     "name": "stderr",
     "output_type": "stream",
     "text": [
      "/Users/stanleystevensWhistle/miniconda2/envs/stanleyyork/lib/python2.7/site-packages/ipykernel/__main__.py:14: SettingWithCopyWarning: \n",
      "A value is trying to be set on a copy of a slice from a DataFrame.\n",
      "Try using .loc[row_indexer,col_indexer] = value instead\n",
      "\n",
      "See the caveats in the documentation: http://pandas.pydata.org/pandas-docs/stable/indexing.html#indexing-view-versus-copy\n"
     ]
    }
   ],
   "source": [
    "from textblob import TextBlob, Word\n",
    "\n",
    "def create_sentiment(str):\n",
    "    try:\n",
    "        tb = TextBlob(str)\n",
    "        return tb.sentiment.polarity\n",
    "    except Exception as e:\n",
    "        tb = TextBlob(str.decode('utf-8'))\n",
    "        return tb.sentiment.polarity\n",
    "    except Exception as e:\n",
    "        pass\n",
    "    \n",
    "\n",
    "pld_text['sentiment'] = pld_text['cleaned_text'].apply(lambda x: create_sentiment(x))"
   ]
  },
  {
   "cell_type": "code",
   "execution_count": 23,
   "metadata": {
    "collapsed": false
   },
   "outputs": [
    {
     "name": "stdout",
     "output_type": "stream",
     "text": [
      "0\n",
      "0\n"
     ]
    }
   ],
   "source": [
    "print pld_text['subjectivity'].isnull().sum()\n",
    "print pld_text['sentiment'].isnull().sum()"
   ]
  },
  {
   "cell_type": "code",
   "execution_count": 31,
   "metadata": {
    "collapsed": false
   },
   "outputs": [
    {
     "data": {
      "text/plain": [
       "<matplotlib.axes._subplots.AxesSubplot at 0x13897cc50>"
      ]
     },
     "execution_count": 31,
     "metadata": {},
     "output_type": "execute_result"
    },
    {
     "data": {
      "image/png": "[encoded data removed]",
      "text/plain": [
       "<matplotlib.figure.Figure at 0x1185a6050>"
      ]
     },
     "metadata": {},
     "output_type": "display_data"
    }
   ],
   "source": [
    "pld_text.boxplot(column='sentiment', by='political_lean')"
   ]
  },
  {
   "cell_type": "code",
   "execution_count": 32,
   "metadata": {
    "collapsed": false
   },
   "outputs": [
    {
     "data": {
      "text/plain": [
       "<matplotlib.axes._subplots.AxesSubplot at 0x1391bf590>"
      ]
     },
     "execution_count": 32,
     "metadata": {},
     "output_type": "execute_result"
    },
    {
     "data": {
      "image/png": "[encoded data removed]",
      "text/plain": [
       "<matplotlib.figure.Figure at 0x1380e17d0>"
      ]
     },
     "metadata": {},
     "output_type": "display_data"
    }
   ],
   "source": [
    "pld_text.boxplot(column='subjectivity', by='political_lean')"
   ]
  },
  {
   "cell_type": "code",
   "execution_count": 37,
   "metadata": {
    "collapsed": false
   },
   "outputs": [
    {
     "data": {
      "text/plain": [
       "<matplotlib.axes._subplots.AxesSubplot at 0x1391d3950>"
      ]
     },
     "execution_count": 37,
     "metadata": {},
     "output_type": "execute_result"
    },
    {
     "data": {
      "image/png": "[encoded data removed]",
      "text/plain": [
       "<matplotlib.figure.Figure at 0x13c524c50>"
      ]
     },
     "metadata": {},
     "output_type": "display_data"
    }
   ],
   "source": [
    "pld_text['sentiment'].hist(bins=50)"
   ]
  },
  {
   "cell_type": "code",
   "execution_count": 38,
   "metadata": {
    "collapsed": false
   },
   "outputs": [
    {
     "data": {
      "text/plain": [
       "<matplotlib.axes._subplots.AxesSubplot at 0x13c8c3110>"
      ]
     },
     "execution_count": 38,
     "metadata": {},
     "output_type": "execute_result"
    },
    {
     "data": {
      "image/png": "[encoded data removed]",
      "text/plain": [
       "<matplotlib.figure.Figure at 0x13c8ccb50>"
      ]
     },
     "metadata": {},
     "output_type": "display_data"
    }
   ],
   "source": [
    "pld_text['subjectivity'].hist(bins=50)"
   ]
  },
  {
   "cell_type": "code",
   "execution_count": 24,
   "metadata": {
    "collapsed": false
   },
   "outputs": [
    {
     "data": {
      "text/plain": [
       "<matplotlib.axes._subplots.AxesSubplot at 0x13c82b7d0>"
      ]
     },
     "execution_count": 24,
     "metadata": {},
     "output_type": "execute_result"
    },
    {
     "data": {
      "image/png": "[encoded data removed]",
      "text/plain": [
       "<matplotlib.figure.Figure at 0x13ca8d5d0>"
      ]
     },
     "metadata": {},
     "output_type": "display_data"
    }
   ],
   "source": [
    "pld_text['cleaned_text_length'].hist(bins=20)"
   ]
  },
  {
   "cell_type": "code",
   "execution_count": 25,
   "metadata": {
    "collapsed": false
   },
   "outputs": [
    {
     "data": {
      "text/plain": [
       "array([[<matplotlib.axes._subplots.AxesSubplot object at 0x13caab750>]], dtype=object)"
      ]
     },
     "execution_count": 25,
     "metadata": {},
     "output_type": "execute_result"
    },
    {
     "data": {
      "image/png": "[encoded data removed]",
      "text/plain": [
       "<matplotlib.figure.Figure at 0x13cc3a550>"
      ]
     },
     "metadata": {},
     "output_type": "display_data"
    }
   ],
   "source": [
    "pld_text[pld_text.cleaned_text_length < 3000].hist(bins=30)"
   ]
  },
  {
   "cell_type": "code",
   "execution_count": 43,
   "metadata": {
    "collapsed": false
   },
   "outputs": [
    {
     "data": {
      "text/html": [
       "<div>\n",
       "<table border=\"1\" class=\"dataframe\">\n",
       "  <thead>\n",
       "    <tr style=\"text-align: right;\">\n",
       "      <th></th>\n",
       "      <th>url_raw</th>\n",
       "      <th>url_clean</th>\n",
       "      <th>url_domain</th>\n",
       "      <th>ugly_text</th>\n",
       "      <th>issue</th>\n",
       "      <th>political_lean</th>\n",
       "      <th>title</th>\n",
       "      <th>meta_description</th>\n",
       "      <th>cleaned_text</th>\n",
       "      <th>sentiment</th>\n",
       "      <th>subjectivity</th>\n",
       "      <th>cleaned_text_length</th>\n",
       "    </tr>\n",
       "  </thead>\n",
       "  <tbody>\n",
       "    <tr>\n",
       "      <th>0</th>\n",
       "      <td>https://www.washingtonpost.com/news/post-natio...</td>\n",
       "      <td>washingtonpost.com/news/post-nation/wp/2016/05...</td>\n",
       "      <td>washingtonpost.com</td>\n",
       "      <td>2         Desktop notifications are ...</td>\n",
       "      <td>abortion</td>\n",
       "      <td>Lean Left</td>\n",
       "      <td>‘A target on Roe v. Wade ’: Oklahoma bill maki...</td>\n",
       "      <td>Gov. Mary Fallin (R) has not said if she plans...</td>\n",
       "      <td>UPDATE: Gov. Fallin vetoed the bill on Friday....</td>\n",
       "      <td>0.064502</td>\n",
       "      <td>0.425226</td>\n",
       "      <td>6839</td>\n",
       "    </tr>\n",
       "    <tr>\n",
       "      <th>1</th>\n",
       "      <td>http://www.salon.com/2016/04/07/camille_paglia...</td>\n",
       "      <td>salon.com/2016/04/07/camille_paglia_feminists_...</td>\n",
       "      <td>salon.com</td>\n",
       "      <td>\\n\\n\\t\\n\\t\\t\\n\\t\\t\\t\\n\\t\\t\\t\\t\\n\\t\\t\\t\\t\\t\\n\\t...</td>\n",
       "      <td>abortion</td>\n",
       "      <td>Left</td>\n",
       "      <td>Camille Paglia: Feminists have abortion wrong,...</td>\n",
       "      <td>Reproductive rights have become ideological to...</td>\n",
       "      <td>While the Hillary flap was merely a blip, give...</td>\n",
       "      <td>0.075956</td>\n",
       "      <td>0.461114</td>\n",
       "      <td>12083</td>\n",
       "    </tr>\n",
       "    <tr>\n",
       "      <th>2</th>\n",
       "      <td>http://www.vox.com/2016/3/20/11269226/texas-ab...</td>\n",
       "      <td>vox.com/2016/3/20/11269226/texas-abortion-wome...</td>\n",
       "      <td>vox.com</td>\n",
       "      <td>\\n    \\n    \\n\\n(function(w,d,s,l,i){w[l]=w[l]...</td>\n",
       "      <td>abortion</td>\n",
       "      <td>Lean Left</td>\n",
       "      <td>Study: women had to drive 4 times farther afte...</td>\n",
       "      <td>Here's exactly how Texas anti-abortion laws bu...</td>\n",
       "      <td>Ever since Texas laws closed about half of the...</td>\n",
       "      <td>0.115284</td>\n",
       "      <td>0.502172</td>\n",
       "      <td>4052</td>\n",
       "    </tr>\n",
       "    <tr>\n",
       "      <th>3</th>\n",
       "      <td>http://www.huffingtonpost.com/entry/john-kasic...</td>\n",
       "      <td>huffingtonpost.com/entry/john-kasich-planned-p...</td>\n",
       "      <td>huffingtonpost.com</td>\n",
       "      <td>\\n\\n\\n\\r\\nh2.mp_title { line-height: 1.0; marg...</td>\n",
       "      <td>abortion</td>\n",
       "      <td>Left</td>\n",
       "      <td>Moderate John Kasich Just Defunded Planned Par...</td>\n",
       "      <td>The bill will strip $1.3 million that was dest...</td>\n",
       "      <td>While the bill grants an exemption to abortion...</td>\n",
       "      <td>-0.012407</td>\n",
       "      <td>0.397963</td>\n",
       "      <td>2779</td>\n",
       "    </tr>\n",
       "    <tr>\n",
       "      <th>4</th>\n",
       "      <td>http://www.wsj.com/articles/hillary-clinton-an...</td>\n",
       "      <td>wsj.com/articles/hillary-clinton-and-donald-tr...</td>\n",
       "      <td>wsj.com</td>\n",
       "      <td>\\n\\n    \\n\\n    \\n\\n    \\n\\n    \\n      \\n    ...</td>\n",
       "      <td>abortion</td>\n",
       "      <td>Center</td>\n",
       "      <td>Hillary Clinton and Donald Trump Duel Over Hig...</td>\n",
       "      <td>Donald Trump and Hillary Clinton plunged into ...</td>\n",
       "      <td>The long-expected endorsement by President Bar...</td>\n",
       "      <td>0.000000</td>\n",
       "      <td>0.390000</td>\n",
       "      <td>675</td>\n",
       "    </tr>\n",
       "  </tbody>\n",
       "</table>\n",
       "</div>"
      ],
      "text/plain": [
       "                                             url_raw  \\\n",
       "0  https://www.washingtonpost.com/news/post-natio...   \n",
       "1  http://www.salon.com/2016/04/07/camille_paglia...   \n",
       "2  http://www.vox.com/2016/3/20/11269226/texas-ab...   \n",
       "3  http://www.huffingtonpost.com/entry/john-kasic...   \n",
       "4  http://www.wsj.com/articles/hillary-clinton-an...   \n",
       "\n",
       "                                           url_clean          url_domain  \\\n",
       "0  washingtonpost.com/news/post-nation/wp/2016/05...  washingtonpost.com   \n",
       "1  salon.com/2016/04/07/camille_paglia_feminists_...           salon.com   \n",
       "2  vox.com/2016/3/20/11269226/texas-abortion-wome...             vox.com   \n",
       "3  huffingtonpost.com/entry/john-kasich-planned-p...  huffingtonpost.com   \n",
       "4  wsj.com/articles/hillary-clinton-and-donald-tr...             wsj.com   \n",
       "\n",
       "                                           ugly_text     issue political_lean  \\\n",
       "0            2         Desktop notifications are ...  abortion      Lean Left   \n",
       "1  \\n\\n\\t\\n\\t\\t\\n\\t\\t\\t\\n\\t\\t\\t\\t\\n\\t\\t\\t\\t\\t\\n\\t...  abortion           Left   \n",
       "2  \\n    \\n    \\n\\n(function(w,d,s,l,i){w[l]=w[l]...  abortion      Lean Left   \n",
       "3  \\n\\n\\n\\r\\nh2.mp_title { line-height: 1.0; marg...  abortion           Left   \n",
       "4  \\n\\n    \\n\\n    \\n\\n    \\n\\n    \\n      \\n    ...  abortion         Center   \n",
       "\n",
       "                                               title  \\\n",
       "0  ‘A target on Roe v. Wade ’: Oklahoma bill maki...   \n",
       "1  Camille Paglia: Feminists have abortion wrong,...   \n",
       "2  Study: women had to drive 4 times farther afte...   \n",
       "3  Moderate John Kasich Just Defunded Planned Par...   \n",
       "4  Hillary Clinton and Donald Trump Duel Over Hig...   \n",
       "\n",
       "                                    meta_description  \\\n",
       "0  Gov. Mary Fallin (R) has not said if she plans...   \n",
       "1  Reproductive rights have become ideological to...   \n",
       "2  Here's exactly how Texas anti-abortion laws bu...   \n",
       "3  The bill will strip $1.3 million that was dest...   \n",
       "4  Donald Trump and Hillary Clinton plunged into ...   \n",
       "\n",
       "                                        cleaned_text  sentiment  subjectivity  \\\n",
       "0  UPDATE: Gov. Fallin vetoed the bill on Friday....   0.064502      0.425226   \n",
       "1  While the Hillary flap was merely a blip, give...   0.075956      0.461114   \n",
       "2  Ever since Texas laws closed about half of the...   0.115284      0.502172   \n",
       "3  While the bill grants an exemption to abortion...  -0.012407      0.397963   \n",
       "4  The long-expected endorsement by President Bar...   0.000000      0.390000   \n",
       "\n",
       "   cleaned_text_length  \n",
       "0                 6839  \n",
       "1                12083  \n",
       "2                 4052  \n",
       "3                 2779  \n",
       "4                  675  "
      ]
     },
     "execution_count": 43,
     "metadata": {},
     "output_type": "execute_result"
    }
   ],
   "source": [
    "pld_text.head()"
   ]
  },
  {
   "cell_type": "code",
   "execution_count": 15,
   "metadata": {
    "collapsed": false
   },
   "outputs": [],
   "source": [
    "import scipy as sp\n",
    "# extra = sp.sparse.csr_matrix(pld_text[['sentiment', 'subjectivity', 'cleaned_text_length']].astype(float))\n",
    "# extra.shape"
   ]
  },
  {
   "cell_type": "code",
   "execution_count": 16,
   "metadata": {
    "collapsed": true
   },
   "outputs": [],
   "source": [
    "class Combined(TransformerMixin):\n",
    "\n",
    "    def transform(self, X, **transform_params):\n",
    "        extra = sp.sparse.csr_matrix(X[['sentiment', 'subjectivity', 'cleaned_text_length']].astype(float))\n",
    "        return extra\n",
    "\n",
    "    def fit(self, X, y=None, **fit_params):\n",
    "        return self"
   ]
  },
  {
   "cell_type": "code",
   "execution_count": 60,
   "metadata": {
    "collapsed": false
   },
   "outputs": [
    {
     "name": "stdout",
     "output_type": "stream",
     "text": [
      "0.392688394669\n",
      "0:00:12.778085\n"
     ]
    }
   ],
   "source": [
    "time = datetime.datetime.now()\n",
    "\n",
    "pipe = Pipeline([\n",
    "  ('features', FeatureUnion([\n",
    "    ('combined', Combined())\n",
    "  ])),\n",
    "  ('logreg', LogisticRegression())\n",
    "])\n",
    "\n",
    "print cross_val_score(pipe, pld_text, pld_text['political_lean'], cv=5, scoring='accuracy', n_jobs=-1).mean()\n",
    "\n",
    "print datetime.datetime.now() - time"
   ]
  },
  {
   "cell_type": "code",
   "execution_count": 61,
   "metadata": {
    "collapsed": false
   },
   "outputs": [
    {
     "name": "stdout",
     "output_type": "stream",
     "text": [
      "0.59882277051\n",
      "0:02:54.205834\n"
     ]
    }
   ],
   "source": [
    "time = datetime.datetime.now()\n",
    "\n",
    "pipe = Pipeline([\n",
    "  ('features', FeatureUnion([\n",
    "    ('word', Pipeline([\n",
    "      ('gettext', GetText()),\n",
    "      ('counts', CountVectorizer(min_df=4))\n",
    "    ])),\n",
    "    ('combined', Combined())\n",
    "  ])),\n",
    "  ('logreg', LogisticRegression())\n",
    "])\n",
    "\n",
    "print cross_val_score(pipe, pld_text, pld_text['political_lean'], cv=5, scoring='accuracy', n_jobs=-1).mean()\n",
    "\n",
    "print datetime.datetime.now() - time"
   ]
  },
  {
   "cell_type": "code",
   "execution_count": 59,
   "metadata": {
    "collapsed": false
   },
   "outputs": [
    {
     "name": "stdout",
     "output_type": "stream",
     "text": [
      "0.895752857542\n",
      "0:02:27.928482\n"
     ]
    }
   ],
   "source": [
    "time = datetime.datetime.now()\n",
    "\n",
    "pipe = Pipeline([\n",
    "  ('features', FeatureUnion([\n",
    "    ('word', Pipeline([\n",
    "      ('gettext', GetText()),\n",
    "      ('counts', CountVectorizer(min_df=4))\n",
    "    ])),\n",
    "    ('domain', Domain()),\n",
    "    ('url', Url()),\n",
    "    ('combined', Combined())\n",
    "  ])),\n",
    "  ('logreg', LogisticRegression())\n",
    "])\n",
    "\n",
    "print cross_val_score(pipe, pld_text, pld_text['political_lean'], cv=5, scoring='accuracy', n_jobs=-1).mean()\n",
    "\n",
    "print datetime.datetime.now() - time"
   ]
  },
  {
   "cell_type": "code",
   "execution_count": 17,
   "metadata": {
    "collapsed": true
   },
   "outputs": [],
   "source": [
    "class CombinedDense(TransformerMixin):\n",
    "\n",
    "    def transform(self, X, **transform_params):\n",
    "        extra = X[['sentiment', 'subjectivity', 'cleaned_text_length']]\n",
    "        return extra\n",
    "\n",
    "    def fit(self, X, y=None, **fit_params):\n",
    "        return self"
   ]
  },
  {
   "cell_type": "code",
   "execution_count": 18,
   "metadata": {
    "collapsed": true
   },
   "outputs": [],
   "source": [
    "class DenseTransformer(TransformerMixin):\n",
    "\n",
    "    def transform(self, X, y=None, **fit_params):\n",
    "        return X.todense()\n",
    "\n",
    "    def fit_transform(self, X, y=None, **fit_params):\n",
    "        self.fit(X, y, **fit_params)\n",
    "        return self.transform(X)\n",
    "\n",
    "    def fit(self, X, y=None, **fit_params):\n",
    "        return self"
   ]
  },
  {
   "cell_type": "code",
   "execution_count": 47,
   "metadata": {
    "collapsed": false
   },
   "outputs": [
    {
     "name": "stdout",
     "output_type": "stream",
     "text": [
      "0.266376093772\n",
      "0:03:03.962120\n"
     ]
    }
   ],
   "source": [
    "from sklearn.naive_bayes import GaussianNB\n",
    "\n",
    "time = datetime.datetime.now()\n",
    "\n",
    "pipe = Pipeline([\n",
    "  ('features', FeatureUnion([\n",
    "    ('word', Pipeline([\n",
    "      ('gettext', GetText()),\n",
    "      ('counts', CountVectorizer(min_df=4)),\n",
    "      ('to_dense', DenseTransformer())\n",
    "    ])),\n",
    "    ('domain', Pipeline([\n",
    "      ('domain', Domain()),\n",
    "      ('to_dense', DenseTransformer())\n",
    "    ])),\n",
    "    ('url', Pipeline([\n",
    "      ('url', Url()),\n",
    "      ('to_dense', DenseTransformer())\n",
    "    ])),\n",
    "    ('other', Pipeline([\n",
    "      ('combined', Combined()),\n",
    "      ('to_dense', DenseTransformer())\n",
    "    ])),\n",
    "  ])),\n",
    "  ('classifier', GaussianNB())\n",
    "])\n",
    "\n",
    "print cross_val_score(pipe, pld_text, pld_text['political_lean'], cv=5, scoring='accuracy', n_jobs=-1).mean()\n",
    "\n",
    "print datetime.datetime.now() - time"
   ]
  },
  {
   "cell_type": "code",
   "execution_count": 48,
   "metadata": {
    "collapsed": false
   },
   "outputs": [
    {
     "name": "stdout",
     "output_type": "stream",
     "text": [
      "0.595228623634\n",
      "0:03:04.073929\n"
     ]
    }
   ],
   "source": [
    "from sklearn.naive_bayes import GaussianNB\n",
    "\n",
    "time = datetime.datetime.now()\n",
    "\n",
    "pipe = Pipeline([\n",
    "  ('features', FeatureUnion([\n",
    "    ('word', Pipeline([\n",
    "      ('gettext', GetText()),\n",
    "      ('counts', CountVectorizer(min_df=4)),\n",
    "      ('to_dense', DenseTransformer())\n",
    "    ])),\n",
    "    ('domain', Pipeline([\n",
    "      ('domain', Domain()),\n",
    "      ('to_dense', DenseTransformer())\n",
    "    ])),\n",
    "    ('url', Pipeline([\n",
    "      ('url', Url()),\n",
    "      ('to_dense', DenseTransformer())\n",
    "    ])),\n",
    "  ])),\n",
    "  ('classifier', GaussianNB())\n",
    "])\n",
    "\n",
    "print cross_val_score(pipe, pld_text, pld_text['political_lean'], cv=5, scoring='accuracy', n_jobs=-1).mean()\n",
    "\n",
    "print datetime.datetime.now() - time"
   ]
  },
  {
   "cell_type": "code",
   "execution_count": 50,
   "metadata": {
    "collapsed": false
   },
   "outputs": [
    {
     "name": "stdout",
     "output_type": "stream",
     "text": [
      "0.895752857542\n",
      "0:02:32.843921\n"
     ]
    }
   ],
   "source": [
    "from sklearn.naive_bayes import GaussianNB\n",
    "\n",
    "time = datetime.datetime.now()\n",
    "\n",
    "pipe = Pipeline([\n",
    "  ('features', FeatureUnion([\n",
    "    ('word', Pipeline([\n",
    "      ('gettext', GetText()),\n",
    "      ('counts', CountVectorizer(min_df=4)),\n",
    "      ('to_dense', DenseTransformer())\n",
    "    ])),\n",
    "    ('domain', Pipeline([\n",
    "      ('domain', Domain()),\n",
    "      ('to_dense', DenseTransformer())\n",
    "    ])),\n",
    "    ('url', Pipeline([\n",
    "      ('url', Url()),\n",
    "      ('to_dense', DenseTransformer())\n",
    "    ])),\n",
    "    ('other', Pipeline([\n",
    "      ('combined', Combined()),\n",
    "      ('to_dense', DenseTransformer())\n",
    "    ])),\n",
    "  ])),\n",
    "  ('logreg', LogisticRegression())\n",
    "])\n",
    "\n",
    "print cross_val_score(pipe, pld_text, pld_text['political_lean'], cv=5, scoring='accuracy', n_jobs=-1).mean()\n",
    "\n",
    "print datetime.datetime.now() - time"
   ]
  },
  {
   "cell_type": "code",
   "execution_count": 40,
   "metadata": {
    "collapsed": false
   },
   "outputs": [
    {
     "name": "stderr",
     "output_type": "stream",
     "text": [
      "/Users/stanleystevensWhistle/miniconda2/envs/stanleyyork/lib/python2.7/site-packages/ipykernel/__main__.py:1: SettingWithCopyWarning: \n",
      "A value is trying to be set on a copy of a slice from a DataFrame.\n",
      "Try using .loc[row_indexer,col_indexer] = value instead\n",
      "\n",
      "See the caveats in the documentation: http://pandas.pydata.org/pandas-docs/stable/indexing.html#indexing-view-versus-copy\n",
      "  if __name__ == '__main__':\n"
     ]
    }
   ],
   "source": [
    "pld_text['binary_lean'] = pld_text['political_lean'].apply(lambda x: 'Left' if ((x == 'Lean Left') | (x == 'Left')) else 'Right' if ((x == 'Lean Right' ) | (x == 'Right')) else 'Other')"
   ]
  },
  {
   "cell_type": "code",
   "execution_count": null,
   "metadata": {
    "collapsed": false
   },
   "outputs": [],
   "source": []
  },
  {
   "cell_type": "code",
   "execution_count": 48,
   "metadata": {
    "collapsed": false
   },
   "outputs": [
    {
     "name": "stdout",
     "output_type": "stream",
     "text": [
      "0.912880334123\n",
      "0:01:45.018612\n"
     ]
    }
   ],
   "source": [
    "time = datetime.datetime.now()\n",
    "\n",
    "pipe = Pipeline([\n",
    "  ('features', FeatureUnion([\n",
    "    ('word', Pipeline([\n",
    "      ('gettext', GetText()),\n",
    "      ('counts', CountVectorizer(min_df=4))\n",
    "    ])),\n",
    "    ('domain', Domain()),\n",
    "    ('url', Url())\n",
    "  ])),\n",
    "  ('logreg', LogisticRegression())\n",
    "])\n",
    "\n",
    "print cross_val_score(pipe, pld_text, pld_text['binary_lean'], cv=5, scoring='accuracy', n_jobs=-1).mean()\n",
    "\n",
    "print datetime.datetime.now() - time"
   ]
  },
  {
   "cell_type": "code",
   "execution_count": 50,
   "metadata": {
    "collapsed": false
   },
   "outputs": [],
   "source": [
    "# from sklearn.tree import DecisionTreeClassifier\n",
    "# treeclf = DecisionTreeClassifier(max_depth=10, random_state=1)\n",
    "# treeclf.fit(X, y)\n"
   ]
  },
  {
   "cell_type": "code",
   "execution_count": 23,
   "metadata": {
    "collapsed": false
   },
   "outputs": [
    {
     "name": "stdout",
     "output_type": "stream",
     "text": [
      "0.597237105001\n",
      "0:03:33.645147\n"
     ]
    }
   ],
   "source": [
    "from sklearn.naive_bayes import GaussianNB\n",
    "\n",
    "time = datetime.datetime.now()\n",
    "\n",
    "pipe = Pipeline([\n",
    "  ('features', FeatureUnion([\n",
    "    ('word', Pipeline([\n",
    "      ('gettext', GetText()),\n",
    "      ('counts', CountVectorizer(min_df=4)),\n",
    "      ('to_dense', DenseTransformer())\n",
    "    ])),\n",
    "#     ('domain', Pipeline([\n",
    "#       ('domain', Domain()),\n",
    "#       ('to_dense', DenseTransformer())\n",
    "#     ])),\n",
    "#     ('url', Pipeline([\n",
    "#       ('url', Url()),\n",
    "#       ('to_dense', DenseTransformer())\n",
    "#     ])),\n",
    "    ('other', Pipeline([\n",
    "      ('combined', Combined()),\n",
    "      ('to_dense', DenseTransformer())\n",
    "    ])),\n",
    "  ])),\n",
    "  ('logreg', LogisticRegression())\n",
    "])\n",
    "\n",
    "print cross_val_score(pipe, pld_text, pld_text['political_lean'], cv=5, scoring='accuracy', n_jobs=-1).mean()\n",
    "\n",
    "print datetime.datetime.now() - time"
   ]
  },
  {
   "cell_type": "code",
   "execution_count": 24,
   "metadata": {
    "collapsed": false
   },
   "outputs": [
    {
     "name": "stdout",
     "output_type": "stream",
     "text": [
      "0.586621459988\n",
      "0:03:19.556015\n"
     ]
    }
   ],
   "source": [
    "from sklearn.naive_bayes import GaussianNB\n",
    "\n",
    "time = datetime.datetime.now()\n",
    "\n",
    "pipe = Pipeline([\n",
    "  ('features', FeatureUnion([\n",
    "    ('word', Pipeline([\n",
    "      ('gettext', GetText()),\n",
    "      ('counts', CountVectorizer(min_df=4)),\n",
    "      ('to_dense', DenseTransformer())\n",
    "    ])),\n",
    "#     ('domain', Pipeline([\n",
    "#       ('domain', Domain()),\n",
    "#       ('to_dense', DenseTransformer())\n",
    "#     ])),\n",
    "#     ('url', Pipeline([\n",
    "#       ('url', Url()),\n",
    "#       ('to_dense', DenseTransformer())\n",
    "#     ])),\n",
    "    ('issues', Pipeline([\n",
    "      ('issue', Issue()),\n",
    "      ('to_dense', DenseTransformer())\n",
    "    ])),\n",
    "    ('other', Pipeline([\n",
    "      ('combined', Combined()),\n",
    "      ('to_dense', DenseTransformer())\n",
    "    ])),\n",
    "  ])),\n",
    "  ('logreg', LogisticRegression())\n",
    "])\n",
    "\n",
    "print cross_val_score(pipe, pld_text, pld_text['political_lean'], cv=5, scoring='accuracy', n_jobs=-1).mean()\n",
    "\n",
    "print datetime.datetime.now() - time"
   ]
  },
  {
   "cell_type": "code",
   "execution_count": 19,
   "metadata": {
    "collapsed": false
   },
   "outputs": [],
   "source": [
    "from nltk.stem.snowball import SnowballStemmer\n",
    "from nltk import word_tokenize     \n",
    "stemmer = SnowballStemmer('english')\n",
    "\n",
    "def word_tokenize(text, how='lemma'):\n",
    "    words = TextBlob(text).words\n",
    "    if how == 'lemma':\n",
    "        return [word.lemmatize() for word in words]\n",
    "    elif how == 'stem':\n",
    "        return [stemmer.stem(word) for word in words]\n",
    "    \n",
    "    \n",
    "stemmer = SnowballStemmer('english')\n",
    "def stem_tokens(tokens, stemmer):\n",
    "    stemmed = []\n",
    "    for item in tokens:\n",
    "        stemmed.append(stemmer.stem(item))\n",
    "    return stemmed\n",
    "\n",
    "def tokenize(text):\n",
    "    tokens = TextBlob(text).words\n",
    "    stems = stem_tokens(tokens, stemmer)\n",
    "    return stems"
   ]
  },
  {
   "cell_type": "code",
   "execution_count": 44,
   "metadata": {
    "collapsed": false
   },
   "outputs": [
    {
     "name": "stdout",
     "output_type": "stream",
     "text": [
      "0.61221645315\n",
      "0:27:50.525245\n"
     ]
    }
   ],
   "source": [
    "from sklearn.naive_bayes import GaussianNB\n",
    "\n",
    "time = datetime.datetime.now()\n",
    "\n",
    "pipe = Pipeline([\n",
    "  ('features', FeatureUnion([\n",
    "    ('word', Pipeline([\n",
    "      ('gettext', GetText()),\n",
    "      ('counts', CountVectorizer(tokenizer=tokenize)),\n",
    "      ('to_dense', DenseTransformer())\n",
    "    ])),\n",
    "#     ('domain', Pipeline([\n",
    "#       ('domain', Domain()),\n",
    "#       ('to_dense', DenseTransformer())\n",
    "#     ])),\n",
    "#     ('url', Pipeline([\n",
    "#       ('url', Url()),\n",
    "#       ('to_dense', DenseTransformer())\n",
    "#     ])),\n",
    "#     ('other', Pipeline([\n",
    "#       ('combined', Combined()),\n",
    "#       ('to_dense', DenseTransformer())\n",
    "#     ])),\n",
    "  ])),\n",
    "  ('logreg', LogisticRegression())\n",
    "])\n",
    "\n",
    "print cross_val_score(pipe, pld_text, pld_text['political_lean'], cv=5, scoring='accuracy', n_jobs=-1).mean()\n",
    "\n",
    "print datetime.datetime.now() - time"
   ]
  },
  {
   "cell_type": "code",
   "execution_count": null,
   "metadata": {
    "collapsed": false
   },
   "outputs": [],
   "source": []
  },
  {
   "cell_type": "code",
   "execution_count": null,
   "metadata": {
    "collapsed": false
   },
   "outputs": [],
   "source": []
  },
  {
   "cell_type": "code",
   "execution_count": null,
   "metadata": {
    "collapsed": false
   },
   "outputs": [],
   "source": [
    "from sklearn.naive_bayes import GaussianNB\n",
    "\n",
    "time = datetime.datetime.now()\n",
    "\n",
    "pipe = Pipeline([\n",
    "  ('features', FeatureUnion([\n",
    "    ('word', Pipeline([\n",
    "      ('gettext', GetText()),\n",
    "      ('counts', CountVectorizer(tokenizer=tokenize, ngram_range=(1, 2))),\n",
    "      ('to_dense', DenseTransformer())\n",
    "    ])),\n",
    "  ('logreg', LogisticRegression())\n",
    "])\n",
    "\n",
    "print cross_val_score(pipe, pld_text, pld_text['political_lean'], cv=5, scoring='accuracy', n_jobs=-1).mean()\n",
    "\n",
    "print datetime.datetime.now() - time"
   ]
  },
  {
   "cell_type": "code",
   "execution_count": null,
   "metadata": {
    "collapsed": false
   },
   "outputs": [],
   "source": [
    "time = datetime.datetime.now()\n",
    "\n",
    "pipe = Pipeline([\n",
    "  ('features', FeatureUnion([\n",
    "        ('counts', CountVectorizer())\n",
    "  ])),\n",
    "  ('logreg', LogisticRegression())\n",
    "])\n",
    "\n",
    "gram_range = [(1, n) for n in range(1, 5)]\n",
    "param_grid = {\n",
    "    'features__counts__ngram_range': gram_range\n",
    "}\n",
    "\n",
    "grid = GridSearchCV(pipe, param_grid, cv=5, scoring='accuracy')\n",
    "grid.fit(pld_text['cleaned_text'], pld_text['political_lean'])\n",
    "print grid.best_score_, grid.best_params_\n",
    "   \n",
    "print datetime.datetime.now() - time"
   ]
  },
  {
   "cell_type": "code",
   "execution_count": null,
   "metadata": {
    "collapsed": true
   },
   "outputs": [],
   "source": [
    "print grid.best_score_"
   ]
  },
  {
   "cell_type": "code",
   "execution_count": null,
   "metadata": {
    "collapsed": true
   },
   "outputs": [],
   "source": []
  }
 ],
 "metadata": {
  "anaconda-cloud": {},
  "kernelspec": {
   "display_name": "Python [conda env:stanleyyork]",
   "language": "python",
   "name": "conda-env-stanleyyork-py"
  },
  "language_info": {
   "codemirror_mode": {
    "name": "ipython",
    "version": 2
   },
   "file_extension": ".py",
   "mimetype": "text/x-python",
   "name": "python",
   "nbconvert_exporter": "python",
   "pygments_lexer": "ipython2",
   "version": "2.7.12"
  }
 },
 "nbformat": 4,
 "nbformat_minor": 1
}
