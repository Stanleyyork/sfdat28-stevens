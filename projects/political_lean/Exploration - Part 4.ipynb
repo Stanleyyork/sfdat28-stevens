{
 "cells": [
  {
   "cell_type": "code",
   "execution_count": 1,
   "metadata": {
    "collapsed": true
   },
   "outputs": [],
   "source": [
    "from goose import Goose\n",
    "import pandas as pd\n",
    "import numpy as np\n",
    "from sklearn.feature_extraction.text import CountVectorizer, TfidfVectorizer\n",
    "from sklearn.cross_validation import train_test_split, cross_val_score, cross_val_predict\n",
    "from sklearn.linear_model import LogisticRegression\n",
    "from sklearn.pipeline import Pipeline, FeatureUnion, make_pipeline, make_union\n",
    "from sklearn.naive_bayes import MultinomialNB\n",
    "from sklearn.grid_search import GridSearchCV\n",
    "from bs4 import BeautifulSoup\n",
    "from sklearn.neighbors import KNeighborsClassifier\n",
    "from textblob import TextBlob, Word\n",
    "from sklearn.base import TransformerMixin\n",
    "from sklearn import metrics\n",
    "from sklearn.naive_bayes import GaussianNB\n",
    "import matplotlib.pyplot as plt\n",
    "from sklearn.grid_search import GridSearchCV\n",
    "import datetime\n",
    "%matplotlib inline"
   ]
  },
  {
   "cell_type": "code",
   "execution_count": 2,
   "metadata": {
    "collapsed": true
   },
   "outputs": [],
   "source": [
    "use_columns = ['url_raw', 'url_clean', 'url_domain', 'ugly_text', 'issue', 'political lean', 'title', 'meta_description', 'cleaned_text']\n",
    "pld = pd.read_csv('0_18874.csv', usecols=use_columns)"
   ]
  },
  {
   "cell_type": "code",
   "execution_count": 3,
   "metadata": {
    "collapsed": false
   },
   "outputs": [
    {
     "data": {
      "text/html": [
       "<div>\n",
       "<table border=\"1\" class=\"dataframe\">\n",
       "  <thead>\n",
       "    <tr style=\"text-align: right;\">\n",
       "      <th></th>\n",
       "      <th>url_raw</th>\n",
       "      <th>url_clean</th>\n",
       "      <th>url_domain</th>\n",
       "      <th>ugly_text</th>\n",
       "      <th>issue</th>\n",
       "      <th>political lean</th>\n",
       "      <th>title</th>\n",
       "      <th>meta_description</th>\n",
       "      <th>cleaned_text</th>\n",
       "    </tr>\n",
       "  </thead>\n",
       "  <tbody>\n",
       "    <tr>\n",
       "      <th>0</th>\n",
       "      <td>https://www.washingtonpost.com/news/post-natio...</td>\n",
       "      <td>washingtonpost.com/news/post-nation/wp/2016/05...</td>\n",
       "      <td>washingtonpost.com</td>\n",
       "      <td>2         Desktop notifications are ...</td>\n",
       "      <td>abortion</td>\n",
       "      <td>Lean Left</td>\n",
       "      <td>‘A target on Roe v. Wade ’: Oklahoma bill maki...</td>\n",
       "      <td>Gov. Mary Fallin (R) has not said if she plans...</td>\n",
       "      <td>UPDATE: Gov. Fallin vetoed the bill on Friday....</td>\n",
       "    </tr>\n",
       "    <tr>\n",
       "      <th>1</th>\n",
       "      <td>http://www.salon.com/2016/04/07/camille_paglia...</td>\n",
       "      <td>salon.com/2016/04/07/camille_paglia_feminists_...</td>\n",
       "      <td>salon.com</td>\n",
       "      <td>\\n\\n\\t\\n\\t\\t\\n\\t\\t\\t\\n\\t\\t\\t\\t\\n\\t\\t\\t\\t\\t\\n\\t...</td>\n",
       "      <td>abortion</td>\n",
       "      <td>Left</td>\n",
       "      <td>Camille Paglia: Feminists have abortion wrong,...</td>\n",
       "      <td>Reproductive rights have become ideological to...</td>\n",
       "      <td>While the Hillary flap was merely a blip, give...</td>\n",
       "    </tr>\n",
       "  </tbody>\n",
       "</table>\n",
       "</div>"
      ],
      "text/plain": [
       "                                             url_raw  \\\n",
       "0  https://www.washingtonpost.com/news/post-natio...   \n",
       "1  http://www.salon.com/2016/04/07/camille_paglia...   \n",
       "\n",
       "                                           url_clean          url_domain  \\\n",
       "0  washingtonpost.com/news/post-nation/wp/2016/05...  washingtonpost.com   \n",
       "1  salon.com/2016/04/07/camille_paglia_feminists_...           salon.com   \n",
       "\n",
       "                                           ugly_text     issue political lean  \\\n",
       "0            2         Desktop notifications are ...  abortion      Lean Left   \n",
       "1  \\n\\n\\t\\n\\t\\t\\n\\t\\t\\t\\n\\t\\t\\t\\t\\n\\t\\t\\t\\t\\t\\n\\t...  abortion           Left   \n",
       "\n",
       "                                               title  \\\n",
       "0  ‘A target on Roe v. Wade ’: Oklahoma bill maki...   \n",
       "1  Camille Paglia: Feminists have abortion wrong,...   \n",
       "\n",
       "                                    meta_description  \\\n",
       "0  Gov. Mary Fallin (R) has not said if she plans...   \n",
       "1  Reproductive rights have become ideological to...   \n",
       "\n",
       "                                        cleaned_text  \n",
       "0  UPDATE: Gov. Fallin vetoed the bill on Friday....  \n",
       "1  While the Hillary flap was merely a blip, give...  "
      ]
     },
     "execution_count": 3,
     "metadata": {},
     "output_type": "execute_result"
    }
   ],
   "source": [
    "pld.head(2)"
   ]
  },
  {
   "cell_type": "code",
   "execution_count": 4,
   "metadata": {
    "collapsed": false
   },
   "outputs": [
    {
     "data": {
      "text/plain": [
       "14615"
      ]
     },
     "execution_count": 4,
     "metadata": {},
     "output_type": "execute_result"
    }
   ],
   "source": [
    "pld_text = pld[pld['cleaned_text'].notnull()]\n",
    "pld_text['cleaned_text'].count()"
   ]
  },
  {
   "cell_type": "code",
   "execution_count": 9,
   "metadata": {
    "collapsed": false
   },
   "outputs": [],
   "source": [
    "pld_text_5k = pld_text[0:5000]\n",
    "pld_text_75k = pld_text[0:7500]\n",
    "pld_text_10k = pld_text[0:10000]\n",
    "pld_text_125k = pld_text[0:12500]\n",
    "pld_text_146k = pld_text[0:14615]"
   ]
  },
  {
   "cell_type": "code",
   "execution_count": 10,
   "metadata": {
    "collapsed": false
   },
   "outputs": [
    {
     "name": "stdout",
     "output_type": "stream",
     "text": [
      "5000\n",
      "7500\n",
      "10000\n",
      "12500\n",
      "14615\n"
     ]
    }
   ],
   "source": [
    "print pld_text_5k['cleaned_text'].count()\n",
    "print pld_text_75k['cleaned_text'].count()\n",
    "print pld_text_10k['cleaned_text'].count()\n",
    "print pld_text_125k['cleaned_text'].count()\n",
    "print pld_text_146k['cleaned_text'].count()"
   ]
  },
  {
   "cell_type": "code",
   "execution_count": 12,
   "metadata": {
    "collapsed": false
   },
   "outputs": [
    {
     "name": "stdout",
     "output_type": "stream",
     "text": [
      "0.552143937046\n",
      "0:02:41.939009\n"
     ]
    }
   ],
   "source": [
    "time = datetime.datetime.now()\n",
    "pipe = Pipeline([\n",
    "  ('features', FeatureUnion([\n",
    "        ('counts', CountVectorizer())\n",
    "  ])),\n",
    "  ('logreg', LogisticRegression())\n",
    "])\n",
    "print cross_val_score(pipe, pld_text_5k['cleaned_text'], pld_text_5k['political lean'], cv=5, scoring='accuracy').mean()\n",
    "print datetime.datetime.now() - time"
   ]
  },
  {
   "cell_type": "code",
   "execution_count": 13,
   "metadata": {
    "collapsed": false
   },
   "outputs": [
    {
     "name": "stdout",
     "output_type": "stream",
     "text": [
      "0.58417012875\n",
      "0:04:14.005947\n"
     ]
    }
   ],
   "source": [
    "time = datetime.datetime.now()\n",
    "pipe = Pipeline([\n",
    "  ('features', FeatureUnion([\n",
    "        ('counts', CountVectorizer())\n",
    "  ])),\n",
    "  ('logreg', LogisticRegression())\n",
    "])\n",
    "print cross_val_score(pipe, pld_text_75k['cleaned_text'], pld_text_75k['political lean'], cv=5, scoring='accuracy').mean()\n",
    "print datetime.datetime.now() - time"
   ]
  },
  {
   "cell_type": "code",
   "execution_count": 14,
   "metadata": {
    "collapsed": false
   },
   "outputs": [
    {
     "name": "stdout",
     "output_type": "stream",
     "text": [
      "0.593696296769\n",
      "0:06:47.933287\n"
     ]
    }
   ],
   "source": [
    "time = datetime.datetime.now()\n",
    "pipe = Pipeline([\n",
    "  ('features', FeatureUnion([\n",
    "        ('counts', CountVectorizer())\n",
    "  ])),\n",
    "  ('logreg', LogisticRegression())\n",
    "])\n",
    "print cross_val_score(pipe, pld_text_10k['cleaned_text'], pld_text_10k['political lean'], cv=5, scoring='accuracy').mean()\n",
    "print datetime.datetime.now() - time"
   ]
  },
  {
   "cell_type": "code",
   "execution_count": 15,
   "metadata": {
    "collapsed": false
   },
   "outputs": [
    {
     "name": "stdout",
     "output_type": "stream",
     "text": [
      "0.581900639885\n",
      "0:09:48.193868\n"
     ]
    }
   ],
   "source": [
    "time = datetime.datetime.now()\n",
    "pipe = Pipeline([\n",
    "  ('features', FeatureUnion([\n",
    "        ('counts', CountVectorizer())\n",
    "  ])),\n",
    "  ('logreg', LogisticRegression())\n",
    "])\n",
    "print cross_val_score(pipe, pld_text_125k['cleaned_text'], pld_text_125k['political lean'], cv=5, scoring='accuracy').mean()\n",
    "print datetime.datetime.now() - time"
   ]
  },
  {
   "cell_type": "code",
   "execution_count": 16,
   "metadata": {
    "collapsed": false
   },
   "outputs": [
    {
     "name": "stdout",
     "output_type": "stream",
     "text": [
      "0.58110965185\n",
      "0:09:35.717781\n"
     ]
    }
   ],
   "source": [
    "time = datetime.datetime.now()\n",
    "pipe = Pipeline([\n",
    "  ('features', FeatureUnion([\n",
    "        ('counts', CountVectorizer())\n",
    "  ])),\n",
    "  ('logreg', LogisticRegression())\n",
    "])\n",
    "print cross_val_score(pipe, pld_text_146k['cleaned_text'], pld_text_146k['political lean'], cv=5, scoring='accuracy').mean()\n",
    "print datetime.datetime.now() - time"
   ]
  },
  {
   "cell_type": "code",
   "execution_count": 35,
   "metadata": {
    "collapsed": false
   },
   "outputs": [
    {
     "data": {
      "image/png": "[encoded data removed]",
      "text/plain": [
       "<matplotlib.figure.Figure at 0x13785ea50>"
      ]
     },
     "metadata": {},
     "output_type": "display_data"
    }
   ],
   "source": [
    "D = {5000: 0.552143937046, 7500: 0.58417012875, 10000: 0.593696296769, 12500: 0.581900639885, 14615: 0.58110965185}\n",
    "\n",
    "plt.bar(range(len(D)), D.values(), align='center')\n",
    "plt.xticks(range(len(D)), D.keys())\n",
    "plt.ylim([0.54,0.6])\n",
    "\n",
    "plt.show()"
   ]
  },
  {
   "cell_type": "code",
   "execution_count": 5,
   "metadata": {
    "collapsed": false
   },
   "outputs": [
    {
     "name": "stdout",
     "output_type": "stream",
     "text": [
      "0.619821419894\n",
      "13:46:57.207543\n"
     ]
    }
   ],
   "source": [
    "time = datetime.datetime.now()\n",
    "pipe = Pipeline([\n",
    "  ('features', FeatureUnion([\n",
    "        ('counts', CountVectorizer(ngram_range=(1,2)))\n",
    "  ])),\n",
    "  ('logreg', LogisticRegression())\n",
    "])\n",
    "cv = cross_val_score(pipe, pld_text['cleaned_text'], pld_text['political lean'], cv=10, scoring='accuracy')\n",
    "print cv.mean()\n",
    "print datetime.datetime.now() - time"
   ]
  },
  {
   "cell_type": "code",
   "execution_count": 15,
   "metadata": {
    "collapsed": false
   },
   "outputs": [
    {
     "data": {
      "text/plain": [
       "array([ 0.64412568,  0.68237705,  0.60177596,  0.60177596,  0.67168263,\n",
       "        0.5687885 ,  0.61506849,  0.62097327,  0.57916381,  0.61248285])"
      ]
     },
     "execution_count": 15,
     "metadata": {},
     "output_type": "execute_result"
    }
   ],
   "source": [
    "cv"
   ]
  },
  {
   "cell_type": "code",
   "execution_count": 8,
   "metadata": {
    "collapsed": false
   },
   "outputs": [
    {
     "name": "stdout",
     "output_type": "stream",
     "text": [
      "1:05:37.449672\n"
     ]
    }
   ],
   "source": [
    "time = datetime.datetime.now()\n",
    "pipe = Pipeline([\n",
    "  ('features', FeatureUnion([\n",
    "        ('counts', CountVectorizer(ngram_range=(1,2)))\n",
    "  ])),\n",
    "  ('logreg', LogisticRegression())\n",
    "])\n",
    "predicted = cross_val_predict(pipe, pld_text['cleaned_text'], pld_text['political lean'], cv=5)\n",
    "\n",
    "print datetime.datetime.now() - time"
   ]
  },
  {
   "cell_type": "code",
   "execution_count": 24,
   "metadata": {
    "collapsed": false
   },
   "outputs": [
    {
     "data": {
      "text/plain": [
       "array(['Left', 'Right', 'Left', ..., 'Center', 'Left', 'Left'], dtype=object)"
      ]
     },
     "execution_count": 24,
     "metadata": {},
     "output_type": "execute_result"
    }
   ],
   "source": [
    "predicted"
   ]
  },
  {
   "cell_type": "code",
   "execution_count": 25,
   "metadata": {
    "collapsed": false
   },
   "outputs": [
    {
     "data": {
      "text/html": [
       "<div>\n",
       "<table border=\"1\" class=\"dataframe\">\n",
       "  <thead>\n",
       "    <tr style=\"text-align: right;\">\n",
       "      <th></th>\n",
       "      <th>predicted_lean</th>\n",
       "    </tr>\n",
       "  </thead>\n",
       "  <tbody>\n",
       "    <tr>\n",
       "      <th>0</th>\n",
       "      <td>Left</td>\n",
       "    </tr>\n",
       "    <tr>\n",
       "      <th>1</th>\n",
       "      <td>Right</td>\n",
       "    </tr>\n",
       "    <tr>\n",
       "      <th>2</th>\n",
       "      <td>Left</td>\n",
       "    </tr>\n",
       "    <tr>\n",
       "      <th>3</th>\n",
       "      <td>Left</td>\n",
       "    </tr>\n",
       "    <tr>\n",
       "      <th>4</th>\n",
       "      <td>Center</td>\n",
       "    </tr>\n",
       "  </tbody>\n",
       "</table>\n",
       "</div>"
      ],
      "text/plain": [
       "  predicted_lean\n",
       "0           Left\n",
       "1          Right\n",
       "2           Left\n",
       "3           Left\n",
       "4         Center"
      ]
     },
     "execution_count": 25,
     "metadata": {},
     "output_type": "execute_result"
    }
   ],
   "source": [
    "predicted_df = pd.DataFrame(data=predicted, columns=['predicted_lean'])\n",
    "predicted_df.head()"
   ]
  },
  {
   "cell_type": "code",
   "execution_count": 63,
   "metadata": {
    "collapsed": true
   },
   "outputs": [],
   "source": [
    "predicted_df['actual_lean'] = ''"
   ]
  },
  {
   "cell_type": "code",
   "execution_count": 64,
   "metadata": {
    "collapsed": false
   },
   "outputs": [
    {
     "data": {
      "text/plain": [
       "0     Lean Left\n",
       "1          Left\n",
       "2     Lean Left\n",
       "3          Left\n",
       "4        Center\n",
       "6         Mixed\n",
       "8         Right\n",
       "9         Right\n",
       "11        Right\n",
       "12        Right\n",
       "Name: political lean, dtype: object"
      ]
     },
     "execution_count": 64,
     "metadata": {},
     "output_type": "execute_result"
    }
   ],
   "source": [
    "pld_text['political lean'].head(10)"
   ]
  },
  {
   "cell_type": "code",
   "execution_count": null,
   "metadata": {
    "collapsed": false
   },
   "outputs": [],
   "source": []
  },
  {
   "cell_type": "code",
   "execution_count": null,
   "metadata": {
    "collapsed": false
   },
   "outputs": [],
   "source": []
  },
  {
   "cell_type": "code",
   "execution_count": 65,
   "metadata": {
    "collapsed": false
   },
   "outputs": [],
   "source": [
    "x = 0\n",
    "for i, row in pld_text.iterrows():\n",
    "    predicted_df.set_value(x,'actual_lean', row['political lean'])\n",
    "    \n",
    "    x = x + 1"
   ]
  },
  {
   "cell_type": "code",
   "execution_count": 66,
   "metadata": {
    "collapsed": false
   },
   "outputs": [
    {
     "data": {
      "text/html": [
       "<div>\n",
       "<table border=\"1\" class=\"dataframe\">\n",
       "  <thead>\n",
       "    <tr style=\"text-align: right;\">\n",
       "      <th></th>\n",
       "      <th>predicted_lean</th>\n",
       "      <th>actual_lean</th>\n",
       "    </tr>\n",
       "  </thead>\n",
       "  <tbody>\n",
       "    <tr>\n",
       "      <th>0</th>\n",
       "      <td>Left</td>\n",
       "      <td>Lean Left</td>\n",
       "    </tr>\n",
       "    <tr>\n",
       "      <th>1</th>\n",
       "      <td>Right</td>\n",
       "      <td>Left</td>\n",
       "    </tr>\n",
       "    <tr>\n",
       "      <th>2</th>\n",
       "      <td>Left</td>\n",
       "      <td>Lean Left</td>\n",
       "    </tr>\n",
       "    <tr>\n",
       "      <th>3</th>\n",
       "      <td>Left</td>\n",
       "      <td>Left</td>\n",
       "    </tr>\n",
       "    <tr>\n",
       "      <th>4</th>\n",
       "      <td>Center</td>\n",
       "      <td>Center</td>\n",
       "    </tr>\n",
       "    <tr>\n",
       "      <th>5</th>\n",
       "      <td>Mixed</td>\n",
       "      <td>Mixed</td>\n",
       "    </tr>\n",
       "    <tr>\n",
       "      <th>6</th>\n",
       "      <td>Right</td>\n",
       "      <td>Right</td>\n",
       "    </tr>\n",
       "    <tr>\n",
       "      <th>7</th>\n",
       "      <td>Right</td>\n",
       "      <td>Right</td>\n",
       "    </tr>\n",
       "    <tr>\n",
       "      <th>8</th>\n",
       "      <td>Right</td>\n",
       "      <td>Right</td>\n",
       "    </tr>\n",
       "    <tr>\n",
       "      <th>9</th>\n",
       "      <td>Right</td>\n",
       "      <td>Right</td>\n",
       "    </tr>\n",
       "    <tr>\n",
       "      <th>10</th>\n",
       "      <td>Left</td>\n",
       "      <td>Left</td>\n",
       "    </tr>\n",
       "    <tr>\n",
       "      <th>11</th>\n",
       "      <td>Left</td>\n",
       "      <td>Left</td>\n",
       "    </tr>\n",
       "    <tr>\n",
       "      <th>12</th>\n",
       "      <td>Center</td>\n",
       "      <td>Left</td>\n",
       "    </tr>\n",
       "    <tr>\n",
       "      <th>13</th>\n",
       "      <td>Right</td>\n",
       "      <td>Left</td>\n",
       "    </tr>\n",
       "    <tr>\n",
       "      <th>14</th>\n",
       "      <td>Left</td>\n",
       "      <td>Center</td>\n",
       "    </tr>\n",
       "  </tbody>\n",
       "</table>\n",
       "</div>"
      ],
      "text/plain": [
       "   predicted_lean actual_lean\n",
       "0            Left   Lean Left\n",
       "1           Right        Left\n",
       "2            Left   Lean Left\n",
       "3            Left        Left\n",
       "4          Center      Center\n",
       "5           Mixed       Mixed\n",
       "6           Right       Right\n",
       "7           Right       Right\n",
       "8           Right       Right\n",
       "9           Right       Right\n",
       "10           Left        Left\n",
       "11           Left        Left\n",
       "12         Center        Left\n",
       "13          Right        Left\n",
       "14           Left      Center"
      ]
     },
     "execution_count": 66,
     "metadata": {},
     "output_type": "execute_result"
    }
   ],
   "source": [
    "predicted_df.head(15)"
   ]
  },
  {
   "cell_type": "code",
   "execution_count": 67,
   "metadata": {
    "collapsed": false
   },
   "outputs": [
    {
     "data": {
      "text/html": [
       "<div>\n",
       "<table border=\"1\" class=\"dataframe\">\n",
       "  <thead>\n",
       "    <tr style=\"text-align: right;\">\n",
       "      <th></th>\n",
       "      <th>predicted_lean</th>\n",
       "      <th>actual_lean</th>\n",
       "    </tr>\n",
       "  </thead>\n",
       "  <tbody>\n",
       "    <tr>\n",
       "      <th>14605</th>\n",
       "      <td>Lean Left</td>\n",
       "      <td>Left</td>\n",
       "    </tr>\n",
       "    <tr>\n",
       "      <th>14606</th>\n",
       "      <td>Center</td>\n",
       "      <td>Center</td>\n",
       "    </tr>\n",
       "    <tr>\n",
       "      <th>14607</th>\n",
       "      <td>Lean Left</td>\n",
       "      <td>Lean Left</td>\n",
       "    </tr>\n",
       "    <tr>\n",
       "      <th>14608</th>\n",
       "      <td>Center</td>\n",
       "      <td>Right</td>\n",
       "    </tr>\n",
       "    <tr>\n",
       "      <th>14609</th>\n",
       "      <td>Center</td>\n",
       "      <td>Right</td>\n",
       "    </tr>\n",
       "    <tr>\n",
       "      <th>14610</th>\n",
       "      <td>Right</td>\n",
       "      <td>Right</td>\n",
       "    </tr>\n",
       "    <tr>\n",
       "      <th>14611</th>\n",
       "      <td>Left</td>\n",
       "      <td>Left</td>\n",
       "    </tr>\n",
       "    <tr>\n",
       "      <th>14612</th>\n",
       "      <td>Center</td>\n",
       "      <td>Lean Left</td>\n",
       "    </tr>\n",
       "    <tr>\n",
       "      <th>14613</th>\n",
       "      <td>Left</td>\n",
       "      <td>Lean Left</td>\n",
       "    </tr>\n",
       "    <tr>\n",
       "      <th>14614</th>\n",
       "      <td>Left</td>\n",
       "      <td>Left</td>\n",
       "    </tr>\n",
       "  </tbody>\n",
       "</table>\n",
       "</div>"
      ],
      "text/plain": [
       "      predicted_lean actual_lean\n",
       "14605      Lean Left        Left\n",
       "14606         Center      Center\n",
       "14607      Lean Left   Lean Left\n",
       "14608         Center       Right\n",
       "14609         Center       Right\n",
       "14610          Right       Right\n",
       "14611           Left        Left\n",
       "14612         Center   Lean Left\n",
       "14613           Left   Lean Left\n",
       "14614           Left        Left"
      ]
     },
     "execution_count": 67,
     "metadata": {},
     "output_type": "execute_result"
    }
   ],
   "source": [
    "predicted_df.tail(10)"
   ]
  },
  {
   "cell_type": "code",
   "execution_count": 85,
   "metadata": {
    "collapsed": true
   },
   "outputs": [],
   "source": [
    "predicted_df['match'] = ''"
   ]
  },
  {
   "cell_type": "code",
   "execution_count": 90,
   "metadata": {
    "collapsed": false
   },
   "outputs": [],
   "source": [
    "predicted_df['match'] = predicted_df['predicted_lean'] == predicted_df['actual_lean']"
   ]
  },
  {
   "cell_type": "code",
   "execution_count": 96,
   "metadata": {
    "collapsed": false
   },
   "outputs": [
    {
     "data": {
      "text/html": [
       "<div>\n",
       "<table border=\"1\" class=\"dataframe\">\n",
       "  <thead>\n",
       "    <tr style=\"text-align: right;\">\n",
       "      <th></th>\n",
       "      <th>predicted_lean</th>\n",
       "      <th>actual_lean</th>\n",
       "      <th>match</th>\n",
       "    </tr>\n",
       "  </thead>\n",
       "  <tbody>\n",
       "    <tr>\n",
       "      <th>0</th>\n",
       "      <td>Left</td>\n",
       "      <td>Lean Left</td>\n",
       "      <td>False</td>\n",
       "    </tr>\n",
       "    <tr>\n",
       "      <th>1</th>\n",
       "      <td>Right</td>\n",
       "      <td>Left</td>\n",
       "      <td>False</td>\n",
       "    </tr>\n",
       "    <tr>\n",
       "      <th>2</th>\n",
       "      <td>Left</td>\n",
       "      <td>Lean Left</td>\n",
       "      <td>False</td>\n",
       "    </tr>\n",
       "    <tr>\n",
       "      <th>3</th>\n",
       "      <td>Left</td>\n",
       "      <td>Left</td>\n",
       "      <td>True</td>\n",
       "    </tr>\n",
       "    <tr>\n",
       "      <th>4</th>\n",
       "      <td>Center</td>\n",
       "      <td>Center</td>\n",
       "      <td>True</td>\n",
       "    </tr>\n",
       "  </tbody>\n",
       "</table>\n",
       "</div>"
      ],
      "text/plain": [
       "  predicted_lean actual_lean  match\n",
       "0           Left   Lean Left  False\n",
       "1          Right        Left  False\n",
       "2           Left   Lean Left  False\n",
       "3           Left        Left   True\n",
       "4         Center      Center   True"
      ]
     },
     "execution_count": 96,
     "metadata": {},
     "output_type": "execute_result"
    }
   ],
   "source": [
    "predicted_df.head()"
   ]
  },
  {
   "cell_type": "code",
   "execution_count": 101,
   "metadata": {
    "collapsed": true
   },
   "outputs": [],
   "source": [
    "predicted_df.to_csv('predicted_actual.csv', encoding='utf-8', index=False)"
   ]
  },
  {
   "cell_type": "code",
   "execution_count": 109,
   "metadata": {
    "collapsed": false
   },
   "outputs": [
    {
     "name": "stderr",
     "output_type": "stream",
     "text": [
      "/Users/stanleystevensWhistle/miniconda2/envs/stanleyyork/lib/python2.7/site-packages/ipykernel/__main__.py:1: UserWarning: Boolean Series key will be reindexed to match DataFrame index.\n",
      "  if __name__ == '__main__':\n",
      "/Users/stanleystevensWhistle/miniconda2/envs/stanleyyork/lib/python2.7/site-packages/ipykernel/__main__.py:2: UserWarning: Boolean Series key will be reindexed to match DataFrame index.\n",
      "  from ipykernel import kernelapp as app\n",
      "/Users/stanleystevensWhistle/miniconda2/envs/stanleyyork/lib/python2.7/site-packages/ipykernel/__main__.py:3: UserWarning: Boolean Series key will be reindexed to match DataFrame index.\n",
      "  app.launch_new_instance()\n",
      "/Users/stanleystevensWhistle/miniconda2/envs/stanleyyork/lib/python2.7/site-packages/ipykernel/__main__.py:4: UserWarning: Boolean Series key will be reindexed to match DataFrame index.\n",
      "/Users/stanleystevensWhistle/miniconda2/envs/stanleyyork/lib/python2.7/site-packages/ipykernel/__main__.py:5: UserWarning: Boolean Series key will be reindexed to match DataFrame index.\n",
      "/Users/stanleystevensWhistle/miniconda2/envs/stanleyyork/lib/python2.7/site-packages/ipykernel/__main__.py:6: UserWarning: Boolean Series key will be reindexed to match DataFrame index.\n",
      "/Users/stanleystevensWhistle/miniconda2/envs/stanleyyork/lib/python2.7/site-packages/ipykernel/__main__.py:7: UserWarning: Boolean Series key will be reindexed to match DataFrame index.\n"
     ]
    }
   ],
   "source": [
    "center = predicted_df[predicted_df['match'] == False][predicted_df.actual_lean == 'Center'].predicted_lean.value_counts()\n",
    "left = predicted_df[predicted_df['match'] == False][predicted_df.actual_lean == 'Left'].predicted_lean.value_counts()\n",
    "lean_left = predicted_df[predicted_df['match'] == False][predicted_df.actual_lean == 'Lean Left'].predicted_lean.value_counts()\n",
    "lean_right = predicted_df[predicted_df['match'] == False][predicted_df.actual_lean == 'Lean Right'].predicted_lean.value_counts()\n",
    "right = predicted_df[predicted_df['match'] == False][predicted_df.actual_lean == 'Right'].predicted_lean.value_counts()\n",
    "mixed = predicted_df[predicted_df['match'] == False][predicted_df.actual_lean == 'Mixed'].predicted_lean.value_counts()\n",
    "not_rated = predicted_df[predicted_df['match'] == False][predicted_df.actual_lean == 'Not rated'].predicted_lean.value_counts()"
   ]
  },
  {
   "cell_type": "code",
   "execution_count": 127,
   "metadata": {
    "collapsed": false
   },
   "outputs": [
    {
     "name": "stdout",
     "output_type": "stream",
     "text": [
      "LEFT: 1037 - 0.827386692382\n",
      "Right         434\n",
      "Center        419\n",
      "Lean Left     172\n",
      "Not rated       7\n",
      "Lean Right      5\n",
      "Name: predicted_lean, dtype: int64\n",
      "-\n",
      "LEAN LEFT: 1228 - 0.340390879479\n",
      "Center        584\n",
      "Right         405\n",
      "Left          205\n",
      "Not rated      21\n",
      "Lean Right     13\n",
      "Name: predicted_lean, dtype: int64\n",
      "-\n",
      "CENTER: 1531 - 0.723056825604\n",
      "Right         844\n",
      "Lean Left     381\n",
      "Left          263\n",
      "Not rated      24\n",
      "Lean Right     19\n",
      "Name: predicted_lean, dtype: int64\n",
      "-\n",
      "LEAN RIGHT: 220 - 0.281818181818\n",
      "Center       80\n",
      "Right        76\n",
      "Lean Left    41\n",
      "Left         21\n",
      "Mixed         1\n",
      "Not rated     1\n",
      "Name: predicted_lean, dtype: int64\n",
      "-\n",
      "RIGHT: 1353 - 0.988913525499\n",
      "Center        934\n",
      "Left          211\n",
      "Lean Left     193\n",
      "Lean Right     11\n",
      "Not rated       4\n",
      "Name: predicted_lean, dtype: int64\n"
     ]
    }
   ],
   "source": [
    "print \"LEFT: \" + str(left.sum()) + \" - \" + str((434.0+419.0+5.0)/left.sum())\n",
    "print left\n",
    "print \"-\"\n",
    "print \"LEAN LEFT: \" + str(lean_left.sum()) + \" - \" + str((405+13.0)/lean_left.sum())\n",
    "print lean_left\n",
    "print \"-\"\n",
    "print \"CENTER: \" + str(center.sum()) + \" - \" + str((844.0+263.0)/center.sum())\n",
    "print center\n",
    "print \"-\"\n",
    "print \"LEAN RIGHT: \" + str(lean_right.sum()) + \" - \" + str((41.0+21.0)/lean_right.sum())\n",
    "print lean_right\n",
    "print \"-\"\n",
    "print \"RIGHT: \" + str(right.sum()) + \" - \" + str((934.0+211+193.0)/right.sum())\n",
    "print right"
   ]
  },
  {
   "cell_type": "code",
   "execution_count": 128,
   "metadata": {
    "collapsed": false
   },
   "outputs": [
    {
     "data": {
      "text/plain": [
       "0.62517960998973654"
      ]
     },
     "execution_count": 128,
     "metadata": {},
     "output_type": "execute_result"
    }
   ],
   "source": [
    "metrics.accuracy_score(pld_text['political lean'], predicted)"
   ]
  },
  {
   "cell_type": "code",
   "execution_count": 129,
   "metadata": {
    "collapsed": false
   },
   "outputs": [
    {
     "data": {
      "text/plain": [
       "'             precision    recall  f1-score   support\\n\\n     Center       0.67      0.73      0.70      5699\\n  Lean Left       0.67      0.57      0.61      2847\\n Lean Right       0.35      0.11      0.16       246\\n       Left       0.49      0.40      0.44      1715\\n      Mixed       0.98      0.62      0.76        64\\n  Not rated       0.21      0.15      0.17       100\\n      Right       0.59      0.66      0.62      3944\\n\\navg / total       0.62      0.63      0.62     14615\\n'"
      ]
     },
     "execution_count": 129,
     "metadata": {},
     "output_type": "execute_result"
    }
   ],
   "source": [
    "metrics.classification_report(pld_text['political lean'], predicted)"
   ]
  },
  {
   "cell_type": "code",
   "execution_count": 130,
   "metadata": {
    "collapsed": false
   },
   "outputs": [
    {
     "data": {
      "text/plain": [
       "array([[4168,  381,   19,  263,    0,   24,  844],\n",
       "       [ 584, 1619,   13,  205,    0,   21,  405],\n",
       "       [  80,   41,   26,   21,    1,    1,   76],\n",
       "       [ 419,  172,    5,  678,    0,    7,  434],\n",
       "       [  17,    1,    1,    1,   40,    0,    4],\n",
       "       [  43,   18,    0,   10,    0,   15,   14],\n",
       "       [ 934,  193,   11,  211,    0,    4, 2591]])"
      ]
     },
     "execution_count": 130,
     "metadata": {},
     "output_type": "execute_result"
    }
   ],
   "source": [
    "metrics.confusion_matrix(pld_text['political lean'], predicted)"
   ]
  },
  {
   "cell_type": "code",
   "execution_count": 131,
   "metadata": {
    "collapsed": false
   },
   "outputs": [
    {
     "name": "stderr",
     "output_type": "stream",
     "text": [
      "/Users/stanleystevensWhistle/miniconda2/envs/stanleyyork/lib/python2.7/site-packages/sklearn/metrics/classification.py:756: DeprecationWarning: The default `weighted` averaging is deprecated, and from version 0.18, use of precision, recall or F-score with multiclass or multilabel data or pos_label=None will result in an exception. Please set an explicit value for `average`, one of (None, 'micro', 'macro', 'weighted', 'samples'). In cross validation use, for instance, scoring=\"f1_weighted\" instead of scoring=\"f1\".\n",
      "  sample_weight=sample_weight)\n"
     ]
    },
    {
     "data": {
      "text/plain": [
       "0.61855311826324622"
      ]
     },
     "execution_count": 131,
     "metadata": {},
     "output_type": "execute_result"
    }
   ],
   "source": [
    "metrics.f1_score(pld_text['political lean'], predicted)"
   ]
  },
  {
   "cell_type": "code",
   "execution_count": null,
   "metadata": {
    "collapsed": false
   },
   "outputs": [],
   "source": [
    "class GetText(TransformerMixin):\n",
    "\n",
    "    def transform(self, X, **transform_params):\n",
    "        domains = X.cleaned_text\n",
    "        return domains\n",
    "\n",
    "    def fit(self, X, y=None, **fit_params):\n",
    "        return self"
   ]
  },
  {
   "cell_type": "code",
   "execution_count": 5,
   "metadata": {
    "collapsed": true
   },
   "outputs": [],
   "source": [
    "class Domain(TransformerMixin):\n",
    "\n",
    "    def transform(self, X, **transform_params):\n",
    "        domains = self.vect.transform(X)\n",
    "        return domains\n",
    "\n",
    "    def fit(self, X, y=None, **fit_params):\n",
    "        self.vect = CountVectorizer(**fit_params)\n",
    "        self.vect.fit(X)\n",
    "        return self"
   ]
  },
  {
   "cell_type": "code",
   "execution_count": 6,
   "metadata": {
    "collapsed": true
   },
   "outputs": [],
   "source": [
    "class Url(TransformerMixin):\n",
    "\n",
    "    def transform(self, X, **transform_params):\n",
    "        domains = self.vect.transform(X)\n",
    "        return domains\n",
    "\n",
    "    def fit(self, X, y=None, **fit_params):\n",
    "        self.vect = CountVectorizer(**fit_params)\n",
    "        self.vect.fit(X)\n",
    "        return self"
   ]
  },
  {
   "cell_type": "code",
   "execution_count": 145,
   "metadata": {
    "collapsed": false
   },
   "outputs": [
    {
     "name": "stdout",
     "output_type": "stream",
     "text": [
      "0:40:52.953497\n"
     ]
    }
   ],
   "source": [
    "time = datetime.datetime.now()\n",
    "\n",
    "pipe = Pipeline([\n",
    "  ('features', FeatureUnion([\n",
    "    ('word', Pipeline([\n",
    "      ('gettext', GetText()),\n",
    "      ('counts', CountVectorizer(ngram_range=(1,2)))\n",
    "    ])),\n",
    "    ('domain', Domain()),\n",
    "    ('url', Url())\n",
    "  ])),\n",
    "  ('logreg', LogisticRegression())\n",
    "])\n",
    "\n",
    "predicted = cross_val_predict(pipe, pld_text, pld_text['political lean'], cv=5, n_jobs=-1)\n",
    "print datetime.datetime.now() - time"
   ]
  },
  {
   "cell_type": "code",
   "execution_count": 146,
   "metadata": {
    "collapsed": false
   },
   "outputs": [
    {
     "data": {
      "text/plain": [
       "array(['Lean Left', 'Right', 'Lean Left', ..., 'Lean Left', 'Lean Left',\n",
       "       'Left'], dtype=object)"
      ]
     },
     "execution_count": 146,
     "metadata": {},
     "output_type": "execute_result"
    }
   ],
   "source": [
    "predicted"
   ]
  },
  {
   "cell_type": "code",
   "execution_count": 147,
   "metadata": {
    "collapsed": false
   },
   "outputs": [
    {
     "data": {
      "text/plain": [
       "0.88573383510092374"
      ]
     },
     "execution_count": 147,
     "metadata": {},
     "output_type": "execute_result"
    }
   ],
   "source": [
    "metrics.accuracy_score(pld_text['political lean'], predicted)"
   ]
  },
  {
   "cell_type": "code",
   "execution_count": 148,
   "metadata": {
    "collapsed": false
   },
   "outputs": [
    {
     "data": {
      "text/plain": [
       "'             precision    recall  f1-score   support\\n\\n     Center       0.89      0.92      0.91      5699\\n  Lean Left       0.89      0.86      0.87      2847\\n Lean Right       0.57      0.17      0.26       246\\n       Left       0.91      0.87      0.89      1715\\n      Mixed       1.00      0.83      0.91        64\\n  Not rated       0.27      0.18      0.22       100\\n      Right       0.88      0.92      0.90      3944\\n\\navg / total       0.88      0.89      0.88     14615\\n'"
      ]
     },
     "execution_count": 148,
     "metadata": {},
     "output_type": "execute_result"
    }
   ],
   "source": [
    "metrics.classification_report(pld_text['political lean'], predicted)"
   ]
  },
  {
   "cell_type": "code",
   "execution_count": 149,
   "metadata": {
    "collapsed": false
   },
   "outputs": [
    {
     "name": "stderr",
     "output_type": "stream",
     "text": [
      "/Users/stanleystevensWhistle/miniconda2/envs/stanleyyork/lib/python2.7/site-packages/sklearn/metrics/classification.py:756: DeprecationWarning: The default `weighted` averaging is deprecated, and from version 0.18, use of precision, recall or F-score with multiclass or multilabel data or pos_label=None will result in an exception. Please set an explicit value for `average`, one of (None, 'micro', 'macro', 'weighted', 'samples'). In cross validation use, for instance, scoring=\"f1_weighted\" instead of scoring=\"f1\".\n",
      "  sample_weight=sample_weight)\n"
     ]
    },
    {
     "data": {
      "text/plain": [
       "0.88101030798741176"
      ]
     },
     "execution_count": 149,
     "metadata": {},
     "output_type": "execute_result"
    }
   ],
   "source": [
    "metrics.f1_score(pld_text['political lean'], predicted)"
   ]
  },
  {
   "cell_type": "code",
   "execution_count": 150,
   "metadata": {
    "collapsed": false
   },
   "outputs": [
    {
     "data": {
      "text/html": [
       "<div>\n",
       "<table border=\"1\" class=\"dataframe\">\n",
       "  <thead>\n",
       "    <tr style=\"text-align: right;\">\n",
       "      <th></th>\n",
       "      <th>predicted_lean</th>\n",
       "    </tr>\n",
       "  </thead>\n",
       "  <tbody>\n",
       "    <tr>\n",
       "      <th>0</th>\n",
       "      <td>Lean Left</td>\n",
       "    </tr>\n",
       "    <tr>\n",
       "      <th>1</th>\n",
       "      <td>Right</td>\n",
       "    </tr>\n",
       "    <tr>\n",
       "      <th>2</th>\n",
       "      <td>Lean Left</td>\n",
       "    </tr>\n",
       "    <tr>\n",
       "      <th>3</th>\n",
       "      <td>Left</td>\n",
       "    </tr>\n",
       "    <tr>\n",
       "      <th>4</th>\n",
       "      <td>Center</td>\n",
       "    </tr>\n",
       "  </tbody>\n",
       "</table>\n",
       "</div>"
      ],
      "text/plain": [
       "  predicted_lean\n",
       "0      Lean Left\n",
       "1          Right\n",
       "2      Lean Left\n",
       "3           Left\n",
       "4         Center"
      ]
     },
     "execution_count": 150,
     "metadata": {},
     "output_type": "execute_result"
    }
   ],
   "source": [
    "predicted_df = pd.DataFrame(data=predicted, columns=['predicted_lean'])\n",
    "predicted_df.head()"
   ]
  },
  {
   "cell_type": "code",
   "execution_count": 151,
   "metadata": {
    "collapsed": true
   },
   "outputs": [],
   "source": [
    "predicted_df['actual_lean'] = ''"
   ]
  },
  {
   "cell_type": "code",
   "execution_count": 152,
   "metadata": {
    "collapsed": true
   },
   "outputs": [],
   "source": [
    "x = 0\n",
    "for i, row in pld_text.iterrows():\n",
    "    predicted_df.set_value(x,'actual_lean', row['political lean'])\n",
    "    x = x + 1"
   ]
  },
  {
   "cell_type": "code",
   "execution_count": 154,
   "metadata": {
    "collapsed": false
   },
   "outputs": [
    {
     "name": "stdout",
     "output_type": "stream",
     "text": [
      "14615\n"
     ]
    },
    {
     "data": {
      "text/html": [
       "<div>\n",
       "<table border=\"1\" class=\"dataframe\">\n",
       "  <thead>\n",
       "    <tr style=\"text-align: right;\">\n",
       "      <th></th>\n",
       "      <th>predicted_lean</th>\n",
       "      <th>actual_lean</th>\n",
       "    </tr>\n",
       "  </thead>\n",
       "  <tbody>\n",
       "    <tr>\n",
       "      <th>0</th>\n",
       "      <td>Lean Left</td>\n",
       "      <td>Lean Left</td>\n",
       "    </tr>\n",
       "    <tr>\n",
       "      <th>1</th>\n",
       "      <td>Right</td>\n",
       "      <td>Left</td>\n",
       "    </tr>\n",
       "    <tr>\n",
       "      <th>2</th>\n",
       "      <td>Lean Left</td>\n",
       "      <td>Lean Left</td>\n",
       "    </tr>\n",
       "    <tr>\n",
       "      <th>3</th>\n",
       "      <td>Left</td>\n",
       "      <td>Left</td>\n",
       "    </tr>\n",
       "    <tr>\n",
       "      <th>4</th>\n",
       "      <td>Center</td>\n",
       "      <td>Center</td>\n",
       "    </tr>\n",
       "  </tbody>\n",
       "</table>\n",
       "</div>"
      ],
      "text/plain": [
       "  predicted_lean actual_lean\n",
       "0      Lean Left   Lean Left\n",
       "1          Right        Left\n",
       "2      Lean Left   Lean Left\n",
       "3           Left        Left\n",
       "4         Center      Center"
      ]
     },
     "execution_count": 154,
     "metadata": {},
     "output_type": "execute_result"
    }
   ],
   "source": [
    "print len(predicted_df)\n",
    "predicted_df.head()"
   ]
  },
  {
   "cell_type": "code",
   "execution_count": 155,
   "metadata": {
    "collapsed": true
   },
   "outputs": [],
   "source": [
    "predicted_df['match'] = ''\n",
    "predicted_df['match'] = predicted_df['predicted_lean'] == predicted_df['actual_lean']"
   ]
  },
  {
   "cell_type": "code",
   "execution_count": 156,
   "metadata": {
    "collapsed": false
   },
   "outputs": [
    {
     "data": {
      "text/html": [
       "<div>\n",
       "<table border=\"1\" class=\"dataframe\">\n",
       "  <thead>\n",
       "    <tr style=\"text-align: right;\">\n",
       "      <th></th>\n",
       "      <th>predicted_lean</th>\n",
       "      <th>actual_lean</th>\n",
       "      <th>match</th>\n",
       "    </tr>\n",
       "  </thead>\n",
       "  <tbody>\n",
       "    <tr>\n",
       "      <th>0</th>\n",
       "      <td>Lean Left</td>\n",
       "      <td>Lean Left</td>\n",
       "      <td>True</td>\n",
       "    </tr>\n",
       "    <tr>\n",
       "      <th>1</th>\n",
       "      <td>Right</td>\n",
       "      <td>Left</td>\n",
       "      <td>False</td>\n",
       "    </tr>\n",
       "    <tr>\n",
       "      <th>2</th>\n",
       "      <td>Lean Left</td>\n",
       "      <td>Lean Left</td>\n",
       "      <td>True</td>\n",
       "    </tr>\n",
       "    <tr>\n",
       "      <th>3</th>\n",
       "      <td>Left</td>\n",
       "      <td>Left</td>\n",
       "      <td>True</td>\n",
       "    </tr>\n",
       "    <tr>\n",
       "      <th>4</th>\n",
       "      <td>Center</td>\n",
       "      <td>Center</td>\n",
       "      <td>True</td>\n",
       "    </tr>\n",
       "  </tbody>\n",
       "</table>\n",
       "</div>"
      ],
      "text/plain": [
       "  predicted_lean actual_lean  match\n",
       "0      Lean Left   Lean Left   True\n",
       "1          Right        Left  False\n",
       "2      Lean Left   Lean Left   True\n",
       "3           Left        Left   True\n",
       "4         Center      Center   True"
      ]
     },
     "execution_count": 156,
     "metadata": {},
     "output_type": "execute_result"
    }
   ],
   "source": [
    "predicted_df.head()"
   ]
  },
  {
   "cell_type": "code",
   "execution_count": 157,
   "metadata": {
    "collapsed": true
   },
   "outputs": [],
   "source": [
    "predicted_df.to_csv('predicted_actual_log_reg_best.csv', encoding='utf-8', index=False)"
   ]
  },
  {
   "cell_type": "code",
   "execution_count": 158,
   "metadata": {
    "collapsed": false
   },
   "outputs": [
    {
     "name": "stderr",
     "output_type": "stream",
     "text": [
      "/Users/stanleystevensWhistle/miniconda2/envs/stanleyyork/lib/python2.7/site-packages/ipykernel/__main__.py:1: UserWarning: Boolean Series key will be reindexed to match DataFrame index.\n",
      "  if __name__ == '__main__':\n",
      "/Users/stanleystevensWhistle/miniconda2/envs/stanleyyork/lib/python2.7/site-packages/ipykernel/__main__.py:2: UserWarning: Boolean Series key will be reindexed to match DataFrame index.\n",
      "  from ipykernel import kernelapp as app\n",
      "/Users/stanleystevensWhistle/miniconda2/envs/stanleyyork/lib/python2.7/site-packages/ipykernel/__main__.py:3: UserWarning: Boolean Series key will be reindexed to match DataFrame index.\n",
      "  app.launch_new_instance()\n",
      "/Users/stanleystevensWhistle/miniconda2/envs/stanleyyork/lib/python2.7/site-packages/ipykernel/__main__.py:4: UserWarning: Boolean Series key will be reindexed to match DataFrame index.\n",
      "/Users/stanleystevensWhistle/miniconda2/envs/stanleyyork/lib/python2.7/site-packages/ipykernel/__main__.py:5: UserWarning: Boolean Series key will be reindexed to match DataFrame index.\n",
      "/Users/stanleystevensWhistle/miniconda2/envs/stanleyyork/lib/python2.7/site-packages/ipykernel/__main__.py:6: UserWarning: Boolean Series key will be reindexed to match DataFrame index.\n",
      "/Users/stanleystevensWhistle/miniconda2/envs/stanleyyork/lib/python2.7/site-packages/ipykernel/__main__.py:7: UserWarning: Boolean Series key will be reindexed to match DataFrame index.\n"
     ]
    }
   ],
   "source": [
    "center = predicted_df[predicted_df['match'] == False][predicted_df.actual_lean == 'Center'].predicted_lean.value_counts()\n",
    "left = predicted_df[predicted_df['match'] == False][predicted_df.actual_lean == 'Left'].predicted_lean.value_counts()\n",
    "lean_left = predicted_df[predicted_df['match'] == False][predicted_df.actual_lean == 'Lean Left'].predicted_lean.value_counts()\n",
    "lean_right = predicted_df[predicted_df['match'] == False][predicted_df.actual_lean == 'Lean Right'].predicted_lean.value_counts()\n",
    "right = predicted_df[predicted_df['match'] == False][predicted_df.actual_lean == 'Right'].predicted_lean.value_counts()\n",
    "mixed = predicted_df[predicted_df['match'] == False][predicted_df.actual_lean == 'Mixed'].predicted_lean.value_counts()\n",
    "not_rated = predicted_df[predicted_df['match'] == False][predicted_df.actual_lean == 'Not rated'].predicted_lean.value_counts()"
   ]
  },
  {
   "cell_type": "code",
   "execution_count": 160,
   "metadata": {
    "collapsed": false
   },
   "outputs": [
    {
     "name": "stdout",
     "output_type": "stream",
     "text": [
      "LEFT: 220\n",
      "Right         88\n",
      "Center        79\n",
      "Lean Left     44\n",
      "Lean Right     6\n",
      "Not rated      3\n",
      "Name: predicted_lean, dtype: int64\n",
      "-\n",
      "LEAN LEFT: 411\n",
      "Center        208\n",
      "Right         124\n",
      "Left           58\n",
      "Not rated      16\n",
      "Lean Right      5\n",
      "Name: predicted_lean, dtype: int64\n",
      "-\n",
      "CENTER: 441\n",
      "Right         204\n",
      "Lean Left     135\n",
      "Left           63\n",
      "Not rated      24\n",
      "Lean Right     15\n",
      "Name: predicted_lean, dtype: int64\n",
      "-\n",
      "LEAN RIGHT: 204\n",
      "Center       72\n",
      "Right        68\n",
      "Lean Left    46\n",
      "Left         14\n",
      "Not rated     4\n",
      "Name: predicted_lean, dtype: int64\n",
      "-\n",
      "RIGHT: 301\n",
      "Center        219\n",
      "Lean Left      58\n",
      "Left           20\n",
      "Lean Right      3\n",
      "Not rated       1\n",
      "Name: predicted_lean, dtype: int64\n"
     ]
    }
   ],
   "source": [
    "print \"LEFT: \" + str(left.sum())\n",
    "print left\n",
    "print \"-\"\n",
    "print \"LEAN LEFT: \" + str(lean_left.sum())\n",
    "print lean_left\n",
    "print \"-\"\n",
    "print \"CENTER: \" + str(center.sum())\n",
    "print center\n",
    "print \"-\"\n",
    "print \"LEAN RIGHT: \" + str(lean_right.sum())\n",
    "print lean_right\n",
    "print \"-\"\n",
    "print \"RIGHT: \" + str(right.sum())\n",
    "print right"
   ]
  },
  {
   "cell_type": "code",
   "execution_count": 8,
   "metadata": {
    "collapsed": true
   },
   "outputs": [],
   "source": [
    "import scipy as sp"
   ]
  },
  {
   "cell_type": "code",
   "execution_count": 23,
   "metadata": {
    "collapsed": false
   },
   "outputs": [
    {
     "name": "stderr",
     "output_type": "stream",
     "text": [
      "/Users/stanleystevensWhistle/miniconda2/envs/stanleyyork/lib/python2.7/site-packages/sklearn/utils/__init__.py:93: DeprecationWarning: Function transform is deprecated; Support to use estimators as feature selectors will be removed in version 0.19. Use SelectFromModel instead.\n",
      "  warnings.warn(msg, category=DeprecationWarning)\n"
     ]
    },
    {
     "name": "stdout",
     "output_type": "stream",
     "text": [
      "0:10:50.439075\n"
     ]
    }
   ],
   "source": [
    "time = datetime.datetime.now()\n",
    "\n",
    "vect = CountVectorizer(ngram_range=(1,2))\n",
    "cv_text = vect.fit_transform(pld_text['cleaned_text'])\n",
    "domain = Domain()\n",
    "d_text = domain.fit_transform(pld_text['url_domain'])\n",
    "url = Url()\n",
    "url_text = url.fit_transform(pld_text['url_raw'])\n",
    "all_other = sp.sparse.hstack((cv_text, d_text, url_text))\n",
    "\n",
    "logreg = LogisticRegression()\n",
    "logreg.fit_transform(all_other, pld_text['political lean'])\n",
    "\n",
    "print datetime.datetime.now() - time"
   ]
  },
  {
   "cell_type": "code",
   "execution_count": 24,
   "metadata": {
    "collapsed": true
   },
   "outputs": [],
   "source": [
    "political_folder = pd.read_csv('https://dataclips.heroku.com/heuwkhqdpstqyonvfywticdmeuir-political_bookmarks.csv')"
   ]
  },
  {
   "cell_type": "code",
   "execution_count": 34,
   "metadata": {
    "collapsed": false
   },
   "outputs": [
    {
     "data": {
      "text/html": [
       "<div>\n",
       "<table border=\"1\" class=\"dataframe\">\n",
       "  <thead>\n",
       "    <tr style=\"text-align: right;\">\n",
       "      <th></th>\n",
       "      <th>id</th>\n",
       "      <th>bookmark_id</th>\n",
       "      <th>description</th>\n",
       "      <th>private_source</th>\n",
       "      <th>progress</th>\n",
       "      <th>progress_timestamp</th>\n",
       "      <th>starred</th>\n",
       "      <th>time</th>\n",
       "      <th>title</th>\n",
       "      <th>url</th>\n",
       "      <th>...</th>\n",
       "      <th>month</th>\n",
       "      <th>clean_url</th>\n",
       "      <th>exis_inst_bk_id</th>\n",
       "      <th>week</th>\n",
       "      <th>wordcount</th>\n",
       "      <th>minutecount</th>\n",
       "      <th>minutecountfloat</th>\n",
       "      <th>bookmark_clean_url</th>\n",
       "      <th>linked_to_other_bookmark</th>\n",
       "      <th>bookmark_urls_present</th>\n",
       "    </tr>\n",
       "  </thead>\n",
       "  <tbody>\n",
       "    <tr>\n",
       "      <th>0</th>\n",
       "      <td>63763</td>\n",
       "      <td>767728912</td>\n",
       "      <td>NaN</td>\n",
       "      <td>NaN</td>\n",
       "      <td>0.865710</td>\n",
       "      <td>1472692824</td>\n",
       "      <td>0</td>\n",
       "      <td>1472581902</td>\n",
       "      <td>The Polarization Of Red And Blue States From M...</td>\n",
       "      <td>http://fivethirtyeight.com/features/the-polari...</td>\n",
       "      <td>...</td>\n",
       "      <td>8</td>\n",
       "      <td>fivethirtyeight.com</td>\n",
       "      <td>NaN</td>\n",
       "      <td>35</td>\n",
       "      <td>483</td>\n",
       "      <td>NaN</td>\n",
       "      <td>1.932</td>\n",
       "      <td>fivethirtyeight.com/features/the-polarization-...</td>\n",
       "      <td>NaN</td>\n",
       "      <td>NaN</td>\n",
       "    </tr>\n",
       "    <tr>\n",
       "      <th>1</th>\n",
       "      <td>19874</td>\n",
       "      <td>512825586</td>\n",
       "      <td>Forget the Islamic State. The new conflicts of...</td>\n",
       "      <td>NaN</td>\n",
       "      <td>0.403916</td>\n",
       "      <td>1411283817</td>\n",
       "      <td>1</td>\n",
       "      <td>1411280802</td>\n",
       "      <td>Water Wars</td>\n",
       "      <td>http://www.foreignpolicy.com/articles/2014/09/...</td>\n",
       "      <td>...</td>\n",
       "      <td>9</td>\n",
       "      <td>foreignpolicy.com</td>\n",
       "      <td>NaN</td>\n",
       "      <td>37</td>\n",
       "      <td>1154</td>\n",
       "      <td>NaN</td>\n",
       "      <td>4.616</td>\n",
       "      <td>NaN</td>\n",
       "      <td>NaN</td>\n",
       "      <td>NaN</td>\n",
       "    </tr>\n",
       "  </tbody>\n",
       "</table>\n",
       "<p>2 rows × 30 columns</p>\n",
       "</div>"
      ],
      "text/plain": [
       "      id  bookmark_id                                        description  \\\n",
       "0  63763    767728912                                                NaN   \n",
       "1  19874    512825586  Forget the Islamic State. The new conflicts of...   \n",
       "\n",
       "   private_source  progress  progress_timestamp  starred        time  \\\n",
       "0             NaN  0.865710          1472692824        0  1472581902   \n",
       "1             NaN  0.403916          1411283817        1  1411280802   \n",
       "\n",
       "                                               title  \\\n",
       "0  The Polarization Of Red And Blue States From M...   \n",
       "1                                         Water Wars   \n",
       "\n",
       "                                                 url          ...            \\\n",
       "0  http://fivethirtyeight.com/features/the-polari...          ...             \n",
       "1  http://www.foreignpolicy.com/articles/2014/09/...          ...             \n",
       "\n",
       "  month            clean_url exis_inst_bk_id  week wordcount minutecount  \\\n",
       "0     8  fivethirtyeight.com             NaN    35       483         NaN   \n",
       "1     9    foreignpolicy.com             NaN    37      1154         NaN   \n",
       "\n",
       "  minutecountfloat                                 bookmark_clean_url  \\\n",
       "0            1.932  fivethirtyeight.com/features/the-polarization-...   \n",
       "1            4.616                                                NaN   \n",
       "\n",
       "   linked_to_other_bookmark  bookmark_urls_present  \n",
       "0                       NaN                    NaN  \n",
       "1                       NaN                    NaN  \n",
       "\n",
       "[2 rows x 30 columns]"
      ]
     },
     "execution_count": 34,
     "metadata": {},
     "output_type": "execute_result"
    }
   ],
   "source": [
    "political_folder.head(2)"
   ]
  },
  {
   "cell_type": "code",
   "execution_count": 25,
   "metadata": {
    "collapsed": false
   },
   "outputs": [
    {
     "data": {
      "text/plain": [
       "(14615, 2088550)"
      ]
     },
     "execution_count": 25,
     "metadata": {},
     "output_type": "execute_result"
    }
   ],
   "source": [
    "all_other.shape"
   ]
  },
  {
   "cell_type": "code",
   "execution_count": 26,
   "metadata": {
    "collapsed": false
   },
   "outputs": [
    {
     "data": {
      "text/plain": [
       "(310, 2088550)"
      ]
     },
     "execution_count": 26,
     "metadata": {},
     "output_type": "execute_result"
    }
   ],
   "source": [
    "cv_text2 = vect.transform(political_folder['bookmark_text'])\n",
    "d_text2 = domain.transform(political_folder['clean_url'])\n",
    "url_text2 = url.transform(political_folder['url'])\n",
    "all_new = sp.sparse.hstack((cv_text2, d_text2, url_text2))\n",
    "all_new.shape"
   ]
  },
  {
   "cell_type": "code",
   "execution_count": 43,
   "metadata": {
    "collapsed": false
   },
   "outputs": [],
   "source": [
    "political_folder_preds = logreg.predict(all_new)"
   ]
  },
  {
   "cell_type": "code",
   "execution_count": 74,
   "metadata": {
    "collapsed": true
   },
   "outputs": [],
   "source": [
    "political_folder_proba = logreg.predict_proba(all_new)\n",
    "highest = []\n",
    "for p in political_folder_proba:\n",
    "    highest.append(max(p))"
   ]
  },
  {
   "cell_type": "code",
   "execution_count": null,
   "metadata": {
    "collapsed": false
   },
   "outputs": [],
   "source": []
  },
  {
   "cell_type": "code",
   "execution_count": 97,
   "metadata": {
    "collapsed": false
   },
   "outputs": [
    {
     "data": {
      "text/html": [
       "<div>\n",
       "<table border=\"1\" class=\"dataframe\">\n",
       "  <thead>\n",
       "    <tr style=\"text-align: right;\">\n",
       "      <th></th>\n",
       "      <th>Center</th>\n",
       "      <th>Lean Left</th>\n",
       "      <th>Lean Right</th>\n",
       "      <th>Left</th>\n",
       "      <th>Mixed</th>\n",
       "      <th>Not rated</th>\n",
       "      <th>Right</th>\n",
       "    </tr>\n",
       "  </thead>\n",
       "  <tbody>\n",
       "    <tr>\n",
       "      <th>0</th>\n",
       "      <td>0.171296</td>\n",
       "      <td>0.412137</td>\n",
       "      <td>8.124428e-04</td>\n",
       "      <td>0.015506</td>\n",
       "      <td>8.104771e-07</td>\n",
       "      <td>1.030930e-03</td>\n",
       "      <td>3.992163e-01</td>\n",
       "    </tr>\n",
       "    <tr>\n",
       "      <th>1</th>\n",
       "      <td>0.930709</td>\n",
       "      <td>0.044231</td>\n",
       "      <td>1.172719e-06</td>\n",
       "      <td>0.000077</td>\n",
       "      <td>3.342523e-17</td>\n",
       "      <td>3.483367e-07</td>\n",
       "      <td>2.498127e-02</td>\n",
       "    </tr>\n",
       "    <tr>\n",
       "      <th>2</th>\n",
       "      <td>0.697320</td>\n",
       "      <td>0.015958</td>\n",
       "      <td>5.358579e-03</td>\n",
       "      <td>0.020052</td>\n",
       "      <td>7.669492e-03</td>\n",
       "      <td>8.713954e-03</td>\n",
       "      <td>2.449276e-01</td>\n",
       "    </tr>\n",
       "    <tr>\n",
       "      <th>3</th>\n",
       "      <td>0.433247</td>\n",
       "      <td>0.045974</td>\n",
       "      <td>7.732949e-05</td>\n",
       "      <td>0.179575</td>\n",
       "      <td>2.583902e-11</td>\n",
       "      <td>5.276925e-02</td>\n",
       "      <td>2.883570e-01</td>\n",
       "    </tr>\n",
       "    <tr>\n",
       "      <th>4</th>\n",
       "      <td>0.993525</td>\n",
       "      <td>0.000009</td>\n",
       "      <td>1.083639e-23</td>\n",
       "      <td>0.006465</td>\n",
       "      <td>7.653039e-51</td>\n",
       "      <td>5.696782e-18</td>\n",
       "      <td>5.868536e-07</td>\n",
       "    </tr>\n",
       "  </tbody>\n",
       "</table>\n",
       "</div>"
      ],
      "text/plain": [
       "     Center  Lean Left    Lean Right      Left         Mixed     Not rated  \\\n",
       "0  0.171296   0.412137  8.124428e-04  0.015506  8.104771e-07  1.030930e-03   \n",
       "1  0.930709   0.044231  1.172719e-06  0.000077  3.342523e-17  3.483367e-07   \n",
       "2  0.697320   0.015958  5.358579e-03  0.020052  7.669492e-03  8.713954e-03   \n",
       "3  0.433247   0.045974  7.732949e-05  0.179575  2.583902e-11  5.276925e-02   \n",
       "4  0.993525   0.000009  1.083639e-23  0.006465  7.653039e-51  5.696782e-18   \n",
       "\n",
       "          Right  \n",
       "0  3.992163e-01  \n",
       "1  2.498127e-02  \n",
       "2  2.449276e-01  \n",
       "3  2.883570e-01  \n",
       "4  5.868536e-07  "
      ]
     },
     "execution_count": 97,
     "metadata": {},
     "output_type": "execute_result"
    }
   ],
   "source": [
    "pfproba_df = pd.DataFrame(data=political_folder_proba)\n",
    "pfproba_df.columns = ['Center','Lean Left','Lean Right', 'Left','Mixed','Not rated','Right']\n",
    "pfproba_df.head()"
   ]
  },
  {
   "cell_type": "code",
   "execution_count": 98,
   "metadata": {
    "collapsed": false
   },
   "outputs": [],
   "source": [
    "pfproba_df['highest'] = highest"
   ]
  },
  {
   "cell_type": "code",
   "execution_count": 99,
   "metadata": {
    "collapsed": false
   },
   "outputs": [
    {
     "data": {
      "text/plain": [
       "array([[<matplotlib.axes._subplots.AxesSubplot object at 0x15d426f90>,\n",
       "        <matplotlib.axes._subplots.AxesSubplot object at 0x15d4c5510>,\n",
       "        <matplotlib.axes._subplots.AxesSubplot object at 0x15d544390>],\n",
       "       [<matplotlib.axes._subplots.AxesSubplot object at 0x15d5a6990>,\n",
       "        <matplotlib.axes._subplots.AxesSubplot object at 0x15d628910>,\n",
       "        <matplotlib.axes._subplots.AxesSubplot object at 0x15d5c94d0>],\n",
       "       [<matplotlib.axes._subplots.AxesSubplot object at 0x15d717950>,\n",
       "        <matplotlib.axes._subplots.AxesSubplot object at 0x15ee2db10>,\n",
       "        <matplotlib.axes._subplots.AxesSubplot object at 0x15ee9d290>]], dtype=object)"
      ]
     },
     "execution_count": 99,
     "metadata": {},
     "output_type": "execute_result"
    },
    {
     "data": {
      "image/png": "[encoded data removed]",
      "text/plain": [
       "<matplotlib.figure.Figure at 0x158370210>"
      ]
     },
     "metadata": {},
     "output_type": "display_data"
    }
   ],
   "source": [
    "pfproba_df.hist(bins=20, figsize=(15,15))"
   ]
  },
  {
   "cell_type": "code",
   "execution_count": 81,
   "metadata": {
    "collapsed": false
   },
   "outputs": [
    {
     "data": {
      "text/plain": [
       "<matplotlib.axes._subplots.AxesSubplot at 0x15cb40b90>"
      ]
     },
     "execution_count": 81,
     "metadata": {},
     "output_type": "execute_result"
    },
    {
     "data": {
      "image/png": "[encoded data removed]",
      "text/plain": [
       "<matplotlib.figure.Figure at 0x15cc48190>"
      ]
     },
     "metadata": {},
     "output_type": "display_data"
    }
   ],
   "source": [
    "pfproba_df['highest'].hist(bins=25, figsize=(10,10))"
   ]
  },
  {
   "cell_type": "code",
   "execution_count": 85,
   "metadata": {
    "collapsed": false
   },
   "outputs": [
    {
     "name": "stdout",
     "output_type": "stream",
     "text": [
      "310\n",
      "220\n",
      "195\n",
      "168\n",
      "136\n"
     ]
    }
   ],
   "source": [
    "print pfproba_df['highest'].count()\n",
    "print pfproba_df[pfproba_df.highest > 0.8]['highest'].count()\n",
    "print pfproba_df[pfproba_df.highest > 0.85]['highest'].count()\n",
    "print pfproba_df[pfproba_df.highest > 0.9]['highest'].count()\n",
    "print pfproba_df[pfproba_df.highest > 0.95]['highest'].count()"
   ]
  },
  {
   "cell_type": "code",
   "execution_count": 87,
   "metadata": {
    "collapsed": false
   },
   "outputs": [
    {
     "data": {
      "text/html": [
       "<div>\n",
       "<table border=\"1\" class=\"dataframe\">\n",
       "  <thead>\n",
       "    <tr style=\"text-align: right;\">\n",
       "      <th></th>\n",
       "      <th>0</th>\n",
       "      <th>title</th>\n",
       "      <th>domain</th>\n",
       "      <th>url</th>\n",
       "      <th>proba</th>\n",
       "    </tr>\n",
       "  </thead>\n",
       "  <tbody>\n",
       "    <tr>\n",
       "      <th>0</th>\n",
       "      <td>Lean Left</td>\n",
       "      <td>The Polarization Of Red And Blue States From M...</td>\n",
       "      <td>fivethirtyeight.com</td>\n",
       "      <td>http://fivethirtyeight.com/features/the-polari...</td>\n",
       "      <td>0.412137</td>\n",
       "    </tr>\n",
       "    <tr>\n",
       "      <th>1</th>\n",
       "      <td>Center</td>\n",
       "      <td>Water Wars</td>\n",
       "      <td>foreignpolicy.com</td>\n",
       "      <td>http://www.foreignpolicy.com/articles/2014/09/...</td>\n",
       "      <td>0.930709</td>\n",
       "    </tr>\n",
       "  </tbody>\n",
       "</table>\n",
       "</div>"
      ],
      "text/plain": [
       "           0                                              title  \\\n",
       "0  Lean Left  The Polarization Of Red And Blue States From M...   \n",
       "1     Center                                         Water Wars   \n",
       "\n",
       "                domain                                                url  \\\n",
       "0  fivethirtyeight.com  http://fivethirtyeight.com/features/the-polari...   \n",
       "1    foreignpolicy.com  http://www.foreignpolicy.com/articles/2014/09/...   \n",
       "\n",
       "      proba  \n",
       "0  0.412137  \n",
       "1  0.930709  "
      ]
     },
     "execution_count": 87,
     "metadata": {},
     "output_type": "execute_result"
    }
   ],
   "source": [
    "pfp_df['proba'] = pfproba_df['highest']\n",
    "pfp_df.head(2)"
   ]
  },
  {
   "cell_type": "code",
   "execution_count": 38,
   "metadata": {
    "collapsed": false
   },
   "outputs": [],
   "source": [
    "pfp_df = pd.DataFrame(data=political_folder_preds)\n",
    "pfp_df['title'] = political_folder['title']\n",
    "pfp_df['domain'] = political_folder['clean_url']\n",
    "pfp_df['url'] = political_folder['url']"
   ]
  },
  {
   "cell_type": "code",
   "execution_count": 96,
   "metadata": {
    "collapsed": false
   },
   "outputs": [
    {
     "data": {
      "text/plain": [
       "Right        82\n",
       "Lean Left    69\n",
       "Center       50\n",
       "Left         19\n",
       "Name: 0, dtype: int64"
      ]
     },
     "execution_count": 96,
     "metadata": {},
     "output_type": "execute_result"
    }
   ],
   "source": [
    "threshold = 0.80\n",
    "pfp_df[pfp_df.proba > threshold][0].value_counts()"
   ]
  },
  {
   "cell_type": "code",
   "execution_count": 93,
   "metadata": {
    "collapsed": false
   },
   "outputs": [
    {
     "data": {
      "text/plain": [
       "Right        65\n",
       "Lean Left    51\n",
       "Center       36\n",
       "Left         16\n",
       "Name: 0, dtype: int64"
      ]
     },
     "execution_count": 93,
     "metadata": {},
     "output_type": "execute_result"
    }
   ],
   "source": [
    "threshold = 0.90\n",
    "pfp_df[pfp_df.proba > threshold][0].value_counts()"
   ]
  },
  {
   "cell_type": "code",
   "execution_count": 91,
   "metadata": {
    "collapsed": false
   },
   "outputs": [
    {
     "data": {
      "text/plain": [
       "Right        52\n",
       "Lean Left    44\n",
       "Center       29\n",
       "Left         11\n",
       "Name: 0, dtype: int64"
      ]
     },
     "execution_count": 91,
     "metadata": {},
     "output_type": "execute_result"
    }
   ],
   "source": [
    "threshold = 0.95\n",
    "pfp_df[pfp_df.proba > threshold][0].value_counts()"
   ]
  },
  {
   "cell_type": "code",
   "execution_count": 95,
   "metadata": {
    "collapsed": false
   },
   "outputs": [
    {
     "data": {
      "text/plain": [
       "Lean Left    28\n",
       "Right        25\n",
       "Center       16\n",
       "Left          4\n",
       "Name: 0, dtype: int64"
      ]
     },
     "execution_count": 95,
     "metadata": {},
     "output_type": "execute_result"
    }
   ],
   "source": [
    "threshold = 0.99\n",
    "pfp_df[pfp_df.proba > threshold][0].value_counts()"
   ]
  },
  {
   "cell_type": "code",
   "execution_count": 32,
   "metadata": {
    "collapsed": false
   },
   "outputs": [
    {
     "data": {
      "text/plain": [
       "Right         116\n",
       "Lean Left      90\n",
       "Center         79\n",
       "Left           24\n",
       "Lean Right      1\n",
       "Name: 0, dtype: int64"
      ]
     },
     "execution_count": 32,
     "metadata": {},
     "output_type": "execute_result"
    }
   ],
   "source": [
    "pfp_df[0].value_counts()"
   ]
  },
  {
   "cell_type": "code",
   "execution_count": 27,
   "metadata": {
    "collapsed": false
   },
   "outputs": [],
   "source": [
    "predictions = logreg.predict_proba(all)"
   ]
  },
  {
   "cell_type": "code",
   "execution_count": 51,
   "metadata": {
    "collapsed": true
   },
   "outputs": [],
   "source": [
    "predictions_cat = logreg.predict(all)"
   ]
  },
  {
   "cell_type": "code",
   "execution_count": 93,
   "metadata": {
    "collapsed": false
   },
   "outputs": [
    {
     "data": {
      "text/plain": [
       "0.99952104002736919"
      ]
     },
     "execution_count": 93,
     "metadata": {},
     "output_type": "execute_result"
    }
   ],
   "source": [
    "metrics.accuracy_score(pld_text['political lean'], predictions_cat)"
   ]
  },
  {
   "cell_type": "code",
   "execution_count": 50,
   "metadata": {
    "collapsed": false
   },
   "outputs": [
    {
     "name": "stdout",
     "output_type": "stream",
     "text": [
      "['Lean Left' 'Left' 'Lean Left' 'Left' 'Center' 'Mixed' 'Right' 'Right'\n",
      " 'Right' 'Right' 'Left' 'Left' 'Left' 'Left' 'Center' 'Center' 'Center'\n",
      " 'Center' 'Center' 'Lean Left' 'Lean Left' 'Left' 'Left' 'Center' 'Center'\n",
      " 'Center' 'Center' 'Center' 'Right' 'Right' 'Right' 'Right' 'Left'\n",
      " 'Lean Left' 'Left' 'Center' 'Center' 'Lean Left' 'Not rated']\n",
      "Not rated\n",
      "Left\n"
     ]
    }
   ],
   "source": [
    "print predictions_cat[0:39]\n",
    "print predictions_cat[38]\n",
    "print predictions_cat[1]"
   ]
  },
  {
   "cell_type": "code",
   "execution_count": 63,
   "metadata": {
    "collapsed": false
   },
   "outputs": [
    {
     "data": {
      "text/plain": [
       "array(['Lean Left', 'Left', 'Lean Left', ..., 'Lean Left', 'Lean Left',\n",
       "       'Left'], dtype=object)"
      ]
     },
     "execution_count": 63,
     "metadata": {},
     "output_type": "execute_result"
    }
   ],
   "source": [
    "predictions_cat"
   ]
  },
  {
   "cell_type": "code",
   "execution_count": 73,
   "metadata": {
    "collapsed": false
   },
   "outputs": [
    {
     "data": {
      "text/html": [
       "<div>\n",
       "<table border=\"1\" class=\"dataframe\">\n",
       "  <thead>\n",
       "    <tr style=\"text-align: right;\">\n",
       "      <th></th>\n",
       "      <th>Center</th>\n",
       "      <th>Lean Left</th>\n",
       "      <th>Lean Right</th>\n",
       "      <th>Left</th>\n",
       "      <th>Mixed</th>\n",
       "      <th>Not rated</th>\n",
       "      <th>Right</th>\n",
       "    </tr>\n",
       "  </thead>\n",
       "  <tbody>\n",
       "    <tr>\n",
       "      <th>0</th>\n",
       "      <td>0.000558</td>\n",
       "      <td>0.998342</td>\n",
       "      <td>3.380540e-08</td>\n",
       "      <td>0.000969</td>\n",
       "      <td>6.339383e-19</td>\n",
       "      <td>3.754635e-09</td>\n",
       "      <td>0.000132</td>\n",
       "    </tr>\n",
       "    <tr>\n",
       "      <th>1</th>\n",
       "      <td>0.000005</td>\n",
       "      <td>0.000003</td>\n",
       "      <td>5.617982e-06</td>\n",
       "      <td>0.998394</td>\n",
       "      <td>5.402596e-23</td>\n",
       "      <td>1.587966e-05</td>\n",
       "      <td>0.001576</td>\n",
       "    </tr>\n",
       "    <tr>\n",
       "      <th>2</th>\n",
       "      <td>0.000065</td>\n",
       "      <td>0.996237</td>\n",
       "      <td>3.753961e-04</td>\n",
       "      <td>0.003243</td>\n",
       "      <td>6.499032e-10</td>\n",
       "      <td>3.627969e-05</td>\n",
       "      <td>0.000043</td>\n",
       "    </tr>\n",
       "    <tr>\n",
       "      <th>3</th>\n",
       "      <td>0.000112</td>\n",
       "      <td>0.000922</td>\n",
       "      <td>3.344789e-05</td>\n",
       "      <td>0.997784</td>\n",
       "      <td>1.657359e-08</td>\n",
       "      <td>2.507093e-05</td>\n",
       "      <td>0.001124</td>\n",
       "    </tr>\n",
       "    <tr>\n",
       "      <th>4</th>\n",
       "      <td>0.996944</td>\n",
       "      <td>0.000116</td>\n",
       "      <td>2.794528e-04</td>\n",
       "      <td>0.000306</td>\n",
       "      <td>2.967385e-05</td>\n",
       "      <td>5.706959e-04</td>\n",
       "      <td>0.001754</td>\n",
       "    </tr>\n",
       "    <tr>\n",
       "      <th>5</th>\n",
       "      <td>0.009339</td>\n",
       "      <td>0.004602</td>\n",
       "      <td>7.831658e-03</td>\n",
       "      <td>0.006339</td>\n",
       "      <td>9.627315e-01</td>\n",
       "      <td>4.592833e-03</td>\n",
       "      <td>0.004564</td>\n",
       "    </tr>\n",
       "    <tr>\n",
       "      <th>6</th>\n",
       "      <td>0.000392</td>\n",
       "      <td>0.001899</td>\n",
       "      <td>6.462056e-07</td>\n",
       "      <td>0.000354</td>\n",
       "      <td>6.197432e-11</td>\n",
       "      <td>2.717731e-05</td>\n",
       "      <td>0.997328</td>\n",
       "    </tr>\n",
       "    <tr>\n",
       "      <th>7</th>\n",
       "      <td>0.000144</td>\n",
       "      <td>0.001093</td>\n",
       "      <td>4.245207e-07</td>\n",
       "      <td>0.000066</td>\n",
       "      <td>1.852503e-17</td>\n",
       "      <td>4.192347e-08</td>\n",
       "      <td>0.998697</td>\n",
       "    </tr>\n",
       "    <tr>\n",
       "      <th>8</th>\n",
       "      <td>0.000244</td>\n",
       "      <td>0.000128</td>\n",
       "      <td>2.854416e-05</td>\n",
       "      <td>0.001024</td>\n",
       "      <td>2.462897e-08</td>\n",
       "      <td>1.529171e-05</td>\n",
       "      <td>0.998561</td>\n",
       "    </tr>\n",
       "    <tr>\n",
       "      <th>9</th>\n",
       "      <td>0.000298</td>\n",
       "      <td>0.000003</td>\n",
       "      <td>3.543892e-09</td>\n",
       "      <td>0.000839</td>\n",
       "      <td>2.140025e-14</td>\n",
       "      <td>5.176419e-07</td>\n",
       "      <td>0.998859</td>\n",
       "    </tr>\n",
       "  </tbody>\n",
       "</table>\n",
       "</div>"
      ],
      "text/plain": [
       "     Center  Lean Left    Lean Right      Left         Mixed     Not rated  \\\n",
       "0  0.000558   0.998342  3.380540e-08  0.000969  6.339383e-19  3.754635e-09   \n",
       "1  0.000005   0.000003  5.617982e-06  0.998394  5.402596e-23  1.587966e-05   \n",
       "2  0.000065   0.996237  3.753961e-04  0.003243  6.499032e-10  3.627969e-05   \n",
       "3  0.000112   0.000922  3.344789e-05  0.997784  1.657359e-08  2.507093e-05   \n",
       "4  0.996944   0.000116  2.794528e-04  0.000306  2.967385e-05  5.706959e-04   \n",
       "5  0.009339   0.004602  7.831658e-03  0.006339  9.627315e-01  4.592833e-03   \n",
       "6  0.000392   0.001899  6.462056e-07  0.000354  6.197432e-11  2.717731e-05   \n",
       "7  0.000144   0.001093  4.245207e-07  0.000066  1.852503e-17  4.192347e-08   \n",
       "8  0.000244   0.000128  2.854416e-05  0.001024  2.462897e-08  1.529171e-05   \n",
       "9  0.000298   0.000003  3.543892e-09  0.000839  2.140025e-14  5.176419e-07   \n",
       "\n",
       "      Right  \n",
       "0  0.000132  \n",
       "1  0.001576  \n",
       "2  0.000043  \n",
       "3  0.001124  \n",
       "4  0.001754  \n",
       "5  0.004564  \n",
       "6  0.997328  \n",
       "7  0.998697  \n",
       "8  0.998561  \n",
       "9  0.998859  "
      ]
     },
     "execution_count": 73,
     "metadata": {},
     "output_type": "execute_result"
    }
   ],
   "source": [
    "pred_df = pd.DataFrame(data=predictions)\n",
    "pred_df.columns = ['Center','Lean Left','Lean Right', 'Left','Mixed','Not rated','Right']\n",
    "pred_df.head(10)"
   ]
  },
  {
   "cell_type": "code",
   "execution_count": 74,
   "metadata": {
    "collapsed": false
   },
   "outputs": [],
   "source": [
    "pred_df['proba_pred_class'] = pred_df.idxmax(axis=1)"
   ]
  },
  {
   "cell_type": "code",
   "execution_count": 75,
   "metadata": {
    "collapsed": false
   },
   "outputs": [
    {
     "data": {
      "text/html": [
       "<div>\n",
       "<table border=\"1\" class=\"dataframe\">\n",
       "  <thead>\n",
       "    <tr style=\"text-align: right;\">\n",
       "      <th></th>\n",
       "      <th>Center</th>\n",
       "      <th>Lean Left</th>\n",
       "      <th>Lean Right</th>\n",
       "      <th>Left</th>\n",
       "      <th>Mixed</th>\n",
       "      <th>Not rated</th>\n",
       "      <th>Right</th>\n",
       "      <th>proba_pred_class</th>\n",
       "    </tr>\n",
       "  </thead>\n",
       "  <tbody>\n",
       "    <tr>\n",
       "      <th>0</th>\n",
       "      <td>0.000558</td>\n",
       "      <td>0.998342</td>\n",
       "      <td>3.380540e-08</td>\n",
       "      <td>0.000969</td>\n",
       "      <td>6.339383e-19</td>\n",
       "      <td>3.754635e-09</td>\n",
       "      <td>0.000132</td>\n",
       "      <td>Lean Left</td>\n",
       "    </tr>\n",
       "    <tr>\n",
       "      <th>1</th>\n",
       "      <td>0.000005</td>\n",
       "      <td>0.000003</td>\n",
       "      <td>5.617982e-06</td>\n",
       "      <td>0.998394</td>\n",
       "      <td>5.402596e-23</td>\n",
       "      <td>1.587966e-05</td>\n",
       "      <td>0.001576</td>\n",
       "      <td>Left</td>\n",
       "    </tr>\n",
       "    <tr>\n",
       "      <th>2</th>\n",
       "      <td>0.000065</td>\n",
       "      <td>0.996237</td>\n",
       "      <td>3.753961e-04</td>\n",
       "      <td>0.003243</td>\n",
       "      <td>6.499032e-10</td>\n",
       "      <td>3.627969e-05</td>\n",
       "      <td>0.000043</td>\n",
       "      <td>Lean Left</td>\n",
       "    </tr>\n",
       "    <tr>\n",
       "      <th>3</th>\n",
       "      <td>0.000112</td>\n",
       "      <td>0.000922</td>\n",
       "      <td>3.344789e-05</td>\n",
       "      <td>0.997784</td>\n",
       "      <td>1.657359e-08</td>\n",
       "      <td>2.507093e-05</td>\n",
       "      <td>0.001124</td>\n",
       "      <td>Left</td>\n",
       "    </tr>\n",
       "    <tr>\n",
       "      <th>4</th>\n",
       "      <td>0.996944</td>\n",
       "      <td>0.000116</td>\n",
       "      <td>2.794528e-04</td>\n",
       "      <td>0.000306</td>\n",
       "      <td>2.967385e-05</td>\n",
       "      <td>5.706959e-04</td>\n",
       "      <td>0.001754</td>\n",
       "      <td>Center</td>\n",
       "    </tr>\n",
       "    <tr>\n",
       "      <th>5</th>\n",
       "      <td>0.009339</td>\n",
       "      <td>0.004602</td>\n",
       "      <td>7.831658e-03</td>\n",
       "      <td>0.006339</td>\n",
       "      <td>9.627315e-01</td>\n",
       "      <td>4.592833e-03</td>\n",
       "      <td>0.004564</td>\n",
       "      <td>Mixed</td>\n",
       "    </tr>\n",
       "    <tr>\n",
       "      <th>6</th>\n",
       "      <td>0.000392</td>\n",
       "      <td>0.001899</td>\n",
       "      <td>6.462056e-07</td>\n",
       "      <td>0.000354</td>\n",
       "      <td>6.197432e-11</td>\n",
       "      <td>2.717731e-05</td>\n",
       "      <td>0.997328</td>\n",
       "      <td>Right</td>\n",
       "    </tr>\n",
       "  </tbody>\n",
       "</table>\n",
       "</div>"
      ],
      "text/plain": [
       "     Center  Lean Left    Lean Right      Left         Mixed     Not rated  \\\n",
       "0  0.000558   0.998342  3.380540e-08  0.000969  6.339383e-19  3.754635e-09   \n",
       "1  0.000005   0.000003  5.617982e-06  0.998394  5.402596e-23  1.587966e-05   \n",
       "2  0.000065   0.996237  3.753961e-04  0.003243  6.499032e-10  3.627969e-05   \n",
       "3  0.000112   0.000922  3.344789e-05  0.997784  1.657359e-08  2.507093e-05   \n",
       "4  0.996944   0.000116  2.794528e-04  0.000306  2.967385e-05  5.706959e-04   \n",
       "5  0.009339   0.004602  7.831658e-03  0.006339  9.627315e-01  4.592833e-03   \n",
       "6  0.000392   0.001899  6.462056e-07  0.000354  6.197432e-11  2.717731e-05   \n",
       "\n",
       "      Right proba_pred_class  \n",
       "0  0.000132        Lean Left  \n",
       "1  0.001576             Left  \n",
       "2  0.000043        Lean Left  \n",
       "3  0.001124             Left  \n",
       "4  0.001754           Center  \n",
       "5  0.004564            Mixed  \n",
       "6  0.997328            Right  "
      ]
     },
     "execution_count": 75,
     "metadata": {},
     "output_type": "execute_result"
    }
   ],
   "source": [
    "pred_df.head(7)"
   ]
  },
  {
   "cell_type": "code",
   "execution_count": 76,
   "metadata": {
    "collapsed": false
   },
   "outputs": [],
   "source": [
    "pred_df['pred_class'] = predictions_cat\n",
    "# pd.DataFrame(data=predictions_cat)"
   ]
  },
  {
   "cell_type": "code",
   "execution_count": 77,
   "metadata": {
    "collapsed": false
   },
   "outputs": [
    {
     "data": {
      "text/html": [
       "<div>\n",
       "<table border=\"1\" class=\"dataframe\">\n",
       "  <thead>\n",
       "    <tr style=\"text-align: right;\">\n",
       "      <th></th>\n",
       "      <th>Center</th>\n",
       "      <th>Lean Left</th>\n",
       "      <th>Lean Right</th>\n",
       "      <th>Left</th>\n",
       "      <th>Mixed</th>\n",
       "      <th>Not rated</th>\n",
       "      <th>Right</th>\n",
       "      <th>proba_pred_class</th>\n",
       "      <th>pred_class</th>\n",
       "    </tr>\n",
       "  </thead>\n",
       "  <tbody>\n",
       "    <tr>\n",
       "      <th>0</th>\n",
       "      <td>0.000558</td>\n",
       "      <td>0.998342</td>\n",
       "      <td>3.380540e-08</td>\n",
       "      <td>0.000969</td>\n",
       "      <td>6.339383e-19</td>\n",
       "      <td>3.754635e-09</td>\n",
       "      <td>0.000132</td>\n",
       "      <td>Lean Left</td>\n",
       "      <td>Lean Left</td>\n",
       "    </tr>\n",
       "    <tr>\n",
       "      <th>1</th>\n",
       "      <td>0.000005</td>\n",
       "      <td>0.000003</td>\n",
       "      <td>5.617982e-06</td>\n",
       "      <td>0.998394</td>\n",
       "      <td>5.402596e-23</td>\n",
       "      <td>1.587966e-05</td>\n",
       "      <td>0.001576</td>\n",
       "      <td>Left</td>\n",
       "      <td>Left</td>\n",
       "    </tr>\n",
       "    <tr>\n",
       "      <th>2</th>\n",
       "      <td>0.000065</td>\n",
       "      <td>0.996237</td>\n",
       "      <td>3.753961e-04</td>\n",
       "      <td>0.003243</td>\n",
       "      <td>6.499032e-10</td>\n",
       "      <td>3.627969e-05</td>\n",
       "      <td>0.000043</td>\n",
       "      <td>Lean Left</td>\n",
       "      <td>Lean Left</td>\n",
       "    </tr>\n",
       "    <tr>\n",
       "      <th>3</th>\n",
       "      <td>0.000112</td>\n",
       "      <td>0.000922</td>\n",
       "      <td>3.344789e-05</td>\n",
       "      <td>0.997784</td>\n",
       "      <td>1.657359e-08</td>\n",
       "      <td>2.507093e-05</td>\n",
       "      <td>0.001124</td>\n",
       "      <td>Left</td>\n",
       "      <td>Left</td>\n",
       "    </tr>\n",
       "    <tr>\n",
       "      <th>4</th>\n",
       "      <td>0.996944</td>\n",
       "      <td>0.000116</td>\n",
       "      <td>2.794528e-04</td>\n",
       "      <td>0.000306</td>\n",
       "      <td>2.967385e-05</td>\n",
       "      <td>5.706959e-04</td>\n",
       "      <td>0.001754</td>\n",
       "      <td>Center</td>\n",
       "      <td>Center</td>\n",
       "    </tr>\n",
       "  </tbody>\n",
       "</table>\n",
       "</div>"
      ],
      "text/plain": [
       "     Center  Lean Left    Lean Right      Left         Mixed     Not rated  \\\n",
       "0  0.000558   0.998342  3.380540e-08  0.000969  6.339383e-19  3.754635e-09   \n",
       "1  0.000005   0.000003  5.617982e-06  0.998394  5.402596e-23  1.587966e-05   \n",
       "2  0.000065   0.996237  3.753961e-04  0.003243  6.499032e-10  3.627969e-05   \n",
       "3  0.000112   0.000922  3.344789e-05  0.997784  1.657359e-08  2.507093e-05   \n",
       "4  0.996944   0.000116  2.794528e-04  0.000306  2.967385e-05  5.706959e-04   \n",
       "\n",
       "      Right proba_pred_class pred_class  \n",
       "0  0.000132        Lean Left  Lean Left  \n",
       "1  0.001576             Left       Left  \n",
       "2  0.000043        Lean Left  Lean Left  \n",
       "3  0.001124             Left       Left  \n",
       "4  0.001754           Center     Center  "
      ]
     },
     "execution_count": 77,
     "metadata": {},
     "output_type": "execute_result"
    }
   ],
   "source": [
    "pred_df.head()"
   ]
  },
  {
   "cell_type": "code",
   "execution_count": 78,
   "metadata": {
    "collapsed": false
   },
   "outputs": [],
   "source": [
    "pred_df['match'] = pred_df['proba_pred_class'] == pred_df['pred_class']"
   ]
  },
  {
   "cell_type": "code",
   "execution_count": 79,
   "metadata": {
    "collapsed": false
   },
   "outputs": [
    {
     "data": {
      "text/html": [
       "<div>\n",
       "<table border=\"1\" class=\"dataframe\">\n",
       "  <thead>\n",
       "    <tr style=\"text-align: right;\">\n",
       "      <th></th>\n",
       "      <th>Center</th>\n",
       "      <th>Lean Left</th>\n",
       "      <th>Lean Right</th>\n",
       "      <th>Left</th>\n",
       "      <th>Mixed</th>\n",
       "      <th>Not rated</th>\n",
       "      <th>Right</th>\n",
       "      <th>proba_pred_class</th>\n",
       "      <th>pred_class</th>\n",
       "      <th>match</th>\n",
       "    </tr>\n",
       "  </thead>\n",
       "  <tbody>\n",
       "    <tr>\n",
       "      <th>0</th>\n",
       "      <td>0.000558</td>\n",
       "      <td>0.998342</td>\n",
       "      <td>3.380540e-08</td>\n",
       "      <td>0.000969</td>\n",
       "      <td>6.339383e-19</td>\n",
       "      <td>3.754635e-09</td>\n",
       "      <td>0.000132</td>\n",
       "      <td>Lean Left</td>\n",
       "      <td>Lean Left</td>\n",
       "      <td>True</td>\n",
       "    </tr>\n",
       "    <tr>\n",
       "      <th>1</th>\n",
       "      <td>0.000005</td>\n",
       "      <td>0.000003</td>\n",
       "      <td>5.617982e-06</td>\n",
       "      <td>0.998394</td>\n",
       "      <td>5.402596e-23</td>\n",
       "      <td>1.587966e-05</td>\n",
       "      <td>0.001576</td>\n",
       "      <td>Left</td>\n",
       "      <td>Left</td>\n",
       "      <td>True</td>\n",
       "    </tr>\n",
       "    <tr>\n",
       "      <th>2</th>\n",
       "      <td>0.000065</td>\n",
       "      <td>0.996237</td>\n",
       "      <td>3.753961e-04</td>\n",
       "      <td>0.003243</td>\n",
       "      <td>6.499032e-10</td>\n",
       "      <td>3.627969e-05</td>\n",
       "      <td>0.000043</td>\n",
       "      <td>Lean Left</td>\n",
       "      <td>Lean Left</td>\n",
       "      <td>True</td>\n",
       "    </tr>\n",
       "    <tr>\n",
       "      <th>3</th>\n",
       "      <td>0.000112</td>\n",
       "      <td>0.000922</td>\n",
       "      <td>3.344789e-05</td>\n",
       "      <td>0.997784</td>\n",
       "      <td>1.657359e-08</td>\n",
       "      <td>2.507093e-05</td>\n",
       "      <td>0.001124</td>\n",
       "      <td>Left</td>\n",
       "      <td>Left</td>\n",
       "      <td>True</td>\n",
       "    </tr>\n",
       "    <tr>\n",
       "      <th>4</th>\n",
       "      <td>0.996944</td>\n",
       "      <td>0.000116</td>\n",
       "      <td>2.794528e-04</td>\n",
       "      <td>0.000306</td>\n",
       "      <td>2.967385e-05</td>\n",
       "      <td>5.706959e-04</td>\n",
       "      <td>0.001754</td>\n",
       "      <td>Center</td>\n",
       "      <td>Center</td>\n",
       "      <td>True</td>\n",
       "    </tr>\n",
       "  </tbody>\n",
       "</table>\n",
       "</div>"
      ],
      "text/plain": [
       "     Center  Lean Left    Lean Right      Left         Mixed     Not rated  \\\n",
       "0  0.000558   0.998342  3.380540e-08  0.000969  6.339383e-19  3.754635e-09   \n",
       "1  0.000005   0.000003  5.617982e-06  0.998394  5.402596e-23  1.587966e-05   \n",
       "2  0.000065   0.996237  3.753961e-04  0.003243  6.499032e-10  3.627969e-05   \n",
       "3  0.000112   0.000922  3.344789e-05  0.997784  1.657359e-08  2.507093e-05   \n",
       "4  0.996944   0.000116  2.794528e-04  0.000306  2.967385e-05  5.706959e-04   \n",
       "\n",
       "      Right proba_pred_class pred_class match  \n",
       "0  0.000132        Lean Left  Lean Left  True  \n",
       "1  0.001576             Left       Left  True  \n",
       "2  0.000043        Lean Left  Lean Left  True  \n",
       "3  0.001124             Left       Left  True  \n",
       "4  0.001754           Center     Center  True  "
      ]
     },
     "execution_count": 79,
     "metadata": {},
     "output_type": "execute_result"
    }
   ],
   "source": [
    "pred_df.head()"
   ]
  },
  {
   "cell_type": "code",
   "execution_count": 81,
   "metadata": {
    "collapsed": false
   },
   "outputs": [
    {
     "name": "stdout",
     "output_type": "stream",
     "text": [
      "14615\n"
     ]
    },
    {
     "data": {
      "text/html": [
       "<div>\n",
       "<table border=\"1\" class=\"dataframe\">\n",
       "  <thead>\n",
       "    <tr style=\"text-align: right;\">\n",
       "      <th></th>\n",
       "      <th>Center</th>\n",
       "      <th>Lean Left</th>\n",
       "      <th>Lean Right</th>\n",
       "      <th>Left</th>\n",
       "      <th>Mixed</th>\n",
       "      <th>Not rated</th>\n",
       "      <th>Right</th>\n",
       "      <th>proba_pred_class</th>\n",
       "      <th>pred_class</th>\n",
       "      <th>match</th>\n",
       "    </tr>\n",
       "  </thead>\n",
       "  <tbody>\n",
       "  </tbody>\n",
       "</table>\n",
       "</div>"
      ],
      "text/plain": [
       "Empty DataFrame\n",
       "Columns: [Center, Lean Left, Lean Right, Left, Mixed, Not rated, Right, proba_pred_class, pred_class, match]\n",
       "Index: []"
      ]
     },
     "execution_count": 81,
     "metadata": {},
     "output_type": "execute_result"
    }
   ],
   "source": [
    "print pred_df['match'].sum()\n",
    "pred_df[pred_df.match == False]"
   ]
  },
  {
   "cell_type": "code",
   "execution_count": 83,
   "metadata": {
    "collapsed": true
   },
   "outputs": [],
   "source": [
    "pred_df['actual'] = pld_text['political lean']"
   ]
  },
  {
   "cell_type": "code",
   "execution_count": 84,
   "metadata": {
    "collapsed": false
   },
   "outputs": [
    {
     "data": {
      "text/html": [
       "<div>\n",
       "<table border=\"1\" class=\"dataframe\">\n",
       "  <thead>\n",
       "    <tr style=\"text-align: right;\">\n",
       "      <th></th>\n",
       "      <th>Center</th>\n",
       "      <th>Lean Left</th>\n",
       "      <th>Lean Right</th>\n",
       "      <th>Left</th>\n",
       "      <th>Mixed</th>\n",
       "      <th>Not rated</th>\n",
       "      <th>Right</th>\n",
       "      <th>proba_pred_class</th>\n",
       "      <th>pred_class</th>\n",
       "      <th>match</th>\n",
       "      <th>actual</th>\n",
       "    </tr>\n",
       "  </thead>\n",
       "  <tbody>\n",
       "    <tr>\n",
       "      <th>0</th>\n",
       "      <td>0.000558</td>\n",
       "      <td>0.998342</td>\n",
       "      <td>3.380540e-08</td>\n",
       "      <td>0.000969</td>\n",
       "      <td>6.339383e-19</td>\n",
       "      <td>3.754635e-09</td>\n",
       "      <td>0.000132</td>\n",
       "      <td>Lean Left</td>\n",
       "      <td>Lean Left</td>\n",
       "      <td>True</td>\n",
       "      <td>Lean Left</td>\n",
       "    </tr>\n",
       "    <tr>\n",
       "      <th>1</th>\n",
       "      <td>0.000005</td>\n",
       "      <td>0.000003</td>\n",
       "      <td>5.617982e-06</td>\n",
       "      <td>0.998394</td>\n",
       "      <td>5.402596e-23</td>\n",
       "      <td>1.587966e-05</td>\n",
       "      <td>0.001576</td>\n",
       "      <td>Left</td>\n",
       "      <td>Left</td>\n",
       "      <td>True</td>\n",
       "      <td>Left</td>\n",
       "    </tr>\n",
       "    <tr>\n",
       "      <th>2</th>\n",
       "      <td>0.000065</td>\n",
       "      <td>0.996237</td>\n",
       "      <td>3.753961e-04</td>\n",
       "      <td>0.003243</td>\n",
       "      <td>6.499032e-10</td>\n",
       "      <td>3.627969e-05</td>\n",
       "      <td>0.000043</td>\n",
       "      <td>Lean Left</td>\n",
       "      <td>Lean Left</td>\n",
       "      <td>True</td>\n",
       "      <td>Lean Left</td>\n",
       "    </tr>\n",
       "    <tr>\n",
       "      <th>3</th>\n",
       "      <td>0.000112</td>\n",
       "      <td>0.000922</td>\n",
       "      <td>3.344789e-05</td>\n",
       "      <td>0.997784</td>\n",
       "      <td>1.657359e-08</td>\n",
       "      <td>2.507093e-05</td>\n",
       "      <td>0.001124</td>\n",
       "      <td>Left</td>\n",
       "      <td>Left</td>\n",
       "      <td>True</td>\n",
       "      <td>Left</td>\n",
       "    </tr>\n",
       "    <tr>\n",
       "      <th>4</th>\n",
       "      <td>0.996944</td>\n",
       "      <td>0.000116</td>\n",
       "      <td>2.794528e-04</td>\n",
       "      <td>0.000306</td>\n",
       "      <td>2.967385e-05</td>\n",
       "      <td>5.706959e-04</td>\n",
       "      <td>0.001754</td>\n",
       "      <td>Center</td>\n",
       "      <td>Center</td>\n",
       "      <td>True</td>\n",
       "      <td>Center</td>\n",
       "    </tr>\n",
       "  </tbody>\n",
       "</table>\n",
       "</div>"
      ],
      "text/plain": [
       "     Center  Lean Left    Lean Right      Left         Mixed     Not rated  \\\n",
       "0  0.000558   0.998342  3.380540e-08  0.000969  6.339383e-19  3.754635e-09   \n",
       "1  0.000005   0.000003  5.617982e-06  0.998394  5.402596e-23  1.587966e-05   \n",
       "2  0.000065   0.996237  3.753961e-04  0.003243  6.499032e-10  3.627969e-05   \n",
       "3  0.000112   0.000922  3.344789e-05  0.997784  1.657359e-08  2.507093e-05   \n",
       "4  0.996944   0.000116  2.794528e-04  0.000306  2.967385e-05  5.706959e-04   \n",
       "\n",
       "      Right proba_pred_class pred_class match     actual  \n",
       "0  0.000132        Lean Left  Lean Left  True  Lean Left  \n",
       "1  0.001576             Left       Left  True       Left  \n",
       "2  0.000043        Lean Left  Lean Left  True  Lean Left  \n",
       "3  0.001124             Left       Left  True       Left  \n",
       "4  0.001754           Center     Center  True     Center  "
      ]
     },
     "execution_count": 84,
     "metadata": {},
     "output_type": "execute_result"
    }
   ],
   "source": [
    "pred_df.head()"
   ]
  },
  {
   "cell_type": "code",
   "execution_count": 86,
   "metadata": {
    "collapsed": false
   },
   "outputs": [],
   "source": [
    "pred_df['match_actual'] = ''\n",
    "pred_df['match_actual'] = pred_df['actual'] == pred_df['pred_class']"
   ]
  },
  {
   "cell_type": "code",
   "execution_count": 88,
   "metadata": {
    "collapsed": false
   },
   "outputs": [
    {
     "data": {
      "text/plain": [
       "14615"
      ]
     },
     "execution_count": 88,
     "metadata": {},
     "output_type": "execute_result"
    }
   ],
   "source": [
    "pred_df['match'].sum()"
   ]
  },
  {
   "cell_type": "code",
   "execution_count": null,
   "metadata": {
    "collapsed": true
   },
   "outputs": [],
   "source": []
  }
 ],
 "metadata": {
  "anaconda-cloud": {},
  "kernelspec": {
   "display_name": "Python [conda env:stanleyyork]",
   "language": "python",
   "name": "conda-env-stanleyyork-py"
  },
  "language_info": {
   "codemirror_mode": {
    "name": "ipython",
    "version": 2
   },
   "file_extension": ".py",
   "mimetype": "text/x-python",
   "name": "python",
   "nbconvert_exporter": "python",
   "pygments_lexer": "ipython2",
   "version": "2.7.12"
  }
 },
 "nbformat": 4,
 "nbformat_minor": 1
}
